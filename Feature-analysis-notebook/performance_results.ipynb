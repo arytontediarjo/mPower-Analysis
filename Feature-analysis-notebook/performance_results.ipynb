{
 "cells": [
  {
   "cell_type": "code",
   "execution_count": 1,
   "metadata": {},
   "outputs": [
    {
     "name": "stderr",
     "output_type": "stream",
     "text": [
      "C:\\Users\\atedi\\OneDrive\\Documents\\SageBionetworks\\synapse\\lib\\site-packages\\sklearn\\externals\\joblib\\__init__.py:15: DeprecationWarning: sklearn.externals.joblib is deprecated in 0.21 and will be removed in 0.23. Please import this functionality directly from joblib, which can be installed with: pip install joblib. If this warning is raised when loading pickled models, you may need to re-serialize those models with scikit-learn 0.21+.\n",
      "  warnings.warn(msg, category=DeprecationWarning)\n"
     ]
    }
   ],
   "source": [
    "import pickle\n",
    "from sklearn.externals import joblib \n",
    "import warnings\n",
    "warnings.simplefilter(\"ignore\")\n",
    "import synapseclient as sc\n",
    "import pandas as pd\n",
    "import numpy as np\n",
    "from datetime import datetime\n",
    "from sklearn.metrics import classification_report, confusion_matrix\n",
    "from sklearn import metrics\n",
    "from sklearn.model_selection import train_test_split\n",
    "from sklearn.feature_selection import RFECV, SelectKBest, chi2, SelectFromModel, RFE\n",
    "np.random.seed(100)"
   ]
  },
  {
   "cell_type": "code",
   "execution_count": 10,
   "metadata": {},
   "outputs": [
    {
     "name": "stdout",
     "output_type": "stream",
     "text": [
      "Welcome, aryton tediarjo!\n",
      "\n"
     ]
    }
   ],
   "source": [
    "syn = sc.login()\n",
    "\n",
    "active_entity = syn.get(\"syn21046181\")\n",
    "active_data   = pd.read_csv(active_entity[\"path\"], index_col = 0)\n",
    "active_max_data = active_data.groupby(\"healthCode\").max()\n",
    "active_max_data = rename_column_name(active_max_data).dropna().drop([\"gender\"], axis = 1)\n",
    "grouped  = active_data[[\"healthCode\", \"recordId\"]].groupby(\"healthCode\").count()[\"recordId\"] > 5\n",
    "active_max_data = active_max_data[active_max_data.index.isin(grouped[grouped].index)]\n",
    "\n",
    "passive_entity = syn.get(\"syn21046184\")\n",
    "passive_data   = pd.read_csv(passive_entity[\"path\"], index_col = 0)\n",
    "passive_max_data = passive_data.groupby(\"healthCode\").max()\n",
    "passive_max_data = rename_column_name(passive_max_data).dropna().drop([\"gender\"], axis = 1)\n",
    "grouped  = passive_data[[\"healthCode\", \"recordId\"]].groupby(\"healthCode\").count()[\"recordId\"] > 5\n",
    "passive_max_data = passive_max_data[passive_max_data.index.isin(grouped[grouped].index)]"
   ]
  },
  {
   "cell_type": "code",
   "execution_count": 11,
   "metadata": {},
   "outputs": [],
   "source": [
    "gb_walking_model = joblib.load('../Models/{}.pkl'.format(\"refitted_gb\"))\n",
    "xgb_walking_model = joblib.load('../Models/{}.pkl'.format(\"refitted_xgb\"))\n",
    "rf_walking_model = joblib.load('../Models/{}.pkl'.format(\"refitted_rf\"))\n",
    "lr_walking_model = joblib.load('../Models/{}.pkl'.format(\"refitted_lr\"))"
   ]
  },
  {
   "cell_type": "code",
   "execution_count": 12,
   "metadata": {},
   "outputs": [],
   "source": [
    "active_max_data.drop([\"recordId\", \"phoneInfo\", \"createdOn\"], axis = 1).to_csv(\"../Data/MAX_WALKING_TRAINING_DATA_V2.csv\")\n",
    "passive_max_data.drop([\"recordId\", \"phoneInfo\", \"createdOn\"], axis = 1).to_csv(\"../Data/MAX_WALKING_TRAINING_DATA_PASSIVE.csv\")"
   ]
  },
  {
   "cell_type": "code",
   "execution_count": 13,
   "metadata": {},
   "outputs": [],
   "source": [
    "def print_performance(model, walking_X_test, walking_y_test):\n",
    "    print(model)\n",
    "    pipeline = globals()[model]\n",
    "    y_true, y_pred = walking_y_test, pipeline.predict(walking_X_test)\n",
    "    print(\"ROC-AUC on Test-Set: {}\".format(metrics.roc_auc_score(y_true, y_pred)))\n",
    "    print(\"log-loss: {}\".format(metrics.log_loss(y_true, y_pred)))\n",
    "    print(\"Precision: {}\".format(metrics.precision_score(y_true, y_pred)))\n",
    "    print(\"Recall: {}\".format(metrics.recall_score(y_true, y_pred)))\n",
    "    print(\"F1-Score: {}\".format(metrics.f1_score(y_true, y_pred)))\n",
    "    print(\"\\n\")"
   ]
  },
  {
   "cell_type": "markdown",
   "metadata": {},
   "source": [
    "# Performance in Active"
   ]
  },
  {
   "cell_type": "code",
   "execution_count": 14,
   "metadata": {},
   "outputs": [],
   "source": [
    "walking_y_test = active_max_data[\"PD\"]\n",
    "walking_X_test = active_max_data[cols]"
   ]
  },
  {
   "cell_type": "code",
   "execution_count": 15,
   "metadata": {},
   "outputs": [
    {
     "name": "stdout",
     "output_type": "stream",
     "text": [
      "gb_walking_model\n"
     ]
    },
    {
     "ename": "ValueError",
     "evalue": "X has a different shape than during fitting.",
     "output_type": "error",
     "traceback": [
      "\u001b[1;31m---------------------------------------------------------------------------\u001b[0m",
      "\u001b[1;31mValueError\u001b[0m                                Traceback (most recent call last)",
      "\u001b[1;32m<ipython-input-15-8f1894599209>\u001b[0m in \u001b[0;36m<module>\u001b[1;34m\u001b[0m\n\u001b[0;32m      1\u001b[0m for model in [\"gb_walking_model\", \"xgb_walking_model\", \n\u001b[0;32m      2\u001b[0m               \"rf_walking_model\", \"lr_walking_model\"]:\n\u001b[1;32m----> 3\u001b[1;33m     \u001b[0mprint_performance\u001b[0m\u001b[1;33m(\u001b[0m\u001b[0mmodel\u001b[0m\u001b[1;33m,\u001b[0m \u001b[0mwalking_X_test\u001b[0m\u001b[1;33m,\u001b[0m \u001b[0mwalking_y_test\u001b[0m\u001b[1;33m)\u001b[0m\u001b[1;33m\u001b[0m\u001b[0m\n\u001b[0m",
      "\u001b[1;32m<ipython-input-13-30d05ca32d8f>\u001b[0m in \u001b[0;36mprint_performance\u001b[1;34m(model, walking_X_test, walking_y_test)\u001b[0m\n\u001b[0;32m      2\u001b[0m     \u001b[0mprint\u001b[0m\u001b[1;33m(\u001b[0m\u001b[0mmodel\u001b[0m\u001b[1;33m)\u001b[0m\u001b[1;33m\u001b[0m\u001b[0m\n\u001b[0;32m      3\u001b[0m     \u001b[0mpipeline\u001b[0m \u001b[1;33m=\u001b[0m \u001b[0mglobals\u001b[0m\u001b[1;33m(\u001b[0m\u001b[1;33m)\u001b[0m\u001b[1;33m[\u001b[0m\u001b[0mmodel\u001b[0m\u001b[1;33m]\u001b[0m\u001b[1;33m\u001b[0m\u001b[0m\n\u001b[1;32m----> 4\u001b[1;33m     \u001b[0my_true\u001b[0m\u001b[1;33m,\u001b[0m \u001b[0my_pred\u001b[0m \u001b[1;33m=\u001b[0m \u001b[0mwalking_y_test\u001b[0m\u001b[1;33m,\u001b[0m \u001b[0mpipeline\u001b[0m\u001b[1;33m.\u001b[0m\u001b[0mpredict\u001b[0m\u001b[1;33m(\u001b[0m\u001b[0mwalking_X_test\u001b[0m\u001b[1;33m)\u001b[0m\u001b[1;33m\u001b[0m\u001b[0m\n\u001b[0m\u001b[0;32m      5\u001b[0m     \u001b[0mprint\u001b[0m\u001b[1;33m(\u001b[0m\u001b[1;34m\"ROC-AUC on Test-Set: {}\"\u001b[0m\u001b[1;33m.\u001b[0m\u001b[0mformat\u001b[0m\u001b[1;33m(\u001b[0m\u001b[0mmetrics\u001b[0m\u001b[1;33m.\u001b[0m\u001b[0mroc_auc_score\u001b[0m\u001b[1;33m(\u001b[0m\u001b[0my_true\u001b[0m\u001b[1;33m,\u001b[0m \u001b[0my_pred\u001b[0m\u001b[1;33m)\u001b[0m\u001b[1;33m)\u001b[0m\u001b[1;33m)\u001b[0m\u001b[1;33m\u001b[0m\u001b[0m\n\u001b[0;32m      6\u001b[0m     \u001b[0mprint\u001b[0m\u001b[1;33m(\u001b[0m\u001b[1;34m\"log-loss: {}\"\u001b[0m\u001b[1;33m.\u001b[0m\u001b[0mformat\u001b[0m\u001b[1;33m(\u001b[0m\u001b[0mmetrics\u001b[0m\u001b[1;33m.\u001b[0m\u001b[0mlog_loss\u001b[0m\u001b[1;33m(\u001b[0m\u001b[0my_true\u001b[0m\u001b[1;33m,\u001b[0m \u001b[0my_pred\u001b[0m\u001b[1;33m)\u001b[0m\u001b[1;33m)\u001b[0m\u001b[1;33m)\u001b[0m\u001b[1;33m\u001b[0m\u001b[0m\n",
      "\u001b[1;32m~\\OneDrive\\Documents\\SageBionetworks\\synapse\\lib\\site-packages\\sklearn\\utils\\metaestimators.py\u001b[0m in \u001b[0;36m<lambda>\u001b[1;34m(*args, **kwargs)\u001b[0m\n\u001b[0;32m    114\u001b[0m \u001b[1;33m\u001b[0m\u001b[0m\n\u001b[0;32m    115\u001b[0m         \u001b[1;31m# lambda, but not partial, allows help() to work with update_wrapper\u001b[0m\u001b[1;33m\u001b[0m\u001b[1;33m\u001b[0m\u001b[0m\n\u001b[1;32m--> 116\u001b[1;33m         \u001b[0mout\u001b[0m \u001b[1;33m=\u001b[0m \u001b[1;32mlambda\u001b[0m \u001b[1;33m*\u001b[0m\u001b[0margs\u001b[0m\u001b[1;33m,\u001b[0m \u001b[1;33m**\u001b[0m\u001b[0mkwargs\u001b[0m\u001b[1;33m:\u001b[0m \u001b[0mself\u001b[0m\u001b[1;33m.\u001b[0m\u001b[0mfn\u001b[0m\u001b[1;33m(\u001b[0m\u001b[0mobj\u001b[0m\u001b[1;33m,\u001b[0m \u001b[1;33m*\u001b[0m\u001b[0margs\u001b[0m\u001b[1;33m,\u001b[0m \u001b[1;33m**\u001b[0m\u001b[0mkwargs\u001b[0m\u001b[1;33m)\u001b[0m\u001b[1;33m\u001b[0m\u001b[0m\n\u001b[0m\u001b[0;32m    117\u001b[0m         \u001b[1;31m# update the docstring of the returned function\u001b[0m\u001b[1;33m\u001b[0m\u001b[1;33m\u001b[0m\u001b[0m\n\u001b[0;32m    118\u001b[0m         \u001b[0mupdate_wrapper\u001b[0m\u001b[1;33m(\u001b[0m\u001b[0mout\u001b[0m\u001b[1;33m,\u001b[0m \u001b[0mself\u001b[0m\u001b[1;33m.\u001b[0m\u001b[0mfn\u001b[0m\u001b[1;33m)\u001b[0m\u001b[1;33m\u001b[0m\u001b[0m\n",
      "\u001b[1;32m~\\OneDrive\\Documents\\SageBionetworks\\synapse\\lib\\site-packages\\sklearn\\pipeline.py\u001b[0m in \u001b[0;36mpredict\u001b[1;34m(self, X, **predict_params)\u001b[0m\n\u001b[0;32m    419\u001b[0m         \u001b[0mXt\u001b[0m \u001b[1;33m=\u001b[0m \u001b[0mX\u001b[0m\u001b[1;33m\u001b[0m\u001b[0m\n\u001b[0;32m    420\u001b[0m         \u001b[1;32mfor\u001b[0m \u001b[0m_\u001b[0m\u001b[1;33m,\u001b[0m \u001b[0mname\u001b[0m\u001b[1;33m,\u001b[0m \u001b[0mtransform\u001b[0m \u001b[1;32min\u001b[0m \u001b[0mself\u001b[0m\u001b[1;33m.\u001b[0m\u001b[0m_iter\u001b[0m\u001b[1;33m(\u001b[0m\u001b[0mwith_final\u001b[0m\u001b[1;33m=\u001b[0m\u001b[1;32mFalse\u001b[0m\u001b[1;33m)\u001b[0m\u001b[1;33m:\u001b[0m\u001b[1;33m\u001b[0m\u001b[0m\n\u001b[1;32m--> 421\u001b[1;33m             \u001b[0mXt\u001b[0m \u001b[1;33m=\u001b[0m \u001b[0mtransform\u001b[0m\u001b[1;33m.\u001b[0m\u001b[0mtransform\u001b[0m\u001b[1;33m(\u001b[0m\u001b[0mXt\u001b[0m\u001b[1;33m)\u001b[0m\u001b[1;33m\u001b[0m\u001b[0m\n\u001b[0m\u001b[0;32m    422\u001b[0m         \u001b[1;32mreturn\u001b[0m \u001b[0mself\u001b[0m\u001b[1;33m.\u001b[0m\u001b[0msteps\u001b[0m\u001b[1;33m[\u001b[0m\u001b[1;33m-\u001b[0m\u001b[1;36m1\u001b[0m\u001b[1;33m]\u001b[0m\u001b[1;33m[\u001b[0m\u001b[1;33m-\u001b[0m\u001b[1;36m1\u001b[0m\u001b[1;33m]\u001b[0m\u001b[1;33m.\u001b[0m\u001b[0mpredict\u001b[0m\u001b[1;33m(\u001b[0m\u001b[0mXt\u001b[0m\u001b[1;33m,\u001b[0m \u001b[1;33m**\u001b[0m\u001b[0mpredict_params\u001b[0m\u001b[1;33m)\u001b[0m\u001b[1;33m\u001b[0m\u001b[0m\n\u001b[0;32m    423\u001b[0m \u001b[1;33m\u001b[0m\u001b[0m\n",
      "\u001b[1;32m~\\OneDrive\\Documents\\SageBionetworks\\synapse\\lib\\site-packages\\sklearn\\feature_selection\\base.py\u001b[0m in \u001b[0;36mtransform\u001b[1;34m(self, X)\u001b[0m\n\u001b[0;32m     80\u001b[0m             \u001b[1;32mreturn\u001b[0m \u001b[0mnp\u001b[0m\u001b[1;33m.\u001b[0m\u001b[0mempty\u001b[0m\u001b[1;33m(\u001b[0m\u001b[1;36m0\u001b[0m\u001b[1;33m)\u001b[0m\u001b[1;33m.\u001b[0m\u001b[0mreshape\u001b[0m\u001b[1;33m(\u001b[0m\u001b[1;33m(\u001b[0m\u001b[0mX\u001b[0m\u001b[1;33m.\u001b[0m\u001b[0mshape\u001b[0m\u001b[1;33m[\u001b[0m\u001b[1;36m0\u001b[0m\u001b[1;33m]\u001b[0m\u001b[1;33m,\u001b[0m \u001b[1;36m0\u001b[0m\u001b[1;33m)\u001b[0m\u001b[1;33m)\u001b[0m\u001b[1;33m\u001b[0m\u001b[0m\n\u001b[0;32m     81\u001b[0m         \u001b[1;32mif\u001b[0m \u001b[0mlen\u001b[0m\u001b[1;33m(\u001b[0m\u001b[0mmask\u001b[0m\u001b[1;33m)\u001b[0m \u001b[1;33m!=\u001b[0m \u001b[0mX\u001b[0m\u001b[1;33m.\u001b[0m\u001b[0mshape\u001b[0m\u001b[1;33m[\u001b[0m\u001b[1;36m1\u001b[0m\u001b[1;33m]\u001b[0m\u001b[1;33m:\u001b[0m\u001b[1;33m\u001b[0m\u001b[0m\n\u001b[1;32m---> 82\u001b[1;33m             \u001b[1;32mraise\u001b[0m \u001b[0mValueError\u001b[0m\u001b[1;33m(\u001b[0m\u001b[1;34m\"X has a different shape than during fitting.\"\u001b[0m\u001b[1;33m)\u001b[0m\u001b[1;33m\u001b[0m\u001b[0m\n\u001b[0m\u001b[0;32m     83\u001b[0m         \u001b[1;32mreturn\u001b[0m \u001b[0mX\u001b[0m\u001b[1;33m[\u001b[0m\u001b[1;33m:\u001b[0m\u001b[1;33m,\u001b[0m \u001b[0msafe_mask\u001b[0m\u001b[1;33m(\u001b[0m\u001b[0mX\u001b[0m\u001b[1;33m,\u001b[0m \u001b[0mmask\u001b[0m\u001b[1;33m)\u001b[0m\u001b[1;33m]\u001b[0m\u001b[1;33m\u001b[0m\u001b[0m\n\u001b[0;32m     84\u001b[0m \u001b[1;33m\u001b[0m\u001b[0m\n",
      "\u001b[1;31mValueError\u001b[0m: X has a different shape than during fitting."
     ]
    }
   ],
   "source": [
    "for model in [\"gb_walking_model\", \"xgb_walking_model\", \n",
    "              \"rf_walking_model\", \"lr_walking_model\"]:\n",
    "    print_performance(model, walking_X_test, walking_y_test)"
   ]
  },
  {
   "cell_type": "code",
   "execution_count": 72,
   "metadata": {},
   "outputs": [
    {
     "name": "stdout",
     "output_type": "stream",
     "text": [
      "SkLearn Gradient Boosting\n",
      "              precision    recall  f1-score   support\n",
      "\n",
      "           0       0.12      0.09      0.11        11\n",
      "           1       0.94      0.95      0.94       152\n",
      "\n",
      "    accuracy                           0.90       163\n",
      "   macro avg       0.53      0.52      0.52       163\n",
      "weighted avg       0.88      0.90      0.89       163\n",
      "\n",
      "Predicted  0    1\n",
      "Actual           \n",
      "0          1   10\n",
      "1          7  145\n",
      "\n",
      "XGBoost Gradient Boosting\n",
      "              precision    recall  f1-score   support\n",
      "\n",
      "           0       0.88      0.05      0.09       153\n",
      "           1       0.06      0.90      0.11        10\n",
      "\n",
      "    accuracy                           0.10       163\n",
      "   macro avg       0.47      0.47      0.10       163\n",
      "weighted avg       0.82      0.10      0.09       163\n",
      "\n",
      "Predicted  0    1\n",
      "Actual           \n",
      "0          7  146\n",
      "1          1    9\n",
      "\n",
      "Random Forests\n",
      "              precision    recall  f1-score   support\n",
      "\n",
      "           0       0.75      0.04      0.08       151\n",
      "           1       0.06      0.83      0.12        12\n",
      "\n",
      "    accuracy                           0.10       163\n",
      "   macro avg       0.41      0.44      0.10       163\n",
      "weighted avg       0.70      0.10      0.08       163\n",
      "\n",
      "Predicted  0    1\n",
      "Actual           \n",
      "0          6  145\n",
      "1          2   10\n"
     ]
    }
   ],
   "source": [
    "print(\"SkLearn Gradient Boosting\")\n",
    "print(metrics.classification_report(gb_walking_model.predict(walking_X_test), \n",
    "                                    walking_y_test))\n",
    "print(pd.crosstab(gb_walking_model.predict(walking_X_test), \n",
    "            walking_y_test, \n",
    "            rownames = [\"Actual\"], \n",
    "            colnames = [\"Predicted\"]))\n",
    "\n",
    "print(\"\\nXGBoost Gradient Boosting\")\n",
    "print(metrics.classification_report(xgb_walking_model.predict(walking_X_test), \n",
    "                                    walking_y_test))\n",
    "print(pd.crosstab(xgb_walking_model.predict(walking_X_test), \n",
    "            walking_y_test, \n",
    "            rownames = [\"Actual\"], \n",
    "            colnames = [\"Predicted\"]))\n",
    "\n",
    "\n",
    "print(\"\\nRandom Forests\")\n",
    "print(metrics.classification_report(rf_walking_model.predict(walking_X_test), \n",
    "                                    walking_y_test))\n",
    "print(pd.crosstab(rf_walking_model.predict(walking_X_test), \n",
    "            walking_y_test, \n",
    "            rownames = [\"Actual\"], \n",
    "            colnames = [\"Predicted\"]))"
   ]
  },
  {
   "cell_type": "markdown",
   "metadata": {},
   "source": [
    "## Performance in Passive"
   ]
  },
  {
   "cell_type": "code",
   "execution_count": 62,
   "metadata": {},
   "outputs": [],
   "source": [
    "walking_y_test = passive_max_data[\"PD\"]\n",
    "walking_X_test = passive_max_data[cols]"
   ]
  },
  {
   "cell_type": "code",
   "execution_count": 63,
   "metadata": {},
   "outputs": [
    {
     "name": "stdout",
     "output_type": "stream",
     "text": [
      "gb_walking_model\n",
      "ROC-AUC on Test-Set: 0.4666666666666667\n",
      "log-loss: 6.90786950718645\n",
      "Precision: 0.8484848484848485\n",
      "Recall: 0.9333333333333333\n",
      "F1-Score: 0.888888888888889\n",
      "\n",
      "\n",
      "xgb_walking_model\n",
      "ROC-AUC on Test-Set: 0.5\n",
      "log-loss: 9.868313209680789\n",
      "Precision: 0.8571428571428571\n",
      "Recall: 0.8\n",
      "F1-Score: 0.8275862068965518\n",
      "\n",
      "\n",
      "rf_walking_model\n",
      "ROC-AUC on Test-Set: 0.4666666666666667\n",
      "log-loss: 11.841957575104257\n",
      "Precision: 0.8461538461538461\n",
      "Recall: 0.7333333333333333\n",
      "F1-Score: 0.7857142857142856\n",
      "\n",
      "\n",
      "lr_walking_model\n",
      "ROC-AUC on Test-Set: 0.5666666666666667\n",
      "log-loss: 15.789200614669465\n",
      "Precision: 0.8888888888888888\n",
      "Recall: 0.5333333333333333\n",
      "F1-Score: 0.6666666666666667\n",
      "\n",
      "\n"
     ]
    }
   ],
   "source": [
    "for model in [\"gb_walking_model\", \"xgb_walking_model\", \n",
    "              \"rf_walking_model\", \"lr_walking_model\"]:\n",
    "    print_performance(model, walking_X_test, walking_y_test)"
   ]
  },
  {
   "cell_type": "code",
   "execution_count": 64,
   "metadata": {},
   "outputs": [
    {
     "name": "stdout",
     "output_type": "stream",
     "text": [
      "SkLearn Gradient Boosting\n",
      "              precision    recall  f1-score   support\n",
      "\n",
      "           0       0.00      0.00      0.00         2\n",
      "           1       0.93      0.85      0.89        33\n",
      "\n",
      "    accuracy                           0.80        35\n",
      "   macro avg       0.47      0.42      0.44        35\n",
      "weighted avg       0.88      0.80      0.84        35\n",
      "\n",
      "Predicted  0   1\n",
      "Actual          \n",
      "0          0   2\n",
      "1          5  28\n",
      "\n",
      "XGBoost Gradient Boosting\n",
      "              precision    recall  f1-score   support\n",
      "\n",
      "           0       0.20      0.14      0.17         7\n",
      "           1       0.80      0.86      0.83        28\n",
      "\n",
      "    accuracy                           0.71        35\n",
      "   macro avg       0.50      0.50      0.50        35\n",
      "weighted avg       0.68      0.71      0.70        35\n",
      "\n",
      "Predicted  0   1\n",
      "Actual          \n",
      "0          1   6\n",
      "1          4  24\n",
      "\n",
      "Random Forests\n",
      "              precision    recall  f1-score   support\n",
      "\n",
      "           0       0.20      0.11      0.14         9\n",
      "           1       0.73      0.85      0.79        26\n",
      "\n",
      "    accuracy                           0.66        35\n",
      "   macro avg       0.47      0.48      0.46        35\n",
      "weighted avg       0.60      0.66      0.62        35\n",
      "\n",
      "Predicted  0   1\n",
      "Actual          \n",
      "0          1   8\n",
      "1          4  22\n"
     ]
    }
   ],
   "source": [
    "print(\"SkLearn Gradient Boosting\")\n",
    "print(metrics.classification_report(gb_walking_model.predict(walking_X_test), \n",
    "                                    walking_y_test))\n",
    "print(pd.crosstab(gb_walking_model.predict(walking_X_test), \n",
    "            walking_y_test, \n",
    "            rownames = [\"Actual\"], \n",
    "            colnames = [\"Predicted\"]))\n",
    "\n",
    "print(\"\\nXGBoost Gradient Boosting\")\n",
    "print(metrics.classification_report(xgb_walking_model.predict(walking_X_test), \n",
    "                                    walking_y_test))\n",
    "print(pd.crosstab(xgb_walking_model.predict(walking_X_test), \n",
    "            walking_y_test, \n",
    "            rownames = [\"Actual\"], \n",
    "            colnames = [\"Predicted\"]))\n",
    "\n",
    "\n",
    "print(\"\\nRandom Forests\")\n",
    "print(metrics.classification_report(rf_walking_model.predict(walking_X_test), \n",
    "                                    walking_y_test))\n",
    "print(pd.crosstab(rf_walking_model.predict(walking_X_test), \n",
    "            walking_y_test, \n",
    "            rownames = [\"Actual\"], \n",
    "            colnames = [\"Predicted\"]))"
   ]
  }
 ],
 "metadata": {
  "kernelspec": {
   "display_name": "synapse_venv",
   "language": "python",
   "name": "synapse_venv"
  },
  "language_info": {
   "codemirror_mode": {
    "name": "ipython",
    "version": 3
   },
   "file_extension": ".py",
   "mimetype": "text/x-python",
   "name": "python",
   "nbconvert_exporter": "python",
   "pygments_lexer": "ipython3",
   "version": "3.7.4"
  }
 },
 "nbformat": 4,
 "nbformat_minor": 4
}
