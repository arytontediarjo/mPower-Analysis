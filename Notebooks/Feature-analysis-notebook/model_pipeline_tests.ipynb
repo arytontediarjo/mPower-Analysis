{
 "cells": [
  {
   "cell_type": "code",
   "execution_count": 1,
   "metadata": {},
   "outputs": [
    {
     "name": "stderr",
     "output_type": "stream",
     "text": [
      "/Users/atediarjo/Documents/SageBionetworks/synapse_venv/lib/python3.7/site-packages/sklearn/externals/joblib/__init__.py:15: DeprecationWarning: sklearn.externals.joblib is deprecated in 0.21 and will be removed in 0.23. Please import this functionality directly from joblib, which can be installed with: pip install joblib. If this warning is raised when loading pickled models, you may need to re-serialize those models with scikit-learn 0.21+.\n",
      "  warnings.warn(msg, category=DeprecationWarning)\n"
     ]
    }
   ],
   "source": [
    "## imports ##\n",
    "\n",
    "import sys\n",
    "sys.path.append(\"../PythonScripts\")\n",
    "import preprocessing_utils as prep\n",
    "from sklearn.model_selection import train_test_split\n",
    "from sklearn.preprocessing import StandardScaler, MinMaxScaler\n",
    "from sklearn.decomposition import PCA\n",
    "from sklearn.pipeline import Pipeline\n",
    "from sklearn.externals import joblib\n",
    "from sklearn.linear_model import LogisticRegression\n",
    "from sklearn import svm, decomposition, tree\n",
    "from sklearn.ensemble import RandomForestClassifier, GradientBoostingClassifier, ExtraTreesClassifier\n",
    "from sklearn import metrics\n",
    "from sklearn.model_selection import learning_curve, GridSearchCV, cross_val_score, validation_curve\n",
    "from sklearn.metrics import classification_report, confusion_matrix\n",
    "import pandas as pd\n",
    "import numpy as np\n",
    "import warnings\n",
    "from sklearn.feature_selection import RFECV, SelectKBest, chi2, SelectFromModel, RFE\n",
    "from xgboost import XGBClassifier\n",
    "import seaborn as sns\n",
    "import matplotlib.pyplot as plt\n",
    "import numpy as np\n",
    "from sklearn.base import BaseEstimator, TransformerMixin\n",
    "import synapseclient as sc\n",
    "%matplotlib inline\n",
    "\n",
    "warnings.simplefilter(\"ignore\")\n",
    "sns.set_style(\"dark\")\n",
    "np.random.seed(100)"
   ]
  },
  {
   "cell_type": "markdown",
   "metadata": {},
   "source": [
    "## Contents:\n",
    "\n",
    "- Gait data being used is based on the PDKit mPowerV1 data, collapsed by each healthCode ids\n",
    "- Features chosen are based on a walking_feature_analysis.ipnb\n",
    "- For this ML Analysis, we will split the training-test set by 75%-25% \n",
    "- Models being used: Logistic Regression, Xtreme Gradient Boost, Sklearn Gradient Boost and Random Forests as a baseline\n",
    "- Feature selection will be done automatically by using sklearn SelectFromModel function, that follows embedded feature selection process\n",
    "- Hyperparameter tuning will be done through a python script that will be run in an EC2 instance (not here)\n",
    "- Feature Importances will be based on baseline model\n",
    "- Learning Curves of each model"
   ]
  },
  {
   "cell_type": "markdown",
   "metadata": {},
   "source": [
    "## Helper Functions"
   ]
  },
  {
   "cell_type": "code",
   "execution_count": 2,
   "metadata": {},
   "outputs": [],
   "source": [
    "def logreg_fit(X_train, y_train):\n",
    "    pipe = Pipeline(steps=[\n",
    "        (\"feature_selection\", SelectFromModel(ExtraTreesClassifier(n_estimators = 100,\n",
    "                                                                   random_state  = 100))),\n",
    "        ('scaler', StandardScaler()),\n",
    "        ('classifier', LogisticRegression(random_state = 100))\n",
    "        ])\n",
    "    param = {}\n",
    "    CV = GridSearchCV(estimator = pipe, param_grid = param , scoring= \"roc_auc\", n_jobs = 1, cv = 10)\n",
    "    CV.fit(X_train, y_train)\n",
    "    return CV\n",
    "\n",
    "\n",
    "def xgb_fit(X_train, y_train):\n",
    "    pipe = Pipeline(steps=[\n",
    "        (\"feature_selection\", SelectFromModel(ExtraTreesClassifier(n_estimators = 100,\n",
    "                                                            random_state  = 100))),\n",
    "        ('classifier', XGBClassifier(seed = 100))\n",
    "        ])\n",
    "    param = {}\n",
    "    CV = GridSearchCV(estimator = pipe, param_grid = param , scoring= \"roc_auc\", n_jobs = 1, cv = 10)\n",
    "    CV.fit(X_train, y_train)\n",
    "    return CV\n",
    "    \n",
    "\n",
    "def gradientboost_fit(X_train, y_train):\n",
    "    pipe = Pipeline(steps=[\n",
    "        (\"feature_selection\", SelectFromModel(estimator = ExtraTreesClassifier(n_estimators = 100,\n",
    "                                                                              random_state  = 100))),\n",
    "        ('classifier', GradientBoostingClassifier(random_state = 100))\n",
    "        ])\n",
    "    param = {}\n",
    "    CV = GridSearchCV(estimator = pipe, param_grid = param , scoring= \"roc_auc\", n_jobs = 1, cv = 10)\n",
    "    CV.fit(X_train, y_train)\n",
    "    return CV\n",
    "\n",
    "def randomforest_fit(X_train, y_train):\n",
    "    pipe = Pipeline(steps=[\n",
    "        (\"feature_selection\", SelectFromModel(estimator = ExtraTreesClassifier(n_estimators = 100,\n",
    "                                                                              random_state = 100))),\n",
    "        ('classifier', RandomForestClassifier(random_state = 100))\n",
    "    ])\n",
    "    param = {}\n",
    "    CV = GridSearchCV(estimator = pipe, param_grid = param , scoring= \"roc_auc\", n_jobs = 1, cv = 10)\n",
    "    CV.fit(X_train, y_train)\n",
    "    return CV\n",
    "\n",
    "\n",
    "def printPerformance(model, X_test, y_test):\n",
    "    print(\"Mean AUC score on K-folds: {}\".format(model.best_score_))\n",
    "    print(\"Parameter Used: {}\".format(model.best_params_))\n",
    "    y_true, y_pred = y_test, model.predict(X_test)\n",
    "    print(\"ROC-AUC on Test-Set: {}\".format(metrics.roc_auc_score(y_true, y_pred)))\n",
    "    print(\"log-loss: {}\".format(metrics.log_loss(y_true, y_pred)))\n",
    "    print(\"Precision: {}\".format(metrics.precision_score(y_true, y_pred)))\n",
    "    print(\"Recall: {}\".format(metrics.recall_score(y_true, y_pred)))\n",
    "    print(\"F1-Score: {}\".format(metrics.f1_score(y_true, y_pred)))"
   ]
  },
  {
   "cell_type": "markdown",
   "metadata": {},
   "source": [
    "## Get Baseline Model and Feature Engineered Data"
   ]
  },
  {
   "cell_type": "code",
   "execution_count": 3,
   "metadata": {},
   "outputs": [
    {
     "name": "stdout",
     "output_type": "stream",
     "text": [
      "Welcome, aryton tediarjo!\n",
      "\n"
     ]
    }
   ],
   "source": [
    "syn = sc.login()"
   ]
  },
  {
   "cell_type": "code",
   "execution_count": 4,
   "metadata": {},
   "outputs": [],
   "source": [
    "## Baseline ## \n",
    "entity = syn.get(\"syn21046180\")\n",
    "data   = pd.read_csv(entity[\"path\"], index_col = 0)"
   ]
  },
  {
   "cell_type": "code",
   "execution_count": 5,
   "metadata": {},
   "outputs": [],
   "source": [
    "feature_columns = [feat for feat in data.columns if (\".\" in feat) \n",
    "                   or (\"duration\" in feat) or (\"healthCode\" in feat)]\n",
    "metadata_columns = [feat for feat in data.columns if \".\" not in feat]"
   ]
  },
  {
   "cell_type": "code",
   "execution_count": 6,
   "metadata": {},
   "outputs": [],
   "source": [
    "## Baseline model without collapsed features ##\n",
    "walking_X_train, walking_X_test, walking_y_train, walking_y_test = \\\n",
    "            train_test_split(data[feature_columns], \n",
    "                             data[\"PD\"], test_size=0.25, random_state = 100)"
   ]
  },
  {
   "cell_type": "markdown",
   "metadata": {},
   "source": [
    "## Run Model on Walking Data"
   ]
  },
  {
   "cell_type": "code",
   "execution_count": 45,
   "metadata": {},
   "outputs": [],
   "source": [
    "def split_dataset(data):\n",
    "    ## list of feature columns ## \n",
    "    feature_columns = [feat for feat in data.columns if (\".\" in feat)]\n",
    "    ## Baseline model without collapsed features ##\n",
    "    X_train, X_test, y_train, y_test = \\\n",
    "            train_test_split(data[feature_columns], \n",
    "                             data[\"PD\"], test_size=0.25, random_state = 100)\n",
    "    return X_train, X_test, y_train, y_test\n",
    "\n",
    "def run_some_models(data):\n",
    "    \n",
    "    X_train, X_test, y_train, y_test = split_dataset(data)\n",
    "    ## run preliminary models ##\n",
    "    lr_walking_model = logreg_fit(X_train, \n",
    "                                  y_train)\n",
    "    rf_walking_model = randomforest_fit(X_train, \n",
    "                                        y_train)\n",
    "    gb_walking_model = gradientboost_fit(X_train, \n",
    "                                         y_train)\n",
    "    xgb_walking_model = xgb_fit(X_train, \n",
    "                                y_train)\n",
    "    print(\"########################################\")\n",
    "    print(\"Gradient Boosting Walking\")\n",
    "    print(\"########################################\")\n",
    "    printPerformance(gb_walking_model, X_test, y_test)\n",
    "    print(\"\\n\")\n",
    "    \n",
    "    \n",
    "    print(\"##########################################\")\n",
    "    print(\"XTreme Gradient Boosting Walking\")\n",
    "    print(\"########################################\")\n",
    "    printPerformance(xgb_walking_model, X_test, y_test)\n",
    "    print(\"\\n\")\n",
    "    \n",
    "    \n",
    "    print(\"##########################################\")\n",
    "    print(\"Random Forest Walking\")\n",
    "    print(\"########################################\")\n",
    "    printPerformance(rf_walking_model, X_test, y_test)\n",
    "    print(\"\\n\")\n",
    "    \n",
    "    \n",
    "    print(\"##########################################\")\n",
    "    print(\"Logistic Regression Walking\")\n",
    "    print(\"########################################\")\n",
    "    printPerformance(lr_walking_model, X_test, y_test)\n",
    "    print(\"\\n\")\n",
    "    \n",
    "    return lr_walking_model, rf_walking_model, gb_walking_model, xgb_walking_model"
   ]
  },
  {
   "cell_type": "markdown",
   "metadata": {},
   "source": [
    "### a). Model 1 - Max aggregated baseline model without feature engineering"
   ]
  },
  {
   "cell_type": "code",
   "execution_count": 46,
   "metadata": {},
   "outputs": [
    {
     "name": "stdout",
     "output_type": "stream",
     "text": [
      "########################################\n",
      "Gradient Boosting Walking\n",
      "########################################\n",
      "Mean AUC score on K-folds: 0.5221974206349205\n",
      "Parameter Used: {}\n",
      "ROC-AUC on Test-Set: 0.5576923076923077\n",
      "log-loss: 15.11088125557138\n",
      "Precision: 0.5238095238095238\n",
      "Recall: 0.5\n",
      "F1-Score: 0.5116279069767442\n",
      "\n",
      "\n",
      "##########################################\n",
      "XTreme Gradient Boosting Walking\n",
      "########################################\n",
      "Mean AUC score on K-folds: 0.5806051587301588\n",
      "Parameter Used: {}\n",
      "ROC-AUC on Test-Set: 0.6608391608391609\n",
      "log-loss: 11.513042072928798\n",
      "Precision: 0.65\n",
      "Recall: 0.5909090909090909\n",
      "F1-Score: 0.6190476190476191\n",
      "\n",
      "\n",
      "##########################################\n",
      "Random Forest Walking\n",
      "########################################\n",
      "Mean AUC score on K-folds: 0.585751488095238\n",
      "Parameter Used: {}\n",
      "ROC-AUC on Test-Set: 0.6835664335664335\n",
      "log-loss: 10.79348423136816\n",
      "Precision: 0.6666666666666666\n",
      "Recall: 0.6363636363636364\n",
      "F1-Score: 0.6511627906976744\n",
      "\n",
      "\n",
      "##########################################\n",
      "Logistic Regression Walking\n",
      "########################################\n",
      "Mean AUC score on K-folds: 0.6277281746031746\n",
      "Parameter Used: {}\n",
      "ROC-AUC on Test-Set: 0.7062937062937062\n",
      "log-loss: 10.07392638980752\n",
      "Precision: 0.6818181818181818\n",
      "Recall: 0.6818181818181818\n",
      "F1-Score: 0.6818181818181818\n",
      "\n",
      "\n"
     ]
    }
   ],
   "source": [
    "## model on max collapsed features feature engineered ##\n",
    "test_data = prep.preprocess(data, \"max\", is_feature_engineered = False) \n",
    "lr_model_1, rf_model_1, gb_model_1, xgb_model_1 = \\\n",
    "                          run_some_models(test_data)"
   ]
  },
  {
   "cell_type": "markdown",
   "metadata": {},
   "source": [
    "### b). Model 2 - Max Aggregated Model with feature engineering"
   ]
  },
  {
   "cell_type": "code",
   "execution_count": 47,
   "metadata": {},
   "outputs": [
    {
     "name": "stdout",
     "output_type": "stream",
     "text": [
      "########################################\n",
      "Gradient Boosting Walking\n",
      "########################################\n",
      "Mean AUC score on K-folds: 0.587921626984127\n",
      "Parameter Used: {}\n",
      "ROC-AUC on Test-Set: 0.6223776223776224\n",
      "log-loss: 12.952191072609667\n",
      "Precision: 0.5909090909090909\n",
      "Recall: 0.5909090909090909\n",
      "F1-Score: 0.5909090909090909\n",
      "\n",
      "\n",
      "##########################################\n",
      "XTreme Gradient Boosting Walking\n",
      "########################################\n",
      "Mean AUC score on K-folds: 0.6212797619047621\n",
      "Parameter Used: {}\n",
      "ROC-AUC on Test-Set: 0.596153846153846\n",
      "log-loss: 13.671732255890511\n",
      "Precision: 0.5789473684210527\n",
      "Recall: 0.5\n",
      "F1-Score: 0.5365853658536586\n",
      "\n",
      "\n",
      "##########################################\n",
      "Random Forest Walking\n",
      "########################################\n",
      "Mean AUC score on K-folds: 0.6301463293650793\n",
      "Parameter Used: {}\n",
      "ROC-AUC on Test-Set: 0.5052447552447552\n",
      "log-loss: 16.549963622133067\n",
      "Precision: 0.4666666666666667\n",
      "Recall: 0.3181818181818182\n",
      "F1-Score: 0.3783783783783784\n",
      "\n",
      "\n",
      "##########################################\n",
      "Logistic Regression Walking\n",
      "########################################\n",
      "Mean AUC score on K-folds: 0.6220238095238095\n",
      "Parameter Used: {}\n",
      "ROC-AUC on Test-Set: 0.645104895104895\n",
      "log-loss: 12.232633231049027\n",
      "Precision: 0.6086956521739131\n",
      "Recall: 0.6363636363636364\n",
      "F1-Score: 0.6222222222222223\n",
      "\n",
      "\n"
     ]
    }
   ],
   "source": [
    "## model on max collapsed features ##\n",
    "test_data = prep.preprocess(data, \"max\", is_feature_engineered = True) \n",
    "lr_model_2, rf_model_2, gb_model_2, xgb_model_2 = \\\n",
    "                          run_some_models(test_data)"
   ]
  },
  {
   "cell_type": "markdown",
   "metadata": {},
   "source": [
    "### c). Model 3 - Max and Mean Aggregeated Model with feature engineering"
   ]
  },
  {
   "cell_type": "code",
   "execution_count": 49,
   "metadata": {},
   "outputs": [
    {
     "name": "stdout",
     "output_type": "stream",
     "text": [
      "########################################\n",
      "Gradient Boosting Walking\n",
      "########################################\n",
      "Mean AUC score on K-folds: 0.47867063492063494\n",
      "Parameter Used: {}\n",
      "ROC-AUC on Test-Set: 0.687062937062937\n",
      "log-loss: 10.793500889647953\n",
      "Precision: 0.6521739130434783\n",
      "Recall: 0.6818181818181818\n",
      "F1-Score: 0.6666666666666666\n",
      "\n",
      "\n",
      "##########################################\n",
      "XTreme Gradient Boosting Walking\n",
      "########################################\n",
      "Mean AUC score on K-folds: 0.5261656746031745\n",
      "Parameter Used: {}\n",
      "ROC-AUC on Test-Set: 0.7027972027972027\n",
      "log-loss: 10.073909731527724\n",
      "Precision: 0.7\n",
      "Recall: 0.6363636363636364\n",
      "F1-Score: 0.6666666666666666\n",
      "\n",
      "\n",
      "##########################################\n",
      "Random Forest Walking\n",
      "########################################\n",
      "Mean AUC score on K-folds: 0.5753968253968256\n",
      "Parameter Used: {}\n",
      "ROC-AUC on Test-Set: 0.6118881118881119\n",
      "log-loss: 12.95214109777028\n",
      "Precision: 0.625\n",
      "Recall: 0.45454545454545453\n",
      "F1-Score: 0.5263157894736842\n",
      "\n",
      "\n",
      "##########################################\n",
      "Logistic Regression Walking\n",
      "########################################\n",
      "Mean AUC score on K-folds: 0.6032986111111112\n",
      "Parameter Used: {}\n",
      "ROC-AUC on Test-Set: 0.687062937062937\n",
      "log-loss: 10.793500889647953\n",
      "Precision: 0.6521739130434783\n",
      "Recall: 0.6818181818181818\n",
      "F1-Score: 0.6666666666666666\n",
      "\n",
      "\n"
     ]
    }
   ],
   "source": [
    "max_test_data = prep.preprocess(data, \"max\", is_feature_engineered = True) \n",
    "mean_test_data = prep.preprocess(data, \"mean\", is_feature_engineered = True) \n",
    "\n",
    "combined_test_data = pd.concat([max_test_data, mean_test_data], axis = 1)\n",
    "combined_test_data = combined_test_data.loc[:,~combined_test_data.columns.duplicated()]\n",
    "lr_model_3, rf_model_3, gb_model_3, xgb_model_3 = \\\n",
    "                          run_some_models(combined_test_data)"
   ]
  },
  {
   "cell_type": "markdown",
   "metadata": {},
   "source": [
    "The results above shows that the unfeatured data has better capability to predict the test sets, the same goes to the combined datasets of maximum and minimum aggregated together. However, the maximum aggregated data model is performing much more stable in its cross validated tests."
   ]
  },
  {
   "cell_type": "markdown",
   "metadata": {},
   "source": [
    "# Some Result Metrics"
   ]
  },
  {
   "cell_type": "code",
   "execution_count": 50,
   "metadata": {},
   "outputs": [],
   "source": [
    "model_data = prep.preprocess(data, \"max\", is_feature_engineered = True) \n",
    "X_train, X_test, y_train, y_test = split_dataset(model_data)"
   ]
  },
  {
   "cell_type": "code",
   "execution_count": 35,
   "metadata": {},
   "outputs": [
    {
     "name": "stdout",
     "output_type": "stream",
     "text": [
      "######################################################\n",
      "LogisticRegression\n",
      "######################################################\n",
      "              precision    recall  f1-score   support\n",
      "\n",
      "           0       0.65      0.68      0.67        25\n",
      "           1       0.64      0.61      0.62        23\n",
      "\n",
      "    accuracy                           0.65        48\n",
      "   macro avg       0.65      0.64      0.64        48\n",
      "weighted avg       0.65      0.65      0.65        48\n",
      "\n",
      "######################################################\n",
      "RandomForestClassifier\n",
      "######################################################\n",
      "              precision    recall  f1-score   support\n",
      "\n",
      "           0       0.69      0.55      0.61        33\n",
      "           1       0.32      0.47      0.38        15\n",
      "\n",
      "    accuracy                           0.52        48\n",
      "   macro avg       0.51      0.51      0.49        48\n",
      "weighted avg       0.58      0.52      0.54        48\n",
      "\n",
      "######################################################\n",
      "GradientBoostingClassifier\n",
      "######################################################\n",
      "              precision    recall  f1-score   support\n",
      "\n",
      "           0       0.65      0.65      0.65        26\n",
      "           1       0.59      0.59      0.59        22\n",
      "\n",
      "    accuracy                           0.62        48\n",
      "   macro avg       0.62      0.62      0.62        48\n",
      "weighted avg       0.62      0.62      0.62        48\n",
      "\n",
      "######################################################\n",
      "XGBClassifier\n",
      "######################################################\n",
      "              precision    recall  f1-score   support\n",
      "\n",
      "           0       0.69      0.62      0.65        29\n",
      "           1       0.50      0.58      0.54        19\n",
      "\n",
      "    accuracy                           0.60        48\n",
      "   macro avg       0.60      0.60      0.60        48\n",
      "weighted avg       0.62      0.60      0.61        48\n",
      "\n"
     ]
    }
   ],
   "source": [
    "for model in [lr_model_2, rf_model_2, gb_model_2, xgb_model_2]:\n",
    "    print(\"######################################################\")\n",
    "    print(type(model.best_estimator_[\"classifier\"]).__name__)\n",
    "    print(\"######################################################\")\n",
    "    print(metrics.classification_report(model.predict(X_test), y_test))"
   ]
  },
  {
   "cell_type": "markdown",
   "metadata": {},
   "source": [
    "# Feature Importances based on Embedded Methods"
   ]
  },
  {
   "cell_type": "code",
   "execution_count": 64,
   "metadata": {},
   "outputs": [
    {
     "data": {
      "image/png": "[encoded data removed]",
      "text/plain": [
       "<Figure size 576x360 with 1 Axes>"
      ]
     },
     "metadata": {
      "needs_background": "light"
     },
     "output_type": "display_data"
    }
   ],
   "source": [
    "series = pd.Series(data = rf_model_2.best_estimator_[\"classifier\"].feature_importances_, \n",
    "          index = X_train.columns[rf_model_2.best_estimator_[\"feature_selection\"].get_support()]).sort_values(ascending = True)\n",
    "plt.figure(figsize = (8,5))\n",
    "plt.title(\"Feature Importances based on Random Forest Gini Index\")\n",
    "series.plot(kind = \"barh\")\n",
    "plt.grid()"
   ]
  },
  {
   "cell_type": "code",
   "execution_count": 65,
   "metadata": {},
   "outputs": [
    {
     "data": {
      "image/png": "[encoded data removed]",
      "text/plain": [
       "<Figure size 576x360 with 1 Axes>"
      ]
     },
     "metadata": {
      "needs_background": "light"
     },
     "output_type": "display_data"
    }
   ],
   "source": [
    "series = pd.Series(data = gb_model_2.best_estimator_[\"classifier\"].feature_importances_, \n",
    "          index = X_train.columns[gb_model_2.best_estimator_[\"feature_selection\"].get_support()]).sort_values(ascending = True)\n",
    "plt.figure(figsize = (8,5))\n",
    "plt.title(\"Feature Importances based on Gradient Boosting\")\n",
    "series.plot(kind = \"barh\")\n",
    "plt.grid()"
   ]
  },
  {
   "cell_type": "code",
   "execution_count": 67,
   "metadata": {},
   "outputs": [
    {
     "data": {
      "image/png": "[encoded data removed]",
      "text/plain": [
       "<Figure size 576x360 with 1 Axes>"
      ]
     },
     "metadata": {
      "needs_background": "light"
     },
     "output_type": "display_data"
    }
   ],
   "source": [
    "series = pd.Series(data = xgb_model_2.best_estimator_[\"classifier\"].feature_importances_, \n",
    "          index = X_train.columns[xgb_model_2.best_estimator_[\"feature_selection\"].get_support()]).sort_values(ascending = True)\n",
    "plt.figure(figsize = (8,5))\n",
    "plt.title(\"Feature Importances based on XGBoost\")\n",
    "series.plot(kind = \"barh\")\n",
    "plt.grid()"
   ]
  },
  {
   "cell_type": "code",
   "execution_count": 86,
   "metadata": {},
   "outputs": [
    {
     "data": {
      "image/png": "[encoded data removed]",
      "text/plain": [
       "<Figure size 576x360 with 1 Axes>"
      ]
     },
     "metadata": {
      "needs_background": "light"
     },
     "output_type": "display_data"
    }
   ],
   "source": [
    "series = pd.Series(data = lr_model_2.best_estimator_[\"classifier\"].coef_[0], \n",
    "          index = X_train.columns[lr_model_2.best_estimator_[\"feature_selection\"].get_support()]).sort_values(ascending = True)\n",
    "plt.figure(figsize = (8,5))\n",
    "plt.title(\"Feature Importances based on Log Odds\")\n",
    "series.plot(kind = \"barh\")\n",
    "plt.grid()"
   ]
  },
  {
   "cell_type": "markdown",
   "metadata": {},
   "source": [
    "# Learning Curves"
   ]
  },
  {
   "cell_type": "code",
   "execution_count": 102,
   "metadata": {},
   "outputs": [
    {
     "data": {
      "image/png": "[encoded data removed]",
      "text/plain": [
       "<Figure size 576x360 with 1 Axes>"
      ]
     },
     "metadata": {
      "needs_background": "light"
     },
     "output_type": "display_data"
    }
   ],
   "source": [
    "train_sizes, train_scores, valid_scores = learning_curve(rf_model_2.best_estimator_, \n",
    "                                                         X_train, y_train, \n",
    "                                                         scoring = \"neg_log_loss\", \n",
    "                                                         cv = 10, random_state = 100, \n",
    "                                                         train_sizes = np.linspace(0.1, 1, 10))\n",
    "pd.DataFrame(data = {\"train_scores\": np.mean(train_scores, axis = 1) * -1, \n",
    "                     \"valid_scores\": np.mean(valid_scores, axis = 1) * -1}, index = train_sizes).plot(figsize = (8,5))\n",
    "plt.ylabel(\"Loss\")\n",
    "plt.title(\"Random Forest Learning Curve\")\n",
    "plt.xlabel(\"Training Size\")\n",
    "plt.grid()\n",
    "plt.show()"
   ]
  },
  {
   "cell_type": "code",
   "execution_count": 103,
   "metadata": {},
   "outputs": [
    {
     "data": {
      "image/png": "[encoded data removed]",
      "text/plain": [
       "<Figure size 576x360 with 1 Axes>"
      ]
     },
     "metadata": {
      "needs_background": "light"
     },
     "output_type": "display_data"
    }
   ],
   "source": [
    "train_sizes, train_scores, valid_scores = learning_curve(xgb_model_2.best_estimator_, \n",
    "                                                         X_train, y_train, \n",
    "                                                         scoring = \"neg_log_loss\", \n",
    "                                                         cv = 10, \n",
    "                                                         random_state = 100, \n",
    "                                                         train_sizes = np.linspace(0.1, 1, 10))\n",
    "pd.DataFrame(data = {\"train_scores\": np.mean(train_scores, axis = 1) * -1, \n",
    "                     \"valid_scores\": np.mean(valid_scores, axis = 1) * -1}, index = train_sizes).plot(figsize = (8,5))\n",
    "plt.ylabel(\"Loss\")\n",
    "plt.title(\"Xtreme Gradient Boosting Learning Curve\")\n",
    "plt.xlabel(\"Training Size\")\n",
    "plt.grid()\n",
    "plt.show()"
   ]
  },
  {
   "cell_type": "code",
   "execution_count": 104,
   "metadata": {},
   "outputs": [
    {
     "data": {
      "image/png": "[encoded data removed]",
      "text/plain": [
       "<Figure size 576x360 with 1 Axes>"
      ]
     },
     "metadata": {
      "needs_background": "light"
     },
     "output_type": "display_data"
    }
   ],
   "source": [
    "train_sizes, train_scores, valid_scores = learning_curve(gb_model_2.best_estimator_, \n",
    "                                                         X_train, y_train, \n",
    "                                                         scoring = \"neg_log_loss\", \n",
    "                                                         cv = 10, \n",
    "                                                         random_state = 100, \n",
    "                                                         train_sizes = np.linspace(0.1, 1, 10))\n",
    "pd.DataFrame(data = {\"train_scores\": np.mean(train_scores, axis = 1) * -1, \n",
    "                     \"valid_scores\": np.mean(valid_scores, axis = 1) * -1}, index = train_sizes).plot(figsize = (8,5))\n",
    "plt.ylabel(\"Loss\")\n",
    "plt.title(\"Sklearn Gradient Boosting Learning Curve\")\n",
    "plt.xlabel(\"Training Size\")\n",
    "plt.grid()\n",
    "plt.show()"
   ]
  },
  {
   "cell_type": "markdown",
   "metadata": {},
   "source": [
    "# WORK IN PROGRESS \n",
    "will continue after better balance features"
   ]
  },
  {
   "cell_type": "markdown",
   "metadata": {
    "jupyter": {
     "source_hidden": true
    }
   },
   "source": [
    "# Balance Data (WIP)"
   ]
  },
  {
   "cell_type": "code",
   "execution_count": 30,
   "metadata": {
    "jupyter": {
     "source_hidden": true
    }
   },
   "outputs": [],
   "source": [
    "balance_train = pd.read_csv(\"../Data/BALANCE_TRAINING_DATA.csv\", index_col=0).reset_index(drop = True)\n",
    "balance_X_train, balance_X_test, balance_y_train, balance_y_test = \\\n",
    "train_test_split(balance_train.drop([\"PD\"],axis = 1), balance_train[\"PD\"], test_size=0.20, random_state = 100)"
   ]
  },
  {
   "cell_type": "code",
   "execution_count": 31,
   "metadata": {
    "collapsed": true,
    "jupyter": {
     "outputs_hidden": true,
     "source_hidden": true
    }
   },
   "outputs": [
    {
     "name": "stdout",
     "output_type": "stream",
     "text": [
      "\n",
      "### Gradient Boosting Walking ###\n",
      "Mean AUC score on K-folds: 0.7145191409897292\n",
      "Parameter Used: {'classifier__learning_rate': 0.001, 'classifier__loss': 'deviance', 'classifier__max_depth': 2, 'classifier__n_estimators': 100}\n",
      "ROC-AUC on Test-Set: 0.46825396825396826\n",
      "log-loss: 19.48382237529844\n",
      "Precision: 0.4444444444444444\n",
      "Recall: 0.8888888888888888\n",
      "F1-Score: 0.5925925925925926\n",
      "\n",
      "### XTreme Gradient Boosting Walking ###\n",
      "Mean AUC score on K-folds: 0.6674836601307189\n",
      "Parameter Used: {'classifier__gamma': 1, 'classifier__learning_rate': 0.01, 'classifier__max_depth': 6, 'classifier__n_estimators': 100, 'classifier__subsample': 0.8, 'classifier__tree_method': 'hist'}\n",
      "ROC-AUC on Test-Set: 0.46825396825396826\n",
      "log-loss: 18.59806920665941\n",
      "Precision: 0.43478260869565216\n",
      "Recall: 0.5555555555555556\n",
      "F1-Score: 0.4878048780487805\n",
      "\n",
      "### Random Forest Walking ###\n",
      "Mean AUC score on K-folds: 0.6847572362278244\n",
      "Parameter Used: {'classifier__criterion': 'entropy', 'classifier__max_depth': 2, 'classifier__max_features': None, 'classifier__n_estimators': 100}\n",
      "ROC-AUC on Test-Set: 0.36111111111111116\n",
      "log-loss: 22.14052831376384\n",
      "Precision: 0.3333333333333333\n",
      "Recall: 0.3888888888888889\n",
      "F1-Score: 0.358974358974359\n",
      "\n",
      "### Logistic Regression Walking ###\n",
      "Mean AUC score on K-folds: 0.6972455648926237\n",
      "Parameter Used: {'classifier__penalty': 'l2', 'classifier__solver': 'newton-cg'}\n",
      "ROC-AUC on Test-Set: 0.4642857142857143\n",
      "log-loss: 18.5980487041612\n",
      "Precision: 0.42857142857142855\n",
      "Recall: 0.5\n",
      "F1-Score: 0.4615384615384615\n"
     ]
    }
   ],
   "source": [
    "lr_balance_model = logreg_fit(balance_X_train, balance_y_train)\n",
    "rf_balance_model = randomforest_fit(balance_X_train, balance_y_train)\n",
    "gb_balance_model = gradientboost_fit(balance_X_train, balance_y_train)\n",
    "xgb_balance_model = xgb_fit(balance_X_train, balance_y_train)\n",
    "\n",
    "\n",
    "print(\"\\n### Gradient Boosting Walking ###\")\n",
    "printPerformance(gb_balance_model, balance_X_test, balance_y_test)\n",
    "print(\"\\n### XTreme Gradient Boosting Walking ###\")\n",
    "printPerformance(xgb_balance_model, balance_X_test, balance_y_test)\n",
    "print(\"\\n### Random Forest Walking ###\")\n",
    "printPerformance(rf_balance_model, balance_X_test, balance_y_test)\n",
    "print(\"\\n### Logistic Regression Walking ###\")\n",
    "printPerformance(lr_balance_model, balance_X_test, balance_y_test)"
   ]
  },
  {
   "cell_type": "markdown",
   "metadata": {
    "jupyter": {
     "source_hidden": true
    }
   },
   "source": [
    "# Combining Features in Balance and Walking"
   ]
  },
  {
   "cell_type": "code",
   "execution_count": 113,
   "metadata": {
    "jupyter": {
     "source_hidden": true
    }
   },
   "outputs": [],
   "source": [
    "from sklearn.feature_selection import SelectKBest, chi2"
   ]
  },
  {
   "cell_type": "code",
   "execution_count": 135,
   "metadata": {
    "collapsed": true,
    "jupyter": {
     "outputs_hidden": true,
     "source_hidden": true
    }
   },
   "outputs": [
    {
     "data": {
      "text/plain": [
       "max_userAccel_y.frequency_of_peaks     3.442899e+08\n",
       "max_userAccel_x.frequency_of_peaks     1.370186e+07\n",
       "max_userAccel_AA.frequency_of_peaks    8.345348e+05\n",
       "max_userAccel_z.frequency_of_peaks     4.602456e+04\n",
       "max_userAccel_x.max_freeze_index       1.208810e+03\n",
       "max_userAccel_z.max_freeze_index       8.897928e+02\n",
       "max_userAccel_y.max_freeze_index       3.391854e+02\n",
       "max_userAccel_x.freeze_occurences      4.986737e+01\n",
       "max_userAccel_z.freeze_occurences      3.421301e+01\n",
       "max_userAccel_y.freeze_occurences      1.917437e+01\n",
       "max_userAccel_AA.freeze_occurences     1.778391e+01\n",
       "max_userAccel_AA.max_freeze_index      1.230553e+01\n",
       "max_userAccel_x.no_of_steps            2.433806e+00\n",
       "max_userAccel_y.no_of_steps            5.537818e-01\n",
       "max_userAccel_z.no_of_steps            3.679252e-01\n",
       "dtype: float64"
      ]
     },
     "execution_count": 135,
     "metadata": {},
     "output_type": "execute_result"
    }
   ],
   "source": [
    "train = pd.concat([balance_train.drop(\"PD\", axis = 1), walking_train], axis = 1)\n",
    "train = train.groupby(train.columns, axis=1).mean().dropna()\n",
    "combined_X_train, combined_X_test, combined_y_train, combined_y_test = \\\n",
    "train_test_split(train.drop([\"PD\"], axis = 1), train[\"PD\"], test_size=0.20, random_state = 100)\n",
    "selector = SelectKBest(chi2, k=15).fit(combined_X_train, combined_y_train)\n",
    "pd.Series(data = selector.scores_, index = combined_X_train.columns).sort_values(ascending = False).head(15)"
   ]
  },
  {
   "cell_type": "code",
   "execution_count": 136,
   "metadata": {
    "collapsed": true,
    "jupyter": {
     "outputs_hidden": true,
     "source_hidden": true
    }
   },
   "outputs": [
    {
     "name": "stdout",
     "output_type": "stream",
     "text": [
      "\n",
      "### Gradient Boosting Walking ###\n",
      "Mean AUC score on K-folds: 0.7072510822510822\n",
      "Parameter Used: {'classifier__learning_rate': 0.1, 'classifier__loss': 'exponential', 'classifier__max_depth': 6, 'classifier__n_estimators': 100}\n",
      "ROC-AUC on Test-Set: 0.48351648351648346\n",
      "log-loss: 18.285516772869254\n",
      "Precision: 0.3684210526315789\n",
      "Recall: 0.5384615384615384\n",
      "F1-Score: 0.4375\n",
      "\n",
      "### XTreme Gradient Boosting Walking ###\n",
      "Mean AUC score on K-folds: 0.6821789321789321\n",
      "Parameter Used: {'classifier__gamma': 1, 'classifier__learning_rate': 0.01, 'classifier__max_depth': 6, 'classifier__n_estimators': 100, 'classifier__subsample': 0.8, 'classifier__tree_method': 'auto'}\n",
      "ROC-AUC on Test-Set: 0.5073260073260073\n",
      "log-loss: 17.269646890741583\n",
      "Precision: 0.3888888888888889\n",
      "Recall: 0.5384615384615384\n",
      "F1-Score: 0.45161290322580644\n",
      "\n",
      "### Random Forest Walking ###\n",
      "Mean AUC score on K-folds: 0.7160894660894661\n",
      "Parameter Used: {'classifier__criterion': 'entropy', 'classifier__max_depth': 9, 'classifier__max_features': 'auto', 'classifier__n_estimators': 200}\n",
      "ROC-AUC on Test-Set: 0.5787545787545787\n",
      "log-loss: 14.22203724435856\n",
      "Precision: 0.4666666666666667\n",
      "Recall: 0.5384615384615384\n",
      "F1-Score: 0.5\n",
      "\n",
      "### Logistic Regression Walking ###\n",
      "Mean AUC score on K-folds: 0.5811688311688312\n",
      "Parameter Used: {'classifier__penalty': 'l1', 'classifier__solver': 'liblinear'}\n",
      "ROC-AUC on Test-Set: 0.5164835164835165\n",
      "log-loss: 16.25375349104243\n",
      "Precision: 0.4\n",
      "Recall: 0.46153846153846156\n",
      "F1-Score: 0.42857142857142855\n"
     ]
    }
   ],
   "source": [
    "lr_balance_model = logreg_fit(combined_X_train, combined_y_train)\n",
    "rf_balance_model = randomforest_fit(combined_X_train, combined_y_train)\n",
    "gb_balance_model = gradientboost_fit(combined_X_train, combined_y_train)\n",
    "xgb_balance_model = xgb_fit(combined_X_train, combined_y_train)\n",
    "\n",
    "\n",
    "print(\"\\n### Gradient Boosting Walking ###\")\n",
    "printPerformance(gb_balance_model, combined_X_test, combined_y_test)\n",
    "print(\"\\n### XTreme Gradient Boosting Walking ###\")\n",
    "printPerformance(xgb_balance_model, combined_X_test, combined_y_test)\n",
    "print(\"\\n### Random Forest Walking ###\")\n",
    "printPerformance(rf_balance_model, combined_X_test, combined_y_test)\n",
    "print(\"\\n### Logistic Regression Walking ###\")\n",
    "printPerformance(lr_balance_model, combined_X_test, combined_y_test)"
   ]
  },
  {
   "cell_type": "markdown",
   "metadata": {
    "jupyter": {
     "source_hidden": true
    }
   },
   "source": [
    "# Saving Serialized Results"
   ]
  },
  {
   "cell_type": "markdown",
   "metadata": {
    "jupyter": {
     "source_hidden": true
    }
   },
   "source": [
    "The walking models will be the only one taken for further assessment towards V2 data due to its decent performance of ROC-AUC > 0.6. Model will be refitted to the test sets."
   ]
  },
  {
   "cell_type": "code",
   "execution_count": 55,
   "metadata": {
    "jupyter": {
     "source_hidden": true
    }
   },
   "outputs": [],
   "source": [
    "import pickle\n",
    "from sklearn.externals import joblib "
   ]
  },
  {
   "cell_type": "markdown",
   "metadata": {
    "jupyter": {
     "source_hidden": true
    }
   },
   "source": [
    "### Refit Model to Tests Sets"
   ]
  },
  {
   "cell_type": "code",
   "execution_count": 56,
   "metadata": {
    "jupyter": {
     "source_hidden": true
    }
   },
   "outputs": [],
   "source": [
    "refitted_lr = lr_walking_model.best_estimator_.fit(walking_X_test, walking_y_test)\n",
    "refitted_gb = gb_walking_model.best_estimator_.fit(walking_X_test, walking_y_test)\n",
    "refitted_xgb = xgb_walking_model.best_estimator_.fit(walking_X_test, walking_y_test)\n",
    "refitted_rf = rf_walking_model.best_estimator_.fit(walking_X_test, walking_y_test)"
   ]
  },
  {
   "cell_type": "code",
   "execution_count": 57,
   "metadata": {
    "jupyter": {
     "source_hidden": true
    }
   },
   "outputs": [],
   "source": [
    "models = [\"refitted_lr\", \"refitted_gb\", \"refitted_xgb\", \"refitted_rf\"]\n",
    "\n",
    "\n",
    "for model in models:\n",
    "    joblib.dump(globals()[model], '../Models/{}.pkl'.format(model))"
   ]
  },
  {
   "cell_type": "code",
   "execution_count": null,
   "metadata": {
    "jupyter": {
     "source_hidden": true
    }
   },
   "outputs": [],
   "source": []
  }
 ],
 "metadata": {
  "kernelspec": {
   "display_name": "synapse_venv",
   "language": "python",
   "name": "synapse_venv"
  },
  "language_info": {
   "codemirror_mode": {
    "name": "ipython",
    "version": 3
   },
   "file_extension": ".py",
   "mimetype": "text/x-python",
   "name": "python",
   "nbconvert_exporter": "python",
   "pygments_lexer": "ipython3",
   "version": "3.7.4"
  }
 },
 "nbformat": 4,
 "nbformat_minor": 4
}
