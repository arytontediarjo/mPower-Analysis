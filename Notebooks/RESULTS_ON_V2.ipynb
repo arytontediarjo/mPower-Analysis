{
 "cells": [
  {
   "cell_type": "code",
   "execution_count": 12,
   "metadata": {},
   "outputs": [],
   "source": [
    "import pickle\n",
    "from sklearn.externals import joblib \n",
    "import warnings\n",
    "warnings.simplefilter(\"ignore\")\n",
    "import synapseclient as sc\n",
    "import pandas as pd\n",
    "import numpy as np\n",
    "from datetime import datetime\n",
    "from sklearn.metrics import classification_report, confusion_matrix\n",
    "from sklearn import metrics\n",
    "from sklearn.model_selection import train_test_split\n",
    "from sklearn.feature_selection import RFECV, SelectKBest, chi2, SelectFromModel, RFE\n",
    "np.random.seed(100)"
   ]
  },
  {
   "cell_type": "code",
   "execution_count": 52,
   "metadata": {},
   "outputs": [],
   "source": [
    "def rename_column_name(data):\n",
    "    for feature in filter(lambda feature: (\"x\" in feature) \n",
    "                          or (\"y\" in feature) or (\"z\" in feature) \n",
    "                          or (\"AA\" in feature), data.columns): \n",
    "        data  = data.rename({feature: \"max_{}\"\\\n",
    "                            .format(feature)}, axis = 1)\n",
    "    return data\n",
    "\n",
    "def KBest_features_columns(X_train, y_train):\n",
    "    selector = SelectKBest(chi2, k=15).fit(X_train, y_train)\n",
    "    selected_columns = X_train.columns[selector.get_support()]\n",
    "    return selected_columns"
   ]
  },
  {
   "cell_type": "code",
   "execution_count": 53,
   "metadata": {},
   "outputs": [],
   "source": [
    "walking_train = pd.read_csv(\"../Data/MAX_WALKING_TRAINING_DATA.csv\", index_col=0).reset_index(drop = True)\n",
    "walking_X_train, walking_X_test, walking_y_train, walking_y_test = \\\n",
    "train_test_split(walking_train.drop([\"PD\"], axis = 1), walking_train[\"PD\"], test_size=0.20, random_state = 100)\n",
    "cols = KBest_features_columns(walking_X_train, walking_y_train)"
   ]
  },
  {
   "cell_type": "code",
   "execution_count": 54,
   "metadata": {},
   "outputs": [
    {
     "name": "stdout",
     "output_type": "stream",
     "text": [
      "Welcome, aryton tediarjo!\n",
      "\n"
     ]
    }
   ],
   "source": [
    "syn = sc.login()\n",
    "\n",
    "active_entity = syn.get(\"syn21046181\")\n",
    "active_data   = pd.read_csv(active_entity[\"path\"], index_col = 0)\n",
    "active_max_data = active_data.groupby(\"healthCode\").max()\n",
    "active_max_data = rename_column_name(active_max_data).dropna().drop([\"gender\"], axis = 1)\n",
    "grouped  = active_data[[\"healthCode\", \"recordId\"]].groupby(\"healthCode\").count()[\"recordId\"] > 5\n",
    "active_max_data = active_max_data[active_max_data.index.isin(grouped[grouped].index)]\n",
    "\n",
    "passive_entity = syn.get(\"syn21046184\")\n",
    "passive_data   = pd.read_csv(passive_entity[\"path\"], index_col = 0)\n",
    "passive_max_data = passive_data.groupby(\"healthCode\").max()\n",
    "passive_max_data = rename_column_name(passive_max_data).dropna().drop([\"gender\"], axis = 1)\n",
    "grouped  = passive_data[[\"healthCode\", \"recordId\"]].groupby(\"healthCode\").count()[\"recordId\"] > 5\n",
    "passive_max_data = passive_max_data[passive_max_data.index.isin(grouped[grouped].index)]"
   ]
  },
  {
   "cell_type": "code",
   "execution_count": 67,
   "metadata": {},
   "outputs": [],
   "source": [
    "gb_walking_model = joblib.load('../Models/{}.pkl'.format(\"refitted_gb\"))\n",
    "xgb_walking_model = joblib.load('../Models/{}.pkl'.format(\"refitted_xgb\"))\n",
    "rf_walking_model = joblib.load('../Models/{}.pkl'.format(\"refitted_rf\"))\n",
    "lr_walking_model = joblib.load('../Models/{}.pkl'.format(\"refitted_lr\"))"
   ]
  },
  {
   "cell_type": "code",
   "execution_count": 68,
   "metadata": {},
   "outputs": [],
   "source": [
    "active_max_data.drop([\"recordId\", \"phoneInfo\", \"createdOn\"], axis = 1).to_csv(\"../Data/MAX_WALKING_TRAINING_DATA_V2.csv\")\n",
    "passive_max_data.drop([\"recordId\", \"phoneInfo\", \"createdOn\"], axis = 1).to_csv(\"../Data/MAX_WALKING_TRAINING_DATA_PASSIVE.csv\")"
   ]
  },
  {
   "cell_type": "code",
   "execution_count": 69,
   "metadata": {},
   "outputs": [],
   "source": [
    "def print_performance(model, walking_X_test, walking_y_test):\n",
    "    print(model)\n",
    "    pipeline = globals()[model]\n",
    "    y_true, y_pred = walking_y_test, pipeline.predict(walking_X_test)\n",
    "    print(\"ROC-AUC on Test-Set: {}\".format(metrics.roc_auc_score(y_true, y_pred)))\n",
    "    print(\"log-loss: {}\".format(metrics.log_loss(y_true, y_pred)))\n",
    "    print(\"Precision: {}\".format(metrics.precision_score(y_true, y_pred)))\n",
    "    print(\"Recall: {}\".format(metrics.recall_score(y_true, y_pred)))\n",
    "    print(\"F1-Score: {}\".format(metrics.f1_score(y_true, y_pred)))\n",
    "    print(\"\\n\")"
   ]
  },
  {
   "cell_type": "markdown",
   "metadata": {},
   "source": [
    "# Performance in Active"
   ]
  },
  {
   "cell_type": "code",
   "execution_count": 70,
   "metadata": {},
   "outputs": [],
   "source": [
    "walking_y_test = active_max_data[\"PD\"]\n",
    "walking_X_test = active_max_data[cols]"
   ]
  },
  {
   "cell_type": "code",
   "execution_count": 71,
   "metadata": {},
   "outputs": [
    {
     "name": "stdout",
     "output_type": "stream",
     "text": [
      "gb_walking_model\n",
      "ROC-AUC on Test-Set: 0.530241935483871\n",
      "log-loss: 3.602238011628792\n",
      "Precision: 0.9539473684210527\n",
      "Recall: 0.9354838709677419\n",
      "F1-Score: 0.9446254071661238\n",
      "\n",
      "\n",
      "xgb_walking_model\n",
      "ROC-AUC on Test-Set: 0.4665322580645161\n",
      "log-loss: 31.14847196103865\n",
      "Precision: 0.9\n",
      "Recall: 0.05806451612903226\n",
      "F1-Score: 0.10909090909090909\n",
      "\n",
      "\n",
      "rf_walking_model\n",
      "ROC-AUC on Test-Set: 0.407258064516129\n",
      "log-loss: 31.148476866544357\n",
      "Precision: 0.8333333333333334\n",
      "Recall: 0.06451612903225806\n",
      "F1-Score: 0.11976047904191615\n",
      "\n",
      "\n",
      "lr_walking_model\n",
      "ROC-AUC on Test-Set: 0.2701612903225806\n",
      "log-loss: 24.579772143522828\n",
      "Precision: 0.8823529411764706\n",
      "Recall: 0.2903225806451613\n",
      "F1-Score: 0.4368932038834952\n",
      "\n",
      "\n"
     ]
    }
   ],
   "source": [
    "for model in [\"gb_walking_model\", \"xgb_walking_model\", \n",
    "              \"rf_walking_model\", \"lr_walking_model\"]:\n",
    "    print_performance(model, walking_X_test, walking_y_test)"
   ]
  },
  {
   "cell_type": "code",
   "execution_count": 72,
   "metadata": {},
   "outputs": [
    {
     "name": "stdout",
     "output_type": "stream",
     "text": [
      "SkLearn Gradient Boosting\n",
      "              precision    recall  f1-score   support\n",
      "\n",
      "           0       0.12      0.09      0.11        11\n",
      "           1       0.94      0.95      0.94       152\n",
      "\n",
      "    accuracy                           0.90       163\n",
      "   macro avg       0.53      0.52      0.52       163\n",
      "weighted avg       0.88      0.90      0.89       163\n",
      "\n",
      "Predicted  0    1\n",
      "Actual           \n",
      "0          1   10\n",
      "1          7  145\n",
      "\n",
      "XGBoost Gradient Boosting\n",
      "              precision    recall  f1-score   support\n",
      "\n",
      "           0       0.88      0.05      0.09       153\n",
      "           1       0.06      0.90      0.11        10\n",
      "\n",
      "    accuracy                           0.10       163\n",
      "   macro avg       0.47      0.47      0.10       163\n",
      "weighted avg       0.82      0.10      0.09       163\n",
      "\n",
      "Predicted  0    1\n",
      "Actual           \n",
      "0          7  146\n",
      "1          1    9\n",
      "\n",
      "Random Forests\n",
      "              precision    recall  f1-score   support\n",
      "\n",
      "           0       0.75      0.04      0.08       151\n",
      "           1       0.06      0.83      0.12        12\n",
      "\n",
      "    accuracy                           0.10       163\n",
      "   macro avg       0.41      0.44      0.10       163\n",
      "weighted avg       0.70      0.10      0.08       163\n",
      "\n",
      "Predicted  0    1\n",
      "Actual           \n",
      "0          6  145\n",
      "1          2   10\n"
     ]
    }
   ],
   "source": [
    "print(\"SkLearn Gradient Boosting\")\n",
    "print(metrics.classification_report(gb_walking_model.predict(walking_X_test), \n",
    "                                    walking_y_test))\n",
    "print(pd.crosstab(gb_walking_model.predict(walking_X_test), \n",
    "            walking_y_test, \n",
    "            rownames = [\"Actual\"], \n",
    "            colnames = [\"Predicted\"]))\n",
    "\n",
    "print(\"\\nXGBoost Gradient Boosting\")\n",
    "print(metrics.classification_report(xgb_walking_model.predict(walking_X_test), \n",
    "                                    walking_y_test))\n",
    "print(pd.crosstab(xgb_walking_model.predict(walking_X_test), \n",
    "            walking_y_test, \n",
    "            rownames = [\"Actual\"], \n",
    "            colnames = [\"Predicted\"]))\n",
    "\n",
    "\n",
    "print(\"\\nRandom Forests\")\n",
    "print(metrics.classification_report(rf_walking_model.predict(walking_X_test), \n",
    "                                    walking_y_test))\n",
    "print(pd.crosstab(rf_walking_model.predict(walking_X_test), \n",
    "            walking_y_test, \n",
    "            rownames = [\"Actual\"], \n",
    "            colnames = [\"Predicted\"]))"
   ]
  },
  {
   "cell_type": "markdown",
   "metadata": {},
   "source": [
    "## Performance in Passive"
   ]
  },
  {
   "cell_type": "code",
   "execution_count": 62,
   "metadata": {},
   "outputs": [],
   "source": [
    "walking_y_test = passive_max_data[\"PD\"]\n",
    "walking_X_test = passive_max_data[cols]"
   ]
  },
  {
   "cell_type": "code",
   "execution_count": 63,
   "metadata": {},
   "outputs": [
    {
     "name": "stdout",
     "output_type": "stream",
     "text": [
      "gb_walking_model\n",
      "ROC-AUC on Test-Set: 0.4666666666666667\n",
      "log-loss: 6.90786950718645\n",
      "Precision: 0.8484848484848485\n",
      "Recall: 0.9333333333333333\n",
      "F1-Score: 0.888888888888889\n",
      "\n",
      "\n",
      "xgb_walking_model\n",
      "ROC-AUC on Test-Set: 0.5\n",
      "log-loss: 9.868313209680789\n",
      "Precision: 0.8571428571428571\n",
      "Recall: 0.8\n",
      "F1-Score: 0.8275862068965518\n",
      "\n",
      "\n",
      "rf_walking_model\n",
      "ROC-AUC on Test-Set: 0.4666666666666667\n",
      "log-loss: 11.841957575104257\n",
      "Precision: 0.8461538461538461\n",
      "Recall: 0.7333333333333333\n",
      "F1-Score: 0.7857142857142856\n",
      "\n",
      "\n",
      "lr_walking_model\n",
      "ROC-AUC on Test-Set: 0.5666666666666667\n",
      "log-loss: 15.789200614669465\n",
      "Precision: 0.8888888888888888\n",
      "Recall: 0.5333333333333333\n",
      "F1-Score: 0.6666666666666667\n",
      "\n",
      "\n"
     ]
    }
   ],
   "source": [
    "for model in [\"gb_walking_model\", \"xgb_walking_model\", \n",
    "              \"rf_walking_model\", \"lr_walking_model\"]:\n",
    "    print_performance(model, walking_X_test, walking_y_test)"
   ]
  },
  {
   "cell_type": "code",
   "execution_count": 64,
   "metadata": {},
   "outputs": [
    {
     "name": "stdout",
     "output_type": "stream",
     "text": [
      "SkLearn Gradient Boosting\n",
      "              precision    recall  f1-score   support\n",
      "\n",
      "           0       0.00      0.00      0.00         2\n",
      "           1       0.93      0.85      0.89        33\n",
      "\n",
      "    accuracy                           0.80        35\n",
      "   macro avg       0.47      0.42      0.44        35\n",
      "weighted avg       0.88      0.80      0.84        35\n",
      "\n",
      "Predicted  0   1\n",
      "Actual          \n",
      "0          0   2\n",
      "1          5  28\n",
      "\n",
      "XGBoost Gradient Boosting\n",
      "              precision    recall  f1-score   support\n",
      "\n",
      "           0       0.20      0.14      0.17         7\n",
      "           1       0.80      0.86      0.83        28\n",
      "\n",
      "    accuracy                           0.71        35\n",
      "   macro avg       0.50      0.50      0.50        35\n",
      "weighted avg       0.68      0.71      0.70        35\n",
      "\n",
      "Predicted  0   1\n",
      "Actual          \n",
      "0          1   6\n",
      "1          4  24\n",
      "\n",
      "Random Forests\n",
      "              precision    recall  f1-score   support\n",
      "\n",
      "           0       0.20      0.11      0.14         9\n",
      "           1       0.73      0.85      0.79        26\n",
      "\n",
      "    accuracy                           0.66        35\n",
      "   macro avg       0.47      0.48      0.46        35\n",
      "weighted avg       0.60      0.66      0.62        35\n",
      "\n",
      "Predicted  0   1\n",
      "Actual          \n",
      "0          1   8\n",
      "1          4  22\n"
     ]
    }
   ],
   "source": [
    "print(\"SkLearn Gradient Boosting\")\n",
    "print(metrics.classification_report(gb_walking_model.predict(walking_X_test), \n",
    "                                    walking_y_test))\n",
    "print(pd.crosstab(gb_walking_model.predict(walking_X_test), \n",
    "            walking_y_test, \n",
    "            rownames = [\"Actual\"], \n",
    "            colnames = [\"Predicted\"]))\n",
    "\n",
    "print(\"\\nXGBoost Gradient Boosting\")\n",
    "print(metrics.classification_report(xgb_walking_model.predict(walking_X_test), \n",
    "                                    walking_y_test))\n",
    "print(pd.crosstab(xgb_walking_model.predict(walking_X_test), \n",
    "            walking_y_test, \n",
    "            rownames = [\"Actual\"], \n",
    "            colnames = [\"Predicted\"]))\n",
    "\n",
    "\n",
    "print(\"\\nRandom Forests\")\n",
    "print(metrics.classification_report(rf_walking_model.predict(walking_X_test), \n",
    "                                    walking_y_test))\n",
    "print(pd.crosstab(rf_walking_model.predict(walking_X_test), \n",
    "            walking_y_test, \n",
    "            rownames = [\"Actual\"], \n",
    "            colnames = [\"Predicted\"]))"
   ]
  }
 ],
 "metadata": {
  "kernelspec": {
   "display_name": "synapse",
   "language": "python",
   "name": "synapse"
  },
  "language_info": {
   "codemirror_mode": {
    "name": "ipython",
    "version": 3
   },
   "file_extension": ".py",
   "mimetype": "text/x-python",
   "name": "python",
   "nbconvert_exporter": "python",
   "pygments_lexer": "ipython3",
   "version": "3.7.0"
  }
 },
 "nbformat": 4,
 "nbformat_minor": 2
}
