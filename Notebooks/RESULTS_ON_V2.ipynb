{
 "cells": [
  {
   "cell_type": "code",
   "execution_count": 1,
   "metadata": {},
   "outputs": [
    {
     "name": "stderr",
     "output_type": "stream",
     "text": [
      "C:\\Users\\atedi\\OneDrive\\Documents\\SageBionetworks\\synapse\\lib\\site-packages\\sklearn\\externals\\joblib\\__init__.py:15: DeprecationWarning: sklearn.externals.joblib is deprecated in 0.21 and will be removed in 0.23. Please import this functionality directly from joblib, which can be installed with: pip install joblib. If this warning is raised when loading pickled models, you may need to re-serialize those models with scikit-learn 0.21+.\n",
      "  warnings.warn(msg, category=DeprecationWarning)\n"
     ]
    }
   ],
   "source": [
    "import pickle\n",
    "from sklearn.externals import joblib \n",
    "import warnings\n",
    "warnings.simplefilter(\"ignore\")\n",
    "import synapseclient as sc\n",
    "import pandas as pd\n",
    "import numpy as np\n",
    "from datetime import datetime\n",
    "from sklearn.metrics import classification_report, confusion_matrix\n",
    "from sklearn import metrics\n",
    "np.random.seed(100)"
   ]
  },
  {
   "cell_type": "code",
   "execution_count": 92,
   "metadata": {},
   "outputs": [],
   "source": [
    "def rename_column_name(data):\n",
    "    for feature in filter(lambda x: \"userAccel\" in x, data.columns): \n",
    "        data  = data.rename({feature: \"max_{}\"\\\n",
    "                            .format(feature)}, axis = 1)\n",
    "    return data"
   ]
  },
  {
   "cell_type": "code",
   "execution_count": 164,
   "metadata": {},
   "outputs": [],
   "source": [
    "selected_columns = ['max_userAccel_x.no_of_steps', 'max_userAccel_x.frequency_of_peaks',\n",
    "       'max_userAccel_x.max_freeze_index', 'max_userAccel_x.freeze_occurences',\n",
    "       'max_userAccel_y.no_of_steps', 'max_userAccel_y.frequency_of_peaks',\n",
    "       'max_userAccel_y.max_freeze_index', 'max_userAccel_y.freeze_occurences',\n",
    "       'max_userAccel_z.no_of_steps', 'max_userAccel_z.frequency_of_peaks',\n",
    "       'max_userAccel_z.max_freeze_index', 'max_userAccel_z.freeze_occurences',\n",
    "       'max_userAccel_AA.frequency_of_peaks',\n",
    "       'max_userAccel_AA.max_freeze_index',\n",
    "       'max_userAccel_AA.freeze_occurences', \"PD\"]"
   ]
  },
  {
   "cell_type": "code",
   "execution_count": 264,
   "metadata": {},
   "outputs": [
    {
     "name": "stdout",
     "output_type": "stream",
     "text": [
      "Welcome, aryton tediarjo!\n",
      "\n"
     ]
    }
   ],
   "source": [
    "syn = sc.login()\n",
    "\n",
    "active_entity = syn.get(\"syn21027487\")\n",
    "active_data   = pd.read_csv(active_entity[\"path\"], index_col = 0)\n",
    "active_max_data = active_data.groupby(\"healthCode\").max()\n",
    "active_max_data = rename_column_name(active_max_data).dropna().drop([\"gender\"], axis = 1)\n",
    "grouped  = active_data[[\"healthCode\", \"recordId\"]].groupby(\"healthCode\").count()[\"recordId\"] > 5\n",
    "active_max_data = active_max_data[active_max_data.index.isin(grouped[grouped].index)]\n",
    "\n",
    "passive_entity = syn.get(\"syn21036367\")\n",
    "passive_data   = pd.read_csv(passive_entity[\"path\"], index_col = 0)\n",
    "passive_max_data = passive_data.groupby(\"healthCode\").max()\n",
    "passive_max_data = rename_column_name(passive_max_data).dropna().drop([\"gender\"], axis = 1)\n",
    "grouped  = passive_data[[\"healthCode\", \"recordId\"]].groupby(\"healthCode\").count()[\"recordId\"] > 5\n",
    "passive_max_data = passive_max_data[passive_max_data.index.isin(grouped[grouped].index)]"
   ]
  },
  {
   "cell_type": "code",
   "execution_count": 267,
   "metadata": {},
   "outputs": [],
   "source": [
    "gb_walking_model = joblib.load('../Models/{}.pkl'.format(\"refitted_gb\"))\n",
    "xgb_walking_model = joblib.load('../Models/{}.pkl'.format(\"refitted_xgb\"))\n",
    "rf_walking_model = joblib.load('../Models/{}.pkl'.format(\"refitted_rf\"))\n",
    "lr_walking_model = joblib.load('../Models/{}.pkl'.format(\"refitted_lr\"))"
   ]
  },
  {
   "cell_type": "code",
   "execution_count": 269,
   "metadata": {},
   "outputs": [],
   "source": [
    "active_max_data[selected_columns].to_csv(\"../Data/MAX_WALKING_TRAINING_DATA_V2.csv\")\n",
    "passive_max_data[selected_columns].to_csv(\"../Data/MAX_WALKING_TRAINING_DATA_PASSIVE.csv\")"
   ]
  },
  {
   "cell_type": "code",
   "execution_count": 216,
   "metadata": {},
   "outputs": [],
   "source": [
    "def print_performance(model, walking_X_test, walking_y_test):\n",
    "    print(model)\n",
    "    pipeline = globals()[model]\n",
    "    y_true, y_pred = walking_y_test, pipeline.predict(walking_X_test)\n",
    "    print(\"ROC-AUC on Test-Set: {}\".format(metrics.roc_auc_score(y_true, y_pred)))\n",
    "    print(\"log-loss: {}\".format(metrics.log_loss(y_true, y_pred)))\n",
    "    print(\"Precision: {}\".format(metrics.precision_score(y_true, y_pred)))\n",
    "    print(\"Recall: {}\".format(metrics.recall_score(y_true, y_pred)))\n",
    "    print(\"F1-Score: {}\".format(metrics.f1_score(y_true, y_pred)))\n",
    "    print(\"\\n\")"
   ]
  },
  {
   "cell_type": "markdown",
   "metadata": {},
   "source": [
    "# Performance in Active"
   ]
  },
  {
   "cell_type": "code",
   "execution_count": 217,
   "metadata": {},
   "outputs": [],
   "source": [
    "walking_y_test = active_max_data[\"PD\"]\n",
    "walking_X_test = active_max_data[selected_columns].drop([\"PD\"], axis = 1)"
   ]
  },
  {
   "cell_type": "code",
   "execution_count": 218,
   "metadata": {},
   "outputs": [
    {
     "name": "stdout",
     "output_type": "stream",
     "text": [
      "gb_walking_model\n",
      "ROC-AUC on Test-Set: 0.6365606270170585\n",
      "log-loss: 9.057435735521665\n",
      "Precision: 0.8915094339622641\n",
      "Recall: 0.7842323651452282\n",
      "F1-Score: 0.8344370860927152\n",
      "\n",
      "\n",
      "xgb_walking_model\n",
      "ROC-AUC on Test-Set: 0.48045182111572154\n",
      "log-loss: 28.13824509931437\n",
      "Precision: 0.75\n",
      "Recall: 0.04979253112033195\n",
      "F1-Score: 0.09338521400778209\n",
      "\n",
      "\n",
      "rf_walking_model\n",
      "ROC-AUC on Test-Set: 0.4734900875979714\n",
      "log-loss: 28.017482942679827\n",
      "Precision: 0.7368421052631579\n",
      "Recall: 0.058091286307053944\n",
      "F1-Score: 0.10769230769230768\n",
      "\n",
      "\n",
      "lr_walking_model\n",
      "ROC-AUC on Test-Set: 0.5096357768556938\n",
      "log-loss: 28.017471759498985\n",
      "Precision: 0.9090909090909091\n",
      "Recall: 0.04149377593360996\n",
      "F1-Score: 0.07936507936507936\n",
      "\n",
      "\n"
     ]
    }
   ],
   "source": [
    "for model in [\"gb_walking_model\", \"xgb_walking_model\", \n",
    "              \"rf_walking_model\", \"lr_walking_model\"]:\n",
    "    print_performance(model, walking_X_test, walking_y_test)"
   ]
  },
  {
   "cell_type": "code",
   "execution_count": 219,
   "metadata": {},
   "outputs": [
    {
     "name": "stdout",
     "output_type": "stream",
     "text": [
      "SkLearn Gradient Boosting\n",
      "              precision    recall  f1-score   support\n",
      "\n",
      "           0       0.49      0.30      0.37        74\n",
      "           1       0.78      0.89      0.83       212\n",
      "\n",
      "    accuracy                           0.74       286\n",
      "   macro avg       0.64      0.59      0.60       286\n",
      "weighted avg       0.71      0.74      0.71       286\n",
      "\n",
      "Predicted   0    1\n",
      "Actual            \n",
      "0          22   52\n",
      "1          23  189\n",
      "\n",
      "XGBoost Gradient Boosting\n",
      "              precision    recall  f1-score   support\n",
      "\n",
      "           0       0.91      0.15      0.26       270\n",
      "           1       0.05      0.75      0.09        16\n",
      "\n",
      "    accuracy                           0.19       286\n",
      "   macro avg       0.48      0.45      0.18       286\n",
      "weighted avg       0.86      0.19      0.25       286\n",
      "\n",
      "Predicted   0    1\n",
      "Actual            \n",
      "0          41  229\n",
      "1           4   12\n",
      "\n",
      "Random Forests\n",
      "              precision    recall  f1-score   support\n",
      "\n",
      "           0       0.89      0.15      0.26       267\n",
      "           1       0.06      0.74      0.11        19\n",
      "\n",
      "    accuracy                           0.19       286\n",
      "   macro avg       0.47      0.44      0.18       286\n",
      "weighted avg       0.83      0.19      0.25       286\n",
      "\n",
      "Predicted   0    1\n",
      "Actual            \n",
      "0          40  227\n",
      "1           5   14\n"
     ]
    }
   ],
   "source": [
    "print(\"SkLearn Gradient Boosting\")\n",
    "print(metrics.classification_report(gb_walking_model.predict(walking_X_test), \n",
    "                                    walking_y_test))\n",
    "print(pd.crosstab(gb_walking_model.predict(walking_X_test), \n",
    "            walking_y_test, \n",
    "            rownames = [\"Actual\"], \n",
    "            colnames = [\"Predicted\"]))\n",
    "\n",
    "print(\"\\nXGBoost Gradient Boosting\")\n",
    "print(metrics.classification_report(xgb_walking_model.predict(walking_X_test), \n",
    "                                    walking_y_test))\n",
    "print(pd.crosstab(xgb_walking_model.predict(walking_X_test), \n",
    "            walking_y_test, \n",
    "            rownames = [\"Actual\"], \n",
    "            colnames = [\"Predicted\"]))\n",
    "\n",
    "\n",
    "print(\"\\nRandom Forests\")\n",
    "print(metrics.classification_report(rf_walking_model.predict(walking_X_test), \n",
    "                                    walking_y_test))\n",
    "print(pd.crosstab(rf_walking_model.predict(walking_X_test), \n",
    "            walking_y_test, \n",
    "            rownames = [\"Actual\"], \n",
    "            colnames = [\"Predicted\"]))"
   ]
  },
  {
   "cell_type": "markdown",
   "metadata": {},
   "source": [
    "## Performance in Passive"
   ]
  },
  {
   "cell_type": "code",
   "execution_count": 220,
   "metadata": {},
   "outputs": [],
   "source": [
    "walking_y_test = passive_max_data[\"PD\"]\n",
    "walking_X_test = passive_max_data[selected_columns].drop([\"PD\"], axis = 1)"
   ]
  },
  {
   "cell_type": "code",
   "execution_count": 221,
   "metadata": {},
   "outputs": [
    {
     "name": "stdout",
     "output_type": "stream",
     "text": [
      "gb_walking_model\n",
      "ROC-AUC on Test-Set: 0.5943152454780362\n",
      "log-loss: 10.627392698186961\n",
      "Precision: 0.8648648648648649\n",
      "Recall: 0.7441860465116279\n",
      "F1-Score: 0.8\n",
      "\n",
      "\n",
      "xgb_walking_model\n",
      "ROC-AUC on Test-Set: 0.6240310077519382\n",
      "log-loss: 13.94839813625798\n",
      "Precision: 0.8928571428571429\n",
      "Recall: 0.5813953488372093\n",
      "F1-Score: 0.7042253521126761\n",
      "\n",
      "\n",
      "rf_walking_model\n",
      "ROC-AUC on Test-Set: 0.5568475452196383\n",
      "log-loss: 15.276827989858969\n",
      "Precision: 0.8571428571428571\n",
      "Recall: 0.5581395348837209\n",
      "F1-Score: 0.676056338028169\n",
      "\n",
      "\n",
      "lr_walking_model\n",
      "ROC-AUC on Test-Set: 0.5839793281653747\n",
      "log-loss: 21.254647004511\n",
      "Precision: 0.9230769230769231\n",
      "Recall: 0.27906976744186046\n",
      "F1-Score: 0.42857142857142855\n",
      "\n",
      "\n"
     ]
    }
   ],
   "source": [
    "for model in [\"gb_walking_model\", \"xgb_walking_model\", \n",
    "              \"rf_walking_model\", \"lr_walking_model\"]:\n",
    "    print_performance(model, walking_X_test, walking_y_test)"
   ]
  },
  {
   "cell_type": "code",
   "execution_count": 222,
   "metadata": {},
   "outputs": [
    {
     "name": "stdout",
     "output_type": "stream",
     "text": [
      "SkLearn Gradient Boosting\n",
      "              precision    recall  f1-score   support\n",
      "\n",
      "           0       0.44      0.27      0.33        15\n",
      "           1       0.74      0.86      0.80        37\n",
      "\n",
      "    accuracy                           0.69        52\n",
      "   macro avg       0.59      0.57      0.57        52\n",
      "weighted avg       0.66      0.69      0.67        52\n",
      "\n",
      "Predicted  0   1\n",
      "Actual          \n",
      "0          4  11\n",
      "1          5  32\n",
      "\n",
      "XGBoost Gradient Boosting\n",
      "              precision    recall  f1-score   support\n",
      "\n",
      "           0       0.67      0.25      0.36        24\n",
      "           1       0.58      0.89      0.70        28\n",
      "\n",
      "    accuracy                           0.60        52\n",
      "   macro avg       0.62      0.57      0.53        52\n",
      "weighted avg       0.62      0.60      0.55        52\n",
      "\n",
      "Predicted  0   1\n",
      "Actual          \n",
      "0          6  18\n",
      "1          3  25\n",
      "\n",
      "Random Forests\n",
      "              precision    recall  f1-score   support\n",
      "\n",
      "           0       0.56      0.21      0.30        24\n",
      "           1       0.56      0.86      0.68        28\n",
      "\n",
      "    accuracy                           0.56        52\n",
      "   macro avg       0.56      0.53      0.49        52\n",
      "weighted avg       0.56      0.56      0.50        52\n",
      "\n",
      "Predicted  0   1\n",
      "Actual          \n",
      "0          5  19\n",
      "1          4  24\n"
     ]
    }
   ],
   "source": [
    "print(\"SkLearn Gradient Boosting\")\n",
    "print(metrics.classification_report(gb_walking_model.predict(walking_X_test), \n",
    "                                    walking_y_test))\n",
    "print(pd.crosstab(gb_walking_model.predict(walking_X_test), \n",
    "            walking_y_test, \n",
    "            rownames = [\"Actual\"], \n",
    "            colnames = [\"Predicted\"]))\n",
    "\n",
    "print(\"\\nXGBoost Gradient Boosting\")\n",
    "print(metrics.classification_report(xgb_walking_model.predict(walking_X_test), \n",
    "                                    walking_y_test))\n",
    "print(pd.crosstab(xgb_walking_model.predict(walking_X_test), \n",
    "            walking_y_test, \n",
    "            rownames = [\"Actual\"], \n",
    "            colnames = [\"Predicted\"]))\n",
    "\n",
    "\n",
    "print(\"\\nRandom Forests\")\n",
    "print(metrics.classification_report(rf_walking_model.predict(walking_X_test), \n",
    "                                    walking_y_test))\n",
    "print(pd.crosstab(rf_walking_model.predict(walking_X_test), \n",
    "            walking_y_test, \n",
    "            rownames = [\"Actual\"], \n",
    "            colnames = [\"Predicted\"]))"
   ]
  },
  {
   "cell_type": "code",
   "execution_count": null,
   "metadata": {},
   "outputs": [],
   "source": []
  }
 ],
 "metadata": {
  "kernelspec": {
   "display_name": "synapse",
   "language": "python",
   "name": "synapse"
  },
  "language_info": {
   "codemirror_mode": {
    "name": "ipython",
    "version": 3
   },
   "file_extension": ".py",
   "mimetype": "text/x-python",
   "name": "python",
   "nbconvert_exporter": "python",
   "pygments_lexer": "ipython3",
   "version": "3.7.0"
  }
 },
 "nbformat": 4,
 "nbformat_minor": 2
}
