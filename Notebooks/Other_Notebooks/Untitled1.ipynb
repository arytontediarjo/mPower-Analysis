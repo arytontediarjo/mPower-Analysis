{
 "cells": [
  {
   "cell_type": "code",
   "execution_count": 29,
   "metadata": {},
   "outputs": [
    {
     "name": "stdout",
     "output_type": "stream",
     "text": [
      "Welcome, aryton tediarjo!\n",
      "\n"
     ]
    }
   ],
   "source": [
    "import os\n",
    "import sys\n",
    "import pandas as pd\n",
    "import numpy as np\n",
    "sys.path.append(\"../../src\")\n",
    "import synapseclient as sc\n",
    "syn = sc.login()\n",
    "import utils.query_utils as query\n",
    "import utils.preprocessing_utils as process\n",
    "from sklearn.decomposition import PCA\n",
    "from sklearn.linear_model import LogisticRegression\n",
    "from sklearn.ensemble import RandomForestClassifier, GradientBoostingClassifier, ExtraTreesClassifier\n",
    "from sklearn.model_selection import train_test_split\n",
    "from sklearn.metrics import classification_report, confusion_matrix\n",
    "import synapseclient as sc\n",
    "import pandas as pd\n",
    "import numpy as np\n",
    "from sklearn.preprocessing import StandardScaler, MinMaxScaler\n",
    "from sklearn.manifold import TSNE\n",
    "import matplotlib.pyplot as plt\n",
    "import seaborn as sns\n",
    "from scipy.stats import ttest_ind\n",
    "import scipy.stats as stats\n",
    "from pymatch.Matcher import Matcher\n",
    "from sklearn.metrics.pairwise import cosine_similarity\n",
    "from sklearn.preprocessing import MinMaxScaler\n",
    "from sklearn.neighbors import NearestNeighbors\n",
    "\n",
    "from sklearn.preprocessing import StandardScaler, MinMaxScaler\n",
    "from sklearn.manifold import TSNE\n",
    "import matplotlib.pyplot as plt\n",
    "import seaborn as sns\n",
    "from scipy.stats import ttest_ind\n",
    "import scipy.stats as stats\n",
    "from pymatch.Matcher import Matcher\n",
    "from sklearn.metrics.pairwise import cosine_similarity\n",
    "from sklearn.preprocessing import MinMaxScaler\n",
    "from sklearn.neighbors import NearestNeighbors\n"
   ]
  },
  {
   "cell_type": "code",
   "execution_count": 42,
   "metadata": {},
   "outputs": [],
   "source": [
    "nn_matched = query.get_file_entity(syn, \"syn21435058\")\n",
    "exact_matched = query.get_file_entity(syn, \"syn21435062\")"
   ]
  },
  {
   "cell_type": "code",
   "execution_count": 23,
   "metadata": {},
   "outputs": [],
   "source": [
    "def print_pvals_ftest(data, group):\n",
    "    metadata_df = OHE_data(data)[0]\n",
    "    OHE_cols = OHE_data(data)[1]\n",
    "    return QaD_correlation(metadata_df[group], metadata_df[OHE_cols])\n",
    "\n",
    "\n",
    "def OHE_data(data):\n",
    "    \"\"\"\n",
    "    Function to one-hot encode the metadata\n",
    "    it will encode factorial and categorical variables (phonetype, gender and versions)\n",
    "    returns the encoded dataset, and the result of the encoded columns\n",
    "    \"\"\"\n",
    "    metadata_df = data\n",
    "    metadata_cols = [feat for feat in metadata_df.columns if (\".\" not in feat) and (\"healthCode\" not in feat)]\n",
    "    # metadata_df = pd.concat([metadata_df, pd.get_dummies(metadata_df[\"version\"])], axis = 1) \n",
    "    metadata_df = pd.concat([metadata_df, pd.get_dummies(metadata_df[\"phone_type\"], \n",
    "                                                         prefix = \"OHE_is\")], axis = 1) \n",
    "    metadata_df = pd.concat([metadata_df, pd.get_dummies(metadata_df[\"gender\"], \n",
    "                                                         drop_first = True, \n",
    "                                                         prefix = \"OHE_is\")], axis = 1)\n",
    "    metadata_df = pd.concat([metadata_df, pd.get_dummies(metadata_df[\"version\"], \n",
    "                                                         drop_first = True, \n",
    "                                                         prefix = \"OHE_is\")], axis = 1)\n",
    "    OHE_meta_cols = [feat for feat in metadata_df.columns if (\"OHE\" in feat) or (\"age\" in feat) or (\"PD\" in feat)]\n",
    "    return metadata_df, OHE_meta_cols\n",
    "\n",
    "\n",
    "\n",
    "def PCA_plotter(data, feat_cols, \n",
    "                metadata_cols, target):\n",
    "    \n",
    "    \"\"\"\n",
    "    Function to implement PCA with 2 components, \n",
    "    then separate them with a target hue variable to see differences\n",
    "\n",
    "    returns PCA-1 vs PCA-2 plots of metadata and walking features \n",
    "    separated by its groups (PD, version)\n",
    "    \"\"\"   \n",
    "    scaler = StandardScaler()\n",
    "    X_feat = data[feat_cols]\n",
    "    X_metadata = data[metadata_cols]\n",
    "    y = data[[\"version\", \"healthCode\", \"PD\"]]\n",
    "    \n",
    "    lr = LogisticRegression(random_state = 100)\n",
    "    gb = GradientBoostingClassifier(random_state = 100)\n",
    "    X_train, X_test, y_train, y_test = train_test_split(X_feat, y[target],\n",
    "                                                        test_size = 0.2,\n",
    "                                                        random_state = 100)\n",
    "    \n",
    "    gb.fit(X_train, y_train)\n",
    "    \n",
    "    print(\"#################### ASSESSMENT ON %s ################\\n\" %target)\n",
    "    print(classification_report(gb.predict(X_test), y_test))\n",
    "    \n",
    "    \n",
    "    fig, axes = plt.subplots(nrows = 1, ncols = 2, figsize=(15,5))\n",
    "    \n",
    "    #Plotting the Cumulative Summation of the Explained Variance\n",
    "    X_scaled = scaler.fit_transform(X_feat)\n",
    "    pca = PCA().fit(X_scaled)\n",
    "    pca = PCA(n_components = 3)\n",
    "    principal_comp = pca.fit_transform(X_scaled)\n",
    "    principal_df = pd.DataFrame(data = principal_comp)\n",
    "    principal_df = pd.concat([principal_df, y], axis = 1)\n",
    "    \n",
    "    sns.scatterplot(principal_df[0], principal_df[1], \n",
    "                    hue = principal_df[target], ax = axes[0])\n",
    "    axes[0].set_title(\"PCA plot on Walking Features\")\n",
    "    axes[0].set_ylabel(\"PC2\")\n",
    "    axes[0].set_xlabel(\"PC1\")\n",
    "    axes[0].grid()\n",
    "    \n",
    "    \n",
    "    #Plotting the Cumulative Summation of the Explained Variance\n",
    "    X_scaled = scaler.fit_transform(X_metadata)\n",
    "    pca = PCA().fit(X_scaled)\n",
    "    pca = PCA(n_components = 3)\n",
    "    principal_comp = pca.fit_transform(X_scaled)\n",
    "    principal_df = pd.DataFrame(data = principal_comp)\n",
    "    principal_df = pd.concat([principal_df, y], axis = 1)\n",
    "    \n",
    "    sns.scatterplot(principal_df[0], principal_df[1], \n",
    "                    hue = principal_df[target], ax = axes[1])\n",
    "    axes[1].set_title(\"PCA plot on metadata\")\n",
    "    axes[1].set_ylabel(\"PC2\")\n",
    "    axes[1].set_xlabel(\"PC1\")\n",
    "    axes[1].grid()\n",
    "    plt.legend(bbox_to_anchor=(0, 1), loc='upper left', ncol=1)\n",
    "    plt.show()"
   ]
  },
  {
   "cell_type": "code",
   "execution_count": 64,
   "metadata": {},
   "outputs": [],
   "source": [
    "def PCA_plot(target, data):\n",
    "    \n",
    "    X_feat = data[[\"age\", \"nrecords\", \"iPhone 4S\", \"iPhone 5\",\n",
    "            \"iPhone 6\", \"iPhone 6+\", \"iPhone 6S\", \"iPhone 6S+\",\n",
    "            \"iPhone 7\", \"iPhone 7+\", \"iPhone 8\",\"iPhone 8+\",\n",
    "            \"iPhone SE\", \"iPhone X\"]].reset_index(drop = True)\n",
    "    \n",
    "    target_df = data[target].reset_index(drop = True)\n",
    "    \n",
    "    scaler = StandardScaler()\n",
    "    X_scaled = scaler.fit_transform(X_feat)\n",
    "    pca = PCA().fit(X_scaled)\n",
    "    pca = PCA(n_components = 3)\n",
    "    principal_comp = pca.fit_transform(X_scaled)\n",
    "    principal_df = pd.DataFrame(data = principal_comp)\n",
    "    principal_df = pd.concat([principal_df, target_df], axis = 1)  \n",
    "    sns.scatterplot(principal_df[0], principal_df[1], \n",
    "                hue = principal_df[target])\n",
    "    plt.title(\"PCA plot on Walking Features\")\n",
    "    plt.ylabel(\"PC2\")\n",
    "    plt.xlabel(\"PC1\")\n",
    "    plt.grid()\n",
    "    plt.show()"
   ]
  },
  {
   "cell_type": "code",
   "execution_count": 66,
   "metadata": {},
   "outputs": [
    {
     "data": {
      "image/png": "[encoded data removed]",
      "text/plain": [
       "<Figure size 432x288 with 1 Axes>"
      ]
     },
     "metadata": {
      "needs_background": "light"
     },
     "output_type": "display_data"
    }
   ],
   "source": [
    "PCA_plot(\"PD\", nn_matched)"
   ]
  },
  {
   "cell_type": "code",
   "execution_count": null,
   "metadata": {},
   "outputs": [],
   "source": []
  }
 ],
 "metadata": {
  "kernelspec": {
   "display_name": "synapse_venv",
   "language": "python",
   "name": "synapse_venv"
  },
  "language_info": {
   "codemirror_mode": {
    "name": "ipython",
    "version": 3
   },
   "file_extension": ".py",
   "mimetype": "text/x-python",
   "name": "python",
   "nbconvert_exporter": "python",
   "pygments_lexer": "ipython3",
   "version": "3.7.4"
  }
 },
 "nbformat": 4,
 "nbformat_minor": 4
}
