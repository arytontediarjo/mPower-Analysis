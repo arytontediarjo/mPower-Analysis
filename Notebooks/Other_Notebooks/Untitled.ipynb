{
 "cells": [
  {
   "cell_type": "code",
   "execution_count": 15,
   "metadata": {},
   "outputs": [
    {
     "name": "stdout",
     "output_type": "stream",
     "text": [
      "Welcome, aryton tediarjo!\n",
      "\n"
     ]
    }
   ],
   "source": [
    "import pandas as pd\n",
    "import synapseclient as sc\n",
    "import time\n",
    "import sys\n",
    "sys.path.append(\"../../src\")\n",
    "from utils.munging_utils import get_file_entity, fix_column_name, save_data_to_synapse\n",
    "from utils.preprocessing_utils import preprocess, addAdditionalFeatures_viz, collapseFeatures\n",
    "from datetime import datetime\n",
    "import numpy as np\n",
    "import warnings\n",
    "warnings.simplefilter(\"ignore\")\n",
    "\n",
    "\n",
    "### CONSTANTS ###\n",
    "MPOWER_GAIT_DATA_V1 = \"syn21111818\"\n",
    "MPOWER_DEMO_DATA_V1 = \"syn10371840\"\n",
    "MPOWER_GAIT_DATA_V2 = \"syn21113231\"\n",
    "MPOWER_DEMO_DATA_V2 = \"syn15673379\"\n",
    "MPOWER_GAIT_DATA_PASSIVE = \"syn21114136\"\n",
    "EMS_PROF_DATA = \"syn10235463\"\n",
    "EMS_DEMO_DATA = \"syn10295288\"\n",
    "EMS_GAIT_DATA = \"syn21256442\"\n",
    "METADATA_COLS  = ['recordId', 'healthCode', 'appVersion', \n",
    "                    'phoneInfo', 'createdOn', 'PD', 'MS',\n",
    "                    'gender', 'age', 'version']\n",
    "GIT_URL = \"https://github.com/arytontediarjo/mPower-Analysis/blob/master/src/clean.py\"\n",
    "\n",
    "syn = sc.login()\n",
    "\n",
    "def _create_mPowerV1_interim_gait_data(GAIT_DATA, DEMO_DATA):\n",
    "    \"\"\"\n",
    "    Function to format mpower version 1 data,\n",
    "    list of formatting done:\n",
    "        -> Clean table from test users\n",
    "        -> Combine raw data with demographic table\n",
    "        -> Fix column naming convention\n",
    "        -> Map diagnosis to binary values\n",
    "        -> Clean data that is below the range of 0-100\n",
    "        -> Filter gender to male and female\n",
    "    Parameters:\n",
    "    GAIT_DATA = Takes in raw featurized gait data on version 1 (synapse file entity)\n",
    "    DEMO_DATA = Takes in demographic data (synapse table entity)\n",
    "\n",
    "    returns a formatized dataset of featurized gait data with its respective demographic data\n",
    "    \"\"\"\n",
    "    demo_data = syn.tableQuery(\"SELECT * FROM {} where dataGroups\\\n",
    "                               NOT LIKE '%test_user%'\".format(DEMO_DATA)).asDataFrame()\n",
    "    gait_data = get_file_entity(GAIT_DATA)\n",
    "    demo_data = demo_data[[\"healthCode\", \"gender\", \"age\",\n",
    "                           \"professional_diagnosis\", \"inferred_diagnosis\"]].reset_index(drop = True)\n",
    "    data = pd.merge(gait_data, demo_data, on = \"healthCode\", how = \"inner\")\n",
    "    data_return   = data[[feature for feature in data.columns if \"outbound\" not in feature]]\n",
    "    data_outbound = data[[feature for feature in data.columns if \"return\" not in feature]]\n",
    "    data = pd.concat([fix_column_name(data_outbound), fix_column_name(data_return)])\n",
    "    data = data.dropna(subset = [\"inferred_diagnosis\"], thresh = 1)\n",
    "    data[\"PD\"] = data[\"inferred_diagnosis\"].map({True :1.0, False:0.0})\n",
    "    data = data[(data[\"gender\"] == \"Female\") | (data[\"gender\"] == \"Male\")]\n",
    "    data[\"age\"] = data[\"age\"].apply(lambda x: float(x))\n",
    "    data = data[(data[\"age\"] <= 100) & (data[\"age\"] >= 0)]\n",
    "    data[\"gender\"] = data[\"gender\"].apply(lambda x: x.lower())\n",
    "    data = fix_column_name(data)\n",
    "    data = data.reset_index(drop = True)\n",
    "    data = data[[feat for feat in data.columns if (\".\" in feat) or (feat in METADATA_COLS)]]\n",
    "    return data\n",
    "\n",
    "\n",
    "def _create_mPowerV2_interim_gait_data(GAIT_DATA, DEMO_DATA):\n",
    "    \"\"\"\n",
    "    Function to format mpower version 2 data,\n",
    "    list of formatting done:\n",
    "        -> Clean table from test users\n",
    "        -> Combine raw data with demographic table\n",
    "        -> Fix column naming convention\n",
    "        -> Map diagnosis to binary values\n",
    "        -> Clean data that is below the range of 0-100\n",
    "        -> Filter gender to male and female\n",
    "    Parameters:\n",
    "    GAIT_DATA = Takes in raw featurized gait data on version 2(synapse file entity)\n",
    "    DEMO_DATA = Takes in demographic data (synapse table entity)\n",
    "\n",
    "    returns a formatized dataset of featurized gait data with its respective demographic data\n",
    "    \"\"\"\n",
    "    demo_data = syn.tableQuery(\"SELECT birthYear, healthCode, diagnosis, sex FROM {} \\\n",
    "                                where dataGroups NOT LIKE '%test_user%'\".format(DEMO_DATA)).asDataFrame()\n",
    "    gait_data = get_file_entity(GAIT_DATA)\n",
    "    data   = pd.merge(gait_data, demo_data, how = \"inner\", on = \"healthCode\")\n",
    "    data   = data[data[\"diagnosis\"] != \"no_answer\"] \n",
    "    data[\"PD\"] = data[\"diagnosis\"].map({\"parkinsons\":1, \"control\":0})\n",
    "    data[\"age\"] = data[\"birthYear\"].apply(lambda year: datetime.now().year - year)\n",
    "    data = data.rename({\"sex\":\"gender\"}, axis = 1)\n",
    "    data = fix_column_name(data)\n",
    "    data = data.reset_index(drop = True)\n",
    "    data = data[[feat for feat in data.columns if (\".\" in feat) or (feat in METADATA_COLS)]]\n",
    "    return data\n",
    "\n",
    "def _create_elevateMS_interim_gait_data(GAIT_DATA, DEMO_DATA):\n",
    "    \"\"\"\n",
    "    Function to format EMS data,\n",
    "    list of formatting done:\n",
    "        -> Clean table from test users\n",
    "        -> Combine raw data with demographic table\n",
    "        -> Fix column naming convention\n",
    "        -> Map diagnosis to binary values\n",
    "    Parameters:\n",
    "    GAIT_DATA = Takes in raw featurized gait data on EMS (synapse file entity)\n",
    "    DEMO_DATA = Takes in demographic data (synapse table entity)\n",
    "\n",
    "    returns a formatized dataset of featurized gait data with its respective demographic data\n",
    "    \"\"\"\n",
    "    demo_data = syn.tableQuery(\"SELECT healthCode, dataGroups, 'demographics.gender', 'demographics.age' FROM {}\\\n",
    "                                    where dataGroups NOT LIKE '%test_user%'\".format(DEMO_DATA)).asDataFrame()\n",
    "    gait_data    = get_file_entity(GAIT_DATA)\n",
    "    data         = pd.merge(gait_data, demo_data, how = \"inner\", on = \"healthCode\")\n",
    "    data = data.dropna(subset = [\"demographics.gender\"])\n",
    "    data[\"MS\"] = data[\"dataGroups\"].map({\"ms_patient\":1, \"control\":0})\n",
    "    data  = data.rename({\"demographics.gender\" :\"gender\",\n",
    "                         \"demographics.age\"    : \"age\"}, axis = 1)\n",
    "    data[\"gender\"] = data[\"gender\"].apply(lambda x: x.lower())\n",
    "    data = fix_column_name(data)\n",
    "    data = data.reset_index(drop = True)\n",
    "    data = data[[feat for feat in data.columns if (\".\" in feat) or (feat in METADATA_COLS)]]\n",
    "    return data\n",
    "\n",
    "def annotate_classes(PD_status, MS_status):\n",
    "    if PD_status == 1:\n",
    "        return \"PD_Cases\"\n",
    "    elif PD_status == 0:\n",
    "        return \"PD_Controls\"\n",
    "    elif MS_status == 1:\n",
    "        return \"MS_Cases\"\n",
    "    else:\n",
    "        return \"MS_Controls\"\n",
    "\n",
    "\n",
    "def combine_gait_data(*dataframes):\n",
    "    \"\"\"\n",
    "    Function to join all interim data into one readily used dataframe\n",
    "    \"\"\"\n",
    "    dataframe_list = []\n",
    "    for data in dataframes:\n",
    "        dataframe_list.append(data)\n",
    "    data = pd.concat(dataframe_list).reset_index(drop = True)\n",
    "    data = data[(data != \"#ERROR\").all(axis = 1)]\n",
    "    data[\"is_control\"] = data.apply(lambda x: 0 if ((x[\"PD\"] == 0) or (x[\"MS\"] == 0)) else 1, axis = 1)\n",
    "    data[\"class\"] = data.apply(lambda x: annotate_classes(x[\"PD\"], x[\"MS\"]), axis = 1)\n",
    "    data[[_ for _ in data.columns if \".\" in _]] = \\\n",
    "        data[[_ for _ in data.columns if \".\" in _]].apply(pd.to_numeric)\n",
    "    data.drop([\"y.duration\", \"z.duration\", \"AA.duration\"], axis = 1, inplace = True) \n",
    "    data.rename({\"x.duration\": \"duration\"}, axis = 1, inplace = True)\n",
    "    save_data_to_synapse(data = data.reset_index(drop = True), \n",
    "                        output_filename = \"combined_gait_data.csv\",\n",
    "                        data_parent_id  = \"syn21267355\",\n",
    "                        source_table_id = [\"syn21256442\", \"syn21114136\", \"syn21111818\", \"syn21113231\"],\n",
    "                        used_script = GIT_URL)\n",
    "    return data\n",
    "\n",
    "# \"\"\"\n",
    "# Main Function\n",
    "# \"\"\"\n",
    "# def main():\n",
    "#     dataV1                    = _create_mPowerV1_interim_gait_data(GAIT_DATA = MPOWER_GAIT_DATA_V1, DEMO_DATA = MPOWER_DEMO_DATA_V1)\n",
    "#     dataV1[\"version\"]         = \"V1\"\n",
    "#     dataV2                    = _create_mPowerV2_interim_gait_data(GAIT_DATA = MPOWER_GAIT_DATA_V2, DEMO_DATA = MPOWER_DEMO_DATA_V2)\n",
    "#     dataV2[\"version\"]         = \"V2\"\n",
    "#     dataPassive               = _create_mPowerV2_interim_gait_data(GAIT_DATA = MPOWER_GAIT_DATA_PASSIVE, DEMO_DATA = MPOWER_DEMO_DATA_V2)\n",
    "#     dataPassive[\"version\"]    = \"PD_passive\"\n",
    "#     dataEMS_active            = _create_elevateMS_interim_gait_data(GAIT_DATA = EMS_GAIT_DATA, DEMO_DATA = EMS_PROF_DATA)\n",
    "#     dataEMS_active[\"version\"] = \"MS_active\"\n",
    "#     combine_gait_data(dataV1, dataV2, dataPassive, dataEMS_active)\n",
    "\n",
    "# \"\"\"\n",
    "# Run main function and record the time of script runtime\n",
    "# \"\"\"\n",
    "# if __name__ == \"__main__\":\n",
    "#     start_time = time.time()\n",
    "#     main()\n",
    "#     print(\"--- %s seconds ---\" % (time.time() - start_time))\n"
   ]
  },
  {
   "cell_type": "code",
   "execution_count": 3,
   "metadata": {},
   "outputs": [
    {
     "ename": "NameError",
     "evalue": "name 'DEMO_DATA' is not defined",
     "output_type": "error",
     "traceback": [
      "\u001b[0;31m---------------------------------------------------------------------------\u001b[0m",
      "\u001b[0;31mNameError\u001b[0m                                 Traceback (most recent call last)",
      "\u001b[0;32m<ipython-input-3-9e00626bf492>\u001b[0m in \u001b[0;36m<module>\u001b[0;34m\u001b[0m\n\u001b[1;32m      1\u001b[0m demo_data = syn.tableQuery(\"SELECT healthCode, dataGroups, 'demographics.gender', 'demographics.age' FROM {}\\\n\u001b[0;32m----> 2\u001b[0;31m                                     where dataGroups NOT LIKE '%test_user%'\".format(DEMO_DATA)).asDataFrame()\n\u001b[0m\u001b[1;32m      3\u001b[0m \u001b[0mgait_data\u001b[0m    \u001b[0;34m=\u001b[0m \u001b[0mget_file_entity\u001b[0m\u001b[0;34m(\u001b[0m\u001b[0mGAIT_DATA\u001b[0m\u001b[0;34m)\u001b[0m\u001b[0;34m\u001b[0m\u001b[0;34m\u001b[0m\u001b[0m\n\u001b[1;32m      4\u001b[0m \u001b[0mdata\u001b[0m         \u001b[0;34m=\u001b[0m \u001b[0mpd\u001b[0m\u001b[0;34m.\u001b[0m\u001b[0mmerge\u001b[0m\u001b[0;34m(\u001b[0m\u001b[0mgait_data\u001b[0m\u001b[0;34m,\u001b[0m \u001b[0mdemo_data\u001b[0m\u001b[0;34m,\u001b[0m \u001b[0mhow\u001b[0m \u001b[0;34m=\u001b[0m \u001b[0;34m\"inner\"\u001b[0m\u001b[0;34m,\u001b[0m \u001b[0mon\u001b[0m \u001b[0;34m=\u001b[0m \u001b[0;34m\"healthCode\"\u001b[0m\u001b[0;34m)\u001b[0m\u001b[0;34m\u001b[0m\u001b[0;34m\u001b[0m\u001b[0m\n\u001b[1;32m      5\u001b[0m \u001b[0mdata\u001b[0m \u001b[0;34m=\u001b[0m \u001b[0mdata\u001b[0m\u001b[0;34m.\u001b[0m\u001b[0mdropna\u001b[0m\u001b[0;34m(\u001b[0m\u001b[0msubset\u001b[0m \u001b[0;34m=\u001b[0m \u001b[0;34m[\u001b[0m\u001b[0;34m\"demographics.gender\"\u001b[0m\u001b[0;34m]\u001b[0m\u001b[0;34m)\u001b[0m\u001b[0;34m\u001b[0m\u001b[0;34m\u001b[0m\u001b[0m\n",
      "\u001b[0;31mNameError\u001b[0m: name 'DEMO_DATA' is not defined"
     ]
    }
   ],
   "source": [
    "demo_data = syn.tableQuery(\"SELECT healthCode, dataGroups, 'demographics.gender', 'demographics.age' FROM {}\\\n",
    "                                    where dataGroups NOT LIKE '%test_user%'\".format(DEMO_DATA)).asDataFrame()\n",
    "gait_data    = get_file_entity(GAIT_DATA)\n",
    "data         = pd.merge(gait_data, demo_data, how = \"inner\", on = \"healthCode\")\n",
    "data = data.dropna(subset = [\"demographics.gender\"])\n",
    "data[\"MS\"] = data[\"dataGroups\"].map({\"ms_patient\":1, \"control\":0})\n",
    "data  = data.rename({\"demographics.gender\" :\"gender\",\n",
    "                         \"demographics.age\"    : \"age\"}, axis = 1)\n",
    "data[\"gender\"] = data[\"gender\"].apply(lambda x: x.lower())\n",
    "data = fix_column_name(data)\n",
    "data = data.reset_index(drop = True)\n",
    "data = data[[feat for feat in data.columns if (\".\" in feat) or (feat in METADATA_COLS)]]"
   ]
  },
  {
   "cell_type": "code",
   "execution_count": 4,
   "metadata": {},
   "outputs": [],
   "source": [
    "dataEMS_active            = _create_elevateMS_interim_gait_data(GAIT_DATA = EMS_GAIT_DATA, DEMO_DATA = EMS_PROF_DATA)\n",
    "dataEMS_active[\"version\"] = \"MS_active\""
   ]
  },
  {
   "cell_type": "code",
   "execution_count": 16,
   "metadata": {},
   "outputs": [
    {
     "name": "stdout",
     "output_type": "stream",
     "text": [
      "\n",
      "##################################################\n",
      " Uploading file to Synapse storage \n",
      "##################################################\n",
      "\n"
     ]
    }
   ],
   "source": [
    "dataV1                    = _create_mPowerV1_interim_gait_data(GAIT_DATA = MPOWER_GAIT_DATA_V1, DEMO_DATA = MPOWER_DEMO_DATA_V1)\n",
    "dataV1[\"version\"]         = \"V1\"\n",
    "dataV2                    = _create_mPowerV2_interim_gait_data(GAIT_DATA = MPOWER_GAIT_DATA_V2, DEMO_DATA = MPOWER_DEMO_DATA_V2)\n",
    "dataV2[\"version\"]         = \"V2\"\n",
    "dataPassive               = _create_mPowerV2_interim_gait_data(GAIT_DATA = MPOWER_GAIT_DATA_PASSIVE, DEMO_DATA = MPOWER_DEMO_DATA_V2)\n",
    "dataPassive[\"version\"]    = \"PD_passive\"\n",
    "dataEMS_active            = _create_elevateMS_interim_gait_data(GAIT_DATA = EMS_GAIT_DATA, DEMO_DATA = EMS_PROF_DATA)\n",
    "dataEMS_active[\"version\"] = \"MS_active\"\n",
    "data = combine_gait_data(dataV1, dataV2, dataPassive, dataEMS_active)"
   ]
  },
  {
   "cell_type": "code",
   "execution_count": 17,
   "metadata": {},
   "outputs": [
    {
     "data": {
      "text/plain": [
       "223843    0.0\n",
       "223844    0.0\n",
       "223845    0.0\n",
       "223846    0.0\n",
       "223847    0.0\n",
       "         ... \n",
       "228904    1.0\n",
       "228905    1.0\n",
       "228907    1.0\n",
       "228908    1.0\n",
       "228909    1.0\n",
       "Name: MS, Length: 4752, dtype: float64"
      ]
     },
     "execution_count": 17,
     "metadata": {},
     "output_type": "execute_result"
    }
   ],
   "source": [
    "data[\"MS\"].d"
   ]
  },
  {
   "cell_type": "code",
   "execution_count": 19,
   "metadata": {},
   "outputs": [],
   "source": [
    "test = data[[\"class\", \"MS\", \"PD\"]]"
   ]
  },
  {
   "cell_type": "code",
   "execution_count": 28,
   "metadata": {},
   "outputs": [
    {
     "data": {
      "text/plain": [
       "array(['PD_Controls'], dtype=object)"
      ]
     },
     "execution_count": 28,
     "metadata": {},
     "output_type": "execute_result"
    }
   ],
   "source": [
    "test[test[\"PD\"] == 0][\"class\"].unique()"
   ]
  },
  {
   "cell_type": "code",
   "execution_count": null,
   "metadata": {},
   "outputs": [],
   "source": []
  }
 ],
 "metadata": {
  "kernelspec": {
   "display_name": "Python 3",
   "language": "python",
   "name": "python3"
  },
  "language_info": {
   "codemirror_mode": {
    "name": "ipython",
    "version": 3
   },
   "file_extension": ".py",
   "mimetype": "text/x-python",
   "name": "python",
   "nbconvert_exporter": "python",
   "pygments_lexer": "ipython3",
   "version": "3.7.4"
  }
 },
 "nbformat": 4,
 "nbformat_minor": 4
}
