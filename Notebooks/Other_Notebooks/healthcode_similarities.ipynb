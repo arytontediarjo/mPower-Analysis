{
 "cells": [
  {
   "cell_type": "code",
   "execution_count": 380,
   "metadata": {},
   "outputs": [],
   "source": [
    "## imports ##\n",
    "from sklearn.model_selection import train_test_split\n",
    "from sklearn.preprocessing import StandardScaler\n",
    "from sklearn.decomposition import PCA\n",
    "from sklearn.pipeline import Pipeline\n",
    "from sklearn.externals import joblib\n",
    "from sklearn.linear_model import LogisticRegression\n",
    "from sklearn import svm, decomposition, tree\n",
    "from sklearn.ensemble import RandomForestClassifier, GradientBoostingClassifier, ExtraTreesClassifier\n",
    "from sklearn import metrics\n",
    "from sklearn.model_selection import learning_curve, GridSearchCV, cross_val_score, validation_curve\n",
    "from sklearn.metrics import classification_report, confusion_matrix\n",
    "import pandas as pd\n",
    "import numpy as np\n",
    "import warnings\n",
    "from sklearn.feature_selection import RFECV, SelectKBest, chi2\n",
    "from xgboost import XGBClassifier\n",
    "import matplotlib.pyplot as plt\n",
    "%matplotlib inline\n",
    "\n",
    "warnings.simplefilter(\"ignore\")\n",
    "np.random.seed(100)"
   ]
  },
  {
   "cell_type": "code",
   "execution_count": 391,
   "metadata": {},
   "outputs": [],
   "source": [
    "walking_data_v1 = pd.read_csv(\"../Data/MAX_WALKING_TRAINING_DATA.csv\") \\\n",
    "                        .reset_index(drop = True).dropna()\n",
    "walking_data_v2 = pd.read_csv(\"../Data/MAX_WALKING_TRAINING_DATA_V2.csv\") \\\n",
    "                        .reset_index(drop = True).dropna()\n",
    "walking_data_passive = pd.read_csv(\"../Data/MAX_WALKING_TRAINING_DATA_PASSIVE.csv\") \\\n",
    "                        .reset_index(drop = True).dropna()\n",
    "\n",
    "data = pd.concat([walking_data_v1, walking_data_v2]).dropna().reset_index(drop = True)"
   ]
  },
  {
   "cell_type": "markdown",
   "metadata": {},
   "source": [
    "# Finding Similar Users in mPowerV1 vs mPowerV2"
   ]
  },
  {
   "cell_type": "markdown",
   "metadata": {},
   "source": [
    "- For each healthcodes, take closest healthcodes based on certain distance metrics\n",
    "- Similarities will be assessed on KNN-Algorithm\n",
    "- Distance to each healthcodes will be stored into a dataframe"
   ]
  },
  {
   "cell_type": "code",
   "execution_count": 393,
   "metadata": {},
   "outputs": [],
   "source": [
    "from sklearn.metrics.pairwise import cosine_similarity\n",
    "from sklearn.preprocessing import MinMaxScaler\n",
    "from sklearn.neighbors import NearestNeighbors"
   ]
  },
  {
   "cell_type": "code",
   "execution_count": 394,
   "metadata": {},
   "outputs": [],
   "source": [
    "def getKNN_user2user(data, no_neighbors, distance_metrics):\n",
    "    data = data.set_index(\"healthCode\")\n",
    "    min_max_scaler = MinMaxScaler()\n",
    "    walking_features = min_max_scaler.fit_transform(data)\n",
    "    nbrs = NearestNeighbors(n_neighbors = no_neighbors, \n",
    "                            algorithm = 'auto', \n",
    "                            metric = distance_metrics).fit(walking_features)\n",
    "    distance, indices = nbrs.kneighbors(walking_features)\n",
    "    dict_ = {}\n",
    "    data = data.reset_index()\n",
    "    for dist, indice in zip(distance, indices):\n",
    "        dict_[data.ix[indice[0]][\"healthCode\"]] = {\"healthCode\": data.loc[indice[1]][\"healthCode\"],\n",
    "                                              \"distance\": dist[1]}\n",
    "    sim_data = (pd.DataFrame(dict_).T)\n",
    "    list_ = walking_data_v2[\"healthCode\"].unique()\n",
    "    sim_data = (sim_data.loc[~sim_data.index.isin(list_)])[sim_data[\"healthCode\"].isin(list_)]\n",
    "    return sim_data.sort_values(by = \"distance\", ascending = False)"
   ]
  },
  {
   "cell_type": "markdown",
   "metadata": {},
   "source": [
    "## 1. Euclidean Distance"
   ]
  },
  {
   "cell_type": "code",
   "execution_count": 395,
   "metadata": {},
   "outputs": [
    {
     "data": {
      "text/html": [
       "<div>\n",
       "<style scoped>\n",
       "    .dataframe tbody tr th:only-of-type {\n",
       "        vertical-align: middle;\n",
       "    }\n",
       "\n",
       "    .dataframe tbody tr th {\n",
       "        vertical-align: top;\n",
       "    }\n",
       "\n",
       "    .dataframe thead th {\n",
       "        text-align: right;\n",
       "    }\n",
       "</style>\n",
       "<table border=\"1\" class=\"dataframe\">\n",
       "  <thead>\n",
       "    <tr style=\"text-align: right;\">\n",
       "      <th></th>\n",
       "      <th>distance</th>\n",
       "      <th>healthCode</th>\n",
       "    </tr>\n",
       "  </thead>\n",
       "  <tbody>\n",
       "    <tr>\n",
       "      <th>72c95fc8-db97-4865-8bc3-a42e21d43e75</th>\n",
       "      <td>0.427246</td>\n",
       "      <td>194fd2c2-ca8a-4e12-91bc-24aa06ed55c1</td>\n",
       "    </tr>\n",
       "    <tr>\n",
       "      <th>46715e2d-faf6-41fd-abb2-92c06fbab6d9</th>\n",
       "      <td>0.273241</td>\n",
       "      <td>77f1e0ed-2815-4038-841d-d3daaadef680</td>\n",
       "    </tr>\n",
       "    <tr>\n",
       "      <th>ce5cb455-f71f-4727-94d5-13f860bf4ce0</th>\n",
       "      <td>0.246708</td>\n",
       "      <td>2783234d-ee3a-4253-90ec-2d5428fea7c5</td>\n",
       "    </tr>\n",
       "    <tr>\n",
       "      <th>0fb2371f-2456-430e-a9a4-f0cfba39ae30</th>\n",
       "      <td>0.242468</td>\n",
       "      <td>ef5ac368-b83c-4b8b-a6b3-69a1eb09ce59</td>\n",
       "    </tr>\n",
       "    <tr>\n",
       "      <th>1137bf6f-92b4-426f-acd5-87fcaacee4c1</th>\n",
       "      <td>0.221525</td>\n",
       "      <td>2783234d-ee3a-4253-90ec-2d5428fea7c5</td>\n",
       "    </tr>\n",
       "    <tr>\n",
       "      <th>416a984c-4a94-452b-93be-499c1ac374d6</th>\n",
       "      <td>0.170371</td>\n",
       "      <td>55702360-c266-4528-bb9d-caaa5b197225</td>\n",
       "    </tr>\n",
       "  </tbody>\n",
       "</table>\n",
       "</div>"
      ],
      "text/plain": [
       "                                      distance  \\\n",
       "72c95fc8-db97-4865-8bc3-a42e21d43e75  0.427246   \n",
       "46715e2d-faf6-41fd-abb2-92c06fbab6d9  0.273241   \n",
       "ce5cb455-f71f-4727-94d5-13f860bf4ce0  0.246708   \n",
       "0fb2371f-2456-430e-a9a4-f0cfba39ae30  0.242468   \n",
       "1137bf6f-92b4-426f-acd5-87fcaacee4c1  0.221525   \n",
       "416a984c-4a94-452b-93be-499c1ac374d6  0.170371   \n",
       "\n",
       "                                                                healthCode  \n",
       "72c95fc8-db97-4865-8bc3-a42e21d43e75  194fd2c2-ca8a-4e12-91bc-24aa06ed55c1  \n",
       "46715e2d-faf6-41fd-abb2-92c06fbab6d9  77f1e0ed-2815-4038-841d-d3daaadef680  \n",
       "ce5cb455-f71f-4727-94d5-13f860bf4ce0  2783234d-ee3a-4253-90ec-2d5428fea7c5  \n",
       "0fb2371f-2456-430e-a9a4-f0cfba39ae30  ef5ac368-b83c-4b8b-a6b3-69a1eb09ce59  \n",
       "1137bf6f-92b4-426f-acd5-87fcaacee4c1  2783234d-ee3a-4253-90ec-2d5428fea7c5  \n",
       "416a984c-4a94-452b-93be-499c1ac374d6  55702360-c266-4528-bb9d-caaa5b197225  "
      ]
     },
     "execution_count": 395,
     "metadata": {},
     "output_type": "execute_result"
    }
   ],
   "source": [
    "getKNN_user2user(data, 2, \"euclidean\")"
   ]
  },
  {
   "cell_type": "markdown",
   "metadata": {},
   "source": [
    "## 2. Jaccard Distance"
   ]
  },
  {
   "cell_type": "code",
   "execution_count": 396,
   "metadata": {},
   "outputs": [
    {
     "data": {
      "text/html": [
       "<div>\n",
       "<style scoped>\n",
       "    .dataframe tbody tr th:only-of-type {\n",
       "        vertical-align: middle;\n",
       "    }\n",
       "\n",
       "    .dataframe tbody tr th {\n",
       "        vertical-align: top;\n",
       "    }\n",
       "\n",
       "    .dataframe thead th {\n",
       "        text-align: right;\n",
       "    }\n",
       "</style>\n",
       "<table border=\"1\" class=\"dataframe\">\n",
       "  <thead>\n",
       "    <tr style=\"text-align: right;\">\n",
       "      <th></th>\n",
       "      <th>distance</th>\n",
       "      <th>healthCode</th>\n",
       "    </tr>\n",
       "  </thead>\n",
       "  <tbody>\n",
       "  </tbody>\n",
       "</table>\n",
       "</div>"
      ],
      "text/plain": [
       "Empty DataFrame\n",
       "Columns: [distance, healthCode]\n",
       "Index: []"
      ]
     },
     "execution_count": 396,
     "metadata": {},
     "output_type": "execute_result"
    }
   ],
   "source": [
    "getKNN_user2user(data, 2, \"jaccard\")"
   ]
  },
  {
   "cell_type": "markdown",
   "metadata": {},
   "source": [
    "## 3. Manhattan Distance"
   ]
  },
  {
   "cell_type": "code",
   "execution_count": 397,
   "metadata": {},
   "outputs": [
    {
     "data": {
      "text/html": [
       "<div>\n",
       "<style scoped>\n",
       "    .dataframe tbody tr th:only-of-type {\n",
       "        vertical-align: middle;\n",
       "    }\n",
       "\n",
       "    .dataframe tbody tr th {\n",
       "        vertical-align: top;\n",
       "    }\n",
       "\n",
       "    .dataframe thead th {\n",
       "        text-align: right;\n",
       "    }\n",
       "</style>\n",
       "<table border=\"1\" class=\"dataframe\">\n",
       "  <thead>\n",
       "    <tr style=\"text-align: right;\">\n",
       "      <th></th>\n",
       "      <th>distance</th>\n",
       "      <th>healthCode</th>\n",
       "    </tr>\n",
       "  </thead>\n",
       "  <tbody>\n",
       "    <tr>\n",
       "      <th>90550db0-af30-495f-8d7c-5749577cdae2</th>\n",
       "      <td>2.32593</td>\n",
       "      <td>6e7005b4-d967-4b4b-a5f0-3a3e518cd138</td>\n",
       "    </tr>\n",
       "    <tr>\n",
       "      <th>72c95fc8-db97-4865-8bc3-a42e21d43e75</th>\n",
       "      <td>1.10976</td>\n",
       "      <td>f5e07db6-e37e-4663-97c6-82627e216b61</td>\n",
       "    </tr>\n",
       "    <tr>\n",
       "      <th>1137bf6f-92b4-426f-acd5-87fcaacee4c1</th>\n",
       "      <td>0.574833</td>\n",
       "      <td>2783234d-ee3a-4253-90ec-2d5428fea7c5</td>\n",
       "    </tr>\n",
       "    <tr>\n",
       "      <th>46715e2d-faf6-41fd-abb2-92c06fbab6d9</th>\n",
       "      <td>0.558465</td>\n",
       "      <td>77f1e0ed-2815-4038-841d-d3daaadef680</td>\n",
       "    </tr>\n",
       "    <tr>\n",
       "      <th>ce5cb455-f71f-4727-94d5-13f860bf4ce0</th>\n",
       "      <td>0.543029</td>\n",
       "      <td>2783234d-ee3a-4253-90ec-2d5428fea7c5</td>\n",
       "    </tr>\n",
       "    <tr>\n",
       "      <th>0fb2371f-2456-430e-a9a4-f0cfba39ae30</th>\n",
       "      <td>0.47808</td>\n",
       "      <td>ef5ac368-b83c-4b8b-a6b3-69a1eb09ce59</td>\n",
       "    </tr>\n",
       "    <tr>\n",
       "      <th>416a984c-4a94-452b-93be-499c1ac374d6</th>\n",
       "      <td>0.402867</td>\n",
       "      <td>c4afc1ed-56e3-4ce5-9417-8712cb4eb8dc</td>\n",
       "    </tr>\n",
       "  </tbody>\n",
       "</table>\n",
       "</div>"
      ],
      "text/plain": [
       "                                      distance  \\\n",
       "90550db0-af30-495f-8d7c-5749577cdae2   2.32593   \n",
       "72c95fc8-db97-4865-8bc3-a42e21d43e75   1.10976   \n",
       "1137bf6f-92b4-426f-acd5-87fcaacee4c1  0.574833   \n",
       "46715e2d-faf6-41fd-abb2-92c06fbab6d9  0.558465   \n",
       "ce5cb455-f71f-4727-94d5-13f860bf4ce0  0.543029   \n",
       "0fb2371f-2456-430e-a9a4-f0cfba39ae30   0.47808   \n",
       "416a984c-4a94-452b-93be-499c1ac374d6  0.402867   \n",
       "\n",
       "                                                                healthCode  \n",
       "90550db0-af30-495f-8d7c-5749577cdae2  6e7005b4-d967-4b4b-a5f0-3a3e518cd138  \n",
       "72c95fc8-db97-4865-8bc3-a42e21d43e75  f5e07db6-e37e-4663-97c6-82627e216b61  \n",
       "1137bf6f-92b4-426f-acd5-87fcaacee4c1  2783234d-ee3a-4253-90ec-2d5428fea7c5  \n",
       "46715e2d-faf6-41fd-abb2-92c06fbab6d9  77f1e0ed-2815-4038-841d-d3daaadef680  \n",
       "ce5cb455-f71f-4727-94d5-13f860bf4ce0  2783234d-ee3a-4253-90ec-2d5428fea7c5  \n",
       "0fb2371f-2456-430e-a9a4-f0cfba39ae30  ef5ac368-b83c-4b8b-a6b3-69a1eb09ce59  \n",
       "416a984c-4a94-452b-93be-499c1ac374d6  c4afc1ed-56e3-4ce5-9417-8712cb4eb8dc  "
      ]
     },
     "execution_count": 397,
     "metadata": {},
     "output_type": "execute_result"
    }
   ],
   "source": [
    "getKNN_user2user(data, 2, \"manhattan\")"
   ]
  },
  {
   "cell_type": "markdown",
   "metadata": {},
   "source": [
    "## 4. Cosine Similarities"
   ]
  },
  {
   "cell_type": "code",
   "execution_count": 398,
   "metadata": {},
   "outputs": [
    {
     "data": {
      "text/html": [
       "<div>\n",
       "<style scoped>\n",
       "    .dataframe tbody tr th:only-of-type {\n",
       "        vertical-align: middle;\n",
       "    }\n",
       "\n",
       "    .dataframe tbody tr th {\n",
       "        vertical-align: top;\n",
       "    }\n",
       "\n",
       "    .dataframe thead th {\n",
       "        text-align: right;\n",
       "    }\n",
       "</style>\n",
       "<table border=\"1\" class=\"dataframe\">\n",
       "  <thead>\n",
       "    <tr style=\"text-align: right;\">\n",
       "      <th></th>\n",
       "      <th>distance</th>\n",
       "      <th>healthCode</th>\n",
       "    </tr>\n",
       "  </thead>\n",
       "  <tbody>\n",
       "    <tr>\n",
       "      <th>15cd9496-900a-44bb-948b-12a24b101615</th>\n",
       "      <td>0.097246</td>\n",
       "      <td>bf600be5-e1b7-47e6-ba44-03e11bcf1edf</td>\n",
       "    </tr>\n",
       "    <tr>\n",
       "      <th>72c95fc8-db97-4865-8bc3-a42e21d43e75</th>\n",
       "      <td>0.0362605</td>\n",
       "      <td>194fd2c2-ca8a-4e12-91bc-24aa06ed55c1</td>\n",
       "    </tr>\n",
       "    <tr>\n",
       "      <th>866b1e91-f3c8-4884-aa78-0d0b53c13b20</th>\n",
       "      <td>0.0301117</td>\n",
       "      <td>1bce95ce-95d8-4bb5-8df4-bcf46418d312</td>\n",
       "    </tr>\n",
       "    <tr>\n",
       "      <th>46715e2d-faf6-41fd-abb2-92c06fbab6d9</th>\n",
       "      <td>0.0179735</td>\n",
       "      <td>77f1e0ed-2815-4038-841d-d3daaadef680</td>\n",
       "    </tr>\n",
       "    <tr>\n",
       "      <th>0fb2371f-2456-430e-a9a4-f0cfba39ae30</th>\n",
       "      <td>0.0134101</td>\n",
       "      <td>ef5ac368-b83c-4b8b-a6b3-69a1eb09ce59</td>\n",
       "    </tr>\n",
       "    <tr>\n",
       "      <th>ce5cb455-f71f-4727-94d5-13f860bf4ce0</th>\n",
       "      <td>0.00998501</td>\n",
       "      <td>c4afc1ed-56e3-4ce5-9417-8712cb4eb8dc</td>\n",
       "    </tr>\n",
       "    <tr>\n",
       "      <th>1137bf6f-92b4-426f-acd5-87fcaacee4c1</th>\n",
       "      <td>0.00881263</td>\n",
       "      <td>2783234d-ee3a-4253-90ec-2d5428fea7c5</td>\n",
       "    </tr>\n",
       "    <tr>\n",
       "      <th>b1f4d4d6-5247-48c4-9990-28a13d34fc19</th>\n",
       "      <td>0.00556746</td>\n",
       "      <td>d2c2a238-36ab-493e-9728-589eb0797fb3</td>\n",
       "    </tr>\n",
       "    <tr>\n",
       "      <th>416a984c-4a94-452b-93be-499c1ac374d6</th>\n",
       "      <td>0.00407586</td>\n",
       "      <td>55702360-c266-4528-bb9d-caaa5b197225</td>\n",
       "    </tr>\n",
       "  </tbody>\n",
       "</table>\n",
       "</div>"
      ],
      "text/plain": [
       "                                        distance  \\\n",
       "15cd9496-900a-44bb-948b-12a24b101615    0.097246   \n",
       "72c95fc8-db97-4865-8bc3-a42e21d43e75   0.0362605   \n",
       "866b1e91-f3c8-4884-aa78-0d0b53c13b20   0.0301117   \n",
       "46715e2d-faf6-41fd-abb2-92c06fbab6d9   0.0179735   \n",
       "0fb2371f-2456-430e-a9a4-f0cfba39ae30   0.0134101   \n",
       "ce5cb455-f71f-4727-94d5-13f860bf4ce0  0.00998501   \n",
       "1137bf6f-92b4-426f-acd5-87fcaacee4c1  0.00881263   \n",
       "b1f4d4d6-5247-48c4-9990-28a13d34fc19  0.00556746   \n",
       "416a984c-4a94-452b-93be-499c1ac374d6  0.00407586   \n",
       "\n",
       "                                                                healthCode  \n",
       "15cd9496-900a-44bb-948b-12a24b101615  bf600be5-e1b7-47e6-ba44-03e11bcf1edf  \n",
       "72c95fc8-db97-4865-8bc3-a42e21d43e75  194fd2c2-ca8a-4e12-91bc-24aa06ed55c1  \n",
       "866b1e91-f3c8-4884-aa78-0d0b53c13b20  1bce95ce-95d8-4bb5-8df4-bcf46418d312  \n",
       "46715e2d-faf6-41fd-abb2-92c06fbab6d9  77f1e0ed-2815-4038-841d-d3daaadef680  \n",
       "0fb2371f-2456-430e-a9a4-f0cfba39ae30  ef5ac368-b83c-4b8b-a6b3-69a1eb09ce59  \n",
       "ce5cb455-f71f-4727-94d5-13f860bf4ce0  c4afc1ed-56e3-4ce5-9417-8712cb4eb8dc  \n",
       "1137bf6f-92b4-426f-acd5-87fcaacee4c1  2783234d-ee3a-4253-90ec-2d5428fea7c5  \n",
       "b1f4d4d6-5247-48c4-9990-28a13d34fc19  d2c2a238-36ab-493e-9728-589eb0797fb3  \n",
       "416a984c-4a94-452b-93be-499c1ac374d6  55702360-c266-4528-bb9d-caaa5b197225  "
      ]
     },
     "execution_count": 398,
     "metadata": {},
     "output_type": "execute_result"
    }
   ],
   "source": [
    "getKNN(data, 2, \"cosine\")"
   ]
  },
  {
   "cell_type": "markdown",
   "metadata": {},
   "source": [
    "# Finding Similar Users in mPowerV2 vs Passive\n",
    "\n",
    "In finding similarities, between mPowerV2, rather than assessing two similar users per their healthCodes, we want to see if how similar a certain active healthCodes is to their passive counterpart."
   ]
  },
  {
   "cell_type": "code",
   "execution_count": 437,
   "metadata": {},
   "outputs": [],
   "source": [
    "from sklearn.metrics.pairwise import cosine_similarity"
   ]
  },
  {
   "cell_type": "code",
   "execution_count": 450,
   "metadata": {},
   "outputs": [],
   "source": [
    "data = pd.concat([walking_data_v2, walking_data_passive]).dropna().reset_index(drop = True)"
   ]
  },
  {
   "cell_type": "code",
   "execution_count": 451,
   "metadata": {},
   "outputs": [],
   "source": [
    "list_ = data[data[\"healthCode\"].duplicated()][\"healthCode\"]"
   ]
  },
  {
   "cell_type": "code",
   "execution_count": 453,
   "metadata": {},
   "outputs": [],
   "source": [
    "data = data[data[\"healthCode\"].isin(list_)]\n",
    "data = data.set_index(\"healthCode\")\n",
    "min_max_scaler = MinMaxScaler()\n",
    "walking_features = min_max_scaler.fit_transform(data)"
   ]
  },
  {
   "cell_type": "code",
   "execution_count": 457,
   "metadata": {},
   "outputs": [],
   "source": [
    "matrix = pd.DataFrame(cosine_similarity(walking_features), index = data.index, columns = data.index)"
   ]
  }
 ],
 "metadata": {
  "kernelspec": {
   "display_name": "synapse_venv",
   "language": "python",
   "name": "synapse_venv"
  },
  "language_info": {
   "codemirror_mode": {
    "name": "ipython",
    "version": 3
   },
   "file_extension": ".py",
   "mimetype": "text/x-python",
   "name": "python",
   "nbconvert_exporter": "python",
   "pygments_lexer": "ipython3",
   "version": "3.7.4"
  }
 },
 "nbformat": 4,
 "nbformat_minor": 4
}
