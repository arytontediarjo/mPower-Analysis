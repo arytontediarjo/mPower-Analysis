{
 "cells": [
  {
   "cell_type": "code",
   "execution_count": 77,
   "metadata": {},
   "outputs": [
    {
     "name": "stdout",
     "output_type": "stream",
     "text": [
      "The autoreload extension is already loaded. To reload it, use:\n",
      "  %reload_ext autoreload\n"
     ]
    }
   ],
   "source": [
    "%load_ext autoreload\n",
    "%autoreload 2\n",
    "import sys\n",
    "sys.path.append(\"../../src\")\n",
    "import utils.munging_utils as query\n",
    "import utils.preprocessing_utils as process\n",
    "from sklearn.utils import resample\n",
    "from sklearn import metrics\n",
    "import pandas as pd\n",
    "import numpy as np\n",
    "import warnings\n",
    "from sklearn.ensemble import RandomForestClassifier, GradientBoostingClassifier, ExtraTreesClassifier\n",
    "from sklearn.model_selection import train_test_split\n",
    "warnings.simplefilter(\"ignore\")"
   ]
  },
  {
   "cell_type": "markdown",
   "metadata": {},
   "source": [
    "# Introduction\n",
    "\n",
    "This notebook will explore how models performed on our metadata through bootstrapped subsamling"
   ]
  },
  {
   "cell_type": "code",
   "execution_count": 54,
   "metadata": {},
   "outputs": [],
   "source": [
    "data = query.get_file_entity(\"syn21281633\")\n",
    "data = data[(data[\"version\"] == \"mpower_v1\") | (data[\"version\"] == \"mpower_v2\")]\n",
    "\n",
    "METADATA_COLS = [\"PD\", \"appVersion\", \"phoneInfo\", \"age\", \"gender\"]\n",
    "\n",
    "def one_hot_encoder(data, *features):\n",
    "    for feature in features:\n",
    "        OHE_data = pd.get_dummies(data[feature], drop_first = True, dtype = float)\n",
    "        data = pd.concat([data, OHE_data], axis = 1).drop(feature, axis = 1)\n",
    "    return data"
   ]
  },
  {
   "cell_type": "code",
   "execution_count": 65,
   "metadata": {},
   "outputs": [],
   "source": [
    "metadata = data[METADATA_COLS]\n",
    "metadata = one_hot_encoder(metadata, \"appVersion\", \"phoneInfo\", \"gender\")"
   ]
  },
  {
   "cell_type": "code",
   "execution_count": 70,
   "metadata": {},
   "outputs": [],
   "source": [
    "## set X_test, y_test as OOB samples\n",
    "## set X_train, y_train as sample for bootstrap\n",
    "X_train, X_test, y_train, y_test = train_test_split(metadata, metadata[\"PD\"], test_size=0.25, random_state=100)"
   ]
  },
  {
   "cell_type": "code",
   "execution_count": 71,
   "metadata": {},
   "outputs": [
    {
     "data": {
      "text/plain": [
       "(78130, 220)"
      ]
     },
     "execution_count": 71,
     "metadata": {},
     "output_type": "execute_result"
    }
   ],
   "source": [
    "## shape of c\n",
    "X_train.shape"
   ]
  },
  {
   "cell_type": "code",
   "execution_count": 72,
   "metadata": {},
   "outputs": [
    {
     "data": {
      "text/plain": [
       "(26044, 220)"
      ]
     },
     "execution_count": 72,
     "metadata": {},
     "output_type": "execute_result"
    }
   ],
   "source": [
    "X_test.shape"
   ]
  },
  {
   "cell_type": "code",
   "execution_count": 74,
   "metadata": {},
   "outputs": [
    {
     "data": {
      "text/plain": [
       "RandomForestClassifier(bootstrap=True, class_weight=None, criterion='gini',\n",
       "                       max_depth=None, max_features='auto', max_leaf_nodes=None,\n",
       "                       min_impurity_decrease=0.0, min_impurity_split=None,\n",
       "                       min_samples_leaf=1, min_samples_split=2,\n",
       "                       min_weight_fraction_leaf=0.0, n_estimators=10,\n",
       "                       n_jobs=None, oob_score=False, random_state=None,\n",
       "                       verbose=0, warm_start=False)"
      ]
     },
     "execution_count": 74,
     "metadata": {},
     "output_type": "execute_result"
    }
   ],
   "source": [
    "rf = RandomForestClassifier()\n",
    "rf.fit(X_train, y_train)"
   ]
  },
  {
   "cell_type": "code",
   "execution_count": 82,
   "metadata": {},
   "outputs": [
    {
     "name": "stdout",
     "output_type": "stream",
     "text": [
      "              precision    recall  f1-score   support\n",
      "\n",
      "         0.0       1.00      1.00      1.00      7335\n",
      "         1.0       1.00      1.00      1.00     18709\n",
      "\n",
      "    accuracy                           1.00     26044\n",
      "   macro avg       1.00      1.00      1.00     26044\n",
      "weighted avg       1.00      1.00      1.00     26044\n",
      "\n"
     ]
    }
   ],
   "source": [
    "print(metrics.classification_report(y_test, rf.predict(X_test)))"
   ]
  },
  {
   "cell_type": "code",
   "execution_count": 79,
   "metadata": {},
   "outputs": [
    {
     "data": {
      "text/plain": [
       "46873     1.0\n",
       "18849     1.0\n",
       "101762    1.0\n",
       "94153     0.0\n",
       "71618     1.0\n",
       "43753     1.0\n",
       "51665     1.0\n",
       "62369     1.0\n",
       "102433    1.0\n",
       "44595     1.0\n",
       "99263     1.0\n",
       "21497     1.0\n",
       "82167     1.0\n",
       "68527     1.0\n",
       "54804     1.0\n",
       "52976     1.0\n",
       "80818     0.0\n",
       "95403     1.0\n",
       "67825     1.0\n",
       "57201     1.0\n",
       "61719     1.0\n",
       "89025     1.0\n",
       "28759     0.0\n",
       "68327     1.0\n",
       "91543     0.0\n",
       "97033     1.0\n",
       "36937     1.0\n",
       "90846     1.0\n",
       "13421     0.0\n",
       "53029     1.0\n",
       "         ... \n",
       "102219    1.0\n",
       "24238     1.0\n",
       "25236     0.0\n",
       "28902     0.0\n",
       "87299     0.0\n",
       "28466     0.0\n",
       "93876     0.0\n",
       "83630     1.0\n",
       "94117     0.0\n",
       "75458     0.0\n",
       "102034    1.0\n",
       "49930     1.0\n",
       "87739     1.0\n",
       "31651     1.0\n",
       "52864     1.0\n",
       "12011     0.0\n",
       "82650     1.0\n",
       "42925     0.0\n",
       "31551     0.0\n",
       "59939     1.0\n",
       "43624     0.0\n",
       "95004     1.0\n",
       "88773     1.0\n",
       "49770     1.0\n",
       "38870     1.0\n",
       "69790     0.0\n",
       "97176     1.0\n",
       "78411     1.0\n",
       "80211     0.0\n",
       "1153      1.0\n",
       "Name: PD, Length: 26044, dtype: float64"
      ]
     },
     "execution_count": 79,
     "metadata": {},
     "output_type": "execute_result"
    }
   ],
   "source": [
    "y_test"
   ]
  },
  {
   "cell_type": "code",
   "execution_count": 80,
   "metadata": {},
   "outputs": [
    {
     "data": {
      "text/plain": [
       "array([1., 1., 1., ..., 1., 0., 1.])"
      ]
     },
     "execution_count": 80,
     "metadata": {},
     "output_type": "execute_result"
    }
   ],
   "source": [
    "rf.predict(X_test)"
   ]
  },
  {
   "cell_type": "code",
   "execution_count": null,
   "metadata": {},
   "outputs": [],
   "source": []
  }
 ],
 "metadata": {
  "kernelspec": {
   "display_name": "synapse_venv",
   "language": "python",
   "name": "synapse_venv"
  },
  "language_info": {
   "codemirror_mode": {
    "name": "ipython",
    "version": 3
   },
   "file_extension": ".py",
   "mimetype": "text/x-python",
   "name": "python",
   "nbconvert_exporter": "python",
   "pygments_lexer": "ipython3",
   "version": "3.7.4"
  }
 },
 "nbformat": 4,
 "nbformat_minor": 4
}
