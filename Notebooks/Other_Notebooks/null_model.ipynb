{
 "cells": [
  {
   "cell_type": "code",
   "execution_count": 1,
   "metadata": {},
   "outputs": [],
   "source": [
    "%load_ext autoreload\n",
    "%autoreload 2\n",
    "import sys\n",
    "sys.path.append(\"../../src\")\n",
    "import utils.query_utils as query\n",
    "import utils.preprocessing_utils as process\n",
    "from sklearn.utils import resample\n",
    "from sklearn import metrics\n",
    "import pandas as pd\n",
    "import numpy as np\n",
    "import warnings\n",
    "from sklearn.ensemble import RandomForestClassifier, GradientBoostingClassifier, ExtraTreesClassifier\n",
    "from sklearn.model_selection import train_test_split\n",
    "warnings.simplefilter(\"ignore\")\n",
    "import synapseclient as sc"
   ]
  },
  {
   "cell_type": "markdown",
   "metadata": {},
   "source": [
    "# Introduction\n",
    "\n",
    "This notebook will explore how models performed on our metadata through bootstrapped subsamling"
   ]
  },
  {
   "cell_type": "code",
   "execution_count": 18,
   "metadata": {},
   "outputs": [
    {
     "name": "stdout",
     "output_type": "stream",
     "text": [
      "Welcome, aryton tediarjo!\n",
      "\n"
     ]
    }
   ],
   "source": [
    "syn = sc.login()\n",
    "\n",
    "data = query.get_file_entity(syn, \"syn21281633\")\n",
    "# data = data[(data[\"version\"] == \"mpower_v1\") | (data[\"version\"] == \"mpower_v2\")]\n",
    "\n",
    "METADATA_COLS = [\"PD\", \"appVersion\", \"phoneInfo\", \"age\", \"gender\", \"createdOn\", \"healthCode\", \"version\", \"recordId\"]\n",
    "\n",
    "def one_hot_encoder(data, *features):\n",
    "    for feature in features:\n",
    "        OHE_data = pd.get_dummies(data[feature], drop_first = True, dtype = float)\n",
    "        data = pd.concat([data, OHE_data], axis = 1).drop(feature, axis = 1)\n",
    "    return data"
   ]
  },
  {
   "cell_type": "code",
   "execution_count": 20,
   "metadata": {},
   "outputs": [],
   "source": [
    "## helper functions ## \n",
    "def annot_phone(params):\n",
    "    \"\"\"\n",
    "    Function to annotate phone types\n",
    "    returns an annotated dataset with lesser choice of phonetypes\n",
    "    \"\"\"\n",
    "    if \";\" in params:\n",
    "        params = params.split(\";\")[0]\n",
    "    if (\"iPhone 6+\" in params) or (\"iPhone 6 Plus\" in params):\n",
    "        return \"iPhone 6+\"\n",
    "    if (\"iPhone9\" in params) or (\"Unknown\" in params) or (\"iPad\" in params) or (\"iPod\" in params):\n",
    "        return \"Other iPhone\"\n",
    "    if (\"iPhone 5\" in params):\n",
    "        return \"iPhone 5\"\n",
    "    if (\"iPhone8\" in params):\n",
    "        return \"iPhone 8\"\n",
    "    if (\"iPhone X\" in params) or (\"iPhone10\" in params):\n",
    "        return \"iPhone X\"\n",
    "    return params"
   ]
  },
  {
   "cell_type": "code",
   "execution_count": 70,
   "metadata": {},
   "outputs": [],
   "source": [
    "nrecords = data.groupby(\"healthCode\").count()[\"recordId\"].rename(\"nrecords\").reset_index()\n",
    "metadata = pd.merge(data[METADATA_COLS], nrecords, how = \"inner\", on = \"healthCode\")\n",
    "metadata = metadata.sort_values(by = \"createdOn\", ascending = False)\n",
    "metadata = metadata.drop_duplicates(keep = \"first\", subset = \"healthCode\")\n",
    "metadata[\"phone_type\"] = metadata[\"phoneInfo\"].apply(annot_phone)\n",
    "metadata = metadata[[\"healthCode\", \"version\", \"age\", \"gender\", \"PD\", \"phone_type\", \"nrecords\"]]\n",
    "OHE_metadata = one_hot_encoder(metadata, \"gender\", \"phone_type\")"
   ]
  },
  {
   "cell_type": "code",
   "execution_count": 72,
   "metadata": {},
   "outputs": [
    {
     "name": "stdout",
     "output_type": "stream",
     "text": [
      "\n",
      "##################################################\n",
      " Uploading file to Synapse storage \n",
      "##################################################\n",
      "\n"
     ]
    }
   ],
   "source": [
    "query.save_data_to_synapse(syn, data = OHE_metadata.reset_index(drop = True),\n",
    "                           output_filename = \"OHE_metadata.csv\",\n",
    "                           data_parent_id = \"syn21267355\")"
   ]
  },
  {
   "cell_type": "code",
   "execution_count": 39,
   "metadata": {},
   "outputs": [],
   "source": [
    "## set X_test, y_test as OOB samples\n",
    "## set X_train, y_train as sample for bootstrap\n",
    "X_train, X_test, y_train, y_test = train_test_split(metadata, metadata[\"PD\"], test_size=0.25, random_state=100)"
   ]
  },
  {
   "cell_type": "code",
   "execution_count": 40,
   "metadata": {},
   "outputs": [],
   "source": [
    "def bootstrap_model(metadata, model):\n",
    "    X_train, X_test, y_train, y_test = \\\n",
    "                        train_test_split(metadata, \n",
    "                                         metadata[\"PD\"], \n",
    "                                         test_size=0.25, \n",
    "                                         random_state=100)\n",
    "    performance_dict = {}\n",
    "    for B in range(1,101):\n",
    "#         performance_dict[\"bootstrap_sample %s\" %B] = \n",
    "        y_train_boot   = resample(y_train, replace=True, random_state=100)\n",
    "        model.fit(X_train, y_train_boot)\n",
    "        y_pred = model.predict(X_test)\n",
    "        results = metrics.roc_auc_score(y_test, y_pred)\n",
    "        performance_dict[\"bootstrap_sample %s\" %B] = [results]  \n",
    "    return performance_dict"
   ]
  },
  {
   "cell_type": "code",
   "execution_count": 47,
   "metadata": {},
   "outputs": [],
   "source": [
    "## grouped by median ##\n",
    "OHE_metadata = metadata[[\"version\", \"age\", \"gender\", \"PD\"]]\n",
    "OHE_metadata = one_hot_encoder(OHE_metadata, \"version\", \"gender\")"
   ]
  }
 ],
 "metadata": {
  "kernelspec": {
   "display_name": "synapse_venv",
   "language": "python",
   "name": "synapse_venv"
  },
  "language_info": {
   "codemirror_mode": {
    "name": "ipython",
    "version": 3
   },
   "file_extension": ".py",
   "mimetype": "text/x-python",
   "name": "python",
   "nbconvert_exporter": "python",
   "pygments_lexer": "ipython3",
   "version": "3.7.4"
  }
 },
 "nbformat": 4,
 "nbformat_minor": 4
}
