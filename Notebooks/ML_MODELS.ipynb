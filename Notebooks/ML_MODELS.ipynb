{
 "cells": [
  {
   "cell_type": "code",
   "execution_count": 1,
   "metadata": {},
   "outputs": [
    {
     "name": "stderr",
     "output_type": "stream",
     "text": [
      "C:\\Users\\atedi\\OneDrive\\Documents\\SageBionetworks\\synapse\\lib\\site-packages\\sklearn\\externals\\joblib\\__init__.py:15: DeprecationWarning: sklearn.externals.joblib is deprecated in 0.21 and will be removed in 0.23. Please import this functionality directly from joblib, which can be installed with: pip install joblib. If this warning is raised when loading pickled models, you may need to re-serialize those models with scikit-learn 0.21+.\n",
      "  warnings.warn(msg, category=DeprecationWarning)\n"
     ]
    }
   ],
   "source": [
    "## imports ##\n",
    "\n",
    "import sys\n",
    "sys.path.append(\"../PythonScripts\")\n",
    "from ML_utils import LogTransformer, DropFeatures, addAdditionalFeatures, collapseFeatures\n",
    "from sklearn.model_selection import train_test_split\n",
    "from sklearn.preprocessing import StandardScaler, MinMaxScaler\n",
    "from sklearn.decomposition import PCA\n",
    "from sklearn.pipeline import Pipeline\n",
    "from sklearn.externals import joblib\n",
    "from sklearn.linear_model import LogisticRegression\n",
    "from sklearn import svm, decomposition, tree\n",
    "from sklearn.ensemble import RandomForestClassifier, GradientBoostingClassifier, ExtraTreesClassifier\n",
    "from sklearn import metrics\n",
    "from sklearn.model_selection import learning_curve, GridSearchCV, cross_val_score, validation_curve\n",
    "from sklearn.metrics import classification_report, confusion_matrix\n",
    "import pandas as pd\n",
    "import numpy as np\n",
    "import warnings\n",
    "from sklearn.feature_selection import RFECV, SelectKBest, chi2, SelectFromModel, RFE\n",
    "from xgboost import XGBClassifier\n",
    "import seaborn as sns\n",
    "import matplotlib.pyplot as plt\n",
    "import numpy as np\n",
    "from sklearn.base import BaseEstimator, TransformerMixin\n",
    "import synapseclient as sc\n",
    "%matplotlib inline\n",
    "\n",
    "warnings.simplefilter(\"ignore\")\n",
    "sns.set_style(\"dark\")\n",
    "np.random.seed(100)"
   ]
  },
  {
   "cell_type": "markdown",
   "metadata": {},
   "source": [
    "## Contents:\n",
    "\n",
    "- Gait data being used is based on the PDKit mPowerV1 data, collapsed by each healthCode ids\n",
    "- Features chosen are based on a feature_engineering.ipnb\n",
    "- For this ML Analysis, we will split the training-test set by 20%\n",
    "- Parameters will be searched through grid search (GridSearchCV) and the score is assessed using Stratified 10-Fold Validation \n",
    "- Models being used: Logistic Regression, Xtreme Gradient Boost, Sklearn Gradient Boost and Random Forests\n",
    "- Feature elimination will be done on several model using recursive feature elimination CV (Sklearn RFECV package)\n",
    "- Learning Curves of each model (Work in progress)\n",
    "- Best model will be dump into .pkl file (Work in progress)"
   ]
  },
  {
   "cell_type": "markdown",
   "metadata": {},
   "source": [
    "## Helper Functions"
   ]
  },
  {
   "cell_type": "code",
   "execution_count": 130,
   "metadata": {},
   "outputs": [],
   "source": [
    "def preprocess(X, feature_engineered):\n",
    "    X = X.copy()\n",
    "    \n",
    "    if feature_engineered == False:\n",
    "        X = collapseFeatures(aggregation_type = \"max\").transform(X)\n",
    "        return X\n",
    "    else:\n",
    "        X = addAdditionalFeatures().transform(X)\n",
    "        X = collapseFeatures(aggregation_type = \"max\").transform(X)\n",
    "        X = LogTransformer(variables = [feat for feat in X.columns if (\"frequency_of_peaks\" in feat)]).transform(X)\n",
    "        X = DropFeatures(variables_to_drop = [feat for feat in X.columns if (\"stride_regularity\" in feat)]).transform(X)\n",
    "        X = DropFeatures(variables_to_drop = [\"MAX_x.freeze_occurences\", \n",
    "                                              \"MAX_y.freeze_occurences\", \n",
    "                                              \"MAX_z.freeze_occurences\",\n",
    "                                              \"MAX_AA.freeze_occurences\",\n",
    "                                              \"MAX_x.no_of_steps\", \n",
    "                                              \"MAX_y.no_of_steps\", \n",
    "                                              \"MAX_z.no_of_steps\",\n",
    "                                              \"MAX_FC.no_of_steps\",\n",
    "                                              \"MAX_AA.no_of_steps\",\n",
    "                                              \"MAX_x.frequency_of_peaks\", \n",
    "                                              \"MAX_y.frequency_of_peaks\", \n",
    "                                              \"MAX_z.frequency_of_peaks\",\n",
    "                                              \"MAX_AA.frequency_of_peaks\",\n",
    "                                              \"duration\"]).transform(X)\n",
    "        return X\n",
    "\n",
    "def logreg_fit(X_train, y_train):\n",
    "    pipe = Pipeline(steps=[\n",
    "        (\"feature_selection\", SelectFromModel(ExtraTreesClassifier(n_estimators = 100,\n",
    "                                                                   random_state  = 100))),\n",
    "        ('scaler', StandardScaler()),\n",
    "        ('classifier', LogisticRegression(random_state = 100))\n",
    "        ])\n",
    "    param = {}\n",
    "    CV = GridSearchCV(estimator = pipe, param_grid = param , scoring= \"roc_auc\", n_jobs = 1, cv = 10)\n",
    "    CV.fit(X_train, y_train)\n",
    "    return CV\n",
    "\n",
    "\n",
    "def xgb_fit(X_train, y_train):\n",
    "    pipe = Pipeline(steps=[\n",
    "        (\"feature_selection\", SelectFromModel(ExtraTreesClassifier(n_estimators = 100,\n",
    "                                                            random_state  = 100))),\n",
    "        ('classifier', XGBClassifier(seed = 100))\n",
    "        ])\n",
    "    param = {}\n",
    "    CV = GridSearchCV(estimator = pipe, param_grid = param , scoring= \"roc_auc\", n_jobs = 1, cv = 10)\n",
    "    CV.fit(X_train, y_train)\n",
    "    return CV\n",
    "    \n",
    "\n",
    "def gradientboost_fit(X_train, y_train):\n",
    "    pipe = Pipeline(steps=[\n",
    "        (\"feature_selection\", SelectFromModel(estimator = ExtraTreesClassifier(n_estimators = 100,\n",
    "                                                                              random_state  = 100))),\n",
    "        ('classifier', GradientBoostingClassifier(random_state = 100))\n",
    "        ])\n",
    "    param = {}\n",
    "    CV = GridSearchCV(estimator = pipe, param_grid = param , scoring= \"roc_auc\", n_jobs = 1, cv = 10)\n",
    "    CV.fit(X_train, y_train)\n",
    "    return CV\n",
    "\n",
    "def randomforest_fit(X_train, y_train):\n",
    "    pipe = Pipeline(steps=[\n",
    "        (\"feature_selection\", SelectFromModel(estimator = ExtraTreesClassifier(n_estimators = 100,\n",
    "                                                                              random_state = 100))),\n",
    "        ('classifier', RandomForestClassifier(random_state = 100))\n",
    "    ])\n",
    "    param = {}\n",
    "    CV = GridSearchCV(estimator = pipe, param_grid = param , scoring= \"roc_auc\", n_jobs = 1, cv = 10)\n",
    "    CV.fit(X_train, y_train)\n",
    "    return CV\n",
    "\n",
    "\n",
    "def printPerformance(model, X_test, y_test):\n",
    "    print(\"Mean AUC score on K-folds: {}\".format(model.best_score_))\n",
    "    print(\"Parameter Used: {}\".format(model.best_params_))\n",
    "    y_true, y_pred = y_test, model.predict(X_test)\n",
    "    print(\"ROC-AUC on Test-Set: {}\".format(metrics.roc_auc_score(y_true, y_pred)))\n",
    "    print(\"log-loss: {}\".format(metrics.log_loss(y_true, y_pred)))\n",
    "    print(\"Precision: {}\".format(metrics.precision_score(y_true, y_pred)))\n",
    "    print(\"Recall: {}\".format(metrics.recall_score(y_true, y_pred)))\n",
    "    print(\"F1-Score: {}\".format(metrics.f1_score(y_true, y_pred)))"
   ]
  },
  {
   "cell_type": "markdown",
   "metadata": {},
   "source": [
    "## Get Baseline Model and Feature Engineered Data"
   ]
  },
  {
   "cell_type": "code",
   "execution_count": 131,
   "metadata": {},
   "outputs": [
    {
     "name": "stdout",
     "output_type": "stream",
     "text": [
      "Welcome, aryton tediarjo!\n",
      "\n"
     ]
    }
   ],
   "source": [
    "syn = sc.login()"
   ]
  },
  {
   "cell_type": "code",
   "execution_count": 132,
   "metadata": {},
   "outputs": [],
   "source": [
    "## Baseline ## \n",
    "entity = syn.get(\"syn21046180\")\n",
    "data   = pd.read_csv(entity[\"path\"], index_col = 0)"
   ]
  },
  {
   "cell_type": "code",
   "execution_count": 133,
   "metadata": {},
   "outputs": [],
   "source": [
    "feature_columns = [feat for feat in data.columns if (\".\" in feat) \n",
    "                   or (\"duration\" in feat) or (\"healthCode\" in feat)]\n",
    "demographic_columns = [feat for feat in data.columns if \".\" not in feat]"
   ]
  },
  {
   "cell_type": "code",
   "execution_count": 134,
   "metadata": {},
   "outputs": [],
   "source": [
    "## Baseline model without collapsed features ##\n",
    "walking_X_train, walking_X_test, walking_y_train, walking_y_test = \\\n",
    "            train_test_split(data[feature_columns], \n",
    "                             data[\"PD\"], test_size=0.25, random_state = 100)"
   ]
  },
  {
   "cell_type": "markdown",
   "metadata": {},
   "source": [
    "## Run Model on Walking Data"
   ]
  },
  {
   "cell_type": "code",
   "execution_count": 135,
   "metadata": {},
   "outputs": [],
   "source": [
    "def run_some_models(data, is_preprocess, is_feature_engineered):\n",
    "    if is_preprocess == True:\n",
    "        data = preprocess(data, is_feature_engineered)\n",
    "        \n",
    "    ## list of feature columns ## \n",
    "    feature_columns = [feat for feat in data.columns if (\".\" in feat)]\n",
    "    ## Baseline model without collapsed features ##\n",
    "    X_train, X_test, y_train, y_test = \\\n",
    "            train_test_split(data[feature_columns], \n",
    "                             data[\"PD\"], test_size=0.25, random_state = 100)\n",
    "    \n",
    "    print(\"features used: {}\".format(X_train.columns))\n",
    "    \n",
    "    ## run preliminary models ##\n",
    "    lr_walking_model = logreg_fit(X_train, \n",
    "                                  y_train)\n",
    "    rf_walking_model = randomforest_fit(X_train, \n",
    "                                        y_train)\n",
    "    gb_walking_model = gradientboost_fit(X_train, \n",
    "                                         y_train)\n",
    "    xgb_walking_model = xgb_fit(X_train, \n",
    "                                y_train)\n",
    "    print(\"\\n### Gradient Boosting Walking ###\")\n",
    "    printPerformance(gb_walking_model, X_test, y_test)\n",
    "    print(\"\\n### XTreme Gradient Boosting Walking ###\")\n",
    "    printPerformance(xgb_walking_model, X_test, y_test)\n",
    "    print(\"\\n### Random Forest Walking ###\")\n",
    "    printPerformance(rf_walking_model, X_test, y_test)\n",
    "    print(\"\\n### Logistic Regression Walking ###\")\n",
    "    printPerformance(lr_walking_model, X_test, y_test)"
   ]
  },
  {
   "cell_type": "code",
   "execution_count": 136,
   "metadata": {},
   "outputs": [
    {
     "name": "stdout",
     "output_type": "stream",
     "text": [
      "features used: Index(['MAX_x.no_of_steps', 'MAX_x.gait_step_regularity',\n",
      "       'MAX_x.gait_stride_regularity', 'MAX_x.gait_symmetry',\n",
      "       'MAX_x.frequency_of_peaks', 'MAX_x.max_freeze_index',\n",
      "       'MAX_x.freeze_occurences', 'MAX_x.speed_of_gait', 'MAX_y.no_of_steps',\n",
      "       'MAX_y.gait_step_regularity', 'MAX_y.gait_stride_regularity',\n",
      "       'MAX_y.gait_symmetry', 'MAX_y.frequency_of_peaks',\n",
      "       'MAX_y.max_freeze_index', 'MAX_y.freeze_occurences',\n",
      "       'MAX_y.speed_of_gait', 'MAX_z.no_of_steps',\n",
      "       'MAX_z.gait_step_regularity', 'MAX_z.gait_stride_regularity',\n",
      "       'MAX_z.gait_symmetry', 'MAX_z.frequency_of_peaks',\n",
      "       'MAX_z.max_freeze_index', 'MAX_z.freeze_occurences',\n",
      "       'MAX_z.speed_of_gait', 'MAX_AA.no_of_steps',\n",
      "       'MAX_AA.gait_step_regularity', 'MAX_AA.gait_stride_regularity',\n",
      "       'MAX_AA.gait_symmetry', 'MAX_AA.frequency_of_peaks',\n",
      "       'MAX_AA.max_freeze_index', 'MAX_AA.freeze_occurences',\n",
      "       'MAX_AA.speed_of_gait'],\n",
      "      dtype='object')\n",
      "\n",
      "### Gradient Boosting Walking ###\n",
      "Mean AUC score on K-folds: 0.5241815476190477\n",
      "Parameter Used: {}\n",
      "ROC-AUC on Test-Set: 0.5576923076923077\n",
      "log-loss: 15.11088125557138\n",
      "Precision: 0.5238095238095238\n",
      "Recall: 0.5\n",
      "F1-Score: 0.5116279069767442\n",
      "\n",
      "### XTreme Gradient Boosting Walking ###\n",
      "Mean AUC score on K-folds: 0.5806051587301588\n",
      "Parameter Used: {}\n",
      "ROC-AUC on Test-Set: 0.6608391608391609\n",
      "log-loss: 11.513042072928798\n",
      "Precision: 0.65\n",
      "Recall: 0.5909090909090909\n",
      "F1-Score: 0.6190476190476191\n",
      "\n",
      "### Random Forest Walking ###\n",
      "Mean AUC score on K-folds: 0.585751488095238\n",
      "Parameter Used: {}\n",
      "ROC-AUC on Test-Set: 0.6835664335664335\n",
      "log-loss: 10.79348423136816\n",
      "Precision: 0.6666666666666666\n",
      "Recall: 0.6363636363636364\n",
      "F1-Score: 0.6511627906976744\n",
      "\n",
      "### Logistic Regression Walking ###\n",
      "Mean AUC score on K-folds: 0.6277281746031746\n",
      "Parameter Used: {}\n",
      "ROC-AUC on Test-Set: 0.7062937062937062\n",
      "log-loss: 10.07392638980752\n",
      "Precision: 0.6818181818181818\n",
      "Recall: 0.6818181818181818\n",
      "F1-Score: 0.6818181818181818\n"
     ]
    }
   ],
   "source": [
    "## model on max collapsed features ##\n",
    "run_some_models(data, is_preprocess = True, is_feature_engineered = False)"
   ]
  },
  {
   "cell_type": "code",
   "execution_count": 137,
   "metadata": {},
   "outputs": [
    {
     "name": "stdout",
     "output_type": "stream",
     "text": [
      "features used: Index(['MAX_x.gait_step_regularity', 'MAX_x.gait_symmetry',\n",
      "       'MAX_x.max_freeze_index', 'MAX_x.speed_of_gait',\n",
      "       'MAX_y.gait_step_regularity', 'MAX_y.gait_symmetry',\n",
      "       'MAX_y.max_freeze_index', 'MAX_y.speed_of_gait',\n",
      "       'MAX_z.gait_step_regularity', 'MAX_z.gait_symmetry',\n",
      "       'MAX_z.max_freeze_index', 'MAX_z.speed_of_gait',\n",
      "       'MAX_AA.gait_step_regularity', 'MAX_AA.gait_symmetry',\n",
      "       'MAX_AA.max_freeze_index', 'MAX_AA.speed_of_gait',\n",
      "       'MAX_FC.speed_of_gait', 'MAX_FC.no_of_steps_per_sec',\n",
      "       'MAX_x.freeze_occurences_per_sec', 'MAX_y.freeze_occurences_per_sec',\n",
      "       'MAX_z.freeze_occurences_per_sec', 'MAX_AA.freeze_occurences_per_sec',\n",
      "       'MAX_x.frequency_of_peaks_log', 'MAX_y.frequency_of_peaks_log',\n",
      "       'MAX_z.frequency_of_peaks_log', 'MAX_AA.frequency_of_peaks_log'],\n",
      "      dtype='object')\n",
      "\n",
      "### Gradient Boosting Walking ###\n",
      "Mean AUC score on K-folds: 0.5859374999999999\n",
      "Parameter Used: {}\n",
      "ROC-AUC on Test-Set: 0.6223776223776224\n",
      "log-loss: 12.952191072609667\n",
      "Precision: 0.5909090909090909\n",
      "Recall: 0.5909090909090909\n",
      "F1-Score: 0.5909090909090909\n",
      "\n",
      "### XTreme Gradient Boosting Walking ###\n",
      "Mean AUC score on K-folds: 0.6212797619047621\n",
      "Parameter Used: {}\n",
      "ROC-AUC on Test-Set: 0.596153846153846\n",
      "log-loss: 13.671732255890511\n",
      "Precision: 0.5789473684210527\n",
      "Recall: 0.5\n",
      "F1-Score: 0.5365853658536586\n",
      "\n",
      "### Random Forest Walking ###\n",
      "Mean AUC score on K-folds: 0.6301463293650793\n",
      "Parameter Used: {}\n",
      "ROC-AUC on Test-Set: 0.5052447552447552\n",
      "log-loss: 16.549963622133067\n",
      "Precision: 0.4666666666666667\n",
      "Recall: 0.3181818181818182\n",
      "F1-Score: 0.3783783783783784\n",
      "\n",
      "### Logistic Regression Walking ###\n",
      "Mean AUC score on K-folds: 0.6220238095238095\n",
      "Parameter Used: {}\n",
      "ROC-AUC on Test-Set: 0.645104895104895\n",
      "log-loss: 12.232633231049027\n",
      "Precision: 0.6086956521739131\n",
      "Recall: 0.6363636363636364\n",
      "F1-Score: 0.6222222222222223\n"
     ]
    }
   ],
   "source": [
    "## model on max collapsed features ##\n",
    "run_some_models(data, is_preprocess = True, is_feature_engineered = True)"
   ]
  },
  {
   "cell_type": "markdown",
   "metadata": {},
   "source": [
    "## Results"
   ]
  },
  {
   "cell_type": "code",
   "execution_count": 108,
   "metadata": {},
   "outputs": [
    {
     "name": "stdout",
     "output_type": "stream",
     "text": [
      "              precision    recall  f1-score   support\n",
      "\n",
      "           0       0.73      0.73      0.73        26\n",
      "           1       0.68      0.68      0.68        22\n",
      "\n",
      "    accuracy                           0.71        48\n",
      "   macro avg       0.71      0.71      0.71        48\n",
      "weighted avg       0.71      0.71      0.71        48\n",
      "\n"
     ]
    }
   ],
   "source": [
    "print(metrics.classification_report(gb_walking_model.predict(walking_X_test), \n",
    "                                    walking_y_test))"
   ]
  },
  {
   "cell_type": "code",
   "execution_count": 60,
   "metadata": {},
   "outputs": [
    {
     "data": {
      "text/html": [
       "<div>\n",
       "<style scoped>\n",
       "    .dataframe tbody tr th:only-of-type {\n",
       "        vertical-align: middle;\n",
       "    }\n",
       "\n",
       "    .dataframe tbody tr th {\n",
       "        vertical-align: top;\n",
       "    }\n",
       "\n",
       "    .dataframe thead th {\n",
       "        text-align: right;\n",
       "    }\n",
       "</style>\n",
       "<table border=\"1\" class=\"dataframe\">\n",
       "  <thead>\n",
       "    <tr style=\"text-align: right;\">\n",
       "      <th>Predicted</th>\n",
       "      <th>0</th>\n",
       "      <th>1</th>\n",
       "    </tr>\n",
       "    <tr>\n",
       "      <th>Actual</th>\n",
       "      <th></th>\n",
       "      <th></th>\n",
       "    </tr>\n",
       "  </thead>\n",
       "  <tbody>\n",
       "    <tr>\n",
       "      <th>0</th>\n",
       "      <td>19</td>\n",
       "      <td>7</td>\n",
       "    </tr>\n",
       "    <tr>\n",
       "      <th>1</th>\n",
       "      <td>7</td>\n",
       "      <td>15</td>\n",
       "    </tr>\n",
       "  </tbody>\n",
       "</table>\n",
       "</div>"
      ],
      "text/plain": [
       "Predicted   0   1\n",
       "Actual           \n",
       "0          19   7\n",
       "1           7  15"
      ]
     },
     "execution_count": 60,
     "metadata": {},
     "output_type": "execute_result"
    }
   ],
   "source": [
    "pd.crosstab(gb_walking_model.best_estimator_.predict(walking_X_test), \n",
    "            walking_y_test, \n",
    "            rownames = [\"Actual\"], \n",
    "            colnames = [\"Predicted\"])"
   ]
  },
  {
   "cell_type": "code",
   "execution_count": 61,
   "metadata": {},
   "outputs": [
    {
     "name": "stdout",
     "output_type": "stream",
     "text": [
      "              precision    recall  f1-score   support\n",
      "\n",
      "           0       0.77      0.65      0.70        31\n",
      "           1       0.50      0.65      0.56        17\n",
      "\n",
      "    accuracy                           0.65        48\n",
      "   macro avg       0.63      0.65      0.63        48\n",
      "weighted avg       0.67      0.65      0.65        48\n",
      "\n"
     ]
    }
   ],
   "source": [
    "print(metrics.classification_report(rf_walking_model.predict(walking_X_test), \n",
    "                                    walking_y_test))"
   ]
  },
  {
   "cell_type": "code",
   "execution_count": 62,
   "metadata": {},
   "outputs": [
    {
     "data": {
      "text/html": [
       "<div>\n",
       "<style scoped>\n",
       "    .dataframe tbody tr th:only-of-type {\n",
       "        vertical-align: middle;\n",
       "    }\n",
       "\n",
       "    .dataframe tbody tr th {\n",
       "        vertical-align: top;\n",
       "    }\n",
       "\n",
       "    .dataframe thead th {\n",
       "        text-align: right;\n",
       "    }\n",
       "</style>\n",
       "<table border=\"1\" class=\"dataframe\">\n",
       "  <thead>\n",
       "    <tr style=\"text-align: right;\">\n",
       "      <th>Predicted</th>\n",
       "      <th>0</th>\n",
       "      <th>1</th>\n",
       "    </tr>\n",
       "    <tr>\n",
       "      <th>Actual</th>\n",
       "      <th></th>\n",
       "      <th></th>\n",
       "    </tr>\n",
       "  </thead>\n",
       "  <tbody>\n",
       "    <tr>\n",
       "      <th>0</th>\n",
       "      <td>20</td>\n",
       "      <td>11</td>\n",
       "    </tr>\n",
       "    <tr>\n",
       "      <th>1</th>\n",
       "      <td>6</td>\n",
       "      <td>11</td>\n",
       "    </tr>\n",
       "  </tbody>\n",
       "</table>\n",
       "</div>"
      ],
      "text/plain": [
       "Predicted   0   1\n",
       "Actual           \n",
       "0          20  11\n",
       "1           6  11"
      ]
     },
     "execution_count": 62,
     "metadata": {},
     "output_type": "execute_result"
    }
   ],
   "source": [
    "pd.crosstab(rf_walking_model.best_estimator_.predict(walking_X_test), \n",
    "            walking_y_test, \n",
    "            rownames = [\"Actual\"], \n",
    "            colnames = [\"Predicted\"])"
   ]
  },
  {
   "cell_type": "code",
   "execution_count": 63,
   "metadata": {},
   "outputs": [
    {
     "name": "stdout",
     "output_type": "stream",
     "text": [
      "              precision    recall  f1-score   support\n",
      "\n",
      "           0       0.85      0.69      0.76        32\n",
      "           1       0.55      0.75      0.63        16\n",
      "\n",
      "    accuracy                           0.71        48\n",
      "   macro avg       0.70      0.72      0.70        48\n",
      "weighted avg       0.75      0.71      0.72        48\n",
      "\n"
     ]
    }
   ],
   "source": [
    "print(metrics.classification_report(xgb_walking_model.predict(walking_X_test), \n",
    "                                    walking_y_test))"
   ]
  },
  {
   "cell_type": "code",
   "execution_count": 64,
   "metadata": {},
   "outputs": [
    {
     "data": {
      "text/html": [
       "<div>\n",
       "<style scoped>\n",
       "    .dataframe tbody tr th:only-of-type {\n",
       "        vertical-align: middle;\n",
       "    }\n",
       "\n",
       "    .dataframe tbody tr th {\n",
       "        vertical-align: top;\n",
       "    }\n",
       "\n",
       "    .dataframe thead th {\n",
       "        text-align: right;\n",
       "    }\n",
       "</style>\n",
       "<table border=\"1\" class=\"dataframe\">\n",
       "  <thead>\n",
       "    <tr style=\"text-align: right;\">\n",
       "      <th>Predicted</th>\n",
       "      <th>0</th>\n",
       "      <th>1</th>\n",
       "    </tr>\n",
       "    <tr>\n",
       "      <th>Actual</th>\n",
       "      <th></th>\n",
       "      <th></th>\n",
       "    </tr>\n",
       "  </thead>\n",
       "  <tbody>\n",
       "    <tr>\n",
       "      <th>0</th>\n",
       "      <td>22</td>\n",
       "      <td>10</td>\n",
       "    </tr>\n",
       "    <tr>\n",
       "      <th>1</th>\n",
       "      <td>4</td>\n",
       "      <td>12</td>\n",
       "    </tr>\n",
       "  </tbody>\n",
       "</table>\n",
       "</div>"
      ],
      "text/plain": [
       "Predicted   0   1\n",
       "Actual           \n",
       "0          22  10\n",
       "1           4  12"
      ]
     },
     "execution_count": 64,
     "metadata": {},
     "output_type": "execute_result"
    }
   ],
   "source": [
    "pd.crosstab(xgb_walking_model.best_estimator_.predict(walking_X_test), \n",
    "            walking_y_test, \n",
    "            rownames = [\"Actual\"], \n",
    "            colnames = [\"Predicted\"])"
   ]
  },
  {
   "cell_type": "code",
   "execution_count": 65,
   "metadata": {},
   "outputs": [
    {
     "name": "stdout",
     "output_type": "stream",
     "text": [
      "### RF Feature Importances ####\n"
     ]
    },
    {
     "data": {
      "text/plain": [
       "MAX_x.max_freeze_index              0.174516\n",
       "MAX_z.gait_symmetry                 0.141352\n",
       "MAX_AA.gait_symmetry                0.108085\n",
       "MAX_y.log_frequency_of_peaks        0.098892\n",
       "MAX_AA.freeze_occurences_per_sec    0.093319\n",
       "MAX_z.freeze_occurences_per_sec     0.085955\n",
       "MAX_z.max_freeze_index              0.075531\n",
       "MAX_x.gait_symmetry                 0.074412\n",
       "MAX_y.max_freeze_index              0.067576\n",
       "MAX_x.freeze_occurences_per_sec     0.045399\n",
       "MAX_fc.no_of_steps_per_sec          0.034964\n",
       "dtype: float64"
      ]
     },
     "execution_count": 65,
     "metadata": {},
     "output_type": "execute_result"
    }
   ],
   "source": [
    "## Model Feature Importances by Gini Index\n",
    "print(\"### RF Feature Importances ####\")\n",
    "\n",
    "pd.Series(data = rf_walking_model.best_estimator_[\"classifier\"].feature_importances_, \n",
    "          index = walking_X_train.columns[rf_walking_model.best_estimator_[\"feature_selection\"].get_support()]).sort_values(ascending = False)"
   ]
  },
  {
   "cell_type": "code",
   "execution_count": 66,
   "metadata": {},
   "outputs": [
    {
     "name": "stdout",
     "output_type": "stream",
     "text": [
      "### GB Feature Importances ####\n"
     ]
    },
    {
     "data": {
      "text/plain": [
       "MAX_x.max_freeze_index              0.190537\n",
       "MAX_x.gait_symmetry                 0.121187\n",
       "MAX_z.gait_symmetry                 0.119094\n",
       "MAX_x.freeze_occurences_per_sec     0.110906\n",
       "MAX_AA.freeze_occurences_per_sec    0.106599\n",
       "MAX_AA.gait_symmetry                0.078841\n",
       "MAX_fc.no_of_steps_per_sec          0.077961\n",
       "MAX_z.freeze_occurences_per_sec     0.061659\n",
       "MAX_z.max_freeze_index              0.052750\n",
       "MAX_y.max_freeze_index              0.045077\n",
       "MAX_y.log_frequency_of_peaks        0.035390\n",
       "dtype: float64"
      ]
     },
     "execution_count": 66,
     "metadata": {},
     "output_type": "execute_result"
    }
   ],
   "source": [
    "## Model Feature Importances\n",
    "print(\"### GB Feature Importances ####\")\n",
    "\n",
    "\n",
    "pd.Series(data = gb_walking_model.best_estimator_[\"classifier\"].feature_importances_, \n",
    "          index = walking_X_train.columns[gb_walking_model.best_estimator_[\"feature_selection\"].get_support()]).sort_values(ascending = False)"
   ]
  },
  {
   "cell_type": "markdown",
   "metadata": {},
   "source": [
    "# Learning Curves"
   ]
  },
  {
   "cell_type": "code",
   "execution_count": 68,
   "metadata": {},
   "outputs": [
    {
     "data": {
      "image/png": "[encoded data removed]",
      "text/plain": [
       "<Figure size 432x288 with 1 Axes>"
      ]
     },
     "metadata": {},
     "output_type": "display_data"
    }
   ],
   "source": [
    "train_sizes, train_scores, valid_scores = learning_curve(rf_walking_model.best_estimator_, \n",
    "                                                         walking_X_train, walking_y_train, \n",
    "                                                         scoring = \"neg_log_loss\", \n",
    "                                                         cv = 10, random_state = 100, \n",
    "                                                         train_sizes = np.linspace(0.1, 1, 10))\n",
    "pd.DataFrame(data = {\"train_scores\": np.mean(train_scores, axis = 1) * -1, \n",
    "                     \"valid_scores\": np.mean(valid_scores, axis = 1) * -1}, index = train_sizes).plot()\n",
    "plt.ylabel(\"Loss\")\n",
    "plt.title(\"Random Forest Learning Curve\")\n",
    "plt.xlabel(\"Training Size\")\n",
    "plt.grid()"
   ]
  },
  {
   "cell_type": "code",
   "execution_count": 69,
   "metadata": {},
   "outputs": [
    {
     "data": {
      "image/png": "[encoded data removed]",
      "text/plain": [
       "<Figure size 432x288 with 1 Axes>"
      ]
     },
     "metadata": {},
     "output_type": "display_data"
    }
   ],
   "source": [
    "train_sizes, train_scores, valid_scores = learning_curve(xgb_walking_model.best_estimator_, \n",
    "                                                         walking_X_train, walking_y_train, \n",
    "                                                         scoring = \"neg_log_loss\", \n",
    "                                                         cv = 10, \n",
    "                                                         random_state = 100, \n",
    "                                                         train_sizes = np.linspace(0.1, 1, 10))\n",
    "pd.DataFrame(data = {\"train_scores\": np.mean(train_scores, axis = 1) * -1, \n",
    "                     \"valid_scores\": np.mean(valid_scores, axis = 1) * -1}, index = train_sizes).plot()\n",
    "plt.ylabel(\"Loss\")\n",
    "plt.title(\"Xtreme Gradient Boosting Learning Curve\")\n",
    "plt.xlabel(\"Training Size\")\n",
    "plt.grid()"
   ]
  },
  {
   "cell_type": "code",
   "execution_count": 70,
   "metadata": {},
   "outputs": [
    {
     "data": {
      "image/png": "[encoded data removed]",
      "text/plain": [
       "<Figure size 432x288 with 1 Axes>"
      ]
     },
     "metadata": {},
     "output_type": "display_data"
    }
   ],
   "source": [
    "train_sizes, train_scores, valid_scores = learning_curve(gb_walking_model.best_estimator_, \n",
    "                                                         walking_X_train, walking_y_train, \n",
    "                                                         scoring = \"neg_log_loss\", \n",
    "                                                         cv = 10, \n",
    "                                                         random_state = 100, \n",
    "                                                         train_sizes = np.linspace(0.1, 1, 10))\n",
    "pd.DataFrame(data = {\"train_scores\": np.mean(train_scores, axis = 1) * -1, \n",
    "                     \"valid_scores\": np.mean(valid_scores, axis = 1) * -1}, index = train_sizes).plot()\n",
    "plt.ylabel(\"Loss\")\n",
    "plt.title(\"Sklearn Gradient Boosting Learning Curve\")\n",
    "plt.xlabel(\"Training Size\")\n",
    "plt.grid()"
   ]
  },
  {
   "cell_type": "markdown",
   "metadata": {},
   "source": [
    "# Balance Data"
   ]
  },
  {
   "cell_type": "code",
   "execution_count": 30,
   "metadata": {},
   "outputs": [],
   "source": [
    "balance_train = pd.read_csv(\"../Data/BALANCE_TRAINING_DATA.csv\", index_col=0).reset_index(drop = True)\n",
    "balance_X_train, balance_X_test, balance_y_train, balance_y_test = \\\n",
    "train_test_split(balance_train.drop([\"PD\"],axis = 1), balance_train[\"PD\"], test_size=0.20, random_state = 100)"
   ]
  },
  {
   "cell_type": "code",
   "execution_count": 31,
   "metadata": {},
   "outputs": [
    {
     "name": "stdout",
     "output_type": "stream",
     "text": [
      "\n",
      "### Gradient Boosting Walking ###\n",
      "Mean AUC score on K-folds: 0.7145191409897292\n",
      "Parameter Used: {'classifier__learning_rate': 0.001, 'classifier__loss': 'deviance', 'classifier__max_depth': 2, 'classifier__n_estimators': 100}\n",
      "ROC-AUC on Test-Set: 0.46825396825396826\n",
      "log-loss: 19.48382237529844\n",
      "Precision: 0.4444444444444444\n",
      "Recall: 0.8888888888888888\n",
      "F1-Score: 0.5925925925925926\n",
      "\n",
      "### XTreme Gradient Boosting Walking ###\n",
      "Mean AUC score on K-folds: 0.6674836601307189\n",
      "Parameter Used: {'classifier__gamma': 1, 'classifier__learning_rate': 0.01, 'classifier__max_depth': 6, 'classifier__n_estimators': 100, 'classifier__subsample': 0.8, 'classifier__tree_method': 'hist'}\n",
      "ROC-AUC on Test-Set: 0.46825396825396826\n",
      "log-loss: 18.59806920665941\n",
      "Precision: 0.43478260869565216\n",
      "Recall: 0.5555555555555556\n",
      "F1-Score: 0.4878048780487805\n",
      "\n",
      "### Random Forest Walking ###\n",
      "Mean AUC score on K-folds: 0.6847572362278244\n",
      "Parameter Used: {'classifier__criterion': 'entropy', 'classifier__max_depth': 2, 'classifier__max_features': None, 'classifier__n_estimators': 100}\n",
      "ROC-AUC on Test-Set: 0.36111111111111116\n",
      "log-loss: 22.14052831376384\n",
      "Precision: 0.3333333333333333\n",
      "Recall: 0.3888888888888889\n",
      "F1-Score: 0.358974358974359\n",
      "\n",
      "### Logistic Regression Walking ###\n",
      "Mean AUC score on K-folds: 0.6972455648926237\n",
      "Parameter Used: {'classifier__penalty': 'l2', 'classifier__solver': 'newton-cg'}\n",
      "ROC-AUC on Test-Set: 0.4642857142857143\n",
      "log-loss: 18.5980487041612\n",
      "Precision: 0.42857142857142855\n",
      "Recall: 0.5\n",
      "F1-Score: 0.4615384615384615\n"
     ]
    }
   ],
   "source": [
    "lr_balance_model = logreg_fit(balance_X_train, balance_y_train)\n",
    "rf_balance_model = randomforest_fit(balance_X_train, balance_y_train)\n",
    "gb_balance_model = gradientboost_fit(balance_X_train, balance_y_train)\n",
    "xgb_balance_model = xgb_fit(balance_X_train, balance_y_train)\n",
    "\n",
    "\n",
    "print(\"\\n### Gradient Boosting Walking ###\")\n",
    "printPerformance(gb_balance_model, balance_X_test, balance_y_test)\n",
    "print(\"\\n### XTreme Gradient Boosting Walking ###\")\n",
    "printPerformance(xgb_balance_model, balance_X_test, balance_y_test)\n",
    "print(\"\\n### Random Forest Walking ###\")\n",
    "printPerformance(rf_balance_model, balance_X_test, balance_y_test)\n",
    "print(\"\\n### Logistic Regression Walking ###\")\n",
    "printPerformance(lr_balance_model, balance_X_test, balance_y_test)"
   ]
  },
  {
   "cell_type": "markdown",
   "metadata": {},
   "source": [
    "# Combining Features in Balance and Walking"
   ]
  },
  {
   "cell_type": "code",
   "execution_count": 113,
   "metadata": {},
   "outputs": [],
   "source": [
    "from sklearn.feature_selection import SelectKBest, chi2"
   ]
  },
  {
   "cell_type": "code",
   "execution_count": 135,
   "metadata": {},
   "outputs": [
    {
     "data": {
      "text/plain": [
       "max_userAccel_y.frequency_of_peaks     3.442899e+08\n",
       "max_userAccel_x.frequency_of_peaks     1.370186e+07\n",
       "max_userAccel_AA.frequency_of_peaks    8.345348e+05\n",
       "max_userAccel_z.frequency_of_peaks     4.602456e+04\n",
       "max_userAccel_x.max_freeze_index       1.208810e+03\n",
       "max_userAccel_z.max_freeze_index       8.897928e+02\n",
       "max_userAccel_y.max_freeze_index       3.391854e+02\n",
       "max_userAccel_x.freeze_occurences      4.986737e+01\n",
       "max_userAccel_z.freeze_occurences      3.421301e+01\n",
       "max_userAccel_y.freeze_occurences      1.917437e+01\n",
       "max_userAccel_AA.freeze_occurences     1.778391e+01\n",
       "max_userAccel_AA.max_freeze_index      1.230553e+01\n",
       "max_userAccel_x.no_of_steps            2.433806e+00\n",
       "max_userAccel_y.no_of_steps            5.537818e-01\n",
       "max_userAccel_z.no_of_steps            3.679252e-01\n",
       "dtype: float64"
      ]
     },
     "execution_count": 135,
     "metadata": {},
     "output_type": "execute_result"
    }
   ],
   "source": [
    "train = pd.concat([balance_train.drop(\"PD\", axis = 1), walking_train], axis = 1)\n",
    "train = train.groupby(train.columns, axis=1).mean().dropna()\n",
    "combined_X_train, combined_X_test, combined_y_train, combined_y_test = \\\n",
    "train_test_split(train.drop([\"PD\"], axis = 1), train[\"PD\"], test_size=0.20, random_state = 100)\n",
    "selector = SelectKBest(chi2, k=15).fit(combined_X_train, combined_y_train)\n",
    "pd.Series(data = selector.scores_, index = combined_X_train.columns).sort_values(ascending = False).head(15)"
   ]
  },
  {
   "cell_type": "code",
   "execution_count": 136,
   "metadata": {},
   "outputs": [
    {
     "name": "stdout",
     "output_type": "stream",
     "text": [
      "\n",
      "### Gradient Boosting Walking ###\n",
      "Mean AUC score on K-folds: 0.7072510822510822\n",
      "Parameter Used: {'classifier__learning_rate': 0.1, 'classifier__loss': 'exponential', 'classifier__max_depth': 6, 'classifier__n_estimators': 100}\n",
      "ROC-AUC on Test-Set: 0.48351648351648346\n",
      "log-loss: 18.285516772869254\n",
      "Precision: 0.3684210526315789\n",
      "Recall: 0.5384615384615384\n",
      "F1-Score: 0.4375\n",
      "\n",
      "### XTreme Gradient Boosting Walking ###\n",
      "Mean AUC score on K-folds: 0.6821789321789321\n",
      "Parameter Used: {'classifier__gamma': 1, 'classifier__learning_rate': 0.01, 'classifier__max_depth': 6, 'classifier__n_estimators': 100, 'classifier__subsample': 0.8, 'classifier__tree_method': 'auto'}\n",
      "ROC-AUC on Test-Set: 0.5073260073260073\n",
      "log-loss: 17.269646890741583\n",
      "Precision: 0.3888888888888889\n",
      "Recall: 0.5384615384615384\n",
      "F1-Score: 0.45161290322580644\n",
      "\n",
      "### Random Forest Walking ###\n",
      "Mean AUC score on K-folds: 0.7160894660894661\n",
      "Parameter Used: {'classifier__criterion': 'entropy', 'classifier__max_depth': 9, 'classifier__max_features': 'auto', 'classifier__n_estimators': 200}\n",
      "ROC-AUC on Test-Set: 0.5787545787545787\n",
      "log-loss: 14.22203724435856\n",
      "Precision: 0.4666666666666667\n",
      "Recall: 0.5384615384615384\n",
      "F1-Score: 0.5\n",
      "\n",
      "### Logistic Regression Walking ###\n",
      "Mean AUC score on K-folds: 0.5811688311688312\n",
      "Parameter Used: {'classifier__penalty': 'l1', 'classifier__solver': 'liblinear'}\n",
      "ROC-AUC on Test-Set: 0.5164835164835165\n",
      "log-loss: 16.25375349104243\n",
      "Precision: 0.4\n",
      "Recall: 0.46153846153846156\n",
      "F1-Score: 0.42857142857142855\n"
     ]
    }
   ],
   "source": [
    "lr_balance_model = logreg_fit(combined_X_train, combined_y_train)\n",
    "rf_balance_model = randomforest_fit(combined_X_train, combined_y_train)\n",
    "gb_balance_model = gradientboost_fit(combined_X_train, combined_y_train)\n",
    "xgb_balance_model = xgb_fit(combined_X_train, combined_y_train)\n",
    "\n",
    "\n",
    "print(\"\\n### Gradient Boosting Walking ###\")\n",
    "printPerformance(gb_balance_model, combined_X_test, combined_y_test)\n",
    "print(\"\\n### XTreme Gradient Boosting Walking ###\")\n",
    "printPerformance(xgb_balance_model, combined_X_test, combined_y_test)\n",
    "print(\"\\n### Random Forest Walking ###\")\n",
    "printPerformance(rf_balance_model, combined_X_test, combined_y_test)\n",
    "print(\"\\n### Logistic Regression Walking ###\")\n",
    "printPerformance(lr_balance_model, combined_X_test, combined_y_test)"
   ]
  },
  {
   "cell_type": "markdown",
   "metadata": {},
   "source": [
    "# Saving Serialized Results"
   ]
  },
  {
   "cell_type": "markdown",
   "metadata": {},
   "source": [
    "The walking models will be the only one taken for further assessment towards V2 data due to its decent performance of ROC-AUC > 0.6. Model will be refitted to the test sets."
   ]
  },
  {
   "cell_type": "code",
   "execution_count": 55,
   "metadata": {},
   "outputs": [],
   "source": [
    "import pickle\n",
    "from sklearn.externals import joblib "
   ]
  },
  {
   "cell_type": "markdown",
   "metadata": {},
   "source": [
    "### Refit Model to Tests Sets"
   ]
  },
  {
   "cell_type": "code",
   "execution_count": 56,
   "metadata": {},
   "outputs": [],
   "source": [
    "refitted_lr = lr_walking_model.best_estimator_.fit(walking_X_test, walking_y_test)\n",
    "refitted_gb = gb_walking_model.best_estimator_.fit(walking_X_test, walking_y_test)\n",
    "refitted_xgb = xgb_walking_model.best_estimator_.fit(walking_X_test, walking_y_test)\n",
    "refitted_rf = rf_walking_model.best_estimator_.fit(walking_X_test, walking_y_test)"
   ]
  },
  {
   "cell_type": "code",
   "execution_count": 57,
   "metadata": {},
   "outputs": [],
   "source": [
    "models = [\"refitted_lr\", \"refitted_gb\", \"refitted_xgb\", \"refitted_rf\"]\n",
    "\n",
    "\n",
    "for model in models:\n",
    "    joblib.dump(globals()[model], '../Models/{}.pkl'.format(model))"
   ]
  },
  {
   "cell_type": "code",
   "execution_count": null,
   "metadata": {},
   "outputs": [],
   "source": []
  }
 ],
 "metadata": {
  "kernelspec": {
   "display_name": "synapse",
   "language": "python",
   "name": "synapse"
  },
  "language_info": {
   "codemirror_mode": {
    "name": "ipython",
    "version": 3
   },
   "file_extension": ".py",
   "mimetype": "text/x-python",
   "name": "python",
   "nbconvert_exporter": "python",
   "pygments_lexer": "ipython3",
   "version": "3.7.0"
  }
 },
 "nbformat": 4,
 "nbformat_minor": 2
}
