{
 "cells": [
  {
   "cell_type": "code",
   "execution_count": 1,
   "metadata": {},
   "outputs": [
    {
     "name": "stderr",
     "output_type": "stream",
     "text": [
      "C:\\Users\\atedi\\OneDrive\\Documents\\SageBionetworks\\synapse\\lib\\site-packages\\sklearn\\externals\\joblib\\__init__.py:15: DeprecationWarning: sklearn.externals.joblib is deprecated in 0.21 and will be removed in 0.23. Please import this functionality directly from joblib, which can be installed with: pip install joblib. If this warning is raised when loading pickled models, you may need to re-serialize those models with scikit-learn 0.21+.\n",
      "  warnings.warn(msg, category=DeprecationWarning)\n"
     ]
    }
   ],
   "source": [
    "## imports ##\n",
    "from sklearn.model_selection import train_test_split\n",
    "from sklearn.preprocessing import StandardScaler, MinMaxScaler\n",
    "from sklearn.decomposition import PCA\n",
    "from sklearn.pipeline import Pipeline\n",
    "from sklearn.externals import joblib\n",
    "from sklearn.linear_model import LogisticRegression\n",
    "from sklearn import svm, decomposition, tree\n",
    "from sklearn.ensemble import RandomForestClassifier, GradientBoostingClassifier, ExtraTreesClassifier\n",
    "from sklearn import metrics\n",
    "from sklearn.model_selection import learning_curve, GridSearchCV, cross_val_score, validation_curve\n",
    "from sklearn.metrics import classification_report, confusion_matrix\n",
    "import pandas as pd\n",
    "import numpy as np\n",
    "import warnings\n",
    "from sklearn.feature_selection import RFECV, SelectKBest, chi2\n",
    "from xgboost import XGBClassifier\n",
    "import matplotlib.pyplot as plt\n",
    "%matplotlib inline\n",
    "\n",
    "warnings.simplefilter(\"ignore\")\n",
    "np.random.seed(100)"
   ]
  },
  {
   "cell_type": "markdown",
   "metadata": {},
   "source": [
    "## Contents:\n",
    "\n",
    "- Gait data being used is based on the PDKit mPowerV1 data, collapsed by each healthCode ids\n",
    "- Features chosen are based on a feature_engineering.ipnb\n",
    "- For this ML Analysis, we will split the training-test set by 20%\n",
    "- Parameters will be searched through grid search (GridSearchCV) and the score is assessed using Stratified 10-Fold Validation \n",
    "- Models being used: Logistic Regression, Xtreme Gradient Boost, Sklearn Gradient Boost and Random Forests\n",
    "- Feature elimination will be done on several model using recursive feature elimination CV (Sklearn RFECV package)\n",
    "- Learning Curves of each model (Work in progress)\n",
    "- Best model will be dump into .pkl file (Work in progress)"
   ]
  },
  {
   "cell_type": "markdown",
   "metadata": {},
   "source": [
    "## Helper Functions"
   ]
  },
  {
   "cell_type": "code",
   "execution_count": 2,
   "metadata": {},
   "outputs": [],
   "source": [
    "def logreg_fit(X_train, y_train):\n",
    "    pipe = Pipeline(steps=[\n",
    "        ('scaler', MinMaxScaler()),\n",
    "        ('K_best', SelectKBest(chi2)),\n",
    "        ('classifier', LogisticRegression(random_state = 100))\n",
    "        ])\n",
    "    param = [{'classifier__penalty': ['l2'], \n",
    "              'classifier__solver': [ 'newton-cg', 'lbfgs', 'liblinear', 'sag', 'saga']}, \n",
    "             {'classifier__penalty': ['l1'], \n",
    "              'classifier__solver': [ 'liblinear', 'saga']}  \n",
    "            ]\n",
    "\n",
    "    CV = GridSearchCV(estimator = pipe, param_grid = param , scoring= \"roc_auc\", n_jobs = 1, cv = 10)\n",
    "    CV.fit(X_train, y_train)\n",
    "    return CV\n",
    "\n",
    "\n",
    "\n",
    "def xgb_fit(X_train, y_train):\n",
    "    pipe = Pipeline(steps=[\n",
    "        ('K_best', SelectKBest(chi2)),\n",
    "        ('classifier', XGBClassifier(seed = 100))\n",
    "        ])\n",
    "    param = {\n",
    "        \"K_best__k\" : [15],\n",
    "        \"classifier__learning_rate\" : [0.01, 0.05, 0.1],\n",
    "        \"classifier__tree_method\"   : [\"hist\", \"auto\"],\n",
    "        \"classifier__max_depth\"     : [6, 8],\n",
    "        \"classifier__gamma\"         : [0, 1],\n",
    "        \"classifier__subsample\"     : [0.8],\n",
    "        \"classifier__n_estimators\"  : [100]\n",
    "    }\n",
    "    CV = GridSearchCV(estimator = pipe, param_grid = param , scoring= \"roc_auc\", n_jobs = 1, cv = 10)\n",
    "    CV.fit(X_train, y_train)\n",
    "    return CV\n",
    "    \n",
    "\n",
    "def gradientboost_fit(X_train, y_train):\n",
    "    pipe = Pipeline(steps=[\n",
    "        ('K_best', SelectKBest(chi2)),\n",
    "        ('classifier', GradientBoostingClassifier(random_state = 100, warm_start = True))\n",
    "        ])\n",
    "    param = {\n",
    "        \"K_best__k\" : [15],\n",
    "        'classifier__learning_rate': [0.001, 0.005, 0.01, 0.05, 0.1],\n",
    "        'classifier__max_depth':[1, 2, 3, 4, 5, 6],\n",
    "        'classifier__loss': [\"deviance\", \"exponential\"], ## exponential will result in adaBoost\n",
    "        \"classifier__n_estimators\"  : [100]\n",
    "    }\n",
    "    CV = GridSearchCV(estimator = pipe, param_grid = param , scoring= \"roc_auc\", n_jobs = 1, cv = 10)\n",
    "    CV.fit(X_train, y_train)\n",
    "    return CV\n",
    "\n",
    "def randomforest_fit(X_train, y_train):\n",
    "    pipe = Pipeline(steps=[\n",
    "        ('K_best', SelectKBest(chi2)),\n",
    "        ('classifier', RandomForestClassifier(random_state = 100))\n",
    "        ])\n",
    "    param = {\n",
    "        \"K_best__k\" : [15],\n",
    "        'classifier__max_depth':[1, 2, 3, 4, 5, 6, 7, 8, 9, 10],\n",
    "        'classifier__criterion': [\"gini\", \"entropy\"],## exponential will result in adaBoost\n",
    "        'classifier__max_features': [\"auto\", \"sqrt\", \"log2\", None], \n",
    "        'classifier__n_estimators'  : [100, 200]\n",
    "    }\n",
    "    CV = GridSearchCV(estimator = pipe, param_grid = param , scoring= \"roc_auc\", n_jobs = 1, cv = 10)\n",
    "    CV.fit(X_train, y_train)\n",
    "    return CV\n",
    "\n",
    "\n",
    "def printPerformance(model, X_test, y_test):\n",
    "    print(\"Mean AUC score on K-folds: {}\".format(model.best_score_))\n",
    "    print(\"Parameter Used: {}\".format(model.best_params_))\n",
    "    y_true, y_pred = y_test, model.predict(X_test)\n",
    "    print(\"ROC-AUC on Test-Set: {}\".format(metrics.roc_auc_score(y_true, y_pred)))\n",
    "    print(\"log-loss: {}\".format(metrics.log_loss(y_true, y_pred)))\n",
    "    print(\"Precision: {}\".format(metrics.precision_score(y_true, y_pred)))\n",
    "    print(\"Recall: {}\".format(metrics.recall_score(y_true, y_pred)))\n",
    "    print(\"F1-Score: {}\".format(metrics.f1_score(y_true, y_pred)))"
   ]
  },
  {
   "cell_type": "markdown",
   "metadata": {},
   "source": [
    "## Split to Training and Testing Sets"
   ]
  },
  {
   "cell_type": "code",
   "execution_count": 3,
   "metadata": {},
   "outputs": [],
   "source": [
    "walking_train = pd.read_csv(\"../Data/MAX_WALKING_TRAINING_DATA.csv\", index_col=0).reset_index(drop = True)\n",
    "walking_X_train, walking_X_test, walking_y_train, walking_y_test = \\\n",
    "train_test_split(walking_train.drop([\"PD\"], axis = 1), walking_train[\"PD\"], test_size=0.20, random_state = 100)"
   ]
  },
  {
   "cell_type": "markdown",
   "metadata": {},
   "source": [
    "## Run Model on Walking Data"
   ]
  },
  {
   "cell_type": "code",
   "execution_count": 4,
   "metadata": {},
   "outputs": [
    {
     "name": "stdout",
     "output_type": "stream",
     "text": [
      "\n",
      "### Gradient Boosting Walking ###\n",
      "Mean AUC score on K-folds: 0.678030303030303\n",
      "Parameter Used: {'K_best__k': 15, 'classifier__learning_rate': 0.05, 'classifier__loss': 'deviance', 'classifier__max_depth': 6, 'classifier__n_estimators': 100}\n",
      "ROC-AUC on Test-Set: 0.6556776556776557\n",
      "log-loss: 12.190344515246167\n",
      "Precision: 0.5294117647058824\n",
      "Recall: 0.6923076923076923\n",
      "F1-Score: 0.5999999999999999\n",
      "\n",
      "### XTreme Gradient Boosting Walking ###\n",
      "Mean AUC score on K-folds: 0.6369047619047619\n",
      "Parameter Used: {'K_best__k': 15, 'classifier__gamma': 1, 'classifier__learning_rate': 0.1, 'classifier__max_depth': 8, 'classifier__n_estimators': 100, 'classifier__subsample': 0.8, 'classifier__tree_method': 'auto'}\n",
      "ROC-AUC on Test-Set: 0.6648351648351649\n",
      "log-loss: 11.17445111554702\n",
      "Precision: 0.5714285714285714\n",
      "Recall: 0.6153846153846154\n",
      "F1-Score: 0.5925925925925927\n",
      "\n",
      "### Random Forest Walking ###\n",
      "Mean AUC score on K-folds: 0.6859668109668109\n",
      "Parameter Used: {'K_best__k': 15, 'classifier__criterion': 'entropy', 'classifier__max_depth': 2, 'classifier__max_features': 'auto', 'classifier__n_estimators': 100}\n",
      "ROC-AUC on Test-Set: 0.6025641025641026\n",
      "log-loss: 13.206167362230888\n",
      "Precision: 0.5\n",
      "Recall: 0.5384615384615384\n",
      "F1-Score: 0.5185185185185186\n",
      "\n",
      "### Logistic Regression Walking ###\n",
      "Mean AUC score on K-folds: 0.6277056277056277\n",
      "Parameter Used: {'classifier__penalty': 'l2', 'classifier__solver': 'newton-cg'}\n",
      "ROC-AUC on Test-Set: 0.5549450549450549\n",
      "log-loss: 15.237907126486235\n",
      "Precision: 0.4375\n",
      "Recall: 0.5384615384615384\n",
      "F1-Score: 0.4827586206896552\n"
     ]
    }
   ],
   "source": [
    "lr_walking_model = logreg_fit(walking_X_train, walking_y_train)\n",
    "rf_walking_model = randomforest_fit(walking_X_train, walking_y_train)\n",
    "gb_walking_model = gradientboost_fit(walking_X_train, walking_y_train)\n",
    "xgb_walking_model = xgb_fit(walking_X_train, walking_y_train)\n",
    "\n",
    "\n",
    "print(\"\\n### Gradient Boosting Walking ###\")\n",
    "printPerformance(gb_walking_model, walking_X_test.dropna(), walking_y_test.dropna())\n",
    "print(\"\\n### XTreme Gradient Boosting Walking ###\")\n",
    "printPerformance(xgb_walking_model, walking_X_test.dropna(), walking_y_test.dropna())\n",
    "print(\"\\n### Random Forest Walking ###\")\n",
    "printPerformance(rf_walking_model, walking_X_test.dropna(), walking_y_test.dropna())\n",
    "print(\"\\n### Logistic Regression Walking ###\")\n",
    "printPerformance(lr_walking_model, walking_X_test.dropna(), walking_y_test.dropna())"
   ]
  },
  {
   "cell_type": "markdown",
   "metadata": {},
   "source": [
    "## Results"
   ]
  },
  {
   "cell_type": "code",
   "execution_count": 5,
   "metadata": {},
   "outputs": [
    {
     "name": "stdout",
     "output_type": "stream",
     "text": [
      "              precision    recall  f1-score   support\n",
      "\n",
      "           0       0.62      0.76      0.68        17\n",
      "           1       0.69      0.53      0.60        17\n",
      "\n",
      "    accuracy                           0.65        34\n",
      "   macro avg       0.66      0.65      0.64        34\n",
      "weighted avg       0.66      0.65      0.64        34\n",
      "\n"
     ]
    }
   ],
   "source": [
    "print(metrics.classification_report(gb_walking_model.predict(walking_X_test), \n",
    "                                    walking_y_test))"
   ]
  },
  {
   "cell_type": "code",
   "execution_count": 10,
   "metadata": {},
   "outputs": [
    {
     "data": {
      "text/html": [
       "<div>\n",
       "<style scoped>\n",
       "    .dataframe tbody tr th:only-of-type {\n",
       "        vertical-align: middle;\n",
       "    }\n",
       "\n",
       "    .dataframe tbody tr th {\n",
       "        vertical-align: top;\n",
       "    }\n",
       "\n",
       "    .dataframe thead th {\n",
       "        text-align: right;\n",
       "    }\n",
       "</style>\n",
       "<table border=\"1\" class=\"dataframe\">\n",
       "  <thead>\n",
       "    <tr style=\"text-align: right;\">\n",
       "      <th>Predicted</th>\n",
       "      <th>0</th>\n",
       "      <th>1</th>\n",
       "    </tr>\n",
       "    <tr>\n",
       "      <th>Actual</th>\n",
       "      <th></th>\n",
       "      <th></th>\n",
       "    </tr>\n",
       "  </thead>\n",
       "  <tbody>\n",
       "    <tr>\n",
       "      <th>0</th>\n",
       "      <td>13</td>\n",
       "      <td>4</td>\n",
       "    </tr>\n",
       "    <tr>\n",
       "      <th>1</th>\n",
       "      <td>8</td>\n",
       "      <td>9</td>\n",
       "    </tr>\n",
       "  </tbody>\n",
       "</table>\n",
       "</div>"
      ],
      "text/plain": [
       "Predicted   0  1\n",
       "Actual          \n",
       "0          13  4\n",
       "1           8  9"
      ]
     },
     "execution_count": 10,
     "metadata": {},
     "output_type": "execute_result"
    }
   ],
   "source": [
    "pd.crosstab(gb_walking_model.best_estimator_.predict(walking_X_test), \n",
    "            walking_y_test, \n",
    "            rownames = [\"Actual\"], \n",
    "            colnames = [\"Predicted\"])"
   ]
  },
  {
   "cell_type": "code",
   "execution_count": 11,
   "metadata": {},
   "outputs": [
    {
     "name": "stdout",
     "output_type": "stream",
     "text": [
      "              precision    recall  f1-score   support\n",
      "\n",
      "           0       0.67      0.70      0.68        20\n",
      "           1       0.54      0.50      0.52        14\n",
      "\n",
      "    accuracy                           0.62        34\n",
      "   macro avg       0.60      0.60      0.60        34\n",
      "weighted avg       0.61      0.62      0.62        34\n",
      "\n"
     ]
    }
   ],
   "source": [
    "print(metrics.classification_report(rf_walking_model.predict(walking_X_test), \n",
    "                                    walking_y_test))"
   ]
  },
  {
   "cell_type": "code",
   "execution_count": 12,
   "metadata": {},
   "outputs": [
    {
     "data": {
      "text/html": [
       "<div>\n",
       "<style scoped>\n",
       "    .dataframe tbody tr th:only-of-type {\n",
       "        vertical-align: middle;\n",
       "    }\n",
       "\n",
       "    .dataframe tbody tr th {\n",
       "        vertical-align: top;\n",
       "    }\n",
       "\n",
       "    .dataframe thead th {\n",
       "        text-align: right;\n",
       "    }\n",
       "</style>\n",
       "<table border=\"1\" class=\"dataframe\">\n",
       "  <thead>\n",
       "    <tr style=\"text-align: right;\">\n",
       "      <th>Predicted</th>\n",
       "      <th>0</th>\n",
       "      <th>1</th>\n",
       "    </tr>\n",
       "    <tr>\n",
       "      <th>Actual</th>\n",
       "      <th></th>\n",
       "      <th></th>\n",
       "    </tr>\n",
       "  </thead>\n",
       "  <tbody>\n",
       "    <tr>\n",
       "      <th>0</th>\n",
       "      <td>14</td>\n",
       "      <td>6</td>\n",
       "    </tr>\n",
       "    <tr>\n",
       "      <th>1</th>\n",
       "      <td>7</td>\n",
       "      <td>7</td>\n",
       "    </tr>\n",
       "  </tbody>\n",
       "</table>\n",
       "</div>"
      ],
      "text/plain": [
       "Predicted   0  1\n",
       "Actual          \n",
       "0          14  6\n",
       "1           7  7"
      ]
     },
     "execution_count": 12,
     "metadata": {},
     "output_type": "execute_result"
    }
   ],
   "source": [
    "pd.crosstab(rf_walking_model.best_estimator_.predict(walking_X_test), \n",
    "            walking_y_test, \n",
    "            rownames = [\"Actual\"], \n",
    "            colnames = [\"Predicted\"])"
   ]
  },
  {
   "cell_type": "code",
   "execution_count": 13,
   "metadata": {},
   "outputs": [
    {
     "name": "stdout",
     "output_type": "stream",
     "text": [
      "              precision    recall  f1-score   support\n",
      "\n",
      "           0       0.71      0.75      0.73        20\n",
      "           1       0.62      0.57      0.59        14\n",
      "\n",
      "    accuracy                           0.68        34\n",
      "   macro avg       0.66      0.66      0.66        34\n",
      "weighted avg       0.67      0.68      0.67        34\n",
      "\n"
     ]
    }
   ],
   "source": [
    "print(metrics.classification_report(xgb_walking_model.predict(walking_X_test), \n",
    "                                    walking_y_test))"
   ]
  },
  {
   "cell_type": "code",
   "execution_count": 14,
   "metadata": {},
   "outputs": [
    {
     "data": {
      "text/html": [
       "<div>\n",
       "<style scoped>\n",
       "    .dataframe tbody tr th:only-of-type {\n",
       "        vertical-align: middle;\n",
       "    }\n",
       "\n",
       "    .dataframe tbody tr th {\n",
       "        vertical-align: top;\n",
       "    }\n",
       "\n",
       "    .dataframe thead th {\n",
       "        text-align: right;\n",
       "    }\n",
       "</style>\n",
       "<table border=\"1\" class=\"dataframe\">\n",
       "  <thead>\n",
       "    <tr style=\"text-align: right;\">\n",
       "      <th>Predicted</th>\n",
       "      <th>0</th>\n",
       "      <th>1</th>\n",
       "    </tr>\n",
       "    <tr>\n",
       "      <th>Actual</th>\n",
       "      <th></th>\n",
       "      <th></th>\n",
       "    </tr>\n",
       "  </thead>\n",
       "  <tbody>\n",
       "    <tr>\n",
       "      <th>0</th>\n",
       "      <td>15</td>\n",
       "      <td>5</td>\n",
       "    </tr>\n",
       "    <tr>\n",
       "      <th>1</th>\n",
       "      <td>6</td>\n",
       "      <td>8</td>\n",
       "    </tr>\n",
       "  </tbody>\n",
       "</table>\n",
       "</div>"
      ],
      "text/plain": [
       "Predicted   0  1\n",
       "Actual          \n",
       "0          15  5\n",
       "1           6  8"
      ]
     },
     "execution_count": 14,
     "metadata": {},
     "output_type": "execute_result"
    }
   ],
   "source": [
    "pd.crosstab(xgb_walking_model.best_estimator_.predict(walking_X_test), \n",
    "            walking_y_test, \n",
    "            rownames = [\"Actual\"], \n",
    "            colnames = [\"Predicted\"])"
   ]
  },
  {
   "cell_type": "code",
   "execution_count": 15,
   "metadata": {},
   "outputs": [
    {
     "name": "stdout",
     "output_type": "stream",
     "text": [
      "### RF Feature Importances ####\n"
     ]
    },
    {
     "data": {
      "text/plain": [
       "max_userAccel_x.freeze_occurences      0.152908\n",
       "max_userAccel_x.max_freeze_index       0.116616\n",
       "max_userAccel_z.max_freeze_index       0.100874\n",
       "max_userAccel_y.freeze_occurences      0.075346\n",
       "max_userAccel_x.no_of_steps            0.074556\n",
       "max_userAccel_y.frequency_of_peaks     0.070316\n",
       "max_userAccel_AA.max_freeze_index      0.062550\n",
       "max_userAccel_z.freeze_occurences      0.059462\n",
       "max_userAccel_AA.frequency_of_peaks    0.054212\n",
       "max_userAccel_z.no_of_steps            0.052672\n",
       "max_userAccel_y.max_freeze_index       0.048977\n",
       "max_userAccel_z.frequency_of_peaks     0.038968\n",
       "max_userAccel_y.no_of_steps            0.034894\n",
       "max_userAccel_x.frequency_of_peaks     0.031092\n",
       "max_userAccel_AA.freeze_occurences     0.026556\n",
       "dtype: float64"
      ]
     },
     "execution_count": 15,
     "metadata": {},
     "output_type": "execute_result"
    }
   ],
   "source": [
    "## Model Feature Importances by Gini Index\n",
    "print(\"### RF Feature Importances ####\")\n",
    "pd.Series(data = rf_walking_model.best_estimator_[1].feature_importances_, \n",
    "          index = walking_X_test.columns).sort_values(ascending = False)"
   ]
  },
  {
   "cell_type": "code",
   "execution_count": 16,
   "metadata": {},
   "outputs": [
    {
     "name": "stdout",
     "output_type": "stream",
     "text": [
      "### XGB Feature Importances ####\n"
     ]
    },
    {
     "data": {
      "text/plain": [
       "max_userAccel_x.freeze_occurences      0.112219\n",
       "max_userAccel_x.max_freeze_index       0.098343\n",
       "max_userAccel_y.freeze_occurences      0.070842\n",
       "max_userAccel_z.max_freeze_index       0.070205\n",
       "max_userAccel_y.frequency_of_peaks     0.069015\n",
       "max_userAccel_AA.freeze_occurences     0.068673\n",
       "max_userAccel_z.no_of_steps            0.062630\n",
       "max_userAccel_y.max_freeze_index       0.062030\n",
       "max_userAccel_AA.frequency_of_peaks    0.060641\n",
       "max_userAccel_x.no_of_steps            0.060406\n",
       "max_userAccel_x.frequency_of_peaks     0.058876\n",
       "max_userAccel_AA.max_freeze_index      0.055120\n",
       "max_userAccel_y.no_of_steps            0.051447\n",
       "max_userAccel_z.frequency_of_peaks     0.051407\n",
       "max_userAccel_z.freeze_occurences      0.048146\n",
       "dtype: float32"
      ]
     },
     "execution_count": 16,
     "metadata": {},
     "output_type": "execute_result"
    }
   ],
   "source": [
    "## Model Feature Importances\n",
    "print(\"### XGB Feature Importances ####\")\n",
    "pd.Series(data = xgb_walking_model.best_estimator_[1].feature_importances_, \n",
    "          index = walking_X_test.columns).sort_values(ascending = False)"
   ]
  },
  {
   "cell_type": "code",
   "execution_count": 24,
   "metadata": {},
   "outputs": [
    {
     "name": "stdout",
     "output_type": "stream",
     "text": [
      "### GB Feature Importances ####\n"
     ]
    },
    {
     "data": {
      "text/plain": [
       "max_userAccel_x.freeze_occurences      0.169916\n",
       "max_userAccel_y.frequency_of_peaks     0.120291\n",
       "max_userAccel_y.max_freeze_index       0.101639\n",
       "max_userAccel_AA.freeze_occurences     0.100950\n",
       "max_userAccel_AA.max_freeze_index      0.100194\n",
       "max_userAccel_z.no_of_steps            0.070666\n",
       "max_userAccel_x.no_of_steps            0.069326\n",
       "max_userAccel_z.max_freeze_index       0.065779\n",
       "max_userAccel_x.max_freeze_index       0.057011\n",
       "max_userAccel_y.freeze_occurences      0.045561\n",
       "max_userAccel_AA.frequency_of_peaks    0.038253\n",
       "max_userAccel_z.freeze_occurences      0.020009\n",
       "max_userAccel_y.no_of_steps            0.017657\n",
       "max_userAccel_x.frequency_of_peaks     0.013345\n",
       "max_userAccel_z.frequency_of_peaks     0.009403\n",
       "dtype: float64"
      ]
     },
     "execution_count": 24,
     "metadata": {},
     "output_type": "execute_result"
    }
   ],
   "source": [
    "## Model Feature Importances\n",
    "print(\"### GB Feature Importances ####\")\n",
    "pd.Series(data = gb_walking_model.best_estimator_[1].feature_importances_, \n",
    "          index = walking_X_test.columns).sort_values(ascending = False)"
   ]
  },
  {
   "cell_type": "markdown",
   "metadata": {},
   "source": [
    "# Learning Curves"
   ]
  },
  {
   "cell_type": "code",
   "execution_count": 28,
   "metadata": {},
   "outputs": [
    {
     "data": {
      "image/png": "[encoded data removed]",
      "text/plain": [
       "<Figure size 432x288 with 1 Axes>"
      ]
     },
     "metadata": {
      "needs_background": "light"
     },
     "output_type": "display_data"
    }
   ],
   "source": [
    "train_sizes, train_scores, valid_scores = learning_curve(rf_walking_model.best_estimator_, \n",
    "                                                         walking_X_train, walking_y_train, \n",
    "                                                         scoring = \"neg_log_loss\", \n",
    "                                                         cv = 10, random_state = 100, \n",
    "                                                         train_sizes = np.linspace(0.1, 1, 10))\n",
    "pd.DataFrame(data = {\"train_scores\": np.mean(train_scores, axis = 1) * -1, \n",
    "                     \"valid_scores\": np.mean(valid_scores, axis = 1) * -1}, index = train_sizes).plot()\n",
    "plt.ylabel(\"Loss\")\n",
    "plt.title(\"Random Forest Learning Curve\")\n",
    "plt.ylim(0,1)\n",
    "plt.xlabel(\"Training Size\")\n",
    "plt.grid()"
   ]
  },
  {
   "cell_type": "code",
   "execution_count": 29,
   "metadata": {},
   "outputs": [
    {
     "data": {
      "image/png": "[encoded data removed]",
      "text/plain": [
       "<Figure size 432x288 with 1 Axes>"
      ]
     },
     "metadata": {
      "needs_background": "light"
     },
     "output_type": "display_data"
    }
   ],
   "source": [
    "train_sizes, train_scores, valid_scores = learning_curve(xgb_walking_model.best_estimator_, \n",
    "                                                         walking_X_train, walking_y_train, \n",
    "                                                         scoring = \"neg_log_loss\", \n",
    "                                                         cv = 10, \n",
    "                                                         random_state = 100, \n",
    "                                                         train_sizes = np.linspace(0.1, 1, 10))\n",
    "pd.DataFrame(data = {\"train_scores\": np.mean(train_scores, axis = 1) * -1, \n",
    "                     \"valid_scores\": np.mean(valid_scores, axis = 1) * -1}, index = train_sizes).plot()\n",
    "plt.ylabel(\"Loss\")\n",
    "plt.title(\"Xtreme Gradient Boosting Learning Curve\")\n",
    "plt.ylim(0,1)\n",
    "plt.xlabel(\"Training Size\")\n",
    "plt.grid()"
   ]
  },
  {
   "cell_type": "code",
   "execution_count": 30,
   "metadata": {},
   "outputs": [
    {
     "data": {
      "image/png": "[encoded data removed]",
      "text/plain": [
       "<Figure size 432x288 with 1 Axes>"
      ]
     },
     "metadata": {
      "needs_background": "light"
     },
     "output_type": "display_data"
    }
   ],
   "source": [
    "train_sizes, train_scores, valid_scores = learning_curve(gb_walking_model.best_estimator_, \n",
    "                                                         walking_X_train, walking_y_train, \n",
    "                                                         scoring = \"neg_log_loss\", \n",
    "                                                         cv = 10, \n",
    "                                                         random_state = 100, \n",
    "                                                         train_sizes = np.linspace(0.1, 1, 10))\n",
    "pd.DataFrame(data = {\"train_scores\": np.mean(train_scores, axis = 1) * -1, \n",
    "                     \"valid_scores\": np.mean(valid_scores, axis = 1) * -1}, index = train_sizes).plot()\n",
    "plt.ylabel(\"Loss\")\n",
    "plt.title(\"Xtreme Gradient Boosting Learning Curve\")\n",
    "plt.ylim(0,1)\n",
    "plt.xlabel(\"Training Size\")\n",
    "plt.grid()"
   ]
  },
  {
   "cell_type": "markdown",
   "metadata": {},
   "source": [
    "# Balance Data"
   ]
  },
  {
   "cell_type": "code",
   "execution_count": 31,
   "metadata": {},
   "outputs": [],
   "source": [
    "balance_train = pd.read_csv(\"../Data/BALANCE_TRAINING_DATA.csv\", index_col=0).reset_index(drop = True)\n",
    "balance_X_train, balance_X_test, balance_y_train, balance_y_test = \\\n",
    "train_test_split(balance_train.drop([\"PD\"],axis = 1), balance_train[\"PD\"], test_size=0.20, random_state = 100)"
   ]
  },
  {
   "cell_type": "code",
   "execution_count": 32,
   "metadata": {},
   "outputs": [
    {
     "ename": "ValueError",
     "evalue": "k should be >=0, <= n_features = 10; got 15. Use k='all' to return all features.",
     "output_type": "error",
     "traceback": [
      "\u001b[1;31m---------------------------------------------------------------------------\u001b[0m",
      "\u001b[1;31mValueError\u001b[0m                                Traceback (most recent call last)",
      "\u001b[1;32m<ipython-input-32-bd0f0a4a4774>\u001b[0m in \u001b[0;36m<module>\u001b[1;34m\u001b[0m\n\u001b[0;32m      1\u001b[0m \u001b[0mlr_balance_model\u001b[0m \u001b[1;33m=\u001b[0m \u001b[0mlogreg_fit\u001b[0m\u001b[1;33m(\u001b[0m\u001b[0mbalance_X_train\u001b[0m\u001b[1;33m,\u001b[0m \u001b[0mbalance_y_train\u001b[0m\u001b[1;33m)\u001b[0m\u001b[1;33m\u001b[0m\u001b[0m\n\u001b[1;32m----> 2\u001b[1;33m \u001b[0mrf_balance_model\u001b[0m \u001b[1;33m=\u001b[0m \u001b[0mrandomforest_fit\u001b[0m\u001b[1;33m(\u001b[0m\u001b[0mbalance_X_train\u001b[0m\u001b[1;33m,\u001b[0m \u001b[0mbalance_y_train\u001b[0m\u001b[1;33m)\u001b[0m\u001b[1;33m\u001b[0m\u001b[0m\n\u001b[0m\u001b[0;32m      3\u001b[0m \u001b[0mgb_balance_model\u001b[0m \u001b[1;33m=\u001b[0m \u001b[0mgradientboost_fit\u001b[0m\u001b[1;33m(\u001b[0m\u001b[0mbalance_X_train\u001b[0m\u001b[1;33m,\u001b[0m \u001b[0mbalance_y_train\u001b[0m\u001b[1;33m)\u001b[0m\u001b[1;33m\u001b[0m\u001b[0m\n\u001b[0;32m      4\u001b[0m \u001b[0mxgb_balance_model\u001b[0m \u001b[1;33m=\u001b[0m \u001b[0mxgb_fit\u001b[0m\u001b[1;33m(\u001b[0m\u001b[0mbalance_X_train\u001b[0m\u001b[1;33m,\u001b[0m \u001b[0mbalance_y_train\u001b[0m\u001b[1;33m)\u001b[0m\u001b[1;33m\u001b[0m\u001b[0m\n\u001b[0;32m      5\u001b[0m \u001b[1;33m\u001b[0m\u001b[0m\n",
      "\u001b[1;32m<ipython-input-7-c31d3fcbb013>\u001b[0m in \u001b[0;36mrandomforest_fit\u001b[1;34m(X_train, y_train)\u001b[0m\n\u001b[0;32m     65\u001b[0m     }\n\u001b[0;32m     66\u001b[0m     \u001b[0mCV\u001b[0m \u001b[1;33m=\u001b[0m \u001b[0mGridSearchCV\u001b[0m\u001b[1;33m(\u001b[0m\u001b[0mestimator\u001b[0m \u001b[1;33m=\u001b[0m \u001b[0mpipe\u001b[0m\u001b[1;33m,\u001b[0m \u001b[0mparam_grid\u001b[0m \u001b[1;33m=\u001b[0m \u001b[0mparam\u001b[0m \u001b[1;33m,\u001b[0m \u001b[0mscoring\u001b[0m\u001b[1;33m=\u001b[0m \u001b[1;34m\"roc_auc\"\u001b[0m\u001b[1;33m,\u001b[0m \u001b[0mn_jobs\u001b[0m \u001b[1;33m=\u001b[0m \u001b[1;36m1\u001b[0m\u001b[1;33m,\u001b[0m \u001b[0mcv\u001b[0m \u001b[1;33m=\u001b[0m \u001b[1;36m10\u001b[0m\u001b[1;33m)\u001b[0m\u001b[1;33m\u001b[0m\u001b[0m\n\u001b[1;32m---> 67\u001b[1;33m     \u001b[0mCV\u001b[0m\u001b[1;33m.\u001b[0m\u001b[0mfit\u001b[0m\u001b[1;33m(\u001b[0m\u001b[0mX_train\u001b[0m\u001b[1;33m,\u001b[0m \u001b[0my_train\u001b[0m\u001b[1;33m)\u001b[0m\u001b[1;33m\u001b[0m\u001b[0m\n\u001b[0m\u001b[0;32m     68\u001b[0m     \u001b[1;32mreturn\u001b[0m \u001b[0mCV\u001b[0m\u001b[1;33m\u001b[0m\u001b[0m\n\u001b[0;32m     69\u001b[0m \u001b[1;33m\u001b[0m\u001b[0m\n",
      "\u001b[1;32m~\\OneDrive\\Documents\\SageBionetworks\\synapse\\lib\\site-packages\\sklearn\\model_selection\\_search.py\u001b[0m in \u001b[0;36mfit\u001b[1;34m(self, X, y, groups, **fit_params)\u001b[0m\n\u001b[0;32m    686\u001b[0m                 \u001b[1;32mreturn\u001b[0m \u001b[0mresults\u001b[0m\u001b[1;33m\u001b[0m\u001b[0m\n\u001b[0;32m    687\u001b[0m \u001b[1;33m\u001b[0m\u001b[0m\n\u001b[1;32m--> 688\u001b[1;33m             \u001b[0mself\u001b[0m\u001b[1;33m.\u001b[0m\u001b[0m_run_search\u001b[0m\u001b[1;33m(\u001b[0m\u001b[0mevaluate_candidates\u001b[0m\u001b[1;33m)\u001b[0m\u001b[1;33m\u001b[0m\u001b[0m\n\u001b[0m\u001b[0;32m    689\u001b[0m \u001b[1;33m\u001b[0m\u001b[0m\n\u001b[0;32m    690\u001b[0m         \u001b[1;31m# For multi-metric evaluation, store the best_index_, best_params_ and\u001b[0m\u001b[1;33m\u001b[0m\u001b[1;33m\u001b[0m\u001b[0m\n",
      "\u001b[1;32m~\\OneDrive\\Documents\\SageBionetworks\\synapse\\lib\\site-packages\\sklearn\\model_selection\\_search.py\u001b[0m in \u001b[0;36m_run_search\u001b[1;34m(self, evaluate_candidates)\u001b[0m\n\u001b[0;32m   1147\u001b[0m     \u001b[1;32mdef\u001b[0m \u001b[0m_run_search\u001b[0m\u001b[1;33m(\u001b[0m\u001b[0mself\u001b[0m\u001b[1;33m,\u001b[0m \u001b[0mevaluate_candidates\u001b[0m\u001b[1;33m)\u001b[0m\u001b[1;33m:\u001b[0m\u001b[1;33m\u001b[0m\u001b[0m\n\u001b[0;32m   1148\u001b[0m         \u001b[1;34m\"\"\"Search all candidates in param_grid\"\"\"\u001b[0m\u001b[1;33m\u001b[0m\u001b[0m\n\u001b[1;32m-> 1149\u001b[1;33m         \u001b[0mevaluate_candidates\u001b[0m\u001b[1;33m(\u001b[0m\u001b[0mParameterGrid\u001b[0m\u001b[1;33m(\u001b[0m\u001b[0mself\u001b[0m\u001b[1;33m.\u001b[0m\u001b[0mparam_grid\u001b[0m\u001b[1;33m)\u001b[0m\u001b[1;33m)\u001b[0m\u001b[1;33m\u001b[0m\u001b[0m\n\u001b[0m\u001b[0;32m   1150\u001b[0m \u001b[1;33m\u001b[0m\u001b[0m\n\u001b[0;32m   1151\u001b[0m \u001b[1;33m\u001b[0m\u001b[0m\n",
      "\u001b[1;32m~\\OneDrive\\Documents\\SageBionetworks\\synapse\\lib\\site-packages\\sklearn\\model_selection\\_search.py\u001b[0m in \u001b[0;36mevaluate_candidates\u001b[1;34m(candidate_params)\u001b[0m\n\u001b[0;32m    665\u001b[0m                                \u001b[1;32mfor\u001b[0m \u001b[0mparameters\u001b[0m\u001b[1;33m,\u001b[0m \u001b[1;33m(\u001b[0m\u001b[0mtrain\u001b[0m\u001b[1;33m,\u001b[0m \u001b[0mtest\u001b[0m\u001b[1;33m)\u001b[0m\u001b[1;33m\u001b[0m\u001b[0m\n\u001b[0;32m    666\u001b[0m                                in product(candidate_params,\n\u001b[1;32m--> 667\u001b[1;33m                                           cv.split(X, y, groups)))\n\u001b[0m\u001b[0;32m    668\u001b[0m \u001b[1;33m\u001b[0m\u001b[0m\n\u001b[0;32m    669\u001b[0m                 \u001b[1;32mif\u001b[0m \u001b[0mlen\u001b[0m\u001b[1;33m(\u001b[0m\u001b[0mout\u001b[0m\u001b[1;33m)\u001b[0m \u001b[1;33m<\u001b[0m \u001b[1;36m1\u001b[0m\u001b[1;33m:\u001b[0m\u001b[1;33m\u001b[0m\u001b[0m\n",
      "\u001b[1;32m~\\OneDrive\\Documents\\SageBionetworks\\synapse\\lib\\site-packages\\joblib\\parallel.py\u001b[0m in \u001b[0;36m__call__\u001b[1;34m(self, iterable)\u001b[0m\n\u001b[0;32m    919\u001b[0m             \u001b[1;31m# remaining jobs.\u001b[0m\u001b[1;33m\u001b[0m\u001b[1;33m\u001b[0m\u001b[0m\n\u001b[0;32m    920\u001b[0m             \u001b[0mself\u001b[0m\u001b[1;33m.\u001b[0m\u001b[0m_iterating\u001b[0m \u001b[1;33m=\u001b[0m \u001b[1;32mFalse\u001b[0m\u001b[1;33m\u001b[0m\u001b[0m\n\u001b[1;32m--> 921\u001b[1;33m             \u001b[1;32mif\u001b[0m \u001b[0mself\u001b[0m\u001b[1;33m.\u001b[0m\u001b[0mdispatch_one_batch\u001b[0m\u001b[1;33m(\u001b[0m\u001b[0miterator\u001b[0m\u001b[1;33m)\u001b[0m\u001b[1;33m:\u001b[0m\u001b[1;33m\u001b[0m\u001b[0m\n\u001b[0m\u001b[0;32m    922\u001b[0m                 \u001b[0mself\u001b[0m\u001b[1;33m.\u001b[0m\u001b[0m_iterating\u001b[0m \u001b[1;33m=\u001b[0m \u001b[0mself\u001b[0m\u001b[1;33m.\u001b[0m\u001b[0m_original_iterator\u001b[0m \u001b[1;32mis\u001b[0m \u001b[1;32mnot\u001b[0m \u001b[1;32mNone\u001b[0m\u001b[1;33m\u001b[0m\u001b[0m\n\u001b[0;32m    923\u001b[0m \u001b[1;33m\u001b[0m\u001b[0m\n",
      "\u001b[1;32m~\\OneDrive\\Documents\\SageBionetworks\\synapse\\lib\\site-packages\\joblib\\parallel.py\u001b[0m in \u001b[0;36mdispatch_one_batch\u001b[1;34m(self, iterator)\u001b[0m\n\u001b[0;32m    757\u001b[0m                 \u001b[1;32mreturn\u001b[0m \u001b[1;32mFalse\u001b[0m\u001b[1;33m\u001b[0m\u001b[0m\n\u001b[0;32m    758\u001b[0m             \u001b[1;32melse\u001b[0m\u001b[1;33m:\u001b[0m\u001b[1;33m\u001b[0m\u001b[0m\n\u001b[1;32m--> 759\u001b[1;33m                 \u001b[0mself\u001b[0m\u001b[1;33m.\u001b[0m\u001b[0m_dispatch\u001b[0m\u001b[1;33m(\u001b[0m\u001b[0mtasks\u001b[0m\u001b[1;33m)\u001b[0m\u001b[1;33m\u001b[0m\u001b[0m\n\u001b[0m\u001b[0;32m    760\u001b[0m                 \u001b[1;32mreturn\u001b[0m \u001b[1;32mTrue\u001b[0m\u001b[1;33m\u001b[0m\u001b[0m\n\u001b[0;32m    761\u001b[0m \u001b[1;33m\u001b[0m\u001b[0m\n",
      "\u001b[1;32m~\\OneDrive\\Documents\\SageBionetworks\\synapse\\lib\\site-packages\\joblib\\parallel.py\u001b[0m in \u001b[0;36m_dispatch\u001b[1;34m(self, batch)\u001b[0m\n\u001b[0;32m    714\u001b[0m         \u001b[1;32mwith\u001b[0m \u001b[0mself\u001b[0m\u001b[1;33m.\u001b[0m\u001b[0m_lock\u001b[0m\u001b[1;33m:\u001b[0m\u001b[1;33m\u001b[0m\u001b[0m\n\u001b[0;32m    715\u001b[0m             \u001b[0mjob_idx\u001b[0m \u001b[1;33m=\u001b[0m \u001b[0mlen\u001b[0m\u001b[1;33m(\u001b[0m\u001b[0mself\u001b[0m\u001b[1;33m.\u001b[0m\u001b[0m_jobs\u001b[0m\u001b[1;33m)\u001b[0m\u001b[1;33m\u001b[0m\u001b[0m\n\u001b[1;32m--> 716\u001b[1;33m             \u001b[0mjob\u001b[0m \u001b[1;33m=\u001b[0m \u001b[0mself\u001b[0m\u001b[1;33m.\u001b[0m\u001b[0m_backend\u001b[0m\u001b[1;33m.\u001b[0m\u001b[0mapply_async\u001b[0m\u001b[1;33m(\u001b[0m\u001b[0mbatch\u001b[0m\u001b[1;33m,\u001b[0m \u001b[0mcallback\u001b[0m\u001b[1;33m=\u001b[0m\u001b[0mcb\u001b[0m\u001b[1;33m)\u001b[0m\u001b[1;33m\u001b[0m\u001b[0m\n\u001b[0m\u001b[0;32m    717\u001b[0m             \u001b[1;31m# A job can complete so quickly than its callback is\u001b[0m\u001b[1;33m\u001b[0m\u001b[1;33m\u001b[0m\u001b[0m\n\u001b[0;32m    718\u001b[0m             \u001b[1;31m# called before we get here, causing self._jobs to\u001b[0m\u001b[1;33m\u001b[0m\u001b[1;33m\u001b[0m\u001b[0m\n",
      "\u001b[1;32m~\\OneDrive\\Documents\\SageBionetworks\\synapse\\lib\\site-packages\\joblib\\_parallel_backends.py\u001b[0m in \u001b[0;36mapply_async\u001b[1;34m(self, func, callback)\u001b[0m\n\u001b[0;32m    180\u001b[0m     \u001b[1;32mdef\u001b[0m \u001b[0mapply_async\u001b[0m\u001b[1;33m(\u001b[0m\u001b[0mself\u001b[0m\u001b[1;33m,\u001b[0m \u001b[0mfunc\u001b[0m\u001b[1;33m,\u001b[0m \u001b[0mcallback\u001b[0m\u001b[1;33m=\u001b[0m\u001b[1;32mNone\u001b[0m\u001b[1;33m)\u001b[0m\u001b[1;33m:\u001b[0m\u001b[1;33m\u001b[0m\u001b[0m\n\u001b[0;32m    181\u001b[0m         \u001b[1;34m\"\"\"Schedule a func to be run\"\"\"\u001b[0m\u001b[1;33m\u001b[0m\u001b[0m\n\u001b[1;32m--> 182\u001b[1;33m         \u001b[0mresult\u001b[0m \u001b[1;33m=\u001b[0m \u001b[0mImmediateResult\u001b[0m\u001b[1;33m(\u001b[0m\u001b[0mfunc\u001b[0m\u001b[1;33m)\u001b[0m\u001b[1;33m\u001b[0m\u001b[0m\n\u001b[0m\u001b[0;32m    183\u001b[0m         \u001b[1;32mif\u001b[0m \u001b[0mcallback\u001b[0m\u001b[1;33m:\u001b[0m\u001b[1;33m\u001b[0m\u001b[0m\n\u001b[0;32m    184\u001b[0m             \u001b[0mcallback\u001b[0m\u001b[1;33m(\u001b[0m\u001b[0mresult\u001b[0m\u001b[1;33m)\u001b[0m\u001b[1;33m\u001b[0m\u001b[0m\n",
      "\u001b[1;32m~\\OneDrive\\Documents\\SageBionetworks\\synapse\\lib\\site-packages\\joblib\\_parallel_backends.py\u001b[0m in \u001b[0;36m__init__\u001b[1;34m(self, batch)\u001b[0m\n\u001b[0;32m    547\u001b[0m         \u001b[1;31m# Don't delay the application, to avoid keeping the input\u001b[0m\u001b[1;33m\u001b[0m\u001b[1;33m\u001b[0m\u001b[0m\n\u001b[0;32m    548\u001b[0m         \u001b[1;31m# arguments in memory\u001b[0m\u001b[1;33m\u001b[0m\u001b[1;33m\u001b[0m\u001b[0m\n\u001b[1;32m--> 549\u001b[1;33m         \u001b[0mself\u001b[0m\u001b[1;33m.\u001b[0m\u001b[0mresults\u001b[0m \u001b[1;33m=\u001b[0m \u001b[0mbatch\u001b[0m\u001b[1;33m(\u001b[0m\u001b[1;33m)\u001b[0m\u001b[1;33m\u001b[0m\u001b[0m\n\u001b[0m\u001b[0;32m    550\u001b[0m \u001b[1;33m\u001b[0m\u001b[0m\n\u001b[0;32m    551\u001b[0m     \u001b[1;32mdef\u001b[0m \u001b[0mget\u001b[0m\u001b[1;33m(\u001b[0m\u001b[0mself\u001b[0m\u001b[1;33m)\u001b[0m\u001b[1;33m:\u001b[0m\u001b[1;33m\u001b[0m\u001b[0m\n",
      "\u001b[1;32m~\\OneDrive\\Documents\\SageBionetworks\\synapse\\lib\\site-packages\\joblib\\parallel.py\u001b[0m in \u001b[0;36m__call__\u001b[1;34m(self)\u001b[0m\n\u001b[0;32m    223\u001b[0m         \u001b[1;32mwith\u001b[0m \u001b[0mparallel_backend\u001b[0m\u001b[1;33m(\u001b[0m\u001b[0mself\u001b[0m\u001b[1;33m.\u001b[0m\u001b[0m_backend\u001b[0m\u001b[1;33m,\u001b[0m \u001b[0mn_jobs\u001b[0m\u001b[1;33m=\u001b[0m\u001b[0mself\u001b[0m\u001b[1;33m.\u001b[0m\u001b[0m_n_jobs\u001b[0m\u001b[1;33m)\u001b[0m\u001b[1;33m:\u001b[0m\u001b[1;33m\u001b[0m\u001b[0m\n\u001b[0;32m    224\u001b[0m             return [func(*args, **kwargs)\n\u001b[1;32m--> 225\u001b[1;33m                     for func, args, kwargs in self.items]\n\u001b[0m\u001b[0;32m    226\u001b[0m \u001b[1;33m\u001b[0m\u001b[0m\n\u001b[0;32m    227\u001b[0m     \u001b[1;32mdef\u001b[0m \u001b[0m__len__\u001b[0m\u001b[1;33m(\u001b[0m\u001b[0mself\u001b[0m\u001b[1;33m)\u001b[0m\u001b[1;33m:\u001b[0m\u001b[1;33m\u001b[0m\u001b[0m\n",
      "\u001b[1;32m~\\OneDrive\\Documents\\SageBionetworks\\synapse\\lib\\site-packages\\joblib\\parallel.py\u001b[0m in \u001b[0;36m<listcomp>\u001b[1;34m(.0)\u001b[0m\n\u001b[0;32m    223\u001b[0m         \u001b[1;32mwith\u001b[0m \u001b[0mparallel_backend\u001b[0m\u001b[1;33m(\u001b[0m\u001b[0mself\u001b[0m\u001b[1;33m.\u001b[0m\u001b[0m_backend\u001b[0m\u001b[1;33m,\u001b[0m \u001b[0mn_jobs\u001b[0m\u001b[1;33m=\u001b[0m\u001b[0mself\u001b[0m\u001b[1;33m.\u001b[0m\u001b[0m_n_jobs\u001b[0m\u001b[1;33m)\u001b[0m\u001b[1;33m:\u001b[0m\u001b[1;33m\u001b[0m\u001b[0m\n\u001b[0;32m    224\u001b[0m             return [func(*args, **kwargs)\n\u001b[1;32m--> 225\u001b[1;33m                     for func, args, kwargs in self.items]\n\u001b[0m\u001b[0;32m    226\u001b[0m \u001b[1;33m\u001b[0m\u001b[0m\n\u001b[0;32m    227\u001b[0m     \u001b[1;32mdef\u001b[0m \u001b[0m__len__\u001b[0m\u001b[1;33m(\u001b[0m\u001b[0mself\u001b[0m\u001b[1;33m)\u001b[0m\u001b[1;33m:\u001b[0m\u001b[1;33m\u001b[0m\u001b[0m\n",
      "\u001b[1;32m~\\OneDrive\\Documents\\SageBionetworks\\synapse\\lib\\site-packages\\sklearn\\model_selection\\_validation.py\u001b[0m in \u001b[0;36m_fit_and_score\u001b[1;34m(estimator, X, y, scorer, train, test, verbose, parameters, fit_params, return_train_score, return_parameters, return_n_test_samples, return_times, return_estimator, error_score)\u001b[0m\n\u001b[0;32m    514\u001b[0m             \u001b[0mestimator\u001b[0m\u001b[1;33m.\u001b[0m\u001b[0mfit\u001b[0m\u001b[1;33m(\u001b[0m\u001b[0mX_train\u001b[0m\u001b[1;33m,\u001b[0m \u001b[1;33m**\u001b[0m\u001b[0mfit_params\u001b[0m\u001b[1;33m)\u001b[0m\u001b[1;33m\u001b[0m\u001b[0m\n\u001b[0;32m    515\u001b[0m         \u001b[1;32melse\u001b[0m\u001b[1;33m:\u001b[0m\u001b[1;33m\u001b[0m\u001b[0m\n\u001b[1;32m--> 516\u001b[1;33m             \u001b[0mestimator\u001b[0m\u001b[1;33m.\u001b[0m\u001b[0mfit\u001b[0m\u001b[1;33m(\u001b[0m\u001b[0mX_train\u001b[0m\u001b[1;33m,\u001b[0m \u001b[0my_train\u001b[0m\u001b[1;33m,\u001b[0m \u001b[1;33m**\u001b[0m\u001b[0mfit_params\u001b[0m\u001b[1;33m)\u001b[0m\u001b[1;33m\u001b[0m\u001b[0m\n\u001b[0m\u001b[0;32m    517\u001b[0m \u001b[1;33m\u001b[0m\u001b[0m\n\u001b[0;32m    518\u001b[0m     \u001b[1;32mexcept\u001b[0m \u001b[0mException\u001b[0m \u001b[1;32mas\u001b[0m \u001b[0me\u001b[0m\u001b[1;33m:\u001b[0m\u001b[1;33m\u001b[0m\u001b[0m\n",
      "\u001b[1;32m~\\OneDrive\\Documents\\SageBionetworks\\synapse\\lib\\site-packages\\sklearn\\pipeline.py\u001b[0m in \u001b[0;36mfit\u001b[1;34m(self, X, y, **fit_params)\u001b[0m\n\u001b[0;32m    350\u001b[0m             \u001b[0mThis\u001b[0m \u001b[0mestimator\u001b[0m\u001b[1;33m\u001b[0m\u001b[0m\n\u001b[0;32m    351\u001b[0m         \"\"\"\n\u001b[1;32m--> 352\u001b[1;33m         \u001b[0mXt\u001b[0m\u001b[1;33m,\u001b[0m \u001b[0mfit_params\u001b[0m \u001b[1;33m=\u001b[0m \u001b[0mself\u001b[0m\u001b[1;33m.\u001b[0m\u001b[0m_fit\u001b[0m\u001b[1;33m(\u001b[0m\u001b[0mX\u001b[0m\u001b[1;33m,\u001b[0m \u001b[0my\u001b[0m\u001b[1;33m,\u001b[0m \u001b[1;33m**\u001b[0m\u001b[0mfit_params\u001b[0m\u001b[1;33m)\u001b[0m\u001b[1;33m\u001b[0m\u001b[0m\n\u001b[0m\u001b[0;32m    353\u001b[0m         with _print_elapsed_time('Pipeline',\n\u001b[0;32m    354\u001b[0m                                  self._log_message(len(self.steps) - 1)):\n",
      "\u001b[1;32m~\\OneDrive\\Documents\\SageBionetworks\\synapse\\lib\\site-packages\\sklearn\\pipeline.py\u001b[0m in \u001b[0;36m_fit\u001b[1;34m(self, X, y, **fit_params)\u001b[0m\n\u001b[0;32m    315\u001b[0m                 \u001b[0mmessage_clsname\u001b[0m\u001b[1;33m=\u001b[0m\u001b[1;34m'Pipeline'\u001b[0m\u001b[1;33m,\u001b[0m\u001b[1;33m\u001b[0m\u001b[0m\n\u001b[0;32m    316\u001b[0m                 \u001b[0mmessage\u001b[0m\u001b[1;33m=\u001b[0m\u001b[0mself\u001b[0m\u001b[1;33m.\u001b[0m\u001b[0m_log_message\u001b[0m\u001b[1;33m(\u001b[0m\u001b[0mstep_idx\u001b[0m\u001b[1;33m)\u001b[0m\u001b[1;33m,\u001b[0m\u001b[1;33m\u001b[0m\u001b[0m\n\u001b[1;32m--> 317\u001b[1;33m                 **fit_params_steps[name])\n\u001b[0m\u001b[0;32m    318\u001b[0m             \u001b[1;31m# Replace the transformer of the step with the fitted\u001b[0m\u001b[1;33m\u001b[0m\u001b[1;33m\u001b[0m\u001b[0m\n\u001b[0;32m    319\u001b[0m             \u001b[1;31m# transformer. This is necessary when loading the transformer\u001b[0m\u001b[1;33m\u001b[0m\u001b[1;33m\u001b[0m\u001b[0m\n",
      "\u001b[1;32m~\\OneDrive\\Documents\\SageBionetworks\\synapse\\lib\\site-packages\\joblib\\memory.py\u001b[0m in \u001b[0;36m__call__\u001b[1;34m(self, *args, **kwargs)\u001b[0m\n\u001b[0;32m    353\u001b[0m \u001b[1;33m\u001b[0m\u001b[0m\n\u001b[0;32m    354\u001b[0m     \u001b[1;32mdef\u001b[0m \u001b[0m__call__\u001b[0m\u001b[1;33m(\u001b[0m\u001b[0mself\u001b[0m\u001b[1;33m,\u001b[0m \u001b[1;33m*\u001b[0m\u001b[0margs\u001b[0m\u001b[1;33m,\u001b[0m \u001b[1;33m**\u001b[0m\u001b[0mkwargs\u001b[0m\u001b[1;33m)\u001b[0m\u001b[1;33m:\u001b[0m\u001b[1;33m\u001b[0m\u001b[0m\n\u001b[1;32m--> 355\u001b[1;33m         \u001b[1;32mreturn\u001b[0m \u001b[0mself\u001b[0m\u001b[1;33m.\u001b[0m\u001b[0mfunc\u001b[0m\u001b[1;33m(\u001b[0m\u001b[1;33m*\u001b[0m\u001b[0margs\u001b[0m\u001b[1;33m,\u001b[0m \u001b[1;33m**\u001b[0m\u001b[0mkwargs\u001b[0m\u001b[1;33m)\u001b[0m\u001b[1;33m\u001b[0m\u001b[0m\n\u001b[0m\u001b[0;32m    356\u001b[0m \u001b[1;33m\u001b[0m\u001b[0m\n\u001b[0;32m    357\u001b[0m     \u001b[1;32mdef\u001b[0m \u001b[0mcall_and_shelve\u001b[0m\u001b[1;33m(\u001b[0m\u001b[0mself\u001b[0m\u001b[1;33m,\u001b[0m \u001b[1;33m*\u001b[0m\u001b[0margs\u001b[0m\u001b[1;33m,\u001b[0m \u001b[1;33m**\u001b[0m\u001b[0mkwargs\u001b[0m\u001b[1;33m)\u001b[0m\u001b[1;33m:\u001b[0m\u001b[1;33m\u001b[0m\u001b[0m\n",
      "\u001b[1;32m~\\OneDrive\\Documents\\SageBionetworks\\synapse\\lib\\site-packages\\sklearn\\pipeline.py\u001b[0m in \u001b[0;36m_fit_transform_one\u001b[1;34m(transformer, X, y, weight, message_clsname, message, **fit_params)\u001b[0m\n\u001b[0;32m    714\u001b[0m     \u001b[1;32mwith\u001b[0m \u001b[0m_print_elapsed_time\u001b[0m\u001b[1;33m(\u001b[0m\u001b[0mmessage_clsname\u001b[0m\u001b[1;33m,\u001b[0m \u001b[0mmessage\u001b[0m\u001b[1;33m)\u001b[0m\u001b[1;33m:\u001b[0m\u001b[1;33m\u001b[0m\u001b[0m\n\u001b[0;32m    715\u001b[0m         \u001b[1;32mif\u001b[0m \u001b[0mhasattr\u001b[0m\u001b[1;33m(\u001b[0m\u001b[0mtransformer\u001b[0m\u001b[1;33m,\u001b[0m \u001b[1;34m'fit_transform'\u001b[0m\u001b[1;33m)\u001b[0m\u001b[1;33m:\u001b[0m\u001b[1;33m\u001b[0m\u001b[0m\n\u001b[1;32m--> 716\u001b[1;33m             \u001b[0mres\u001b[0m \u001b[1;33m=\u001b[0m \u001b[0mtransformer\u001b[0m\u001b[1;33m.\u001b[0m\u001b[0mfit_transform\u001b[0m\u001b[1;33m(\u001b[0m\u001b[0mX\u001b[0m\u001b[1;33m,\u001b[0m \u001b[0my\u001b[0m\u001b[1;33m,\u001b[0m \u001b[1;33m**\u001b[0m\u001b[0mfit_params\u001b[0m\u001b[1;33m)\u001b[0m\u001b[1;33m\u001b[0m\u001b[0m\n\u001b[0m\u001b[0;32m    717\u001b[0m         \u001b[1;32melse\u001b[0m\u001b[1;33m:\u001b[0m\u001b[1;33m\u001b[0m\u001b[0m\n\u001b[0;32m    718\u001b[0m             \u001b[0mres\u001b[0m \u001b[1;33m=\u001b[0m \u001b[0mtransformer\u001b[0m\u001b[1;33m.\u001b[0m\u001b[0mfit\u001b[0m\u001b[1;33m(\u001b[0m\u001b[0mX\u001b[0m\u001b[1;33m,\u001b[0m \u001b[0my\u001b[0m\u001b[1;33m,\u001b[0m \u001b[1;33m**\u001b[0m\u001b[0mfit_params\u001b[0m\u001b[1;33m)\u001b[0m\u001b[1;33m.\u001b[0m\u001b[0mtransform\u001b[0m\u001b[1;33m(\u001b[0m\u001b[0mX\u001b[0m\u001b[1;33m)\u001b[0m\u001b[1;33m\u001b[0m\u001b[0m\n",
      "\u001b[1;32m~\\OneDrive\\Documents\\SageBionetworks\\synapse\\lib\\site-packages\\sklearn\\base.py\u001b[0m in \u001b[0;36mfit_transform\u001b[1;34m(self, X, y, **fit_params)\u001b[0m\n\u001b[0;32m    554\u001b[0m         \u001b[1;32melse\u001b[0m\u001b[1;33m:\u001b[0m\u001b[1;33m\u001b[0m\u001b[0m\n\u001b[0;32m    555\u001b[0m             \u001b[1;31m# fit method of arity 2 (supervised transformation)\u001b[0m\u001b[1;33m\u001b[0m\u001b[1;33m\u001b[0m\u001b[0m\n\u001b[1;32m--> 556\u001b[1;33m             \u001b[1;32mreturn\u001b[0m \u001b[0mself\u001b[0m\u001b[1;33m.\u001b[0m\u001b[0mfit\u001b[0m\u001b[1;33m(\u001b[0m\u001b[0mX\u001b[0m\u001b[1;33m,\u001b[0m \u001b[0my\u001b[0m\u001b[1;33m,\u001b[0m \u001b[1;33m**\u001b[0m\u001b[0mfit_params\u001b[0m\u001b[1;33m)\u001b[0m\u001b[1;33m.\u001b[0m\u001b[0mtransform\u001b[0m\u001b[1;33m(\u001b[0m\u001b[0mX\u001b[0m\u001b[1;33m)\u001b[0m\u001b[1;33m\u001b[0m\u001b[0m\n\u001b[0m\u001b[0;32m    557\u001b[0m \u001b[1;33m\u001b[0m\u001b[0m\n\u001b[0;32m    558\u001b[0m \u001b[1;33m\u001b[0m\u001b[0m\n",
      "\u001b[1;32m~\\OneDrive\\Documents\\SageBionetworks\\synapse\\lib\\site-packages\\sklearn\\feature_selection\\univariate_selection.py\u001b[0m in \u001b[0;36mfit\u001b[1;34m(self, X, y)\u001b[0m\n\u001b[0;32m    346\u001b[0m                             % (self.score_func, type(self.score_func)))\n\u001b[0;32m    347\u001b[0m \u001b[1;33m\u001b[0m\u001b[0m\n\u001b[1;32m--> 348\u001b[1;33m         \u001b[0mself\u001b[0m\u001b[1;33m.\u001b[0m\u001b[0m_check_params\u001b[0m\u001b[1;33m(\u001b[0m\u001b[0mX\u001b[0m\u001b[1;33m,\u001b[0m \u001b[0my\u001b[0m\u001b[1;33m)\u001b[0m\u001b[1;33m\u001b[0m\u001b[0m\n\u001b[0m\u001b[0;32m    349\u001b[0m         \u001b[0mscore_func_ret\u001b[0m \u001b[1;33m=\u001b[0m \u001b[0mself\u001b[0m\u001b[1;33m.\u001b[0m\u001b[0mscore_func\u001b[0m\u001b[1;33m(\u001b[0m\u001b[0mX\u001b[0m\u001b[1;33m,\u001b[0m \u001b[0my\u001b[0m\u001b[1;33m)\u001b[0m\u001b[1;33m\u001b[0m\u001b[0m\n\u001b[0;32m    350\u001b[0m         \u001b[1;32mif\u001b[0m \u001b[0misinstance\u001b[0m\u001b[1;33m(\u001b[0m\u001b[0mscore_func_ret\u001b[0m\u001b[1;33m,\u001b[0m \u001b[1;33m(\u001b[0m\u001b[0mlist\u001b[0m\u001b[1;33m,\u001b[0m \u001b[0mtuple\u001b[0m\u001b[1;33m)\u001b[0m\u001b[1;33m)\u001b[0m\u001b[1;33m:\u001b[0m\u001b[1;33m\u001b[0m\u001b[0m\n",
      "\u001b[1;32m~\\OneDrive\\Documents\\SageBionetworks\\synapse\\lib\\site-packages\\sklearn\\feature_selection\\univariate_selection.py\u001b[0m in \u001b[0;36m_check_params\u001b[1;34m(self, X, y)\u001b[0m\n\u001b[0;32m    512\u001b[0m             raise ValueError(\"k should be >=0, <= n_features = %d; got %r. \"\n\u001b[0;32m    513\u001b[0m                              \u001b[1;34m\"Use k='all' to return all features.\"\u001b[0m\u001b[1;33m\u001b[0m\u001b[0m\n\u001b[1;32m--> 514\u001b[1;33m                              % (X.shape[1], self.k))\n\u001b[0m\u001b[0;32m    515\u001b[0m \u001b[1;33m\u001b[0m\u001b[0m\n\u001b[0;32m    516\u001b[0m     \u001b[1;32mdef\u001b[0m \u001b[0m_get_support_mask\u001b[0m\u001b[1;33m(\u001b[0m\u001b[0mself\u001b[0m\u001b[1;33m)\u001b[0m\u001b[1;33m:\u001b[0m\u001b[1;33m\u001b[0m\u001b[0m\n",
      "\u001b[1;31mValueError\u001b[0m: k should be >=0, <= n_features = 10; got 15. Use k='all' to return all features."
     ]
    }
   ],
   "source": [
    "lr_balance_model = logreg_fit(balance_X_train, balance_y_train)\n",
    "rf_balance_model = randomforest_fit(balance_X_train, balance_y_train)\n",
    "gb_balance_model = gradientboost_fit(balance_X_train, balance_y_train)\n",
    "xgb_balance_model = xgb_fit(balance_X_train, balance_y_train)\n",
    "\n",
    "\n",
    "print(\"\\n### Gradient Boosting Walking ###\")\n",
    "printPerformance(gb_balance_model, balance_X_test, balance_y_test)\n",
    "print(\"\\n### XTreme Gradient Boosting Walking ###\")\n",
    "printPerformance(xgb_balance_model, balance_X_test, balance_y_test)\n",
    "print(\"\\n### Random Forest Walking ###\")\n",
    "printPerformance(rf_balance_model, balance_X_test, balance_y_test)\n",
    "print(\"\\n### Logistic Regression Walking ###\")\n",
    "printPerformance(lr_balance_model, balance_X_test, balance_y_test)"
   ]
  },
  {
   "cell_type": "markdown",
   "metadata": {},
   "source": [
    "# Combining Features in Balance and Walking"
   ]
  },
  {
   "cell_type": "code",
   "execution_count": 113,
   "metadata": {},
   "outputs": [],
   "source": [
    "from sklearn.feature_selection import SelectKBest, chi2"
   ]
  },
  {
   "cell_type": "code",
   "execution_count": 135,
   "metadata": {},
   "outputs": [
    {
     "data": {
      "text/plain": [
       "max_userAccel_y.frequency_of_peaks     3.442899e+08\n",
       "max_userAccel_x.frequency_of_peaks     1.370186e+07\n",
       "max_userAccel_AA.frequency_of_peaks    8.345348e+05\n",
       "max_userAccel_z.frequency_of_peaks     4.602456e+04\n",
       "max_userAccel_x.max_freeze_index       1.208810e+03\n",
       "max_userAccel_z.max_freeze_index       8.897928e+02\n",
       "max_userAccel_y.max_freeze_index       3.391854e+02\n",
       "max_userAccel_x.freeze_occurences      4.986737e+01\n",
       "max_userAccel_z.freeze_occurences      3.421301e+01\n",
       "max_userAccel_y.freeze_occurences      1.917437e+01\n",
       "max_userAccel_AA.freeze_occurences     1.778391e+01\n",
       "max_userAccel_AA.max_freeze_index      1.230553e+01\n",
       "max_userAccel_x.no_of_steps            2.433806e+00\n",
       "max_userAccel_y.no_of_steps            5.537818e-01\n",
       "max_userAccel_z.no_of_steps            3.679252e-01\n",
       "dtype: float64"
      ]
     },
     "execution_count": 135,
     "metadata": {},
     "output_type": "execute_result"
    }
   ],
   "source": [
    "train = pd.concat([balance_train.drop(\"PD\", axis = 1), walking_train], axis = 1)\n",
    "train = train.groupby(train.columns, axis=1).mean().dropna()\n",
    "combined_X_train, combined_X_test, combined_y_train, combined_y_test = \\\n",
    "train_test_split(train.drop([\"PD\"], axis = 1), train[\"PD\"], test_size=0.20, random_state = 100)\n",
    "selector = SelectKBest(chi2, k=15).fit(combined_X_train, combined_y_train)\n",
    "pd.Series(data = selector.scores_, index = combined_X_train.columns).sort_values(ascending = False).head(15)"
   ]
  },
  {
   "cell_type": "code",
   "execution_count": 136,
   "metadata": {},
   "outputs": [
    {
     "name": "stdout",
     "output_type": "stream",
     "text": [
      "\n",
      "### Gradient Boosting Walking ###\n",
      "Mean AUC score on K-folds: 0.7072510822510822\n",
      "Parameter Used: {'classifier__learning_rate': 0.1, 'classifier__loss': 'exponential', 'classifier__max_depth': 6, 'classifier__n_estimators': 100}\n",
      "ROC-AUC on Test-Set: 0.48351648351648346\n",
      "log-loss: 18.285516772869254\n",
      "Precision: 0.3684210526315789\n",
      "Recall: 0.5384615384615384\n",
      "F1-Score: 0.4375\n",
      "\n",
      "### XTreme Gradient Boosting Walking ###\n",
      "Mean AUC score on K-folds: 0.6821789321789321\n",
      "Parameter Used: {'classifier__gamma': 1, 'classifier__learning_rate': 0.01, 'classifier__max_depth': 6, 'classifier__n_estimators': 100, 'classifier__subsample': 0.8, 'classifier__tree_method': 'auto'}\n",
      "ROC-AUC on Test-Set: 0.5073260073260073\n",
      "log-loss: 17.269646890741583\n",
      "Precision: 0.3888888888888889\n",
      "Recall: 0.5384615384615384\n",
      "F1-Score: 0.45161290322580644\n",
      "\n",
      "### Random Forest Walking ###\n",
      "Mean AUC score on K-folds: 0.7160894660894661\n",
      "Parameter Used: {'classifier__criterion': 'entropy', 'classifier__max_depth': 9, 'classifier__max_features': 'auto', 'classifier__n_estimators': 200}\n",
      "ROC-AUC on Test-Set: 0.5787545787545787\n",
      "log-loss: 14.22203724435856\n",
      "Precision: 0.4666666666666667\n",
      "Recall: 0.5384615384615384\n",
      "F1-Score: 0.5\n",
      "\n",
      "### Logistic Regression Walking ###\n",
      "Mean AUC score on K-folds: 0.5811688311688312\n",
      "Parameter Used: {'classifier__penalty': 'l1', 'classifier__solver': 'liblinear'}\n",
      "ROC-AUC on Test-Set: 0.5164835164835165\n",
      "log-loss: 16.25375349104243\n",
      "Precision: 0.4\n",
      "Recall: 0.46153846153846156\n",
      "F1-Score: 0.42857142857142855\n"
     ]
    }
   ],
   "source": [
    "lr_balance_model = logreg_fit(combined_X_train, combined_y_train)\n",
    "rf_balance_model = randomforest_fit(combined_X_train, combined_y_train)\n",
    "gb_balance_model = gradientboost_fit(combined_X_train, combined_y_train)\n",
    "xgb_balance_model = xgb_fit(combined_X_train, combined_y_train)\n",
    "\n",
    "\n",
    "print(\"\\n### Gradient Boosting Walking ###\")\n",
    "printPerformance(gb_balance_model, combined_X_test, combined_y_test)\n",
    "print(\"\\n### XTreme Gradient Boosting Walking ###\")\n",
    "printPerformance(xgb_balance_model, combined_X_test, combined_y_test)\n",
    "print(\"\\n### Random Forest Walking ###\")\n",
    "printPerformance(rf_balance_model, combined_X_test, combined_y_test)\n",
    "print(\"\\n### Logistic Regression Walking ###\")\n",
    "printPerformance(lr_balance_model, combined_X_test, combined_y_test)"
   ]
  },
  {
   "cell_type": "markdown",
   "metadata": {},
   "source": [
    "# Saving Serialized Results"
   ]
  },
  {
   "cell_type": "markdown",
   "metadata": {},
   "source": [
    "The walking models will be the only one taken for further assessment towards V2 data due to its decent performance of ROC-AUC > 0.6. Model will be refitted to the test sets."
   ]
  },
  {
   "cell_type": "code",
   "execution_count": 3,
   "metadata": {},
   "outputs": [
    {
     "name": "stderr",
     "output_type": "stream",
     "text": [
      "C:\\Users\\atedi\\OneDrive\\Documents\\SageBionetworks\\synapse\\lib\\site-packages\\sklearn\\externals\\joblib\\__init__.py:15: DeprecationWarning: sklearn.externals.joblib is deprecated in 0.21 and will be removed in 0.23. Please import this functionality directly from joblib, which can be installed with: pip install joblib. If this warning is raised when loading pickled models, you may need to re-serialize those models with scikit-learn 0.21+.\n",
      "  warnings.warn(msg, category=DeprecationWarning)\n"
     ]
    }
   ],
   "source": [
    "import pickle\n",
    "from sklearn.externals import joblib "
   ]
  },
  {
   "cell_type": "markdown",
   "metadata": {},
   "source": [
    "### Refit Model to Tests Sets"
   ]
  },
  {
   "cell_type": "code",
   "execution_count": 24,
   "metadata": {},
   "outputs": [],
   "source": [
    "refitted_lr = lr_walking_model.best_estimator_.fit(walking_X_test, walking_y_test)\n",
    "refitted_gb = gb_walking_model.best_estimator_.fit(walking_X_test, walking_y_test)\n",
    "refitted_xgb = xgb_walking_model.best_estimator_.fit(walking_X_test, walking_y_test)\n",
    "refitted_rf = rf_walking_model.best_estimator_.fit(walking_X_test, walking_y_test)"
   ]
  },
  {
   "cell_type": "code",
   "execution_count": 25,
   "metadata": {},
   "outputs": [],
   "source": [
    "models = [\"refitted_lr\", \"refitted_gb\", \"refitted_xgb\", \"refitted_rf\"]\n",
    "\n",
    "\n",
    "for model in models:\n",
    "    joblib.dump(globals()[model], '../Models/{}.pkl'.format(model))"
   ]
  }
 ],
 "metadata": {
  "kernelspec": {
   "display_name": "synapse",
   "language": "python",
   "name": "synapse"
  },
  "language_info": {
   "codemirror_mode": {
    "name": "ipython",
    "version": 3
   },
   "file_extension": ".py",
   "mimetype": "text/x-python",
   "name": "python",
   "nbconvert_exporter": "python",
   "pygments_lexer": "ipython3",
   "version": "3.7.0"
  }
 },
 "nbformat": 4,
 "nbformat_minor": 2
}
