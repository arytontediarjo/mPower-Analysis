{
 "cells": [
  {
   "cell_type": "code",
   "execution_count": 1,
   "metadata": {},
   "outputs": [
    {
     "name": "stdout",
     "output_type": "stream",
     "text": [
      "Welcome, aryton tediarjo!\n",
      "\n"
     ]
    }
   ],
   "source": [
    "%load_ext autoreload\n",
    "%autoreload 2\n",
    "\n",
    "import os\n",
    "import sys\n",
    "sys.path.append(\"../../src\")\n",
    "import pandas as pd\n",
    "import numpy as np\n",
    "import synapseclient as sc\n",
    "import utils.munging_utils as query"
   ]
  },
  {
   "cell_type": "code",
   "execution_count": 12,
   "metadata": {},
   "outputs": [
    {
     "name": "stdout",
     "output_type": "stream",
     "text": [
      "Querying V2 Data\n",
      "Downloading 2 files, 6 cached locally\n"
     ]
    }
   ],
   "source": [
    "df = query.get_walking_synapse_table(recordIds = [\"cfb1f131-e49a-491f-ba53-ae9878688be7\",\n",
    "                                                  \"0f4222f1-6ad5-45c5-bb53-ed2f53c5f3b8\",\n",
    "                                                  \"42b1dcdf-9392-49f3-b3e0-0bac80c0e6ba\",\n",
    "                                                  \"507a9af9-4638-4549-9613-d6089d3b32c3\",\n",
    "                                                 ],\n",
    "                               table_id = \"syn12514611\",\n",
    "                               version = \"V2\")"
   ]
  },
  {
   "cell_type": "code",
   "execution_count": 44,
   "metadata": {},
   "outputs": [],
   "source": [
    "def get_fs(path, measurement):\n",
    "    try:\n",
    "        data = query.open_filepath(path)[1:]\n",
    "        data = data[data[\"sensorType\"] == measurement]\n",
    "        time_end = (data[\"timestamp\"].iloc[-1])\n",
    "        N = data.shape[0]\n",
    "    except:\n",
    "        return 0\n",
    "    return N/time_end"
   ]
  },
  {
   "cell_type": "code",
   "execution_count": 29,
   "metadata": {},
   "outputs": [],
   "source": [
    "data = query.open_filepath(df[\"walk_motion.json_pathfile\"].iloc[3])"
   ]
  },
  {
   "cell_type": "code",
   "execution_count": 30,
   "metadata": {},
   "outputs": [
    {
     "data": {
      "text/plain": [
       "3.2773978196604086"
      ]
     },
     "execution_count": 30,
     "metadata": {},
     "output_type": "execute_result"
    }
   ],
   "source": [
    "data[data[\"sensorType\"] == \"rotationRate\"].shape[0]/data[\"timestamp\"].iloc[-1]"
   ]
  },
  {
   "cell_type": "code",
   "execution_count": 31,
   "metadata": {},
   "outputs": [
    {
     "data": {
      "text/plain": [
       "31.777342602321387"
      ]
     },
     "execution_count": 31,
     "metadata": {},
     "output_type": "execute_result"
    }
   ],
   "source": [
    "data[data[\"sensorType\"] == \"acceleration\"].shape[0]/data[\"timestamp\"].iloc[-1]"
   ]
  },
  {
   "cell_type": "code",
   "execution_count": 45,
   "metadata": {},
   "outputs": [],
   "source": [
    "df[\"acceleration_sampling_rate\"] = df[\"walk_motion.json_pathfile\"].apply(get_fs, measurement = \"acceleration\")\n",
    "df[\"gyro_sampling_rate\"] = df[\"walk_motion.json_pathfile\"].apply(get_fs, measurement = \"rotationRate\")"
   ]
  },
  {
   "cell_type": "code",
   "execution_count": 47,
   "metadata": {},
   "outputs": [
    {
     "data": {
      "text/html": [
       "<div>\n",
       "<style scoped>\n",
       "    .dataframe tbody tr th:only-of-type {\n",
       "        vertical-align: middle;\n",
       "    }\n",
       "\n",
       "    .dataframe tbody tr th {\n",
       "        vertical-align: top;\n",
       "    }\n",
       "\n",
       "    .dataframe thead th {\n",
       "        text-align: right;\n",
       "    }\n",
       "</style>\n",
       "<table border=\"1\" class=\"dataframe\">\n",
       "  <thead>\n",
       "    <tr style=\"text-align: right;\">\n",
       "      <th></th>\n",
       "      <th>recordId</th>\n",
       "      <th>healthCode</th>\n",
       "      <th>phoneInfo</th>\n",
       "      <th>appVersion</th>\n",
       "      <th>acceleration_sampling_rate</th>\n",
       "      <th>gyro_sampling_rate</th>\n",
       "    </tr>\n",
       "  </thead>\n",
       "  <tbody>\n",
       "    <tr>\n",
       "      <th>0</th>\n",
       "      <td>0f4222f1-6ad5-45c5-bb53-ed2f53c5f3b8</td>\n",
       "      <td>6d9b0436-6740-4c50-81ea-4696647b49fb</td>\n",
       "      <td>LGE LM-Q710.FG</td>\n",
       "      <td>version 0.14.0-internal, build 233</td>\n",
       "      <td>49.786232</td>\n",
       "      <td>4.997025</td>\n",
       "    </tr>\n",
       "    <tr>\n",
       "      <th>1</th>\n",
       "      <td>42b1dcdf-9392-49f3-b3e0-0bac80c0e6ba</td>\n",
       "      <td>6d9b0436-6740-4c50-81ea-4696647b49fb</td>\n",
       "      <td>LGE LM-Q710.FG</td>\n",
       "      <td>version 0.14.0-internal, build 233</td>\n",
       "      <td>49.799485</td>\n",
       "      <td>5.008480</td>\n",
       "    </tr>\n",
       "    <tr>\n",
       "      <th>2</th>\n",
       "      <td>507a9af9-4638-4549-9613-d6089d3b32c3</td>\n",
       "      <td>db8e5408-b39e-4dbb-902e-fa0131522469</td>\n",
       "      <td>Samsung SM-J320H</td>\n",
       "      <td>version 0.14.0-internal, build 233</td>\n",
       "      <td>5.263171</td>\n",
       "      <td>0.000000</td>\n",
       "    </tr>\n",
       "    <tr>\n",
       "      <th>3</th>\n",
       "      <td>cfb1f131-e49a-491f-ba53-ae9878688be7</td>\n",
       "      <td>6d9b0436-6740-4c50-81ea-4696647b49fb</td>\n",
       "      <td>LGE LM-Q710.FG</td>\n",
       "      <td>version 0.14.0-internal, build 233</td>\n",
       "      <td>31.758177</td>\n",
       "      <td>3.285600</td>\n",
       "    </tr>\n",
       "  </tbody>\n",
       "</table>\n",
       "</div>"
      ],
      "text/plain": [
       "                               recordId                            healthCode  \\\n",
       "0  0f4222f1-6ad5-45c5-bb53-ed2f53c5f3b8  6d9b0436-6740-4c50-81ea-4696647b49fb   \n",
       "1  42b1dcdf-9392-49f3-b3e0-0bac80c0e6ba  6d9b0436-6740-4c50-81ea-4696647b49fb   \n",
       "2  507a9af9-4638-4549-9613-d6089d3b32c3  db8e5408-b39e-4dbb-902e-fa0131522469   \n",
       "3  cfb1f131-e49a-491f-ba53-ae9878688be7  6d9b0436-6740-4c50-81ea-4696647b49fb   \n",
       "\n",
       "          phoneInfo                          appVersion  \\\n",
       "0    LGE LM-Q710.FG  version 0.14.0-internal, build 233   \n",
       "1    LGE LM-Q710.FG  version 0.14.0-internal, build 233   \n",
       "2  Samsung SM-J320H  version 0.14.0-internal, build 233   \n",
       "3    LGE LM-Q710.FG  version 0.14.0-internal, build 233   \n",
       "\n",
       "   acceleration_sampling_rate  gyro_sampling_rate  \n",
       "0                   49.786232            4.997025  \n",
       "1                   49.799485            5.008480  \n",
       "2                    5.263171            0.000000  \n",
       "3                   31.758177            3.285600  "
      ]
     },
     "execution_count": 47,
     "metadata": {},
     "output_type": "execute_result"
    }
   ],
   "source": [
    "df[[\"recordId\", \"healthCode\", \"phoneInfo\", \"appVersion\", \"acceleration_sampling_rate\", \"gyro_sampling_rate\"]]"
   ]
  },
  {
   "cell_type": "code",
   "execution_count": null,
   "metadata": {},
   "outputs": [],
   "source": []
  }
 ],
 "metadata": {
  "kernelspec": {
   "display_name": "synapse_venv",
   "language": "python",
   "name": "synapse_venv"
  },
  "language_info": {
   "codemirror_mode": {
    "name": "ipython",
    "version": 3
   },
   "file_extension": ".py",
   "mimetype": "text/x-python",
   "name": "python",
   "nbconvert_exporter": "python",
   "pygments_lexer": "ipython3",
   "version": "3.7.4"
  }
 },
 "nbformat": 4,
 "nbformat_minor": 4
}
