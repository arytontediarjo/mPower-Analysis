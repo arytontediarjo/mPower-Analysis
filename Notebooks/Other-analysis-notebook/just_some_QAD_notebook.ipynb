{
 "cells": [
  {
   "cell_type": "code",
   "execution_count": 36,
   "metadata": {},
   "outputs": [],
   "source": [
    "## VISUALIZATION OF ALL DISTRIBUTION"
   ]
  },
  {
   "cell_type": "code",
   "execution_count": 27,
   "metadata": {},
   "outputs": [
    {
     "name": "stdout",
     "output_type": "stream",
     "text": [
      "Welcome, aryton tediarjo!\n",
      "\n",
      "The autoreload extension is already loaded. To reload it, use:\n",
      "  %reload_ext autoreload\n"
     ]
    }
   ],
   "source": [
    "%load_ext autoreload\n",
    "%autoreload 2\n",
    "\n",
    "\n",
    "import pandas as pd\n",
    "import synapseclient as sc\n",
    "import sys\n",
    "sys.path.append(\"../../src\")\n",
    "from utils.munging_utils import get_file_entity, fix_column_name, save_data_to_synapse\n",
    "from utils.preprocessing_utils import preprocess, addAdditionalFeatures_viz, collapseFeatures\n",
    "from datetime import datetime\n",
    "import numpy as np"
   ]
  },
  {
   "cell_type": "code",
   "execution_count": 29,
   "metadata": {},
   "outputs": [],
   "source": [
    "MPOWER_GAIT_DATA_V1 = \"syn21111818\"\n",
    "MPOWER_DEMO_DATA_V1 = \"syn10371840\"\n",
    "MPOWER_GAIT_DATA_V2 = \"syn21113231\"\n",
    "MPOWER_DEMO_DATA_V2 = \"syn15673379\"\n",
    "MPOWER_GAIT_DATA_PASSIVE = \"syn21114136\"\n",
    "EMS_PROF_DATA = \"syn10235463\"\n",
    "EMS_DEMO_DATA = \"syn10295288\"\n",
    "EMS_GAIT_DATA = \"syn21256442\"\n",
    "EMS_PASSIVE_DATA = \"syn10651116\""
   ]
  },
  {
   "cell_type": "code",
   "execution_count": 4,
   "metadata": {},
   "outputs": [
    {
     "name": "stdout",
     "output_type": "stream",
     "text": [
      "Welcome, aryton tediarjo!\n",
      "\n"
     ]
    }
   ],
   "source": [
    "syn = sc.login()"
   ]
  },
  {
   "cell_type": "code",
   "execution_count": null,
   "metadata": {},
   "outputs": [],
   "source": [
    "metadata_cols = ['recordId', 'healthCode', 'appVersion', \n",
    "                 'phoneInfo', 'createdOn', 'PD', 'MS',\n",
    "                 'gender', 'age', 'version']\n",
    "data = data[[feat for feat in data.columns if (\".\" in feat) or (feat in metadata_cols)]]"
   ]
  },
  {
   "cell_type": "code",
   "execution_count": 79,
   "metadata": {},
   "outputs": [],
   "source": [
    "## gait mPower V1 ##\n",
    "\n",
    "def create_mPowerV1_data(MPOWER_DATA_V1, MPOWER_DEMO_V1, output_filename):\n",
    "    demo_data = syn.tableQuery(\"SELECT * FROM {} where dataGroups\\\n",
    "                               NOT LIKE '%test_user%'\".format(MPOWER_DEMO_V1)).asDataFrame()\n",
    "    gait_data = get_file_entity(MPOWER_DATA_V1)\n",
    "    demo_data = demo_data[[\"healthCode\", \"gender\", \"age\",\n",
    "                           \"professional_diagnosis\", \"inferred_diagnosis\"]].reset_index(drop = True)\n",
    "    data = pd.merge(gait_data, demo_data, on = \"healthCode\", how = \"inner\")\n",
    "    data = data.dropna(subset = [\"inferred_diagnosis\"], thresh = 1)\n",
    "    data[\"PD\"] = data[\"inferred_diagnosis\"].map({True :1.0, False:0.0})\n",
    "    data = data[(data[\"gender\"] == \"Female\") | (data[\"gender\"] == \"Male\")]\n",
    "    data[\"age\"] = data[\"age\"].apply(lambda x: float(x))\n",
    "    data = data[(data[\"age\"] <= 100) & (data[\"age\"] >= 0)]\n",
    "    data[\"gender\"] = data[\"gender\"].apply(lambda x: x.lower())\n",
    "    data = fix_column_name(data)\n",
    "    data = data.reset_index(drop = True)\n",
    "    metadata_cols = ['recordId', 'healthCode', 'appVersion', \n",
    "                 'phoneInfo', 'createdOn', 'PD', 'MS',\n",
    "                 'gender', 'age', 'version']\n",
    "    data = data[[feat for feat in data.columns if (\".\" in feat) or (feat in metadata_cols)]]\n",
    "    save_data_to_synapse(data = data, \n",
    "                         output_filename = \"mpower_v1_active_full.csv\",\n",
    "                         data_parent_id = \"syn21267355\")\n",
    "    return data \n",
    "\n"
   ]
  },
  {
   "cell_type": "code",
   "execution_count": 80,
   "metadata": {},
   "outputs": [],
   "source": [
    "def create_mPowerV2_data(MPOWER_DATA_V2, MPOWER_DEMO_V2, output_filename):\n",
    "\n",
    "    demo_data = syn.tableQuery(\"SELECT birthYear, healthCode, diagnosis, sex FROM {} \\\n",
    "                                where dataGroups NOT LIKE '%test_user%'\".format(MPOWER_DEMO_V2)).asDataFrame()\n",
    "    gait_data = get_file_entity(MPOWER_DATA_V2)\n",
    "    data   = pd.merge(gait_data, demo_data, how = \"inner\", on = \"healthCode\")\n",
    "    data   = data[data[\"diagnosis\"] != \"no_answer\"] \n",
    "    data[\"PD\"] = data[\"diagnosis\"].map({\"parkinsons\":1, \"control\":0})\n",
    "    data[\"age\"] = data[\"birthYear\"].apply(lambda year: datetime.now().year - year)\n",
    "    data = data.rename({\"sex\":\"gender\"}, axis = 1)\n",
    "    data = fix_column_name(data)\n",
    "    data = data.reset_index(drop = True)\n",
    "    metadata_cols = ['recordId', 'healthCode', 'appVersion', \n",
    "                 'phoneInfo', 'createdOn', 'PD', 'MS',\n",
    "                 'gender', 'age', 'version']\n",
    "    data = data[[feat for feat in data.columns if (\".\" in feat) or (feat in metadata_cols)]]\n",
    "    save_data_to_synapse(data = data, output_filename = output_filename,\n",
    "                              data_parent_id = \"syn21267355\")\n",
    "    return data"
   ]
  },
  {
   "cell_type": "code",
   "execution_count": 81,
   "metadata": {},
   "outputs": [],
   "source": [
    "def create_elevateMS_data(EMS_DATA, EMS_PROF_DATA, output_filename):\n",
    "    profile_data = syn.tableQuery(\"SELECT healthCode, dataGroups, 'demographics.gender', 'demographics.age' FROM {}\\\n",
    "                           where dataGroups NOT LIKE '%test_user%'\".format(EMS_PROF_DATA)).asDataFrame()\n",
    "    gait_data    = get_file_entity(EMS_DATA)\n",
    "    data         = pd.merge(gait_data, profile_data, how = \"inner\", on = \"healthCode\")\n",
    "    data = data.dropna(subset = [\"demographics.gender\"])\n",
    "    data[\"MS\"] = data[\"dataGroups\"].map({\"ms_patient\":1, \"control\":0})\n",
    "    data  = data.rename({\"demographics.gender\" :\"gender\",\n",
    "                         \"demographics.age\"    : \"age\"}, axis = 1)\n",
    "    data = fix_column_name(data)\n",
    "    data = data.reset_index(drop = True)\n",
    "    metadata_cols = ['recordId', 'healthCode', 'appVersion', \n",
    "                 'phoneInfo', 'createdOn', 'PD', 'MS',\n",
    "                 'gender', 'age', 'version']\n",
    "    data = data[[feat for feat in data.columns if (\".\" in feat) or (feat in metadata_cols)]]\n",
    "    save_data_to_synapse(data = data, output_filename = output_filename,\n",
    "                                data_parent_id = \"syn21267355\")\n",
    "    return data"
   ]
  },
  {
   "cell_type": "code",
   "execution_count": 84,
   "metadata": {},
   "outputs": [
    {
     "name": "stdout",
     "output_type": "stream",
     "text": [
      "\n",
      "##################################################\n",
      " Uploading file to Synapse storage \n",
      "##################################################\n",
      "\n",
      "\n",
      "##################################################\n",
      " Uploading file to Synapse storage \n",
      "##################################################\n",
      "\n",
      "\n",
      "##################################################\n",
      " Uploading file to Synapse storage \n",
      "##################################################\n",
      "\n",
      "\n",
      "##################################################\n",
      " Uploading file to Synapse storage \n",
      "##################################################\n",
      "\n"
     ]
    }
   ],
   "source": [
    "dataV1                    = create_mPowerV1_data(MPOWER_GAIT_DATA_V1, MPOWER_DEMO_DATA_V1, \"pdkit_mpowerv1_active_full.csv\")\n",
    "dataV1                    = dataV1.loc[:,~dataV1.columns.duplicated()]\n",
    "dataV1[\"version\"]         = \"V1\"\n",
    "dataV2                    = create_mPowerV2_data(MPOWER_GAIT_DATA_V2, MPOWER_DEMO_DATA_V2, \"pdkit_mpowerv2_active_full.csv\")\n",
    "dataV2[\"version\"]         = \"V2\"\n",
    "dataPassive               = create_mPowerV2_data(MPOWER_GAIT_DATA_PASSIVE, MPOWER_DEMO_DATA_V2, \"pdkit_mpowerv2_passive_full.csv\")\n",
    "dataPassive[\"version\"]    = \"PDKIT_passive\"\n",
    "dataEMS_active            = create_elevateMS_data(EMS_GAIT_DATA, EMS_PROF_DATA, \"pdkit_ems_active_full.csv\")\n",
    "dataEMS_active[\"version\"] = \"EMS_active\"\n",
    "dataEMS_active            = create_elevateMS_data(EMS_GAIT_DATA, EMS_PROF_DATA, \"pdkit_ems_active_full.csv\")\n",
    "dataEMS_active[\"version\"] = \"EMS_passive\""
   ]
  },
  {
   "cell_type": "code",
   "execution_count": 85,
   "metadata": {},
   "outputs": [
    {
     "name": "stderr",
     "output_type": "stream",
     "text": [
      "[WARNING] /Users/atediarjo/Documents/SageBionetworks/synapse_venv/lib/python3.7/site-packages/ipykernel_launcher.py:2: FutureWarning: Sorting because non-concatenation axis is not aligned. A future version\n",
      "of pandas will change to not sort by default.\n",
      "\n",
      "To accept the future behavior, pass 'sort=False'.\n",
      "\n",
      "To retain the current behavior and silence the warning, pass 'sort=True'.\n",
      "\n",
      "  \n",
      "\n"
     ]
    },
    {
     "name": "stdout",
     "output_type": "stream",
     "text": [
      "\n",
      "##################################################\n",
      " Uploading file to Synapse storage \n",
      "##################################################\n",
      "\n"
     ]
    }
   ],
   "source": [
    "### some data annotations ### \n",
    "data = pd.concat([dataV1, dataV2, dataPassive, dataEMS_active]).reset_index(drop = True)\n",
    "metadata_cols = ['recordId', 'healthCode', 'appVersion', \n",
    "                 'phoneInfo', 'createdOn', 'PD', 'MS',\n",
    "                 'gender', 'age', 'version']\n",
    "data = data[[feat for feat in data.columns if (\".\" in feat) or (feat in metadata_cols)]]\n",
    "data = data[(data != \"#ERROR\").all(axis = 1)]\n",
    "data[\"is_control\"] = data.apply(lambda x: 0 if ((x[\"PD\"] == 0) or (x[\"MS\"] == 0)) else 1, axis = 1)\n",
    "data[[_ for _ in data.columns if \".\" in _]] = \\\n",
    "    data[[_ for _ in data.columns if \".\" in _]].apply(pd.to_numeric)\n",
    "data.drop([\"y.duration\", \"z.duration\", \"AA.duration\"], axis = 1, inplace = True) \n",
    "data.rename({\"x.duration\": \"duration\"}, axis = 1, inplace = True)\n",
    "data = addAdditionalFeatures_viz().transform(data)\n",
    "# metadata = data[['MS', 'PD', 'age', 'appVersion', 'createdOn', \n",
    "#                  'gender', 'healthCode', 'phoneInfo', 'recordId', \n",
    "#                  'version', 'duration', \"is_control\"]]\n",
    "\n",
    "\n",
    "\n",
    "# data = collapseFeatures(aggregation_type = \"mean\").transform(data[[feat for feat in data.columns if (\".\" in feat) and (\"healthCode\" in feat)]])\n",
    "\n",
    "\n",
    "save_data_to_synapse(data = data.reset_index(drop = True), output_filename = \"combined_gait_data.csv\",\n",
    "                                data_parent_id = \"syn21267355\")"
   ]
  },
  {
   "cell_type": "code",
   "execution_count": 54,
   "metadata": {},
   "outputs": [
    {
     "data": {
      "text/plain": [
       "['AA.duration',\n",
       " 'AA.duration',\n",
       " 'AA.freeze_occurences',\n",
       " 'AA.freeze_occurences',\n",
       " 'AA.frequency_of_peaks',\n",
       " 'AA.frequency_of_peaks',\n",
       " 'AA.gait_step_regularity',\n",
       " 'AA.gait_step_regularity',\n",
       " 'AA.gait_stride_regularity',\n",
       " 'AA.gait_stride_regularity',\n",
       " 'AA.gait_symmetry',\n",
       " 'AA.gait_symmetry',\n",
       " 'AA.max_freeze_index',\n",
       " 'AA.max_freeze_index',\n",
       " 'AA.no_of_steps',\n",
       " 'AA.no_of_steps',\n",
       " 'AA.speed_of_gait',\n",
       " 'AA.speed_of_gait',\n",
       " 'x.duration',\n",
       " 'x.duration',\n",
       " 'x.freeze_occurences',\n",
       " 'x.freeze_occurences',\n",
       " 'x.frequency_of_peaks',\n",
       " 'x.frequency_of_peaks',\n",
       " 'x.gait_step_regularity',\n",
       " 'x.gait_step_regularity',\n",
       " 'x.gait_stride_regularity',\n",
       " 'x.gait_stride_regularity',\n",
       " 'x.gait_symmetry',\n",
       " 'x.gait_symmetry',\n",
       " 'x.max_freeze_index',\n",
       " 'x.max_freeze_index',\n",
       " 'x.no_of_steps',\n",
       " 'x.no_of_steps',\n",
       " 'x.speed_of_gait',\n",
       " 'x.speed_of_gait',\n",
       " 'y.duration',\n",
       " 'y.duration',\n",
       " 'y.freeze_occurences',\n",
       " 'y.freeze_occurences',\n",
       " 'y.frequency_of_peaks',\n",
       " 'y.frequency_of_peaks',\n",
       " 'y.gait_step_regularity',\n",
       " 'y.gait_step_regularity',\n",
       " 'y.gait_stride_regularity',\n",
       " 'y.gait_stride_regularity',\n",
       " 'y.gait_symmetry',\n",
       " 'y.gait_symmetry',\n",
       " 'y.max_freeze_index',\n",
       " 'y.max_freeze_index',\n",
       " 'y.no_of_steps',\n",
       " 'y.no_of_steps',\n",
       " 'y.speed_of_gait',\n",
       " 'y.speed_of_gait',\n",
       " 'z.duration',\n",
       " 'z.duration',\n",
       " 'z.freeze_occurences',\n",
       " 'z.freeze_occurences',\n",
       " 'z.frequency_of_peaks',\n",
       " 'z.frequency_of_peaks',\n",
       " 'z.gait_step_regularity',\n",
       " 'z.gait_step_regularity',\n",
       " 'z.gait_stride_regularity',\n",
       " 'z.gait_stride_regularity',\n",
       " 'z.gait_symmetry',\n",
       " 'z.gait_symmetry',\n",
       " 'z.max_freeze_index',\n",
       " 'z.max_freeze_index',\n",
       " 'z.no_of_steps',\n",
       " 'z.no_of_steps',\n",
       " 'z.speed_of_gait',\n",
       " 'z.speed_of_gait',\n",
       " 'AA.duration',\n",
       " 'AA.duration',\n",
       " 'AA.freeze_occurences',\n",
       " 'AA.freeze_occurences',\n",
       " 'AA.frequency_of_peaks',\n",
       " 'AA.frequency_of_peaks',\n",
       " 'AA.gait_step_regularity',\n",
       " 'AA.gait_step_regularity',\n",
       " 'AA.gait_stride_regularity',\n",
       " 'AA.gait_stride_regularity',\n",
       " 'AA.gait_symmetry',\n",
       " 'AA.gait_symmetry',\n",
       " 'AA.max_freeze_index',\n",
       " 'AA.max_freeze_index',\n",
       " 'AA.no_of_steps',\n",
       " 'AA.no_of_steps',\n",
       " 'AA.speed_of_gait',\n",
       " 'AA.speed_of_gait',\n",
       " 'x.duration',\n",
       " 'x.duration',\n",
       " 'x.freeze_occurences',\n",
       " 'x.freeze_occurences',\n",
       " 'x.frequency_of_peaks',\n",
       " 'x.frequency_of_peaks',\n",
       " 'x.gait_step_regularity',\n",
       " 'x.gait_step_regularity',\n",
       " 'x.gait_stride_regularity',\n",
       " 'x.gait_stride_regularity',\n",
       " 'x.gait_symmetry',\n",
       " 'x.gait_symmetry',\n",
       " 'x.max_freeze_index',\n",
       " 'x.max_freeze_index',\n",
       " 'x.no_of_steps',\n",
       " 'x.no_of_steps',\n",
       " 'x.speed_of_gait',\n",
       " 'x.speed_of_gait',\n",
       " 'y.duration',\n",
       " 'y.duration',\n",
       " 'y.freeze_occurences',\n",
       " 'y.freeze_occurences',\n",
       " 'y.frequency_of_peaks',\n",
       " 'y.frequency_of_peaks',\n",
       " 'y.gait_step_regularity',\n",
       " 'y.gait_step_regularity',\n",
       " 'y.gait_stride_regularity',\n",
       " 'y.gait_stride_regularity',\n",
       " 'y.gait_symmetry',\n",
       " 'y.gait_symmetry',\n",
       " 'y.max_freeze_index',\n",
       " 'y.max_freeze_index',\n",
       " 'y.no_of_steps',\n",
       " 'y.no_of_steps',\n",
       " 'y.speed_of_gait',\n",
       " 'y.speed_of_gait',\n",
       " 'z.duration',\n",
       " 'z.duration',\n",
       " 'z.freeze_occurences',\n",
       " 'z.freeze_occurences',\n",
       " 'z.frequency_of_peaks',\n",
       " 'z.frequency_of_peaks',\n",
       " 'z.gait_step_regularity',\n",
       " 'z.gait_step_regularity',\n",
       " 'z.gait_stride_regularity',\n",
       " 'z.gait_stride_regularity',\n",
       " 'z.gait_symmetry',\n",
       " 'z.gait_symmetry',\n",
       " 'z.max_freeze_index',\n",
       " 'z.max_freeze_index',\n",
       " 'z.no_of_steps',\n",
       " 'z.no_of_steps',\n",
       " 'z.speed_of_gait',\n",
       " 'z.speed_of_gait']"
      ]
     },
     "execution_count": 54,
     "metadata": {},
     "output_type": "execute_result"
    }
   ],
   "source": [
    "[feat for feat in dataV1.columns if \".\" in feat]"
   ]
  },
  {
   "cell_type": "code",
   "execution_count": 55,
   "metadata": {},
   "outputs": [
    {
     "data": {
      "text/plain": [
       "Index(['appVersion', 'createdOn', 'AA.duration', 'AA.duration',\n",
       "       'AA.freeze_occurences', 'AA.freeze_occurences', 'AA.frequency_of_peaks',\n",
       "       'AA.frequency_of_peaks', 'AA.gait_step_regularity',\n",
       "       'AA.gait_step_regularity',\n",
       "       ...\n",
       "       'z.no_of_steps', 'z.speed_of_gait', 'z.speed_of_gait', 'healthCode',\n",
       "       'phoneInfo', 'recordId', 'gender', 'age', 'PD', 'version'],\n",
       "      dtype='object', length=153)"
      ]
     },
     "execution_count": 55,
     "metadata": {},
     "output_type": "execute_result"
    }
   ],
   "source": [
    "dataV1.columns"
   ]
  },
  {
   "cell_type": "code",
   "execution_count": null,
   "metadata": {},
   "outputs": [],
   "source": []
  },
  {
   "cell_type": "code",
   "execution_count": null,
   "metadata": {},
   "outputs": [],
   "source": []
  },
  {
   "cell_type": "code",
   "execution_count": null,
   "metadata": {},
   "outputs": [],
   "source": []
  },
  {
   "cell_type": "code",
   "execution_count": null,
   "metadata": {},
   "outputs": [],
   "source": []
  },
  {
   "cell_type": "code",
   "execution_count": 29,
   "metadata": {},
   "outputs": [],
   "source": [
    "for i in syn.getChildren(parent = \"syn21267355\"):\n",
    "    if i[\"name\"] == 'combined_gait_data.csv':\n",
    "        data = utils.get_file_entity(i[\"id\"])\n",
    "        featurized_healthcode_list = data[\"healthCode\"].unique()"
   ]
  },
  {
   "cell_type": "code",
   "execution_count": 33,
   "metadata": {},
   "outputs": [],
   "source": [
    "new_data = (utils.get_file_entity(EMS_GAIT_DATA))[~new_data.isin(featurized_healthcode_list)]"
   ]
  },
  {
   "cell_type": "code",
   "execution_count": 35,
   "metadata": {},
   "outputs": [
    {
     "name": "stderr",
     "output_type": "stream",
     "text": [
      "[WARNING] /Users/atediarjo/Documents/SageBionetworks/synapse_venv/lib/python3.7/site-packages/ipykernel_launcher.py:1: FutureWarning: Sorting because non-concatenation axis is not aligned. A future version\n",
      "of pandas will change to not sort by default.\n",
      "\n",
      "To accept the future behavior, pass 'sort=False'.\n",
      "\n",
      "To retain the current behavior and silence the warning, pass 'sort=True'.\n",
      "\n",
      "  \"\"\"Entry point for launching an IPython kernel.\n",
      "\n"
     ]
    }
   ],
   "source": [
    "comb_data = pd.concat([data, new_data]).reset_index(drop = True)"
   ]
  }
 ],
 "metadata": {
  "kernelspec": {
   "display_name": "synapse_venv",
   "language": "python",
   "name": "synapse_venv"
  },
  "language_info": {
   "codemirror_mode": {
    "name": "ipython",
    "version": 3
   },
   "file_extension": ".py",
   "mimetype": "text/x-python",
   "name": "python",
   "nbconvert_exporter": "python",
   "pygments_lexer": "ipython3",
   "version": "3.7.4"
  }
 },
 "nbformat": 4,
 "nbformat_minor": 4
}
