{
 "cells": [
  {
   "cell_type": "code",
   "execution_count": 36,
   "metadata": {},
   "outputs": [],
   "source": [
    "## VISUALIZATION OF ALL DISTRIBUTION"
   ]
  },
  {
   "cell_type": "code",
   "execution_count": 170,
   "metadata": {},
   "outputs": [],
   "source": [
    "MPOWER_GAIT_DATA_V1 = \"syn10308918\"\n",
    "MPOWER_DEMO_DATA_V1 = \"syn10371840\"\n",
    "MPOWER_GAIT_DATA_V2 = \"syn21113231\"\n",
    "MPOWER_DEMO_DATA_V2 = \"syn15673379\"\n",
    "MPOWER_GAIT_DATA_PASSIVE = \"syn21114136\"\n",
    "EMS_PROF_DATA = \"syn10235463\"\n",
    "EMS_DEMO_DATA = \"syn10295288\"\n",
    "EMS_GAIT_DATA = \"syn21256442\"\n",
    "EMS_PASSIVE_DATA = \"syn10651116\""
   ]
  },
  {
   "cell_type": "code",
   "execution_count": 209,
   "metadata": {},
   "outputs": [],
   "source": [
    "import pandas as pd\n",
    "import synapseclient as sc\n",
    "import sys\n",
    "sys.path.append(\"../../src\")\n",
    "import utils\n",
    "import preprocessing_utils as proc\n",
    "from datetime import datetime\n",
    "import numpy as np"
   ]
  },
  {
   "cell_type": "code",
   "execution_count": 28,
   "metadata": {},
   "outputs": [
    {
     "name": "stdout",
     "output_type": "stream",
     "text": [
      "Welcome, aryton tediarjo!\n",
      "\n"
     ]
    }
   ],
   "source": [
    "syn = sc.login()"
   ]
  },
  {
   "cell_type": "code",
   "execution_count": 103,
   "metadata": {},
   "outputs": [
    {
     "name": "stdout",
     "output_type": "stream",
     "text": [
      "\n",
      "##################################################\n",
      " Uploading file to Synapse storage \n",
      "##################################################\n",
      "\n"
     ]
    }
   ],
   "source": [
    "## gait mPower V1 ##\n",
    "\n",
    "demo_data = syn.tableQuery(\"SELECT * FROM {}\".format(MPOWERV1_DEMO_DATA)).asDataFrame()\n",
    "gait_data = syn.tableQuery(\"SELECT * FROM {}\".format(MPOWERV1_GAIT_DATA)).asDataFrame()\n",
    "demo_data = demo_data[[\"healthCode\", \"gender\", \"age\",\n",
    "                       \"professional_diagnosis\", \"inferred_diagnosis\"]].reset_index(drop = True)\n",
    "data = pd.merge(gait_data, demo_data, on = \"healthCode\", how = \"inner\")\n",
    "data = data.dropna(subset = [\"inferred_diagnosis\"], thresh = 1)\n",
    "data[\"PD\"] = data[\"inferred_diagnosis\"].map({True :1.0, False:0.0})\n",
    "data = data[(data[\"gender\"] == \"Female\") | (data[\"gender\"] == \"Male\")]\n",
    "data[\"age\"] = data[\"age\"].apply(lambda x: float(x))\n",
    "data = data[(data[\"age\"] < 100) & (data[\"age\"] > 0)]\n",
    "data[\"gender\"] = data[\"gender\"].apply(lambda x: x.lower())\n",
    "data = data[[\"healthCode\", \"age\", \"gender\", \"PD\"]] \\\n",
    "        .drop_duplicates(subset = \"healthCode\", keep = \"first\").reset_index(drop = True)\n",
    "utils.save_data_to_synapse(data = data, output_filename = \"mpower_v1_full_metadata.csv\",\n",
    "                          data_parent_id = \"syn21267355\")"
   ]
  },
  {
   "cell_type": "code",
   "execution_count": 194,
   "metadata": {},
   "outputs": [],
   "source": [
    "def create_mPowerV2_data(MPOWER_DATA_V2, MPOWER_DEMO_V2, output_filename):\n",
    "\n",
    "    demo_data = syn.tableQuery(\"SELECT birthYear, healthCode, diagnosis, sex FROM {} \\\n",
    "                                where dataGroups NOT LIKE '%test_user%'\".format(MPOWER_DEMO_V2)).asDataFrame()\n",
    "    gait_data = utils.get_file_entity(MPOWER_DATA_V2)\n",
    "    data   = pd.merge(gait_data, demo_data, how = \"inner\", on = \"healthCode\")\n",
    "    data   = data[data[\"diagnosis\"] != \"no_answer\"] \n",
    "    data[\"PD\"] = data[\"diagnosis\"].map({\"parkinsons\":1, \"control\":0})\n",
    "    data[\"age\"] = data[\"birthYear\"].apply(lambda year: datetime.now().year - year)\n",
    "    data = data.rename({\"sex\":\"gender\"}, axis = 1)\n",
    "    data = utils.fix_column_name(data)\n",
    "    data = data.reset_index(drop = True)\n",
    "    utils.save_data_to_synapse(data = data, output_filename = output_filename,\n",
    "                              data_parent_id = \"syn21267355\")\n",
    "    return data"
   ]
  },
  {
   "cell_type": "code",
   "execution_count": 195,
   "metadata": {},
   "outputs": [],
   "source": [
    "def create_elevateMS_data(EMS_DATA, EMS_PROF_DATA, output_filename):\n",
    "    profile_data = syn.tableQuery(\"SELECT healthCode, dataGroups, 'demographics.gender', 'demographics.age' FROM {}\\\n",
    "                           where dataGroups NOT LIKE '%test_user%'\".format(EMS_PROF_DATA)).asDataFrame()\n",
    "    gait_data    = utils.get_file_entity(EMS_DATA)\n",
    "    data         = pd.merge(gait_data, profile_data, how = \"inner\", on = \"healthCode\")\n",
    "    data = data.dropna(subset = [\"demographics.gender\"])\n",
    "    data[\"MS\"] = data[\"dataGroups\"].map({\"ms_patient\":1, \"control\":0})\n",
    "    data  = data.rename({\"demographics.gender\" :\"gender\",\n",
    "                         \"demographics.age\"    : \"age\"}, axis = 1)\n",
    "    data = utils.fix_column_name(data)\n",
    "    data = data.reset_index(drop = True)\n",
    "    utils.save_data_to_synapse(data = data, output_filename = output_filename,\n",
    "                                data_parent_id = \"syn21267355\")\n",
    "    return data"
   ]
  },
  {
   "cell_type": "code",
   "execution_count": 196,
   "metadata": {},
   "outputs": [
    {
     "name": "stdout",
     "output_type": "stream",
     "text": [
      "\n",
      "##################################################\n",
      " Uploading file to Synapse storage \n",
      "##################################################\n",
      "\n",
      "\n",
      "##################################################\n",
      " Uploading file to Synapse storage \n",
      "##################################################\n",
      "\n",
      "\n",
      "##################################################\n",
      " Uploading file to Synapse storage \n",
      "##################################################\n",
      "\n"
     ]
    }
   ],
   "source": [
    "dataV2                    = create_mPowerV2_data(MPOWER_GAIT_DATA_V2, MPOWER_DEMO_DATA_V2, \"pdkit_mpowerv2_active_full.csv\")\n",
    "dataV2[\"version\"]         = \"V2\"\n",
    "dataPassive               = create_mPowerV2_data(MPOWER_GAIT_DATA_PASSIVE, MPOWER_DEMO_DATA_V2, \"pdkit_mpowerv2_passive_full.csv\")\n",
    "dataPassive[\"version\"]    = \"Passive\"\n",
    "dataEMS_active            = create_elevateMS_data(EMS_GAIT_DATA, EMS_PROF_DATA, \"pdkit_ems_active_full.csv\")\n",
    "dataEMS_active[\"version\"] = \"EMS_active\""
   ]
  },
  {
   "cell_type": "code",
   "execution_count": 214,
   "metadata": {},
   "outputs": [
    {
     "name": "stderr",
     "output_type": "stream",
     "text": [
      "[WARNING] /Users/atediarjo/Documents/SageBionetworks/synapse_venv/lib/python3.7/site-packages/ipykernel_launcher.py:2: FutureWarning: Sorting because non-concatenation axis is not aligned. A future version\n",
      "of pandas will change to not sort by default.\n",
      "\n",
      "To accept the future behavior, pass 'sort=False'.\n",
      "\n",
      "To retain the current behavior and silence the warning, pass 'sort=True'.\n",
      "\n",
      "  \n",
      "\n"
     ]
    },
    {
     "name": "stdout",
     "output_type": "stream",
     "text": [
      "\n",
      "##################################################\n",
      " Uploading file to Synapse storage \n",
      "##################################################\n",
      "\n"
     ]
    }
   ],
   "source": [
    "### some data annotations ### \n",
    "data = pd.concat([dataV2, dataPassive, dataEMS_active]).reset_index(drop = True)\n",
    "metadata_cols = ['recordId', 'healthCode', 'appVersion', \n",
    "                 'phoneInfo', 'createdOn', 'PD', 'MS',\n",
    "                 'gender', 'age', 'version']\n",
    "data = data[[feat for feat in data.columns if (\".\" in feat) or (feat in metadata_cols)]]\n",
    "data = data[(data != \"#ERROR\").all(axis = 1)]\n",
    "data[\"is_control\"] = data.apply(lambda x: 0 if ((x[\"PD\"] == 0) or (x[\"MS\"] == 0)) else 1, axis = 1)\n",
    "data[[_ for _ in data.columns if \".\" in _]] = \\\n",
    "    data[[_ for _ in data.columns if \".\" in _]].apply(pd.to_numeric)\n",
    "data.drop([\"y.duration\", \"z.duration\", \"AA.duration\"], axis = 1, inplace = True) \n",
    "data.rename({\"x.duration\": \"duration\"}, axis = 1, inplace = True)\n",
    "data = proc.addAdditionalFeatures().transform(data)\n",
    "# data = proc.collapseFeatures(aggregation_type = \"mean\").transform(data)\n",
    "utils.save_data_to_synapse(data = data.reset_index(drop = True), output_filename = \"combined_gait_data.csv\",\n",
    "                                data_parent_id = \"syn21267355\")"
   ]
  },
  {
   "cell_type": "code",
   "execution_count": null,
   "metadata": {},
   "outputs": [],
   "source": []
  }
 ],
 "metadata": {
  "kernelspec": {
   "display_name": "synapse_venv",
   "language": "python",
   "name": "synapse_venv"
  },
  "language_info": {
   "codemirror_mode": {
    "name": "ipython",
    "version": 3
   },
   "file_extension": ".py",
   "mimetype": "text/x-python",
   "name": "python",
   "nbconvert_exporter": "python",
   "pygments_lexer": "ipython3",
   "version": "3.7.4"
  }
 },
 "nbformat": 4,
 "nbformat_minor": 4
}
