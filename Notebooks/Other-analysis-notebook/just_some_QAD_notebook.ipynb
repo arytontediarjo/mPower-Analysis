{
 "cells": [
  {
   "cell_type": "code",
   "execution_count": 36,
   "metadata": {},
   "outputs": [],
   "source": [
    "## VISUALIZATION OF ALL DISTRIBUTION"
   ]
  },
  {
   "cell_type": "code",
   "execution_count": 16,
   "metadata": {},
   "outputs": [],
   "source": [
    "MPOWER_GAIT_DATA_V1 = \"syn10308918\"\n",
    "MPOWER_DEMO_DATA_V1 = \"syn10371840\"\n",
    "MPOWER_GAIT_DATA_V2 = \"syn21113231\"\n",
    "MPOWER_DEMO_DATA_V2 = \"syn15673379\"\n",
    "MPOWER_GAIT_DATA_PASSIVE = \"syn21114136\"\n",
    "EMS_PROF_DATA = \"syn10235463\"\n",
    "EMS_DEMO_DATA = \"syn10295288\"\n",
    "EMS_GAIT_DATA = \"syn21256442\"\n",
    "EMS_PASSIVE_DATA = \"syn10651116\""
   ]
  },
  {
   "cell_type": "code",
   "execution_count": 2,
   "metadata": {},
   "outputs": [
    {
     "name": "stdout",
     "output_type": "stream",
     "text": [
      "Welcome, aryton tediarjo!\n",
      "\n"
     ]
    }
   ],
   "source": [
    "import pandas as pd\n",
    "import synapseclient as sc\n",
    "import sys\n",
    "sys.path.append(\"../../src\")\n",
    "import utils\n",
    "import preprocessing_utils as proc\n",
    "from datetime import datetime\n",
    "import numpy as np"
   ]
  },
  {
   "cell_type": "code",
   "execution_count": 3,
   "metadata": {},
   "outputs": [
    {
     "name": "stdout",
     "output_type": "stream",
     "text": [
      "Welcome, aryton tediarjo!\n",
      "\n"
     ]
    }
   ],
   "source": [
    "syn = sc.login()"
   ]
  },
  {
   "cell_type": "code",
   "execution_count": 103,
   "metadata": {},
   "outputs": [
    {
     "name": "stdout",
     "output_type": "stream",
     "text": [
      "\n",
      "##################################################\n",
      " Uploading file to Synapse storage \n",
      "##################################################\n",
      "\n"
     ]
    }
   ],
   "source": [
    "## gait mPower V1 ##\n",
    "\n",
    "demo_data = syn.tableQuery(\"SELECT * FROM {}\".format(MPOWERV1_DEMO_DATA)).asDataFrame()\n",
    "gait_data = syn.tableQuery(\"SELECT * FROM {}\".format(MPOWERV1_GAIT_DATA)).asDataFrame()\n",
    "demo_data = demo_data[[\"healthCode\", \"gender\", \"age\",\n",
    "                       \"professional_diagnosis\", \"inferred_diagnosis\"]].reset_index(drop = True)\n",
    "data = pd.merge(gait_data, demo_data, on = \"healthCode\", how = \"inner\")\n",
    "data = data.dropna(subset = [\"inferred_diagnosis\"], thresh = 1)\n",
    "data[\"PD\"] = data[\"inferred_diagnosis\"].map({True :1.0, False:0.0})\n",
    "data = data[(data[\"gender\"] == \"Female\") | (data[\"gender\"] == \"Male\")]\n",
    "data[\"age\"] = data[\"age\"].apply(lambda x: float(x))\n",
    "data = data[(data[\"age\"] < 100) & (data[\"age\"] > 0)]\n",
    "data[\"gender\"] = data[\"gender\"].apply(lambda x: x.lower())\n",
    "data = data[[\"healthCode\", \"age\", \"gender\", \"PD\"]] \\\n",
    "        .drop_duplicates(subset = \"healthCode\", keep = \"first\").reset_index(drop = True)\n",
    "utils.save_data_to_synapse(data = data, output_filename = \"mpower_v1_full_metadata.csv\",\n",
    "                          data_parent_id = \"syn21267355\")"
   ]
  },
  {
   "cell_type": "code",
   "execution_count": 194,
   "metadata": {},
   "outputs": [],
   "source": [
    "def create_mPowerV2_data(MPOWER_DATA_V2, MPOWER_DEMO_V2, output_filename):\n",
    "\n",
    "    demo_data = syn.tableQuery(\"SELECT birthYear, healthCode, diagnosis, sex FROM {} \\\n",
    "                                where dataGroups NOT LIKE '%test_user%'\".format(MPOWER_DEMO_V2)).asDataFrame()\n",
    "    gait_data = utils.get_file_entity(MPOWER_DATA_V2)\n",
    "    data   = pd.merge(gait_data, demo_data, how = \"inner\", on = \"healthCode\")\n",
    "    data   = data[data[\"diagnosis\"] != \"no_answer\"] \n",
    "    data[\"PD\"] = data[\"diagnosis\"].map({\"parkinsons\":1, \"control\":0})\n",
    "    data[\"age\"] = data[\"birthYear\"].apply(lambda year: datetime.now().year - year)\n",
    "    data = data.rename({\"sex\":\"gender\"}, axis = 1)\n",
    "    data = utils.fix_column_name(data)\n",
    "    data = data.reset_index(drop = True)\n",
    "    utils.save_data_to_synapse(data = data, output_filename = output_filename,\n",
    "                              data_parent_id = \"syn21267355\")\n",
    "    return data"
   ]
  },
  {
   "cell_type": "code",
   "execution_count": 195,
   "metadata": {},
   "outputs": [],
   "source": [
    "def create_elevateMS_data(EMS_DATA, EMS_PROF_DATA, output_filename):\n",
    "    profile_data = syn.tableQuery(\"SELECT healthCode, dataGroups, 'demographics.gender', 'demographics.age' FROM {}\\\n",
    "                           where dataGroups NOT LIKE '%test_user%'\".format(EMS_PROF_DATA)).asDataFrame()\n",
    "    gait_data    = utils.get_file_entity(EMS_DATA)\n",
    "    data         = pd.merge(gait_data, profile_data, how = \"inner\", on = \"healthCode\")\n",
    "    data = data.dropna(subset = [\"demographics.gender\"])\n",
    "    data[\"MS\"] = data[\"dataGroups\"].map({\"ms_patient\":1, \"control\":0})\n",
    "    data  = data.rename({\"demographics.gender\" :\"gender\",\n",
    "                         \"demographics.age\"    : \"age\"}, axis = 1)\n",
    "    data = utils.fix_column_name(data)\n",
    "    data = data.reset_index(drop = True)\n",
    "    utils.save_data_to_synapse(data = data, output_filename = output_filename,\n",
    "                                data_parent_id = \"syn21267355\")\n",
    "    return data"
   ]
  },
  {
   "cell_type": "code",
   "execution_count": 196,
   "metadata": {},
   "outputs": [
    {
     "name": "stdout",
     "output_type": "stream",
     "text": [
      "\n",
      "##################################################\n",
      " Uploading file to Synapse storage \n",
      "##################################################\n",
      "\n",
      "\n",
      "##################################################\n",
      " Uploading file to Synapse storage \n",
      "##################################################\n",
      "\n",
      "\n",
      "##################################################\n",
      " Uploading file to Synapse storage \n",
      "##################################################\n",
      "\n"
     ]
    }
   ],
   "source": [
    "dataV2                    = create_mPowerV2_data(MPOWER_GAIT_DATA_V2, MPOWER_DEMO_DATA_V2, \"pdkit_mpowerv2_active_full.csv\")\n",
    "dataV2[\"version\"]         = \"V2\"\n",
    "dataPassive               = create_mPowerV2_data(MPOWER_GAIT_DATA_PASSIVE, MPOWER_DEMO_DATA_V2, \"pdkit_mpowerv2_passive_full.csv\")\n",
    "dataPassive[\"version\"]    = \"Passive\"\n",
    "dataEMS_active            = create_elevateMS_data(EMS_GAIT_DATA, EMS_PROF_DATA, \"pdkit_ems_active_full.csv\")\n",
    "dataEMS_active[\"version\"] = \"EMS_active\""
   ]
  },
  {
   "cell_type": "code",
   "execution_count": 214,
   "metadata": {},
   "outputs": [
    {
     "name": "stderr",
     "output_type": "stream",
     "text": [
      "[WARNING] /Users/atediarjo/Documents/SageBionetworks/synapse_venv/lib/python3.7/site-packages/ipykernel_launcher.py:2: FutureWarning: Sorting because non-concatenation axis is not aligned. A future version\n",
      "of pandas will change to not sort by default.\n",
      "\n",
      "To accept the future behavior, pass 'sort=False'.\n",
      "\n",
      "To retain the current behavior and silence the warning, pass 'sort=True'.\n",
      "\n",
      "  \n",
      "\n"
     ]
    },
    {
     "name": "stdout",
     "output_type": "stream",
     "text": [
      "\n",
      "##################################################\n",
      " Uploading file to Synapse storage \n",
      "##################################################\n",
      "\n"
     ]
    }
   ],
   "source": [
    "### some data annotations ### \n",
    "data = pd.concat([dataV2, dataPassive, dataEMS_active]).reset_index(drop = True)\n",
    "metadata_cols = ['recordId', 'healthCode', 'appVersion', \n",
    "                 'phoneInfo', 'createdOn', 'PD', 'MS',\n",
    "                 'gender', 'age', 'version']\n",
    "data = data[[feat for feat in data.columns if (\".\" in feat) or (feat in metadata_cols)]]\n",
    "data = data[(data != \"#ERROR\").all(axis = 1)]\n",
    "data[\"is_control\"] = data.apply(lambda x: 0 if ((x[\"PD\"] == 0) or (x[\"MS\"] == 0)) else 1, axis = 1)\n",
    "data[[_ for _ in data.columns if \".\" in _]] = \\\n",
    "    data[[_ for _ in data.columns if \".\" in _]].apply(pd.to_numeric)\n",
    "data.drop([\"y.duration\", \"z.duration\", \"AA.duration\"], axis = 1, inplace = True) \n",
    "data.rename({\"x.duration\": \"duration\"}, axis = 1, inplace = True)\n",
    "data = proc.addAdditionalFeatures().transform(data)\n",
    "# data = proc.collapseFeatures(aggregation_type = \"mean\").transform(data)\n",
    "utils.save_data_to_synapse(data = data.reset_index(drop = True), output_filename = \"combined_gait_data.csv\",\n",
    "                                data_parent_id = \"syn21267355\")"
   ]
  },
  {
   "cell_type": "code",
   "execution_count": 29,
   "metadata": {},
   "outputs": [],
   "source": [
    "for i in syn.getChildren(parent = \"syn21267355\"):\n",
    "    if i[\"name\"] == 'combined_gait_data.csv':\n",
    "        data = utils.get_file_entity(i[\"id\"])\n",
    "        featurized_healthcode_list = data[\"healthCode\"].unique()"
   ]
  },
  {
   "cell_type": "code",
   "execution_count": 33,
   "metadata": {},
   "outputs": [],
   "source": [
    "new_data = (utils.get_file_entity(EMS_GAIT_DATA))[~new_data.isin(featurized_healthcode_list)]"
   ]
  },
  {
   "cell_type": "code",
   "execution_count": 35,
   "metadata": {},
   "outputs": [
    {
     "name": "stderr",
     "output_type": "stream",
     "text": [
      "[WARNING] /Users/atediarjo/Documents/SageBionetworks/synapse_venv/lib/python3.7/site-packages/ipykernel_launcher.py:1: FutureWarning: Sorting because non-concatenation axis is not aligned. A future version\n",
      "of pandas will change to not sort by default.\n",
      "\n",
      "To accept the future behavior, pass 'sort=False'.\n",
      "\n",
      "To retain the current behavior and silence the warning, pass 'sort=True'.\n",
      "\n",
      "  \"\"\"Entry point for launching an IPython kernel.\n",
      "\n"
     ]
    }
   ],
   "source": [
    "comb_data = pd.concat([data, new_data]).reset_index(drop = True)"
   ]
  },
  {
   "cell_type": "code",
   "execution_count": 40,
   "metadata": {},
   "outputs": [
    {
     "data": {
      "text/html": [
       "<div>\n",
       "<style scoped>\n",
       "    .dataframe tbody tr th:only-of-type {\n",
       "        vertical-align: middle;\n",
       "    }\n",
       "\n",
       "    .dataframe tbody tr th {\n",
       "        vertical-align: top;\n",
       "    }\n",
       "\n",
       "    .dataframe thead th {\n",
       "        text-align: right;\n",
       "    }\n",
       "</style>\n",
       "<table border=\"1\" class=\"dataframe\">\n",
       "  <thead>\n",
       "    <tr style=\"text-align: right;\">\n",
       "      <th></th>\n",
       "      <th>AA.freeze_occurences</th>\n",
       "      <th>AA.freeze_occurences_per_sec</th>\n",
       "      <th>AA.frequency_of_peaks</th>\n",
       "      <th>AA.gait_step_regularity</th>\n",
       "      <th>AA.gait_stride_regularity</th>\n",
       "      <th>AA.gait_symmetry</th>\n",
       "      <th>AA.max_freeze_index</th>\n",
       "      <th>AA.no_of_steps</th>\n",
       "      <th>AA.speed_of_gait</th>\n",
       "      <th>FC.no_of_steps</th>\n",
       "      <th>...</th>\n",
       "      <th>y.speed_of_gait</th>\n",
       "      <th>z.freeze_occurences</th>\n",
       "      <th>z.freeze_occurences_per_sec</th>\n",
       "      <th>z.frequency_of_peaks</th>\n",
       "      <th>z.gait_step_regularity</th>\n",
       "      <th>z.gait_stride_regularity</th>\n",
       "      <th>z.gait_symmetry</th>\n",
       "      <th>z.max_freeze_index</th>\n",
       "      <th>z.no_of_steps</th>\n",
       "      <th>z.speed_of_gait</th>\n",
       "    </tr>\n",
       "  </thead>\n",
       "  <tbody>\n",
       "    <tr>\n",
       "      <th>0</th>\n",
       "      <td>0.0</td>\n",
       "      <td>0.000000</td>\n",
       "      <td>23.058140</td>\n",
       "      <td>1.000000</td>\n",
       "      <td>1.0</td>\n",
       "      <td>0.000000</td>\n",
       "      <td>0.953515</td>\n",
       "      <td>7.0</td>\n",
       "      <td>0.080222</td>\n",
       "      <td>34.641016</td>\n",
       "      <td>...</td>\n",
       "      <td>0.074427</td>\n",
       "      <td>3.0</td>\n",
       "      <td>0.100835</td>\n",
       "      <td>189.097647</td>\n",
       "      <td>0.884789</td>\n",
       "      <td>1.000000</td>\n",
       "      <td>0.115211</td>\n",
       "      <td>2.848301</td>\n",
       "      <td>20.0</td>\n",
       "      <td>0.085783</td>\n",
       "    </tr>\n",
       "    <tr>\n",
       "      <th>1</th>\n",
       "      <td>0.0</td>\n",
       "      <td>0.000000</td>\n",
       "      <td>23.058140</td>\n",
       "      <td>1.000000</td>\n",
       "      <td>1.0</td>\n",
       "      <td>0.000000</td>\n",
       "      <td>0.953515</td>\n",
       "      <td>7.0</td>\n",
       "      <td>0.080222</td>\n",
       "      <td>34.641016</td>\n",
       "      <td>...</td>\n",
       "      <td>0.074427</td>\n",
       "      <td>3.0</td>\n",
       "      <td>0.100835</td>\n",
       "      <td>189.097647</td>\n",
       "      <td>0.884789</td>\n",
       "      <td>1.000000</td>\n",
       "      <td>0.115211</td>\n",
       "      <td>2.848301</td>\n",
       "      <td>20.0</td>\n",
       "      <td>0.085783</td>\n",
       "    </tr>\n",
       "    <tr>\n",
       "      <th>2</th>\n",
       "      <td>0.0</td>\n",
       "      <td>0.000000</td>\n",
       "      <td>18.334961</td>\n",
       "      <td>0.922043</td>\n",
       "      <td>1.0</td>\n",
       "      <td>0.077957</td>\n",
       "      <td>1.507262</td>\n",
       "      <td>12.0</td>\n",
       "      <td>0.074691</td>\n",
       "      <td>51.146847</td>\n",
       "      <td>...</td>\n",
       "      <td>0.075198</td>\n",
       "      <td>0.0</td>\n",
       "      <td>0.000000</td>\n",
       "      <td>316.948328</td>\n",
       "      <td>0.948287</td>\n",
       "      <td>1.000000</td>\n",
       "      <td>0.051713</td>\n",
       "      <td>1.189471</td>\n",
       "      <td>26.0</td>\n",
       "      <td>0.094179</td>\n",
       "    </tr>\n",
       "    <tr>\n",
       "      <th>3</th>\n",
       "      <td>0.0</td>\n",
       "      <td>0.000000</td>\n",
       "      <td>18.334961</td>\n",
       "      <td>0.922043</td>\n",
       "      <td>1.0</td>\n",
       "      <td>0.077957</td>\n",
       "      <td>1.507262</td>\n",
       "      <td>12.0</td>\n",
       "      <td>0.074691</td>\n",
       "      <td>51.146847</td>\n",
       "      <td>...</td>\n",
       "      <td>0.075198</td>\n",
       "      <td>0.0</td>\n",
       "      <td>0.000000</td>\n",
       "      <td>316.948328</td>\n",
       "      <td>0.948287</td>\n",
       "      <td>1.000000</td>\n",
       "      <td>0.051713</td>\n",
       "      <td>1.189471</td>\n",
       "      <td>26.0</td>\n",
       "      <td>0.094179</td>\n",
       "    </tr>\n",
       "    <tr>\n",
       "      <th>4</th>\n",
       "      <td>3.0</td>\n",
       "      <td>0.100865</td>\n",
       "      <td>0.000000</td>\n",
       "      <td>0.926709</td>\n",
       "      <td>1.0</td>\n",
       "      <td>0.073291</td>\n",
       "      <td>2.863290</td>\n",
       "      <td>11.0</td>\n",
       "      <td>0.044295</td>\n",
       "      <td>50.783856</td>\n",
       "      <td>...</td>\n",
       "      <td>0.066862</td>\n",
       "      <td>31.0</td>\n",
       "      <td>1.042270</td>\n",
       "      <td>0.000000</td>\n",
       "      <td>0.968652</td>\n",
       "      <td>0.968652</td>\n",
       "      <td>0.000000</td>\n",
       "      <td>3.740201</td>\n",
       "      <td>27.0</td>\n",
       "      <td>0.073237</td>\n",
       "    </tr>\n",
       "  </tbody>\n",
       "</table>\n",
       "<p>5 rows × 87 columns</p>\n",
       "</div>"
      ],
      "text/plain": [
       "   AA.freeze_occurences  AA.freeze_occurences_per_sec  AA.frequency_of_peaks  \\\n",
       "0                   0.0                      0.000000              23.058140   \n",
       "1                   0.0                      0.000000              23.058140   \n",
       "2                   0.0                      0.000000              18.334961   \n",
       "3                   0.0                      0.000000              18.334961   \n",
       "4                   3.0                      0.100865               0.000000   \n",
       "\n",
       "   AA.gait_step_regularity  AA.gait_stride_regularity  AA.gait_symmetry  \\\n",
       "0                 1.000000                        1.0          0.000000   \n",
       "1                 1.000000                        1.0          0.000000   \n",
       "2                 0.922043                        1.0          0.077957   \n",
       "3                 0.922043                        1.0          0.077957   \n",
       "4                 0.926709                        1.0          0.073291   \n",
       "\n",
       "   AA.max_freeze_index  AA.no_of_steps  AA.speed_of_gait  FC.no_of_steps  \\\n",
       "0             0.953515             7.0          0.080222       34.641016   \n",
       "1             0.953515             7.0          0.080222       34.641016   \n",
       "2             1.507262            12.0          0.074691       51.146847   \n",
       "3             1.507262            12.0          0.074691       51.146847   \n",
       "4             2.863290            11.0          0.044295       50.783856   \n",
       "\n",
       "        ...        y.speed_of_gait  z.freeze_occurences  \\\n",
       "0       ...               0.074427                  3.0   \n",
       "1       ...               0.074427                  3.0   \n",
       "2       ...               0.075198                  0.0   \n",
       "3       ...               0.075198                  0.0   \n",
       "4       ...               0.066862                 31.0   \n",
       "\n",
       "   z.freeze_occurences_per_sec  z.frequency_of_peaks  z.gait_step_regularity  \\\n",
       "0                     0.100835            189.097647                0.884789   \n",
       "1                     0.100835            189.097647                0.884789   \n",
       "2                     0.000000            316.948328                0.948287   \n",
       "3                     0.000000            316.948328                0.948287   \n",
       "4                     1.042270              0.000000                0.968652   \n",
       "\n",
       "  z.gait_stride_regularity z.gait_symmetry  z.max_freeze_index  z.no_of_steps  \\\n",
       "0                 1.000000        0.115211            2.848301           20.0   \n",
       "1                 1.000000        0.115211            2.848301           20.0   \n",
       "2                 1.000000        0.051713            1.189471           26.0   \n",
       "3                 1.000000        0.051713            1.189471           26.0   \n",
       "4                 0.968652        0.000000            3.740201           27.0   \n",
       "\n",
       "  z.speed_of_gait  \n",
       "0        0.085783  \n",
       "1        0.085783  \n",
       "2        0.094179  \n",
       "3        0.094179  \n",
       "4        0.073237  \n",
       "\n",
       "[5 rows x 87 columns]"
      ]
     },
     "execution_count": 40,
     "metadata": {},
     "output_type": "execute_result"
    }
   ],
   "source": [
    "pd.concat([comb_data.head(5), data])"
   ]
  },
  {
   "cell_type": "code",
   "execution_count": 41,
   "metadata": {},
   "outputs": [],
   "source": [
    "data = pd.DataFrame()\n"
   ]
  },
  {
   "cell_type": "code",
   "execution_count": null,
   "metadata": {},
   "outputs": [],
   "source": []
  }
 ],
 "metadata": {
  "kernelspec": {
   "display_name": "synapse_venv",
   "language": "python",
   "name": "synapse_venv"
  },
  "language_info": {
   "codemirror_mode": {
    "name": "ipython",
    "version": 3
   },
   "file_extension": ".py",
   "mimetype": "text/x-python",
   "name": "python",
   "nbconvert_exporter": "python",
   "pygments_lexer": "ipython3",
   "version": "3.7.4"
  }
 },
 "nbformat": 4,
 "nbformat_minor": 4
}
