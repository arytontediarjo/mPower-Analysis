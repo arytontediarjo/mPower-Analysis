{
 "cells": [
  {
   "cell_type": "code",
   "execution_count": 1,
   "metadata": {},
   "outputs": [
    {
     "name": "stderr",
     "output_type": "stream",
     "text": [
      "C:\\Users\\atedi\\OneDrive\\Documents\\SageBionetworks\\synapse\\lib\\site-packages\\sklearn\\externals\\joblib\\__init__.py:15: DeprecationWarning: sklearn.externals.joblib is deprecated in 0.21 and will be removed in 0.23. Please import this functionality directly from joblib, which can be installed with: pip install joblib. If this warning is raised when loading pickled models, you may need to re-serialize those models with scikit-learn 0.21+.\n",
      "  warnings.warn(msg, category=DeprecationWarning)\n"
     ]
    }
   ],
   "source": [
    "## imports ##\n",
    "\n",
    "import sys\n",
    "sys.path.append(\"../PythonScripts\")\n",
    "from ML_utils import LogTransformer, DropFeatures\n",
    "from sklearn.model_selection import train_test_split\n",
    "from sklearn.preprocessing import StandardScaler, MinMaxScaler\n",
    "from sklearn.decomposition import PCA\n",
    "from sklearn.pipeline import Pipeline\n",
    "from sklearn.externals import joblib\n",
    "from sklearn.linear_model import LogisticRegression\n",
    "from sklearn import svm, decomposition, tree\n",
    "from sklearn.ensemble import RandomForestClassifier, GradientBoostingClassifier, ExtraTreesClassifier\n",
    "from sklearn import metrics\n",
    "from sklearn.model_selection import learning_curve, GridSearchCV, cross_val_score, validation_curve\n",
    "from sklearn.metrics import classification_report, confusion_matrix\n",
    "import pandas as pd\n",
    "import numpy as np\n",
    "import warnings\n",
    "from sklearn.feature_selection import RFECV, SelectKBest, chi2, SelectFromModel, RFE\n",
    "from xgboost import XGBClassifier\n",
    "import seaborn as sns\n",
    "import matplotlib.pyplot as plt\n",
    "import numpy as np\n",
    "from sklearn.base import BaseEstimator, TransformerMixin\n",
    "%matplotlib inline\n",
    "\n",
    "warnings.simplefilter(\"ignore\")\n",
    "sns.set_style(\"dark\")\n",
    "np.random.seed(100)"
   ]
  },
  {
   "cell_type": "markdown",
   "metadata": {},
   "source": [
    "## Contents:\n",
    "\n",
    "- Gait data being used is based on the PDKit mPowerV1 data, collapsed by each healthCode ids\n",
    "- Features chosen are based on a feature_engineering.ipnb\n",
    "- For this ML Analysis, we will split the training-test set by 20%\n",
    "- Parameters will be searched through grid search (GridSearchCV) and the score is assessed using Stratified 10-Fold Validation \n",
    "- Models being used: Logistic Regression, Xtreme Gradient Boost, Sklearn Gradient Boost and Random Forests\n",
    "- Feature elimination will be done on several model using recursive feature elimination CV (Sklearn RFECV package)\n",
    "- Learning Curves of each model (Work in progress)\n",
    "- Best model will be dump into .pkl file (Work in progress)"
   ]
  },
  {
   "cell_type": "markdown",
   "metadata": {},
   "source": [
    "## Helper Functions"
   ]
  },
  {
   "cell_type": "code",
   "execution_count": 15,
   "metadata": {},
   "outputs": [],
   "source": [
    "def preprocess(X):\n",
    "    X = X.copy()\n",
    "    X = DropFeatures(variables_to_drop = [feat for feat in X.columns if (\"stride_regularity\" in feat)]).transform(X)\n",
    "    X = LogTransformer(variables = [feat for feat in X.columns if (\"frequency_of_peaks\" in feat)]).transform(X)\n",
    "    return X\n",
    "\n",
    "def logreg_fit(X_train, y_train):\n",
    "    pipe = Pipeline(steps=[\n",
    "        (\"feature_selection\", SelectFromModel(ExtraTreesClassifier(n_estimators = 100,\n",
    "                                                                   random_state  = 100))),\n",
    "        ('scaler', StandardScaler()),\n",
    "        ('classifier', LogisticRegression(random_state = 100))\n",
    "        ])\n",
    "    param = [{'feature_selection__threshold' : [\"1.1*mean\", \"1.2*mean\", \"mean\"], \n",
    "                'classifier__penalty': ['l2'], \n",
    "                'classifier__solver': [ 'newton-cg', 'lbfgs', 'liblinear', 'sag', 'saga']}, \n",
    "             {'feature_selection__threshold' : [\"1.1*mean\", \"1.2*mean\", \"mean\"], \n",
    "                'classifier__penalty': ['l1'], \n",
    "                'classifier__solver': [ 'liblinear', 'saga']}]\n",
    "    CV = GridSearchCV(estimator = pipe, param_grid = param , scoring= \"roc_auc\", n_jobs = 1, cv = 10)\n",
    "    CV.fit(X_train, y_train)\n",
    "    return CV\n",
    "\n",
    "\n",
    "def xgb_fit(X_train, y_train):\n",
    "    pipe = Pipeline(steps=[\n",
    "        (\"feature_selection\", SelectFromModel(ExtraTreesClassifier(n_estimators = 100,\n",
    "                                                            random_state  = 100))),\n",
    "        ('classifier', XGBClassifier(seed = 100))\n",
    "        ])\n",
    "    param = {\n",
    "        'feature_selection__threshold' : [\"1.1*mean\", \"1.2*mean\", \"mean\"], \n",
    "        \"classifier__learning_rate\" : [0.01, 0.05, 0.1],\n",
    "        \"classifier__tree_method\"   : [\"hist\", \"auto\"],\n",
    "        \"classifier__max_depth\"     : [6, 8],\n",
    "        \"classifier__gamma\"         : [0, 1],\n",
    "        \"classifier__subsample\"     : [0.8],\n",
    "        \"classifier__n_estimators\"  : [100]\n",
    "    }\n",
    "    CV = GridSearchCV(estimator = pipe, param_grid = param , scoring= \"roc_auc\", n_jobs = 1, cv = 10)\n",
    "    CV.fit(X_train, y_train)\n",
    "    return CV\n",
    "    \n",
    "\n",
    "def gradientboost_fit(X_train, y_train):\n",
    "    pipe = Pipeline(steps=[\n",
    "        (\"feature_selection\", SelectFromModel(estimator = ExtraTreesClassifier(n_estimators = 100,\n",
    "                                                                              random_state  = 100))),\n",
    "        ('classifier', GradientBoostingClassifier(random_state = 100))\n",
    "        ])\n",
    "    param = {\n",
    "        'feature_selection__threshold' : [\"1.1*mean\", \"1.2*mean\", \"mean\"],\n",
    "        'classifier__learning_rate': [0.001, 0.005, 0.01, 0.05, 0.1],\n",
    "        'classifier__max_depth':[1, 2, 3, 4, 5, 6],\n",
    "        'classifier__loss': [\"deviance\", \"exponential\"], ## exponential will result in adaBoost\n",
    "        \"classifier__n_estimators\"  : [100]\n",
    "    }\n",
    "    CV = GridSearchCV(estimator = pipe, param_grid = param , scoring= \"roc_auc\", n_jobs = 1, cv = 10)\n",
    "    CV.fit(X_train, y_train)\n",
    "    return CV\n",
    "\n",
    "def randomforest_fit(X_train, y_train):\n",
    "    pipe = Pipeline(steps=[\n",
    "        (\"feature_selection\", SelectFromModel(estimator = ExtraTreesClassifier(n_estimators = 100,\n",
    "                                                                              random_state = 100))),\n",
    "        ('classifier', RandomForestClassifier(random_state = 100))\n",
    "    ])\n",
    "    param = {\n",
    "        'feature_selection__threshold' : [\"1.1*mean\", \"1.2*mean\", \"mean\"], \n",
    "        'classifier__max_depth':[1, 2, 3, 4, 5, 6, 7, 8, 9, 10],\n",
    "        'classifier__criterion': [\"gini\", \"entropy\"],## exponential will result in adaBoost\n",
    "        'classifier__max_features': [\"auto\", \"sqrt\", \"log2\", None], \n",
    "        'classifier__n_estimators'  : [100]\n",
    "    }\n",
    "    CV = GridSearchCV(estimator = pipe, param_grid = param , scoring= \"roc_auc\", n_jobs = 1, cv = 10)\n",
    "    CV.fit(X_train, y_train)\n",
    "    return CV\n",
    "\n",
    "\n",
    "def printPerformance(model, X_test, y_test):\n",
    "    print(\"Mean AUC score on K-folds: {}\".format(model.best_score_))\n",
    "    print(\"Parameter Used: {}\".format(model.best_params_))\n",
    "    y_true, y_pred = y_test, model.predict(X_test)\n",
    "    print(\"ROC-AUC on Test-Set: {}\".format(metrics.roc_auc_score(y_true, y_pred)))\n",
    "    print(\"log-loss: {}\".format(metrics.log_loss(y_true, y_pred)))\n",
    "    print(\"Precision: {}\".format(metrics.precision_score(y_true, y_pred)))\n",
    "    print(\"Recall: {}\".format(metrics.recall_score(y_true, y_pred)))\n",
    "    print(\"F1-Score: {}\".format(metrics.f1_score(y_true, y_pred)))"
   ]
  },
  {
   "cell_type": "markdown",
   "metadata": {},
   "source": [
    "## Split to Training and Testing Sets"
   ]
  },
  {
   "cell_type": "code",
   "execution_count": 19,
   "metadata": {},
   "outputs": [],
   "source": [
    "walking_train = pd.read_csv(\"../Data/MAX_DATA.csv\", index_col=0).reset_index(drop = True)\n",
    "walking_X_train, walking_X_test, walking_y_train, walking_y_test = \\\n",
    "                                        train_test_split(walking_train.drop([\"PD\"], axis = 1), walking_train[\"PD\"], test_size=0.20, random_state = 100)"
   ]
  },
  {
   "cell_type": "markdown",
   "metadata": {},
   "source": [
    "## Run Model on Walking Data"
   ]
  },
  {
   "cell_type": "code",
   "execution_count": null,
   "metadata": {},
   "outputs": [],
   "source": [
    "walking_X_train = preprocess(walking_X_train)\n",
    "walking_X_test = preprocess(walking_X_test)\n",
    "\n",
    "\n",
    "lr_walking_model = logreg_fit(walking_X_train, \n",
    "                              walking_y_train)\n",
    "rf_walking_model = randomforest_fit(walking_X_train, \n",
    "                                    walking_y_train)\n",
    "gb_walking_model = gradientboost_fit(walking_X_train, \n",
    "                                     walking_y_train)\n",
    "xgb_walking_model = xgb_fit(walking_X_train, \n",
    "                            walking_y_train)\n",
    "\n",
    "\n",
    "print(\"\\n### Gradient Boosting Walking ###\")\n",
    "printPerformance(gb_walking_model, walking_X_test.dropna(), walking_y_test.dropna())\n",
    "print(\"\\n### XTreme Gradient Boosting Walking ###\")\n",
    "printPerformance(xgb_walking_model, walking_X_test.dropna(), walking_y_test.dropna())\n",
    "print(\"\\n### Random Forest Walking ###\")\n",
    "printPerformance(rf_walking_model, walking_X_test.dropna(), walking_y_test.dropna())\n",
    "print(\"\\n### Logistic Regression Walking ###\")\n",
    "printPerformance(lr_walking_model, walking_X_test.dropna(), walking_y_test.dropna())"
   ]
  },
  {
   "cell_type": "code",
   "execution_count": 18,
   "metadata": {},
   "outputs": [
    {
     "data": {
      "text/plain": [
       "GridSearchCV(cv=10, error_score='raise-deprecating',\n",
       "             estimator=Pipeline(memory=None,\n",
       "                                steps=[('feature_selection',\n",
       "                                        SelectFromModel(estimator=ExtraTreesClassifier(bootstrap=False,\n",
       "                                                                                       class_weight=None,\n",
       "                                                                                       criterion='gini',\n",
       "                                                                                       max_depth=None,\n",
       "                                                                                       max_features='auto',\n",
       "                                                                                       max_leaf_nodes=None,\n",
       "                                                                                       min_impurity_decrease=0.0,\n",
       "                                                                                       min_impurity_split=None,\n",
       "                                                                                       min_samples_leaf=1,\n",
       "                                                                                       min_samples_split=...\n",
       "             iid='warn', n_jobs=1,\n",
       "             param_grid={'classifier__learning_rate': [0.001, 0.005, 0.01, 0.05,\n",
       "                                                       0.1],\n",
       "                         'classifier__loss': ['deviance', 'exponential'],\n",
       "                         'classifier__max_depth': [1, 2, 3, 4, 5, 6],\n",
       "                         'classifier__n_estimators': [100],\n",
       "                         'feature_selection__threshold': ['1.1*mean',\n",
       "                                                          '1.2*mean', 'mean']},\n",
       "             pre_dispatch='2*n_jobs', refit=True, return_train_score=False,\n",
       "             scoring='roc_auc', verbose=0)"
      ]
     },
     "execution_count": 18,
     "metadata": {},
     "output_type": "execute_result"
    }
   ],
   "source": [
    "gb_walking_model"
   ]
  },
  {
   "cell_type": "markdown",
   "metadata": {},
   "source": [
    "## Results"
   ]
  },
  {
   "cell_type": "code",
   "execution_count": 93,
   "metadata": {},
   "outputs": [
    {
     "name": "stdout",
     "output_type": "stream",
     "text": [
      "              precision    recall  f1-score   support\n",
      "\n",
      "           0       0.62      0.71      0.67        14\n",
      "           1       0.56      0.45      0.50        11\n",
      "\n",
      "    accuracy                           0.60        25\n",
      "   macro avg       0.59      0.58      0.58        25\n",
      "weighted avg       0.59      0.60      0.59        25\n",
      "\n"
     ]
    }
   ],
   "source": [
    "print(metrics.classification_report(gb_walking_model.predict(walking_X_test), \n",
    "                                    walking_y_test))"
   ]
  },
  {
   "cell_type": "code",
   "execution_count": 94,
   "metadata": {},
   "outputs": [
    {
     "data": {
      "text/html": [
       "<div>\n",
       "<style scoped>\n",
       "    .dataframe tbody tr th:only-of-type {\n",
       "        vertical-align: middle;\n",
       "    }\n",
       "\n",
       "    .dataframe tbody tr th {\n",
       "        vertical-align: top;\n",
       "    }\n",
       "\n",
       "    .dataframe thead th {\n",
       "        text-align: right;\n",
       "    }\n",
       "</style>\n",
       "<table border=\"1\" class=\"dataframe\">\n",
       "  <thead>\n",
       "    <tr style=\"text-align: right;\">\n",
       "      <th>Predicted</th>\n",
       "      <th>0</th>\n",
       "      <th>1</th>\n",
       "    </tr>\n",
       "    <tr>\n",
       "      <th>Actual</th>\n",
       "      <th></th>\n",
       "      <th></th>\n",
       "    </tr>\n",
       "  </thead>\n",
       "  <tbody>\n",
       "    <tr>\n",
       "      <th>0</th>\n",
       "      <td>10</td>\n",
       "      <td>4</td>\n",
       "    </tr>\n",
       "    <tr>\n",
       "      <th>1</th>\n",
       "      <td>6</td>\n",
       "      <td>5</td>\n",
       "    </tr>\n",
       "  </tbody>\n",
       "</table>\n",
       "</div>"
      ],
      "text/plain": [
       "Predicted   0  1\n",
       "Actual          \n",
       "0          10  4\n",
       "1           6  5"
      ]
     },
     "execution_count": 94,
     "metadata": {},
     "output_type": "execute_result"
    }
   ],
   "source": [
    "pd.crosstab(gb_walking_model.best_estimator_.predict(walking_X_test), \n",
    "            walking_y_test, \n",
    "            rownames = [\"Actual\"], \n",
    "            colnames = [\"Predicted\"])"
   ]
  },
  {
   "cell_type": "code",
   "execution_count": 95,
   "metadata": {},
   "outputs": [
    {
     "name": "stdout",
     "output_type": "stream",
     "text": [
      "              precision    recall  f1-score   support\n",
      "\n",
      "           0       0.62      0.71      0.67        14\n",
      "           1       0.56      0.45      0.50        11\n",
      "\n",
      "    accuracy                           0.60        25\n",
      "   macro avg       0.59      0.58      0.58        25\n",
      "weighted avg       0.59      0.60      0.59        25\n",
      "\n"
     ]
    }
   ],
   "source": [
    "print(metrics.classification_report(rf_walking_model.predict(walking_X_test), \n",
    "                                    walking_y_test))"
   ]
  },
  {
   "cell_type": "code",
   "execution_count": 96,
   "metadata": {},
   "outputs": [
    {
     "data": {
      "text/html": [
       "<div>\n",
       "<style scoped>\n",
       "    .dataframe tbody tr th:only-of-type {\n",
       "        vertical-align: middle;\n",
       "    }\n",
       "\n",
       "    .dataframe tbody tr th {\n",
       "        vertical-align: top;\n",
       "    }\n",
       "\n",
       "    .dataframe thead th {\n",
       "        text-align: right;\n",
       "    }\n",
       "</style>\n",
       "<table border=\"1\" class=\"dataframe\">\n",
       "  <thead>\n",
       "    <tr style=\"text-align: right;\">\n",
       "      <th>Predicted</th>\n",
       "      <th>0</th>\n",
       "      <th>1</th>\n",
       "    </tr>\n",
       "    <tr>\n",
       "      <th>Actual</th>\n",
       "      <th></th>\n",
       "      <th></th>\n",
       "    </tr>\n",
       "  </thead>\n",
       "  <tbody>\n",
       "    <tr>\n",
       "      <th>0</th>\n",
       "      <td>10</td>\n",
       "      <td>4</td>\n",
       "    </tr>\n",
       "    <tr>\n",
       "      <th>1</th>\n",
       "      <td>6</td>\n",
       "      <td>5</td>\n",
       "    </tr>\n",
       "  </tbody>\n",
       "</table>\n",
       "</div>"
      ],
      "text/plain": [
       "Predicted   0  1\n",
       "Actual          \n",
       "0          10  4\n",
       "1           6  5"
      ]
     },
     "execution_count": 96,
     "metadata": {},
     "output_type": "execute_result"
    }
   ],
   "source": [
    "pd.crosstab(rf_walking_model.best_estimator_.predict(walking_X_test), \n",
    "            walking_y_test, \n",
    "            rownames = [\"Actual\"], \n",
    "            colnames = [\"Predicted\"])"
   ]
  },
  {
   "cell_type": "code",
   "execution_count": 97,
   "metadata": {},
   "outputs": [
    {
     "name": "stdout",
     "output_type": "stream",
     "text": [
      "              precision    recall  f1-score   support\n",
      "\n",
      "           0       0.69      0.69      0.69        16\n",
      "           1       0.44      0.44      0.44         9\n",
      "\n",
      "    accuracy                           0.60        25\n",
      "   macro avg       0.57      0.57      0.57        25\n",
      "weighted avg       0.60      0.60      0.60        25\n",
      "\n"
     ]
    }
   ],
   "source": [
    "print(metrics.classification_report(xgb_walking_model.predict(walking_X_test), \n",
    "                                    walking_y_test))"
   ]
  },
  {
   "cell_type": "code",
   "execution_count": 98,
   "metadata": {},
   "outputs": [
    {
     "data": {
      "text/html": [
       "<div>\n",
       "<style scoped>\n",
       "    .dataframe tbody tr th:only-of-type {\n",
       "        vertical-align: middle;\n",
       "    }\n",
       "\n",
       "    .dataframe tbody tr th {\n",
       "        vertical-align: top;\n",
       "    }\n",
       "\n",
       "    .dataframe thead th {\n",
       "        text-align: right;\n",
       "    }\n",
       "</style>\n",
       "<table border=\"1\" class=\"dataframe\">\n",
       "  <thead>\n",
       "    <tr style=\"text-align: right;\">\n",
       "      <th>Predicted</th>\n",
       "      <th>0</th>\n",
       "      <th>1</th>\n",
       "    </tr>\n",
       "    <tr>\n",
       "      <th>Actual</th>\n",
       "      <th></th>\n",
       "      <th></th>\n",
       "    </tr>\n",
       "  </thead>\n",
       "  <tbody>\n",
       "    <tr>\n",
       "      <th>0</th>\n",
       "      <td>11</td>\n",
       "      <td>5</td>\n",
       "    </tr>\n",
       "    <tr>\n",
       "      <th>1</th>\n",
       "      <td>5</td>\n",
       "      <td>4</td>\n",
       "    </tr>\n",
       "  </tbody>\n",
       "</table>\n",
       "</div>"
      ],
      "text/plain": [
       "Predicted   0  1\n",
       "Actual          \n",
       "0          11  5\n",
       "1           5  4"
      ]
     },
     "execution_count": 98,
     "metadata": {},
     "output_type": "execute_result"
    }
   ],
   "source": [
    "pd.crosstab(xgb_walking_model.best_estimator_.predict(walking_X_test), \n",
    "            walking_y_test, \n",
    "            rownames = [\"Actual\"], \n",
    "            colnames = [\"Predicted\"])"
   ]
  },
  {
   "cell_type": "code",
   "execution_count": 99,
   "metadata": {},
   "outputs": [
    {
     "name": "stdout",
     "output_type": "stream",
     "text": [
      "### RF Feature Importances ####\n"
     ]
    },
    {
     "ename": "IndexError",
     "evalue": "boolean index did not match indexed array along dimension 0; dimension is 34 but corresponding boolean dimension is 30",
     "output_type": "error",
     "traceback": [
      "\u001b[1;31m---------------------------------------------------------------------------\u001b[0m",
      "\u001b[1;31mIndexError\u001b[0m                                Traceback (most recent call last)",
      "\u001b[1;32m<ipython-input-99-04d819b7bb13>\u001b[0m in \u001b[0;36m<module>\u001b[1;34m\u001b[0m\n\u001b[0;32m      3\u001b[0m \u001b[1;33m\u001b[0m\u001b[0m\n\u001b[0;32m      4\u001b[0m pd.Series(data = rf_walking_model.best_estimator_[\"classifier\"].feature_importances_, \n\u001b[1;32m----> 5\u001b[1;33m           index = walking_X_train.columns[rf_walking_model.best_estimator_[\"feature_selection\"].get_support()]).sort_values(ascending = False)\n\u001b[0m",
      "\u001b[1;32m~\\OneDrive\\Documents\\SageBionetworks\\synapse\\lib\\site-packages\\pandas\\core\\indexes\\base.py\u001b[0m in \u001b[0;36m__getitem__\u001b[1;34m(self, key)\u001b[0m\n\u001b[0;32m   4289\u001b[0m \u001b[1;33m\u001b[0m\u001b[0m\n\u001b[0;32m   4290\u001b[0m         \u001b[0mkey\u001b[0m \u001b[1;33m=\u001b[0m \u001b[0mcom\u001b[0m\u001b[1;33m.\u001b[0m\u001b[0mvalues_from_object\u001b[0m\u001b[1;33m(\u001b[0m\u001b[0mkey\u001b[0m\u001b[1;33m)\u001b[0m\u001b[1;33m\u001b[0m\u001b[0m\n\u001b[1;32m-> 4291\u001b[1;33m         \u001b[0mresult\u001b[0m \u001b[1;33m=\u001b[0m \u001b[0mgetitem\u001b[0m\u001b[1;33m(\u001b[0m\u001b[0mkey\u001b[0m\u001b[1;33m)\u001b[0m\u001b[1;33m\u001b[0m\u001b[0m\n\u001b[0m\u001b[0;32m   4292\u001b[0m         \u001b[1;32mif\u001b[0m \u001b[1;32mnot\u001b[0m \u001b[0mis_scalar\u001b[0m\u001b[1;33m(\u001b[0m\u001b[0mresult\u001b[0m\u001b[1;33m)\u001b[0m\u001b[1;33m:\u001b[0m\u001b[1;33m\u001b[0m\u001b[0m\n\u001b[0;32m   4293\u001b[0m             \u001b[1;32mreturn\u001b[0m \u001b[0mpromote\u001b[0m\u001b[1;33m(\u001b[0m\u001b[0mresult\u001b[0m\u001b[1;33m)\u001b[0m\u001b[1;33m\u001b[0m\u001b[0m\n",
      "\u001b[1;31mIndexError\u001b[0m: boolean index did not match indexed array along dimension 0; dimension is 34 but corresponding boolean dimension is 30"
     ]
    }
   ],
   "source": [
    "## Model Feature Importances by Gini Index\n",
    "print(\"### RF Feature Importances ####\")\n",
    "\n",
    "pd.Series(data = rf_walking_model.best_estimator_[\"classifier\"].feature_importances_, \n",
    "          index = walking_X_train.columns[rf_walking_model.best_estimator_[\"feature_selection\"].get_support()]).sort_values(ascending = False)"
   ]
  },
  {
   "cell_type": "code",
   "execution_count": 42,
   "metadata": {},
   "outputs": [
    {
     "name": "stdout",
     "output_type": "stream",
     "text": [
      "### GB Feature Importances ####\n"
     ]
    },
    {
     "data": {
      "text/plain": [
       "MAX_z.gait_symmetry        0.288679\n",
       "MAX_x.max_freeze_index     0.283594\n",
       "MAX_fc.no_of_steps         0.179665\n",
       "MAX_z.no_of_steps          0.118597\n",
       "MAX_z.freeze_occurences    0.074030\n",
       "MAX_x.freeze_occurences    0.055436\n",
       "dtype: float64"
      ]
     },
     "execution_count": 42,
     "metadata": {},
     "output_type": "execute_result"
    }
   ],
   "source": [
    "## Model Feature Importances\n",
    "print(\"### GB Feature Importances ####\")\n",
    "\n",
    "\n",
    "pd.Series(data = gb_walking_model.best_estimator_[\"classifier\"].feature_importances_, \n",
    "          index = walking_X_train.columns[gb_walking_model.best_estimator_[\"feature_selection\"].get_support()]).sort_values(ascending = False)"
   ]
  },
  {
   "cell_type": "markdown",
   "metadata": {},
   "source": [
    "# Learning Curves"
   ]
  },
  {
   "cell_type": "code",
   "execution_count": 52,
   "metadata": {},
   "outputs": [
    {
     "data": {
      "image/png": "[encoded data removed]",
      "text/plain": [
       "<Figure size 432x288 with 1 Axes>"
      ]
     },
     "metadata": {},
     "output_type": "display_data"
    }
   ],
   "source": [
    "train_sizes, train_scores, valid_scores = learning_curve(rf_walking_model.best_estimator_, \n",
    "                                                         walking_X_train, walking_y_train, \n",
    "                                                         scoring = \"neg_log_loss\", \n",
    "                                                         cv = 10, random_state = 100, \n",
    "                                                         train_sizes = np.linspace(0.1, 1, 10))\n",
    "pd.DataFrame(data = {\"train_scores\": np.mean(train_scores, axis = 1) * -1, \n",
    "                     \"valid_scores\": np.mean(valid_scores, axis = 1) * -1}, index = train_sizes).plot()\n",
    "plt.ylabel(\"Loss\")\n",
    "plt.title(\"Random Forest Learning Curve\")\n",
    "plt.ylim(0,1)\n",
    "plt.xlabel(\"Training Size\")\n",
    "plt.grid()"
   ]
  },
  {
   "cell_type": "code",
   "execution_count": 53,
   "metadata": {},
   "outputs": [
    {
     "data": {
      "image/png": "[encoded data removed]",
      "text/plain": [
       "<Figure size 432x288 with 1 Axes>"
      ]
     },
     "metadata": {},
     "output_type": "display_data"
    }
   ],
   "source": [
    "train_sizes, train_scores, valid_scores = learning_curve(xgb_walking_model.best_estimator_, \n",
    "                                                         walking_X_train, walking_y_train, \n",
    "                                                         scoring = \"neg_log_loss\", \n",
    "                                                         cv = 10, \n",
    "                                                         random_state = 100, \n",
    "                                                         train_sizes = np.linspace(0.1, 1, 10))\n",
    "pd.DataFrame(data = {\"train_scores\": np.mean(train_scores, axis = 1) * -1, \n",
    "                     \"valid_scores\": np.mean(valid_scores, axis = 1) * -1}, index = train_sizes).plot()\n",
    "plt.ylabel(\"Loss\")\n",
    "plt.title(\"Xtreme Gradient Boosting Learning Curve\")\n",
    "plt.ylim(0,1)\n",
    "plt.xlabel(\"Training Size\")\n",
    "plt.grid()"
   ]
  },
  {
   "cell_type": "code",
   "execution_count": 54,
   "metadata": {},
   "outputs": [
    {
     "data": {
      "image/png": "[encoded data removed]",
      "text/plain": [
       "<Figure size 432x288 with 1 Axes>"
      ]
     },
     "metadata": {},
     "output_type": "display_data"
    }
   ],
   "source": [
    "train_sizes, train_scores, valid_scores = learning_curve(gb_walking_model.best_estimator_, \n",
    "                                                         walking_X_train, walking_y_train, \n",
    "                                                         scoring = \"neg_log_loss\", \n",
    "                                                         cv = 10, \n",
    "                                                         random_state = 100, \n",
    "                                                         train_sizes = np.linspace(0.1, 1, 10))\n",
    "pd.DataFrame(data = {\"train_scores\": np.mean(train_scores, axis = 1) * -1, \n",
    "                     \"valid_scores\": np.mean(valid_scores, axis = 1) * -1}, index = train_sizes).plot()\n",
    "plt.ylabel(\"Loss\")\n",
    "plt.title(\"Sklearn Gradient Boosting Learning Curve\")\n",
    "plt.xlabel(\"Training Size\")\n",
    "plt.grid()"
   ]
  },
  {
   "cell_type": "markdown",
   "metadata": {},
   "source": [
    "# Balance Data"
   ]
  },
  {
   "cell_type": "code",
   "execution_count": 30,
   "metadata": {},
   "outputs": [],
   "source": [
    "balance_train = pd.read_csv(\"../Data/BALANCE_TRAINING_DATA.csv\", index_col=0).reset_index(drop = True)\n",
    "balance_X_train, balance_X_test, balance_y_train, balance_y_test = \\\n",
    "train_test_split(balance_train.drop([\"PD\"],axis = 1), balance_train[\"PD\"], test_size=0.20, random_state = 100)"
   ]
  },
  {
   "cell_type": "code",
   "execution_count": 31,
   "metadata": {},
   "outputs": [
    {
     "name": "stdout",
     "output_type": "stream",
     "text": [
      "\n",
      "### Gradient Boosting Walking ###\n",
      "Mean AUC score on K-folds: 0.7145191409897292\n",
      "Parameter Used: {'classifier__learning_rate': 0.001, 'classifier__loss': 'deviance', 'classifier__max_depth': 2, 'classifier__n_estimators': 100}\n",
      "ROC-AUC on Test-Set: 0.46825396825396826\n",
      "log-loss: 19.48382237529844\n",
      "Precision: 0.4444444444444444\n",
      "Recall: 0.8888888888888888\n",
      "F1-Score: 0.5925925925925926\n",
      "\n",
      "### XTreme Gradient Boosting Walking ###\n",
      "Mean AUC score on K-folds: 0.6674836601307189\n",
      "Parameter Used: {'classifier__gamma': 1, 'classifier__learning_rate': 0.01, 'classifier__max_depth': 6, 'classifier__n_estimators': 100, 'classifier__subsample': 0.8, 'classifier__tree_method': 'hist'}\n",
      "ROC-AUC on Test-Set: 0.46825396825396826\n",
      "log-loss: 18.59806920665941\n",
      "Precision: 0.43478260869565216\n",
      "Recall: 0.5555555555555556\n",
      "F1-Score: 0.4878048780487805\n",
      "\n",
      "### Random Forest Walking ###\n",
      "Mean AUC score on K-folds: 0.6847572362278244\n",
      "Parameter Used: {'classifier__criterion': 'entropy', 'classifier__max_depth': 2, 'classifier__max_features': None, 'classifier__n_estimators': 100}\n",
      "ROC-AUC on Test-Set: 0.36111111111111116\n",
      "log-loss: 22.14052831376384\n",
      "Precision: 0.3333333333333333\n",
      "Recall: 0.3888888888888889\n",
      "F1-Score: 0.358974358974359\n",
      "\n",
      "### Logistic Regression Walking ###\n",
      "Mean AUC score on K-folds: 0.6972455648926237\n",
      "Parameter Used: {'classifier__penalty': 'l2', 'classifier__solver': 'newton-cg'}\n",
      "ROC-AUC on Test-Set: 0.4642857142857143\n",
      "log-loss: 18.5980487041612\n",
      "Precision: 0.42857142857142855\n",
      "Recall: 0.5\n",
      "F1-Score: 0.4615384615384615\n"
     ]
    }
   ],
   "source": [
    "lr_balance_model = logreg_fit(balance_X_train, balance_y_train)\n",
    "rf_balance_model = randomforest_fit(balance_X_train, balance_y_train)\n",
    "gb_balance_model = gradientboost_fit(balance_X_train, balance_y_train)\n",
    "xgb_balance_model = xgb_fit(balance_X_train, balance_y_train)\n",
    "\n",
    "\n",
    "print(\"\\n### Gradient Boosting Walking ###\")\n",
    "printPerformance(gb_balance_model, balance_X_test, balance_y_test)\n",
    "print(\"\\n### XTreme Gradient Boosting Walking ###\")\n",
    "printPerformance(xgb_balance_model, balance_X_test, balance_y_test)\n",
    "print(\"\\n### Random Forest Walking ###\")\n",
    "printPerformance(rf_balance_model, balance_X_test, balance_y_test)\n",
    "print(\"\\n### Logistic Regression Walking ###\")\n",
    "printPerformance(lr_balance_model, balance_X_test, balance_y_test)"
   ]
  },
  {
   "cell_type": "markdown",
   "metadata": {},
   "source": [
    "# Combining Features in Balance and Walking"
   ]
  },
  {
   "cell_type": "code",
   "execution_count": 113,
   "metadata": {},
   "outputs": [],
   "source": [
    "from sklearn.feature_selection import SelectKBest, chi2"
   ]
  },
  {
   "cell_type": "code",
   "execution_count": 135,
   "metadata": {},
   "outputs": [
    {
     "data": {
      "text/plain": [
       "max_userAccel_y.frequency_of_peaks     3.442899e+08\n",
       "max_userAccel_x.frequency_of_peaks     1.370186e+07\n",
       "max_userAccel_AA.frequency_of_peaks    8.345348e+05\n",
       "max_userAccel_z.frequency_of_peaks     4.602456e+04\n",
       "max_userAccel_x.max_freeze_index       1.208810e+03\n",
       "max_userAccel_z.max_freeze_index       8.897928e+02\n",
       "max_userAccel_y.max_freeze_index       3.391854e+02\n",
       "max_userAccel_x.freeze_occurences      4.986737e+01\n",
       "max_userAccel_z.freeze_occurences      3.421301e+01\n",
       "max_userAccel_y.freeze_occurences      1.917437e+01\n",
       "max_userAccel_AA.freeze_occurences     1.778391e+01\n",
       "max_userAccel_AA.max_freeze_index      1.230553e+01\n",
       "max_userAccel_x.no_of_steps            2.433806e+00\n",
       "max_userAccel_y.no_of_steps            5.537818e-01\n",
       "max_userAccel_z.no_of_steps            3.679252e-01\n",
       "dtype: float64"
      ]
     },
     "execution_count": 135,
     "metadata": {},
     "output_type": "execute_result"
    }
   ],
   "source": [
    "train = pd.concat([balance_train.drop(\"PD\", axis = 1), walking_train], axis = 1)\n",
    "train = train.groupby(train.columns, axis=1).mean().dropna()\n",
    "combined_X_train, combined_X_test, combined_y_train, combined_y_test = \\\n",
    "train_test_split(train.drop([\"PD\"], axis = 1), train[\"PD\"], test_size=0.20, random_state = 100)\n",
    "selector = SelectKBest(chi2, k=15).fit(combined_X_train, combined_y_train)\n",
    "pd.Series(data = selector.scores_, index = combined_X_train.columns).sort_values(ascending = False).head(15)"
   ]
  },
  {
   "cell_type": "code",
   "execution_count": 136,
   "metadata": {},
   "outputs": [
    {
     "name": "stdout",
     "output_type": "stream",
     "text": [
      "\n",
      "### Gradient Boosting Walking ###\n",
      "Mean AUC score on K-folds: 0.7072510822510822\n",
      "Parameter Used: {'classifier__learning_rate': 0.1, 'classifier__loss': 'exponential', 'classifier__max_depth': 6, 'classifier__n_estimators': 100}\n",
      "ROC-AUC on Test-Set: 0.48351648351648346\n",
      "log-loss: 18.285516772869254\n",
      "Precision: 0.3684210526315789\n",
      "Recall: 0.5384615384615384\n",
      "F1-Score: 0.4375\n",
      "\n",
      "### XTreme Gradient Boosting Walking ###\n",
      "Mean AUC score on K-folds: 0.6821789321789321\n",
      "Parameter Used: {'classifier__gamma': 1, 'classifier__learning_rate': 0.01, 'classifier__max_depth': 6, 'classifier__n_estimators': 100, 'classifier__subsample': 0.8, 'classifier__tree_method': 'auto'}\n",
      "ROC-AUC on Test-Set: 0.5073260073260073\n",
      "log-loss: 17.269646890741583\n",
      "Precision: 0.3888888888888889\n",
      "Recall: 0.5384615384615384\n",
      "F1-Score: 0.45161290322580644\n",
      "\n",
      "### Random Forest Walking ###\n",
      "Mean AUC score on K-folds: 0.7160894660894661\n",
      "Parameter Used: {'classifier__criterion': 'entropy', 'classifier__max_depth': 9, 'classifier__max_features': 'auto', 'classifier__n_estimators': 200}\n",
      "ROC-AUC on Test-Set: 0.5787545787545787\n",
      "log-loss: 14.22203724435856\n",
      "Precision: 0.4666666666666667\n",
      "Recall: 0.5384615384615384\n",
      "F1-Score: 0.5\n",
      "\n",
      "### Logistic Regression Walking ###\n",
      "Mean AUC score on K-folds: 0.5811688311688312\n",
      "Parameter Used: {'classifier__penalty': 'l1', 'classifier__solver': 'liblinear'}\n",
      "ROC-AUC on Test-Set: 0.5164835164835165\n",
      "log-loss: 16.25375349104243\n",
      "Precision: 0.4\n",
      "Recall: 0.46153846153846156\n",
      "F1-Score: 0.42857142857142855\n"
     ]
    }
   ],
   "source": [
    "lr_balance_model = logreg_fit(combined_X_train, combined_y_train)\n",
    "rf_balance_model = randomforest_fit(combined_X_train, combined_y_train)\n",
    "gb_balance_model = gradientboost_fit(combined_X_train, combined_y_train)\n",
    "xgb_balance_model = xgb_fit(combined_X_train, combined_y_train)\n",
    "\n",
    "\n",
    "print(\"\\n### Gradient Boosting Walking ###\")\n",
    "printPerformance(gb_balance_model, combined_X_test, combined_y_test)\n",
    "print(\"\\n### XTreme Gradient Boosting Walking ###\")\n",
    "printPerformance(xgb_balance_model, combined_X_test, combined_y_test)\n",
    "print(\"\\n### Random Forest Walking ###\")\n",
    "printPerformance(rf_balance_model, combined_X_test, combined_y_test)\n",
    "print(\"\\n### Logistic Regression Walking ###\")\n",
    "printPerformance(lr_balance_model, combined_X_test, combined_y_test)"
   ]
  },
  {
   "cell_type": "markdown",
   "metadata": {},
   "source": [
    "# Saving Serialized Results"
   ]
  },
  {
   "cell_type": "markdown",
   "metadata": {},
   "source": [
    "The walking models will be the only one taken for further assessment towards V2 data due to its decent performance of ROC-AUC > 0.6. Model will be refitted to the test sets."
   ]
  },
  {
   "cell_type": "code",
   "execution_count": 55,
   "metadata": {},
   "outputs": [],
   "source": [
    "import pickle\n",
    "from sklearn.externals import joblib "
   ]
  },
  {
   "cell_type": "markdown",
   "metadata": {},
   "source": [
    "### Refit Model to Tests Sets"
   ]
  },
  {
   "cell_type": "code",
   "execution_count": 56,
   "metadata": {},
   "outputs": [],
   "source": [
    "refitted_lr = lr_walking_model.best_estimator_.fit(walking_X_test, walking_y_test)\n",
    "refitted_gb = gb_walking_model.best_estimator_.fit(walking_X_test, walking_y_test)\n",
    "refitted_xgb = xgb_walking_model.best_estimator_.fit(walking_X_test, walking_y_test)\n",
    "refitted_rf = rf_walking_model.best_estimator_.fit(walking_X_test, walking_y_test)"
   ]
  },
  {
   "cell_type": "code",
   "execution_count": 57,
   "metadata": {},
   "outputs": [],
   "source": [
    "models = [\"refitted_lr\", \"refitted_gb\", \"refitted_xgb\", \"refitted_rf\"]\n",
    "\n",
    "\n",
    "for model in models:\n",
    "    joblib.dump(globals()[model], '../Models/{}.pkl'.format(model))"
   ]
  },
  {
   "cell_type": "code",
   "execution_count": null,
   "metadata": {},
   "outputs": [],
   "source": []
  }
 ],
 "metadata": {
  "kernelspec": {
   "display_name": "synapse",
   "language": "python",
   "name": "synapse"
  },
  "language_info": {
   "codemirror_mode": {
    "name": "ipython",
    "version": 3
   },
   "file_extension": ".py",
   "mimetype": "text/x-python",
   "name": "python",
   "nbconvert_exporter": "python",
   "pygments_lexer": "ipython3",
   "version": "3.7.0"
  }
 },
 "nbformat": 4,
 "nbformat_minor": 2
}
