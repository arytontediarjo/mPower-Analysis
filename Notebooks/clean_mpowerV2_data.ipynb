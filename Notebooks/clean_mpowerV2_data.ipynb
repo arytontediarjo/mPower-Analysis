{
 "cells": [
  {
   "cell_type": "code",
   "execution_count": 2,
   "metadata": {},
   "outputs": [],
   "source": [
    "import sys\n",
    "import warnings\n",
    "sys.path.append(\"../Pythonscripts\")\n",
    "sys.path.append(r\"C:\\Users\\atedi\\OneDrive\\Documents\\SageBionetworks\\synapse\\Scripts\")\n",
    "import pandas as pd\n",
    "import numpy as np\n",
    "import synapseclient as sc\n",
    "warnings.simplefilter(\"ignore\")"
   ]
  },
  {
   "cell_type": "code",
   "execution_count": 3,
   "metadata": {},
   "outputs": [
    {
     "name": "stdout",
     "output_type": "stream",
     "text": [
      "Welcome, aryton tediarjo!\n",
      "\n"
     ]
    }
   ],
   "source": [
    "## login to synapse\n",
    "syn = sc.login()"
   ]
  },
  {
   "cell_type": "code",
   "execution_count": 7,
   "metadata": {},
   "outputs": [],
   "source": [
    "import sys\n",
    "import warnings\n",
    "import pandas as pd\n",
    "import numpy as np\n",
    "import synapseclient as sc\n",
    "warnings.simplefilter(\"ignore\")\n",
    "\n",
    "DEMOGRAPHIC_TABLE_V1 = \"syn8381056\"\n",
    "DEMOGRAPHIC_TABLE_V2 = \"syn15673379\"\n",
    "WALKING_TABLE_V1     = \"syn21021435\"\n",
    "WALKING_TABLE_V2     = \"syn21018127\"\n",
    "BALANCE_TABLE_V1     = \"syn21022189\"\n",
    "BALANCE_TABLE_V2     = \"syn21018245\"\n",
    "\n",
    "\n",
    "def clean_data(version, demographic_table, table):\n",
    "    if version == \"V1\":\n",
    "        ## demographic data ## \n",
    "        demographic_entity = syn.get(demographic_table)\n",
    "        demographic_data   = pd.read_csv(demographic_entity[\"path\"], sep = \"\\t\")[[\"healthCode\", \"PD\"]]\n",
    "    else:\n",
    "        demographic_data   = syn.tableQuery(\"SELECT distinct(healthCode) as healthCode, \\\n",
    "                                             diagnosis as PD from {}\".format(demographic_table))\n",
    "        demographic_data   = demographic_data.asDataFrame().drop_duplicates(\"healthCode\", keep = \"first\").reset_index(drop = True)\n",
    "        demographic_data   = demographic_data[demographic_data[\"PD\"] != \"no_answer\"] \n",
    "    demographic_data[\"PD\"] = demographic_data[\"PD\"].map({\"parkinsons\":1, \"control\":0})\n",
    "    entity = syn.get(table)\n",
    "    data   = pd.read_csv(entity[\"path\"], index_col = 0)\n",
    "    data = (data[data[\"phoneInfo\"].str.contains(\"iPhone\")]) \\\n",
    "                            [(data != \"#ERROR\").all(axis = 1)]\n",
    "    data.drop_duplicates(subset=['healthCode', 'createdOn'], keep = \"first\", inplace = True)\n",
    "    data[[_ for _ in data.columns if \"feat\" in _]] = \\\n",
    "    data[[_ for _ in data.columns if \"feat\" in _]].apply(pd.to_numeric)\n",
    "    \n",
    "    data.reset_index(drop = True, inplace = True)\n",
    "    data = pd.merge(data, demographic_data, \n",
    "                    how = \"inner\", on = \"healthCode\")\n",
    "    return data\n",
    "    \n",
    "\n",
    "def main():\n",
    "    cleaned_PDKIT_MPV1 = clean_data(\"V1\", DEMOGRAPHIC_TABLE_V1, WALKING_TABLE_V1)\n",
    "    cleaned_PDKIT_MPV2 = clean_data(\"V2\", DEMOGRAPHIC_TABLE_V2, WALKING_TABLE_V2)\n",
    "    cleaned_SFM_MPV1 = clean_data(\"V1\", DEMOGRAPHIC_TABLE_V2, BALANCE_TABLE_V1)\n",
    "    cleaned_SFM_MPV2 = clean_data(\"V2\", DEMOGRAPHIC_TABLE_V2, BALANCE_TABLE_V2)"
   ]
  },
  {
   "cell_type": "code",
   "execution_count": 10,
   "metadata": {},
   "outputs": [],
   "source": [
    "cleaned_PDKIT_MPV1 = clean_data(\"V1\", DEMOGRAPHIC_TABLE_V1, WALKING_TABLE_V1)\n",
    "cleaned_PDKIT_MPV2 = clean_data(\"V2\", DEMOGRAPHIC_TABLE_V2, WALKING_TABLE_V2)\n",
    "cleaned_SFM_MPV1 = clean_data(\"V1\", DEMOGRAPHIC_TABLE_V1, BALANCE_TABLE_V1)\n",
    "cleaned_SFM_MPV2 = clean_data(\"V2\", DEMOGRAPHIC_TABLE_V2, BALANCE_TABLE_V2)"
   ]
  },
  {
   "cell_type": "code",
   "execution_count": null,
   "metadata": {},
   "outputs": [],
   "source": [
    "CLEANED_pdkit_mp"
   ]
  }
 ],
 "metadata": {
  "kernelspec": {
   "display_name": "synapse",
   "language": "python",
   "name": "synapse"
  },
  "language_info": {
   "codemirror_mode": {
    "name": "ipython",
    "version": 3
   },
   "file_extension": ".py",
   "mimetype": "text/x-python",
   "name": "python",
   "nbconvert_exporter": "python",
   "pygments_lexer": "ipython3",
   "version": "3.7.0"
  }
 },
 "nbformat": 4,
 "nbformat_minor": 2
}
