{
 "cells": [
  {
   "cell_type": "code",
   "execution_count": 2,
   "metadata": {},
   "outputs": [],
   "source": [
    "import sys\n",
    "import warnings\n",
    "sys.path.append(\"../Pythonscripts\")\n",
    "sys.path.append(r\"C:\\Users\\atedi\\OneDrive\\Documents\\SageBionetworks\\synapse\\Scripts\")\n",
    "import pandas as pd\n",
    "import numpy as np\n",
    "import synapseclient as sc\n",
    "warnings.simplefilter(\"ignore\")"
   ]
  },
  {
   "cell_type": "code",
   "execution_count": 3,
   "metadata": {},
   "outputs": [
    {
     "name": "stdout",
     "output_type": "stream",
     "text": [
      "Welcome, aryton tediarjo!\n",
      "\n"
     ]
    }
   ],
   "source": [
    "## login to synapse\n",
    "syn = sc.login()"
   ]
  },
  {
   "cell_type": "code",
   "execution_count": 4,
   "metadata": {},
   "outputs": [],
   "source": [
    "DEMOGRAPHIC_TABLE_V1 = \"syn8381056\"\n",
    "DEMOGRAPHIC_TABLE_V2 = \"syn15673379\"\n",
    "WALKING_TABLE_V1     = \"syn21021435\"\n",
    "WALKING_TABLE_V2     = \"syn21018127\"\n",
    "BALANCE_TABLE_V1     = \"syn21022189\"\n",
    "BALANCE_TABLE_V2     = \"syn21018245\"\n",
    "\n",
    "\n",
    "def clean_data(version, demographic_table, walking_table, balance_table):\n",
    "    if version == \"V1\":\n",
    "        ## demographic data ## \n",
    "        demographic_entity = syn.get(demographic_table)\n",
    "        demographic_data   = pd.read_csv(demographic_entity[\"path\"], sep = \"\\t\")[[\"healthCode\", \"PD\"]]\n",
    "    else:\n",
    "        demographic_data = syn.tableQuery(\"SELECT distinct(healthCode) as healthCode, \\\n",
    "                                             diagnosis as PD from {}\".format(demographic_table))\n",
    "        \n",
    "        demographic_data = demographic_data.asDataFrame().drop_duplicates(\"healthCode\", keep = \"first\").reset_index(drop = True)\n",
    "        demographic_data = demographic_data[demographic_data[\"PD\"] != \"no_answer\"] \n",
    "        \n",
    "    demographic_data[\"PD\"] = demographic_data[\"PD\"].map({\"parkinsons\":1, \n",
    "                                                        \"control\":0})\n",
    "    pdkit_entity       = syn.get(walking_table)\n",
    "    sfm_entity         = syn.get(balance_table)\n",
    "    \n",
    "    ### read data ###\n",
    "    pdkit_data = pd.read_csv(pdkit_entity[\"path\"], index_col = 0)\n",
    "    ### remove errors, query only iPhone Data ###\n",
    "    pdkit_data = (pdkit_data[pdkit_data[\"phoneInfo\"].str.contains(\"iPhone\")]) \\\n",
    "                            [(pdkit_data != \"#ERROR\").all(axis = 1)] \n",
    "    ### remove duplicates of multiple similar recordIds ###\n",
    "    pdkit_data.drop_duplicates(subset=['healthCode', 'createdOn'], keep = \"first\", inplace = True)\n",
    "    ### convert type to numeric ###\n",
    "    pdkit_data[[_ for _ in pdkit_data.columns if \"feat\" in _]] = \\\n",
    "    pdkit_data[[_ for _ in pdkit_data.columns if \"feat\" in _]].apply(pd.to_numeric)\n",
    "\n",
    "    ### join data ###\n",
    "    pdkit_data.reset_index(drop = True, inplace = True)\n",
    "    pdkit_data = pd.merge(pdkit_data, demographic_data, \n",
    "                               how = \"inner\", on = \"healthCode\")\n",
    "\n",
    "    ## get sfm data ## \n",
    "    sfm_data = pd.read_csv(sfm_entity[\"path\"], index_col = 0)\n",
    "    sfm_data = (sfm_data[sfm_data[\"phoneInfo\"].str.contains(\"iPhone\")]) \\\n",
    "                            [(sfm_data != \"#ERROR\").all(axis = 1)] \n",
    "    ### remove duplicates of multiple similar recordIds ###\n",
    "    sfm_data.drop_duplicates(subset=['healthCode', 'createdOn'], keep = \"first\", inplace = True)\n",
    "    ### convert type to numeric\n",
    "    sfm_data[[_ for _ in sfm_data.columns if \"sfm\" in _]] = \\\n",
    "    sfm_data[[_ for _ in sfm_data.columns if \"sfm\" in _]].apply(pd.to_numeric)\n",
    "    sfm_data.reset_index(drop = True, inplace = True)            \n",
    "    sfm_data = pd.merge(sfm_data, demographic_data, \n",
    "                             how = \"inner\", on = \"healthCode\")\n",
    "    \n",
    "    return pdkit_data, sfm_data"
   ]
  },
  {
   "cell_type": "code",
   "execution_count": 5,
   "metadata": {},
   "outputs": [],
   "source": [
    "cleaned_mpV1_pdkit_data,  cleaned_mpV2_sfm_data = clean_data(\"V1\", DEMOGRAPHIC_TABLE_V1, WALKING_TABLE_V1, BALANCE_TABLE_V1)"
   ]
  },
  {
   "cell_type": "code",
   "execution_count": 6,
   "metadata": {},
   "outputs": [],
   "source": [
    "cleaned_mpV2_pdkit_data,  cleaned_mpV2_sfm_data = clean_data(\"V2\", DEMOGRAPHIC_TABLE_V2, WALKING_TABLE_V2, BALANCE_TABLE_V2)"
   ]
  },
  {
   "cell_type": "code",
   "execution_count": 64,
   "metadata": {},
   "outputs": [
    {
     "data": {
      "text/plain": [
       "Index(['recordId', 'phoneInfo', 'createdOn', 'healthCode',\n",
       "       'walk_motion.json_features_x.no_of_steps',\n",
       "       'walk_motion.json_features_x.mean_freeze_index',\n",
       "       'walk_motion.json_features_x.median_freeze_index',\n",
       "       'walk_motion.json_features_x.max_freeze_index',\n",
       "       'walk_motion.json_features_x.count_freeze_index',\n",
       "       'walk_motion.json_features_x.speed_of_gait',\n",
       "       'walk_motion.json_features_x.gait_step_regularity',\n",
       "       'walk_motion.json_features_x.gait_stride_regularity',\n",
       "       'walk_motion.json_features_x.gait_symmetry',\n",
       "       'walk_motion.json_features_x.frequency_of_peaks',\n",
       "       'walk_motion.json_features_y.no_of_steps',\n",
       "       'walk_motion.json_features_y.mean_freeze_index',\n",
       "       'walk_motion.json_features_y.median_freeze_index',\n",
       "       'walk_motion.json_features_y.max_freeze_index',\n",
       "       'walk_motion.json_features_y.count_freeze_index',\n",
       "       'walk_motion.json_features_y.speed_of_gait',\n",
       "       'walk_motion.json_features_y.gait_step_regularity',\n",
       "       'walk_motion.json_features_y.gait_stride_regularity',\n",
       "       'walk_motion.json_features_y.gait_symmetry',\n",
       "       'walk_motion.json_features_y.frequency_of_peaks',\n",
       "       'walk_motion.json_features_z.no_of_steps',\n",
       "       'walk_motion.json_features_z.mean_freeze_index',\n",
       "       'walk_motion.json_features_z.median_freeze_index',\n",
       "       'walk_motion.json_features_z.max_freeze_index',\n",
       "       'walk_motion.json_features_z.count_freeze_index',\n",
       "       'walk_motion.json_features_z.speed_of_gait',\n",
       "       'walk_motion.json_features_z.gait_step_regularity',\n",
       "       'walk_motion.json_features_z.gait_stride_regularity',\n",
       "       'walk_motion.json_features_z.gait_symmetry',\n",
       "       'walk_motion.json_features_z.frequency_of_peaks',\n",
       "       'walk_motion.json_features_AA.no_of_steps',\n",
       "       'walk_motion.json_features_AA.mean_freeze_index',\n",
       "       'walk_motion.json_features_AA.median_freeze_index',\n",
       "       'walk_motion.json_features_AA.max_freeze_index',\n",
       "       'walk_motion.json_features_AA.count_freeze_index',\n",
       "       'walk_motion.json_features_AA.speed_of_gait',\n",
       "       'walk_motion.json_features_AA.gait_step_regularity',\n",
       "       'walk_motion.json_features_AA.gait_stride_regularity',\n",
       "       'walk_motion.json_features_AA.gait_symmetry',\n",
       "       'walk_motion.json_features_AA.frequency_of_peaks', 'PD'],\n",
       "      dtype='object')"
      ]
     },
     "execution_count": 64,
     "metadata": {},
     "output_type": "execute_result"
    }
   ],
   "source": []
  },
  {
   "cell_type": "code",
   "execution_count": null,
   "metadata": {},
   "outputs": [],
   "source": []
  }
 ],
 "metadata": {
  "kernelspec": {
   "display_name": "synapse",
   "language": "python",
   "name": "synapse"
  },
  "language_info": {
   "codemirror_mode": {
    "name": "ipython",
    "version": 3
   },
   "file_extension": ".py",
   "mimetype": "text/x-python",
   "name": "python",
   "nbconvert_exporter": "python",
   "pygments_lexer": "ipython3",
   "version": "3.7.0"
  }
 },
 "nbformat": 4,
 "nbformat_minor": 2
}
