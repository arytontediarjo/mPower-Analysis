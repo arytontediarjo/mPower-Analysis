{
 "cells": [
  {
   "cell_type": "code",
   "execution_count": 1,
   "metadata": {},
   "outputs": [],
   "source": [
    "import sys\n",
    "import warnings\n",
    "sys.path.append(\"../Pythonscripts\")\n",
    "sys.path.append(r\"C:\\Users\\atedi\\OneDrive\\Documents\\SageBionetworks\\synapse\\Scripts\")\n",
    "import pandas as pd\n",
    "import numpy as np\n",
    "import synapseclient as sc\n",
    "warnings.simplefilter(\"ignore\")"
   ]
  },
  {
   "cell_type": "code",
   "execution_count": 2,
   "metadata": {},
   "outputs": [
    {
     "name": "stdout",
     "output_type": "stream",
     "text": [
      "Welcome, aryton tediarjo!\n",
      "\n"
     ]
    },
    {
     "name": "stderr",
     "output_type": "stream",
     "text": [
      "INFO:synapseclient_default:Welcome, aryton tediarjo!\n",
      "\n"
     ]
    }
   ],
   "source": [
    "## login to synapse\n",
    "syn = sc.login()"
   ]
  },
  {
   "cell_type": "code",
   "execution_count": 113,
   "metadata": {},
   "outputs": [],
   "source": [
    "## demographic data ## \n",
    "demographic_mpV2_data = ((syn.tableQuery(\"SELECT distinct(healthCode) as healthCode, \\\n",
    "                                         diagnosis as PD from syn15673379\")\n",
    "                    .asDataFrame()) \\\n",
    "                    .drop_duplicates(\"healthCode\", keep = \"first\") \\\n",
    "                    .reset_index(drop = True)) \n",
    "demographic_mpV2_data = demographic_mpV2_data[demographic_mpV2_data[\"PD\"] != \"no_answer\"] \n",
    "demographic_mpV2_data[\"PD\"] = demographic_mpV2_data[\"PD\"].map({\"parkinsons\":1, \n",
    "                                                               \"control\":0})\n",
    "\n",
    "## get pdkit data ##\n",
    "pdkit_mpV2_entity = syn.get(\"syn21018127\")\n",
    "pdkit_mpV2_data = pd.read_csv(pdkit_mpV2_entity[\"path\"], index_col = 0)\n",
    "pdkit_mpV2_data = (pdkit_mpV2_data[pdkit_mpV2_data[\"phoneInfo\"].str.contains(\"iPhone\")]) \\\n",
    "                        [(pdkit_mpV2_data != \"#ERROR\").all(axis = 1)] \n",
    "pdkit_mpV2_data = pdkit_mpV2_data[pdkit_mpV2_data[\"walk_motion.json_features_AA.no_of_steps\"] \\\n",
    "                                  .astype(float) > 0]\n",
    "pdkit_mpV2_data[[_ for _ in pdkit_mpV2_data.columns if \"feat\" in _]] = \\\n",
    "pdkit_mpV2_data[[_ for _ in pdkit_mpV2_data.columns if \"feat\" in _]].apply(pd.to_numeric)\n",
    "pdkit_mpV2_data.reset_index(drop = True, inplace = True)\n",
    "pdkit_mpV2_data = pd.merge(pdkit_mpV2_data, demographic_mpV2_data, \n",
    "                           how = \"inner\", on = \"healthCode\")\n",
    "\n",
    "## get sfm data ## \n",
    "sfm_mpV2_entity = syn.get(\"syn21018245\")\n",
    "sfm_mpV2_data = pd.read_csv(sfm_mpV2_entity[\"path\"], index_col = 0)\n",
    "sfm_mpV2_data = (sfm_mpV2_data[sfm_mpV2_data[\"phoneInfo\"].str.contains(\"iPhone\")]) \\\n",
    "                        [(sfm_mpV2_data != \"#ERROR\").all(axis = 1)] \n",
    "sfm_mpV2_data[[_ for _ in sfm_mpV2_data.columns if \"sfm\" in _]] = \\\n",
    "sfm_mpV2_data[[_ for _ in sfm_mpV2_data.columns if \"sfm\" in _]].apply(pd.to_numeric)\n",
    "sfm_mpV2_data.reset_index(drop = True, inplace = True)            \n",
    "sfm_mpV2_data = pd.merge(sfm_mpV2_data, demographic_mpV2_data, \n",
    "                         how = \"inner\", on = \"healthCode\")"
   ]
  },
  {
   "cell_type": "code",
   "execution_count": null,
   "metadata": {},
   "outputs": [],
   "source": []
  }
 ],
 "metadata": {
  "kernelspec": {
   "display_name": "synapse",
   "language": "python",
   "name": "synapse"
  },
  "language_info": {
   "codemirror_mode": {
    "name": "ipython",
    "version": 3
   },
   "file_extension": ".py",
   "mimetype": "text/x-python",
   "name": "python",
   "nbconvert_exporter": "python",
   "pygments_lexer": "ipython3",
   "version": "3.7.0"
  }
 },
 "nbformat": 4,
 "nbformat_minor": 2
}
