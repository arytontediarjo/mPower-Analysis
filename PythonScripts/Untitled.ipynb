{
 "cells": [
  {
   "cell_type": "code",
   "execution_count": null,
   "metadata": {},
   "outputs": [],
   "source": [
    "for feat in json_list:\n",
    "        data[feat] = data[feat].astype(str)\n",
    "        data = pd.merge(data, filepath_data, \n",
    "                        left_on = feat, \n",
    "                        right_on = \"file_handle_id\", \n",
    "                        how = \"left\")\n",
    "        data = data.rename(columns = {feat: \"{}_path_id\".format(feat), \n",
    "                            \"file_path\": \"{}_pathfile\".format(feat)}).drop([\"file_handle_id\"], axis = 1)\n",
    "        print(data)\n",
    "    data[\"createdOn\"] = pd.to_datetime(data[\"createdOn\"], unit = \"ms\")\n",
    "    data = data.fillna(\"#ERROR\") ## Empty Filepaths"
   ]
  },
  {
   "cell_type": "code",
   "execution_count": 40,
   "metadata": {},
   "outputs": [],
   "source": [
    "import pandas as pd\n",
    "import json\n",
    "import numpy as np\n",
    "\n",
    "data = pd.read_csv(\"test_data.csv\", index_col = [0]).head(5)\n",
    "filepath_data = pd.read_csv(\"test_filepaths.csv\", index_col = [0])\n",
    "json_list = [_ for _ in data.columns if \"json\" in _]\n",
    "filepath_data[\"file_handle_id\"] = filepath_data[\"file_handle_id\"].astype(float)\n",
    "data[\"walk_motion.json\"] = data[\"walk_motion.json\"].astype(float)"
   ]
  },
  {
   "cell_type": "code",
   "execution_count": 41,
   "metadata": {},
   "outputs": [
    {
     "data": {
      "text/html": [
       "<div>\n",
       "<style scoped>\n",
       "    .dataframe tbody tr th:only-of-type {\n",
       "        vertical-align: middle;\n",
       "    }\n",
       "\n",
       "    .dataframe tbody tr th {\n",
       "        vertical-align: top;\n",
       "    }\n",
       "\n",
       "    .dataframe thead th {\n",
       "        text-align: right;\n",
       "    }\n",
       "</style>\n",
       "<table border=\"1\" class=\"dataframe\">\n",
       "  <thead>\n",
       "    <tr style=\"text-align: right;\">\n",
       "      <th></th>\n",
       "      <th>recordId</th>\n",
       "      <th>phoneInfo</th>\n",
       "      <th>createdOn</th>\n",
       "      <th>healthCode</th>\n",
       "      <th>walk_motion.json</th>\n",
       "      <th>balance_motion.json</th>\n",
       "      <th>file_handle_id</th>\n",
       "      <th>file_path</th>\n",
       "    </tr>\n",
       "  </thead>\n",
       "  <tbody>\n",
       "    <tr>\n",
       "      <th>0</th>\n",
       "      <td>1c004a83-f142-4612-a9b3-33319f7d8f3e</td>\n",
       "      <td>iPhone 6; iOS/11.4</td>\n",
       "      <td>1537313522540</td>\n",
       "      <td>e0b36a06-56cc-4b62-a5ab-2ec8f0ed2c18</td>\n",
       "      <td>32724511.0</td>\n",
       "      <td>32724512.0</td>\n",
       "      <td>32724511.0</td>\n",
       "      <td>/home/ec2-user/.synapseCache/511/32724511/walk...</td>\n",
       "    </tr>\n",
       "    <tr>\n",
       "      <th>1</th>\n",
       "      <td>98d1d38e-585d-4dda-91b8-1ad24e9c2556</td>\n",
       "      <td>iPhone 7+; iOS/11.4.1</td>\n",
       "      <td>1537352859447</td>\n",
       "      <td>8908507b-e8dc-4b8f-baa1-909460d7cc8f</td>\n",
       "      <td>32733001.0</td>\n",
       "      <td>32733002.0</td>\n",
       "      <td>32733001.0</td>\n",
       "      <td>/home/ec2-user/.synapseCache/1/32733001/walk_m...</td>\n",
       "    </tr>\n",
       "    <tr>\n",
       "      <th>2</th>\n",
       "      <td>8d3217dd-f483-4969-921d-1e4039714168</td>\n",
       "      <td>iPhone SE; iOS/11.4.1</td>\n",
       "      <td>1537403650781</td>\n",
       "      <td>fb0b63dd-f86c-4a4b-a12a-4eea145e5580</td>\n",
       "      <td>32733022.0</td>\n",
       "      <td>32733023.0</td>\n",
       "      <td>32733022.0</td>\n",
       "      <td>/home/ec2-user/.synapseCache/22/32733022/walk_...</td>\n",
       "    </tr>\n",
       "    <tr>\n",
       "      <th>3</th>\n",
       "      <td>43622bdc-016f-47c3-bc1f-c51db60dc262</td>\n",
       "      <td>iPhone 7+; iOS/11.4.1</td>\n",
       "      <td>1537438619468</td>\n",
       "      <td>8908507b-e8dc-4b8f-baa1-909460d7cc8f</td>\n",
       "      <td>32747937.0</td>\n",
       "      <td>32747938.0</td>\n",
       "      <td>32747937.0</td>\n",
       "      <td>/home/ec2-user/.synapseCache/937/32747937/walk...</td>\n",
       "    </tr>\n",
       "    <tr>\n",
       "      <th>4</th>\n",
       "      <td>0b76bad8-8e43-4377-bdf5-674f150e5c10</td>\n",
       "      <td>iPhone 6; iOS/11.4.1</td>\n",
       "      <td>1537446028353</td>\n",
       "      <td>6c19f855-6107-4ed9-b625-dc8012c047d2</td>\n",
       "      <td>32747939.0</td>\n",
       "      <td>32747940.0</td>\n",
       "      <td>32747939.0</td>\n",
       "      <td>/home/ec2-user/.synapseCache/939/32747939/walk...</td>\n",
       "    </tr>\n",
       "  </tbody>\n",
       "</table>\n",
       "</div>"
      ],
      "text/plain": [
       "                               recordId              phoneInfo      createdOn  \\\n",
       "0  1c004a83-f142-4612-a9b3-33319f7d8f3e     iPhone 6; iOS/11.4  1537313522540   \n",
       "1  98d1d38e-585d-4dda-91b8-1ad24e9c2556  iPhone 7+; iOS/11.4.1  1537352859447   \n",
       "2  8d3217dd-f483-4969-921d-1e4039714168  iPhone SE; iOS/11.4.1  1537403650781   \n",
       "3  43622bdc-016f-47c3-bc1f-c51db60dc262  iPhone 7+; iOS/11.4.1  1537438619468   \n",
       "4  0b76bad8-8e43-4377-bdf5-674f150e5c10   iPhone 6; iOS/11.4.1  1537446028353   \n",
       "\n",
       "                             healthCode  walk_motion.json  \\\n",
       "0  e0b36a06-56cc-4b62-a5ab-2ec8f0ed2c18        32724511.0   \n",
       "1  8908507b-e8dc-4b8f-baa1-909460d7cc8f        32733001.0   \n",
       "2  fb0b63dd-f86c-4a4b-a12a-4eea145e5580        32733022.0   \n",
       "3  8908507b-e8dc-4b8f-baa1-909460d7cc8f        32747937.0   \n",
       "4  6c19f855-6107-4ed9-b625-dc8012c047d2        32747939.0   \n",
       "\n",
       "   balance_motion.json  file_handle_id  \\\n",
       "0           32724512.0      32724511.0   \n",
       "1           32733002.0      32733001.0   \n",
       "2           32733023.0      32733022.0   \n",
       "3           32747938.0      32747937.0   \n",
       "4           32747940.0      32747939.0   \n",
       "\n",
       "                                           file_path  \n",
       "0  /home/ec2-user/.synapseCache/511/32724511/walk...  \n",
       "1  /home/ec2-user/.synapseCache/1/32733001/walk_m...  \n",
       "2  /home/ec2-user/.synapseCache/22/32733022/walk_...  \n",
       "3  /home/ec2-user/.synapseCache/937/32747937/walk...  \n",
       "4  /home/ec2-user/.synapseCache/939/32747939/walk...  "
      ]
     },
     "execution_count": 41,
     "metadata": {},
     "output_type": "execute_result"
    }
   ],
   "source": [
    "pd.merge(data, filepath_data, left_on = \"walk_motion.json\", right_on = \"file_handle_id\", how = \"left\")"
   ]
  },
  {
   "cell_type": "code",
   "execution_count": 36,
   "metadata": {},
   "outputs": [
    {
     "data": {
      "text/plain": [
       "array(['32724511.0', '32733001.0', '32733022.0', '32747937.0',\n",
       "       '32747939.0'], dtype=object)"
      ]
     },
     "execution_count": 36,
     "metadata": {},
     "output_type": "execute_result"
    }
   ],
   "source": [
    "data[\"walk_motion.json\"].unique()"
   ]
  },
  {
   "cell_type": "code",
   "execution_count": 17,
   "metadata": {},
   "outputs": [
    {
     "name": "stdout",
     "output_type": "stream",
     "text": [
      "                               recordId              phoneInfo      createdOn  \\\n",
      "0  1c004a83-f142-4612-a9b3-33319f7d8f3e     iPhone 6; iOS/11.4  1537313522540   \n",
      "1  98d1d38e-585d-4dda-91b8-1ad24e9c2556  iPhone 7+; iOS/11.4.1  1537352859447   \n",
      "2  8d3217dd-f483-4969-921d-1e4039714168  iPhone SE; iOS/11.4.1  1537403650781   \n",
      "3  43622bdc-016f-47c3-bc1f-c51db60dc262  iPhone 7+; iOS/11.4.1  1537438619468   \n",
      "4  0b76bad8-8e43-4377-bdf5-674f150e5c10   iPhone 6; iOS/11.4.1  1537446028353   \n",
      "\n",
      "                             healthCode walk_motion.json_path_id  \\\n",
      "0  e0b36a06-56cc-4b62-a5ab-2ec8f0ed2c18               32724511.0   \n",
      "1  8908507b-e8dc-4b8f-baa1-909460d7cc8f               32733001.0   \n",
      "2  fb0b63dd-f86c-4a4b-a12a-4eea145e5580               32733022.0   \n",
      "3  8908507b-e8dc-4b8f-baa1-909460d7cc8f               32747937.0   \n",
      "4  6c19f855-6107-4ed9-b625-dc8012c047d2               32747939.0   \n",
      "\n",
      "  balance_motion.json walk_motion.json_pathfile  \n",
      "0          32724512.0                       NaN  \n",
      "1          32733002.0                       NaN  \n",
      "2          32733023.0                       NaN  \n",
      "3          32747938.0                       NaN  \n",
      "4          32747940.0                       NaN  \n",
      "                               recordId              phoneInfo      createdOn  \\\n",
      "0  1c004a83-f142-4612-a9b3-33319f7d8f3e     iPhone 6; iOS/11.4  1537313522540   \n",
      "1  98d1d38e-585d-4dda-91b8-1ad24e9c2556  iPhone 7+; iOS/11.4.1  1537352859447   \n",
      "2  8d3217dd-f483-4969-921d-1e4039714168  iPhone SE; iOS/11.4.1  1537403650781   \n",
      "3  43622bdc-016f-47c3-bc1f-c51db60dc262  iPhone 7+; iOS/11.4.1  1537438619468   \n",
      "4  0b76bad8-8e43-4377-bdf5-674f150e5c10   iPhone 6; iOS/11.4.1  1537446028353   \n",
      "\n",
      "                             healthCode walk_motion.json_path_id  \\\n",
      "0  e0b36a06-56cc-4b62-a5ab-2ec8f0ed2c18               32724511.0   \n",
      "1  8908507b-e8dc-4b8f-baa1-909460d7cc8f               32733001.0   \n",
      "2  fb0b63dd-f86c-4a4b-a12a-4eea145e5580               32733022.0   \n",
      "3  8908507b-e8dc-4b8f-baa1-909460d7cc8f               32747937.0   \n",
      "4  6c19f855-6107-4ed9-b625-dc8012c047d2               32747939.0   \n",
      "\n",
      "  balance_motion.json_path_id walk_motion.json_pathfile  \\\n",
      "0                  32724512.0                       NaN   \n",
      "1                  32733002.0                       NaN   \n",
      "2                  32733023.0                       NaN   \n",
      "3                  32747938.0                       NaN   \n",
      "4                  32747940.0                       NaN   \n",
      "\n",
      "  balance_motion.json_pathfile  \n",
      "0                          NaN  \n",
      "1                          NaN  \n",
      "2                          NaN  \n",
      "3                          NaN  \n",
      "4                          NaN  \n"
     ]
    }
   ],
   "source": [
    "for feat in json_list:\n",
    "    data[feat] = data[feat].astype(str)\n",
    "    data = pd.merge(data, filepath_data, \n",
    "                        left_on = feat, \n",
    "                        right_on = \"file_handle_id\", \n",
    "                        how = \"left\")\n",
    "    data = data.rename(columns = {feat: \"{}_path_id\".format(feat), \n",
    "                            \"file_path\": \"{}_pathfile\".format(feat)}).drop([\"file_handle_id\"], axis = 1)\n",
    "    print(data)\n",
    "data[\"createdOn\"] = pd.to_datetime(data[\"createdOn\"], unit = \"ms\")\n",
    "data = data.fillna(\"#ERROR\") ## Empty Filepaths"
   ]
  },
  {
   "cell_type": "code",
   "execution_count": null,
   "metadata": {},
   "outputs": [],
   "source": []
  }
 ],
 "metadata": {
  "kernelspec": {
   "display_name": "synapse",
   "language": "python",
   "name": "synapse"
  },
  "language_info": {
   "codemirror_mode": {
    "name": "ipython",
    "version": 3
   },
   "file_extension": ".py",
   "mimetype": "text/x-python",
   "name": "python",
   "nbconvert_exporter": "python",
   "pygments_lexer": "ipython3",
   "version": "3.7.0"
  }
 },
 "nbformat": 4,
 "nbformat_minor": 2
}
